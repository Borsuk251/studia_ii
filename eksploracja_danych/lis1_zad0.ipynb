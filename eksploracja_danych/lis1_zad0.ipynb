{
 "cells": [
  {
   "cell_type": "code",
   "execution_count": 61,
   "metadata": {},
   "outputs": [],
   "source": [
    "import numpy as np\n",
    "import math\n",
    "import timeit"
   ]
  },
  {
   "cell_type": "markdown",
   "metadata": {},
   "source": [
    "Zadanie 0. (rozgrzewkowe, 1 punkt, zadanie należy przesłać emailem)<br>\n",
    "Utwórz skrypt definiujący poniższe zmienne:<br>\n",
    "a = [1, 2, 3, 4, ..., 100] (wektor złożony z liczb całkowitych od 1 do 100)\\newline<br>\n",
    "b = [1, 3, 5, 7, ..., 99] (wektor złożony z liczb całkowitych nieparzystych od 1 do 99)<br>\n",
    "c = [-1.00 * π, -0.99 * π, ..., -0.01 * π, 0, 0.01 * π, ..., 0.99 * π, 1.00 * π]<br>\n",
    "d = [-1.00 * π, -0.99 * π, ..., -0.01 * π, 0.01 * π, ..., 0.99 * π, 1.00 * π]<br>\n",
    "e = [e 1 , e 2 , ..., e 100 ], gdzie e i = sin(i), jeśli sin(i) > 0, lub e i = 0 w przeciwnym przypadku<br>\n"
   ]
  },
  {
   "cell_type": "code",
   "execution_count": 74,
   "metadata": {},
   "outputs": [
    {
     "name": "stdout",
     "output_type": "stream",
     "text": [
      "a = [  1   2   3   4   5   6   7   8   9  10  11  12  13  14  15  16  17  18\n",
      "  19  20  21  22  23  24  25  26  27  28  29  30  31  32  33  34  35  36\n",
      "  37  38  39  40  41  42  43  44  45  46  47  48  49  50  51  52  53  54\n",
      "  55  56  57  58  59  60  61  62  63  64  65  66  67  68  69  70  71  72\n",
      "  73  74  75  76  77  78  79  80  81  82  83  84  85  86  87  88  89  90\n",
      "  91  92  93  94  95  96  97  98  99 100]\n",
      "b =  [ 1  3  5  7  9 11 13 15 17 19 21 23 25 27 29 31 33 35 37 39 41 43 45 47\n",
      " 49 51 53 55 57 59 61 63 65 67 69 71 73 75 77 79 81 83 85 87 89 91 93 95\n",
      " 97 99]\n",
      "46.3 µs ± 1.91 µs per loop (mean ± std. dev. of 7 runs, 10000 loops each)\n",
      "wybrane el. c  -3.1415926536 0.0 3.1415926536\n",
      "c bez zera  -0.0314159265 0.0314159265\n",
      "8.16 µs ± 228 ns per loop (mean ± std. dev. of 7 runs, 100000 loops each)\n",
      "e =  [0.84147098 0.90929743 0.14112001 0.         0.         0.\n",
      " 0.6569866  0.98935825 0.41211849 0.         0.         0.\n",
      " 0.42016704 0.99060736 0.65028784 0.         0.         0.\n",
      " 0.14987721 0.91294525 0.83665564 0.         0.         0.\n",
      " 0.         0.76255845 0.95637593 0.27090579 0.         0.\n",
      " 0.         0.55142668 0.99991186 0.52908269 0.         0.\n",
      " 0.         0.29636858 0.96379539 0.74511316 0.         0.\n",
      " 0.         0.01770193 0.85090352 0.90178835 0.12357312 0.\n",
      " 0.         0.         0.67022918 0.98662759 0.39592515 0.\n",
      " 0.         0.         0.43616476 0.99287265 0.63673801 0.\n",
      " 0.         0.         0.1673557  0.92002604 0.82682868 0.\n",
      " 0.         0.         0.         0.77389068 0.95105465 0.25382336\n",
      " 0.         0.         0.         0.56610764 0.99952016 0.51397846\n",
      " 0.         0.         0.         0.31322878 0.96836446 0.73319032\n",
      " 0.         0.         0.         0.0353983  0.86006941 0.89399666\n",
      " 0.10598751 0.         0.         0.         0.68326171 0.98358775\n",
      " 0.37960774 0.         0.         0.        ]\n"
     ]
    }
   ],
   "source": [
    "a = np.arange(1,101,1)#.tolist()\n",
    "print('a =',a)\n",
    "b = np.arange(1,101,2)\n",
    "print('b = ',b)\n",
    "%timeit c = np.linspace(-1*math.pi, 1*math.pi, 201).round(10) #zaokraglenia celem osiagnieca zera\n",
    "#%timeit c = np.arange(-100.0,101.0,1).tolist(); c = [i *math.pi/100.0 for i in c]\n",
    "#metoda nieco szybsza, brak zaokraglania\n",
    "print('wybrane el. c ', c[0],c[100],c[200])\n",
    "d = c[c != 0]\n",
    "print('c bez zera ', d[99],d[100])\n",
    "%timeit e = np.maximum(np.zeros(100), np.sin(np.arange(1,101,1))) #np sin zeby byla macierz\n",
    "print('e = ', e) #okolo 8u vs 42u\n",
    "#e = np.zeros(100)#nieefektywna - ponizej timeit \n",
    "#for i in range(1,101): \n",
    " #   a = math.sin(i);\n",
    "  #  if a>0:\n",
    "   #     e[i-1] = a;\n",
    "    #else:\n",
    "     #   e[i-1] = 0\n"
   ]
  },
  {
   "cell_type": "code",
   "execution_count": 69,
   "metadata": {},
   "outputs": [
    {
     "name": "stdout",
     "output_type": "stream",
     "text": [
      "42.7 µs ± 631 ns per loop (mean ± std. dev. of 7 runs, 10000 loops each)\n"
     ]
    }
   ],
   "source": [
    "%%timeit\n",
    "e = np.zeros(100)\n",
    "for i in range(1,101): \n",
    "    a = math.sin(i);\n",
    "    if a>0:\n",
    "        e[i-1] = a;\n",
    "    else:\n",
    "        e[i-1] = 0\n"
   ]
  },
  {
   "cell_type": "markdown",
   "metadata": {},
   "source": [
    "zadanie 0 cześć druga<br>\n",
    "A = macierz rozmiaru 10 x 10 zawierająca liczby całkowite od 1 do 100: w pierwszym wierszu od lewej 1, 2, ..., w drugim wierszu od lewej 11, 12, .., itd. (wskazówka: użyć polecenia reshape)<br>\n",
    "B = macierz trójdiagonalna rozmiaru 100 x 100 mająca na głównej przekątnej liczby całkowite od 1\n",
    "do 100, a poniżej i powyżej głównej przekątnej liczby od 99 do 1<br>\n",
    "C = macierz trójkątna górna wypełniona jedynkami (łącznie z główną przekątną)<br>\n",
    "D = macierz rozmiaru 2 x 100, w której pierwszy wiersz zawiera elementy d 1i = 1 + 2 + ... + i, a drugi wiersz zawiera elementy d 2i = i!<br>\n",
    "E = macierz rozmiaru 100 x 100 mająca 1 w pozycji (i, j), jeśli i dzieli j, lub 0 w przeciwnym przypadku.<br>"
   ]
  },
  {
   "cell_type": "code",
   "execution_count": 106,
   "metadata": {},
   "outputs": [
    {
     "name": "stdout",
     "output_type": "stream",
     "text": [
      "A =  [[  1   2   3   4   5   6   7   8   9  10]\n",
      " [ 11  12  13  14  15  16  17  18  19  20]\n",
      " [ 21  22  23  24  25  26  27  28  29  30]\n",
      " [ 31  32  33  34  35  36  37  38  39  40]\n",
      " [ 41  42  43  44  45  46  47  48  49  50]\n",
      " [ 51  52  53  54  55  56  57  58  59  60]\n",
      " [ 61  62  63  64  65  66  67  68  69  70]\n",
      " [ 71  72  73  74  75  76  77  78  79  80]\n",
      " [ 81  82  83  84  85  86  87  88  89  90]\n",
      " [ 91  92  93  94  95  96  97  98  99 100]]\n",
      "C =  [[1. 1. 1. 1. 1. 1. 1. 1. 1. 1.]\n",
      " [0. 1. 1. 1. 1. 1. 1. 1. 1. 1.]\n",
      " [0. 0. 1. 1. 1. 1. 1. 1. 1. 1.]\n",
      " [0. 0. 0. 1. 1. 1. 1. 1. 1. 1.]\n",
      " [0. 0. 0. 0. 1. 1. 1. 1. 1. 1.]\n",
      " [0. 0. 0. 0. 0. 1. 1. 1. 1. 1.]\n",
      " [0. 0. 0. 0. 0. 0. 1. 1. 1. 1.]\n",
      " [0. 0. 0. 0. 0. 0. 0. 1. 1. 1.]\n",
      " [0. 0. 0. 0. 0. 0. 0. 0. 1. 1.]\n",
      " [0. 0. 0. 0. 0. 0. 0. 0. 0. 1.]]\n"
     ]
    }
   ],
   "source": [
    "A = np.arange(1,101).reshape((10,10))\n",
    "print('A = ', A)\n",
    "C = np.ones((10,10))\n",
    "C = np.triu(C)\n",
    "print('C = ', C)\n",
    "\n",
    "d1 = np.cumsum(np.arange(1,101,1)) #suma skumulowana\n",
    "d2 = np.cumprod(np.arange(1,101,1),dtype=np.float) #iloczyn skumulowany - faktorial + typ float\n",
    "D = np.append(d1,d2).reshape(2,100) #najszybsza\n",
    "#D = np.r_[d1,d2].reshape(2,100) #inne dodawanie\n",
    "#print(D)\n",
    "#D1 = np.empty([2,100])\n",
    "#sum = 0\n",
    "#pr = 1\n",
    "#for i in range(100):#bardzo wolny for\n",
    " #   sum += (i+1)\n",
    "  #  pr *= (i+1)\n",
    " #   D1[0][i] = sum\n",
    "  #  D1[1][i] = pr\n",
    "#print(D)"
   ]
  },
  {
   "cell_type": "code",
   "execution_count": 108,
   "metadata": {},
   "outputs": [
    {
     "name": "stdout",
     "output_type": "stream",
     "text": [
      "41.6 µs ± 1.38 µs per loop (mean ± std. dev. of 7 runs, 10000 loops each)\n"
     ]
    }
   ],
   "source": [
    "%%timeit\n",
    "d1 = np.cumsum(np.arange(1,101,1)) #suma skumulowana\n",
    "d2 = np.cumprod(np.arange(1,101,1),dtype=np.float) #iloczyn skumulowany - faktorial + typ float\n",
    "D = np.r_[d1,d2].reshape(2,100)"
   ]
  },
  {
   "cell_type": "code",
   "execution_count": 109,
   "metadata": {},
   "outputs": [
    {
     "name": "stdout",
     "output_type": "stream",
     "text": [
      "20 µs ± 331 ns per loop (mean ± std. dev. of 7 runs, 10000 loops each)\n"
     ]
    }
   ],
   "source": [
    "%%timeit\n",
    "d1 = np.cumsum(np.arange(1,101,1)) #suma skumulowana\n",
    "d2 = np.cumprod(np.arange(1,101,1),dtype=np.float) #iloczyn skumulowany - faktorial + typ float\n",
    "D = np.append(d1,d2).reshape(2,100)"
   ]
  },
  {
   "cell_type": "code",
   "execution_count": 107,
   "metadata": {},
   "outputs": [
    {
     "name": "stdout",
     "output_type": "stream",
     "text": [
      "103 µs ± 3.52 µs per loop (mean ± std. dev. of 7 runs, 10000 loops each)\n"
     ]
    }
   ],
   "source": [
    "%%timeit\n",
    "D1 = np.empty([2,100])\n",
    "sum = 0\n",
    "pr = 1\n",
    "for i in range(100):\n",
    "    sum += (i+1)\n",
    "    pr *= (i+1)\n",
    "    D1[0][i] = sum\n",
    "    D1[1][i] = pr\n"
   ]
  },
  {
   "cell_type": "code",
   "execution_count": 122,
   "metadata": {},
   "outputs": [
    {
     "name": "stdout",
     "output_type": "stream",
     "text": [
      "[[1 1 1 ... 1 1 1]\n",
      " [0 1 0 ... 1 0 1]\n",
      " [0 0 1 ... 0 1 0]\n",
      " ...\n",
      " [0 0 0 ... 1 0 0]\n",
      " [0 0 0 ... 0 1 0]\n",
      " [0 0 0 ... 0 0 1]]\n",
      "[[1. 1. 1. ... 1. 1. 1.]\n",
      " [0. 1. 0. ... 1. 0. 1.]\n",
      " [0. 0. 1. ... 0. 1. 0.]\n",
      " ...\n",
      " [0. 0. 0. ... 1. 0. 0.]\n",
      " [0. 0. 0. ... 0. 1. 0.]\n",
      " [0. 0. 0. ... 0. 0. 1.]]\n",
      "B =  [[  1  99   0 ...   0   0   0]\n",
      " [ 99   2  98 ...   0   0   0]\n",
      " [  0  98   3 ...   0   0   0]\n",
      " ...\n",
      " [  0   0   0 ...  98   2   0]\n",
      " [  0   0   0 ...   2  99   1]\n",
      " [  0   0   0 ...   0   1 100]]\n"
     ]
    }
   ],
   "source": [
    "E = np.zeros([100,100])\n",
    "for i in range(1,101):\n",
    "    for j in range(1,101):\n",
    "        if j%i == 0:\n",
    "            E[i-1][j-1]=1\n",
    "#duzo gorsza wydajnosc           \n",
    "#E1 = np.array([[1 if j%i == 0 else 0 for j in range(1,101)] for i in range(1,101)])\n",
    "print(E1)\n",
    "print(E)\n",
    "v1 = np.arange(99,0,-1)\n",
    "v2 = np.arange(1,101,1)\n",
    "B = np.diag(v2) + np.diag(v1,k=1) + np.diag(v1,k=-1) #ladna implementacja k-> przesuniecie\n",
    "print('B = ', B)\n",
    "#B1 = np.eye(100) #wolniejsza \n",
    "#j=99\n",
    "#for i in range(100):\n",
    " #   B1[i][i]*=(i+1)\n",
    "  #  if i<99:\n",
    "   #     B1[i][i+1]=j\n",
    "    #    B1[i+1][i]=j\n",
    "     #   j-=1\n",
    "#print(B1)"
   ]
  },
  {
   "cell_type": "code",
   "execution_count": 121,
   "metadata": {},
   "outputs": [
    {
     "name": "stdout",
     "output_type": "stream",
     "text": [
      "911 µs ± 47.5 µs per loop (mean ± std. dev. of 7 runs, 1000 loops each)\n"
     ]
    }
   ],
   "source": [
    "%%timeit\n",
    "E = np.zeros([100,100])\n",
    "for i in range(1,101):\n",
    "    for j in range(1,101):\n",
    "        if j%i == 0:\n",
    "            E[i-1][j-1]=1\n"
   ]
  },
  {
   "cell_type": "code",
   "execution_count": 120,
   "metadata": {},
   "outputs": [
    {
     "name": "stdout",
     "output_type": "stream",
     "text": [
      "2.15 ms ± 115 µs per loop (mean ± std. dev. of 7 runs, 100 loops each)\n"
     ]
    }
   ],
   "source": [
    "%%timeit\n",
    "E1 = np.array([[1 if j%i == 0 else 0 for j in range(1,101)] for i in range(1,101)])"
   ]
  },
  {
   "cell_type": "code",
   "execution_count": 95,
   "metadata": {},
   "outputs": [
    {
     "name": "stdout",
     "output_type": "stream",
     "text": [
      "178 µs ± 6.32 µs per loop (mean ± std. dev. of 7 runs, 10000 loops each)\n"
     ]
    }
   ],
   "source": [
    "%%timeit\n",
    "B1 = np.eye(100)\n",
    "j=99\n",
    "for i in range(100):\n",
    "    B1[i][i]*=(i+1)\n",
    "    if i<99:\n",
    "        B1[i][i+1]=j\n",
    "        B1[i+1][i]=j\n",
    "        j-=1"
   ]
  },
  {
   "cell_type": "code",
   "execution_count": 96,
   "metadata": {},
   "outputs": [
    {
     "name": "stdout",
     "output_type": "stream",
     "text": [
      "48.6 µs ± 1.15 µs per loop (mean ± std. dev. of 7 runs, 10000 loops each)\n"
     ]
    }
   ],
   "source": [
    "%%timeit\n",
    "v1 = np.arange(99,0,-1)\n",
    "v2 = np.arange(1,101,1)\n",
    "B = np.diag(v2) + np.diag(v1,k=1) + np.diag(v1,k=-1) #ladna implementacja\n"
   ]
  },
  {
   "cell_type": "code",
   "execution_count": null,
   "metadata": {},
   "outputs": [],
   "source": []
  }
 ],
 "metadata": {
  "@webio": {
   "lastCommId": null,
   "lastKernelId": null
  },
  "kernelspec": {
   "display_name": "Python 3",
   "language": "python",
   "name": "python3"
  },
  "language_info": {
   "codemirror_mode": {
    "name": "ipython",
    "version": 3
   },
   "file_extension": ".py",
   "mimetype": "text/x-python",
   "name": "python",
   "nbconvert_exporter": "python",
   "pygments_lexer": "ipython3",
   "version": "3.7.3"
  }
 },
 "nbformat": 4,
 "nbformat_minor": 2
}
