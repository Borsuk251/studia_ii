{
 "cells": [
  {
   "cell_type": "code",
   "execution_count": 1,
   "metadata": {},
   "outputs": [],
   "source": [
    "import numpy as np\n",
    "import math\n",
    "import random\n",
    "import matplotlib.pyplot as plt\n",
    "from matplotlib import cm\n",
    "\n",
    "%matplotlib inline\n",
    "params = {\"ytick.color\" : \"c\",\n",
    "          \"xtick.color\" : \"c\",\n",
    "          \"axes.labelcolor\" : \"c\",\n",
    "          \"axes.edgecolor\" : \"c\",\n",
    "         \"text.color\" : \"c\"}\n",
    "plt.rcParams.update(params)#setup for dark theme\n",
    "\n",
    "import pandas as pd\n",
    "from sklearn.cluster import KMeans, MiniBatchKMeans, Birch, DBSCAN\n",
    "from collections import Counter\n",
    "from itertools import cycle\n",
    "from sklearn import datasets, metrics\n",
    "import scipy.stats as sstats\n",
    "\n",
    "import seaborn as sns\n",
    "import sklearn.model_selection as smselection#for data spliting\n",
    "import tqdm"
   ]
  },
  {
   "cell_type": "markdown",
   "metadata": {},
   "source": [
    "Zadanie 1. (1 punkt)<br>\n",
    "a) Napisz własny klasyfikator K-Nearest Neighbours (KNN). Zadanie można wykonać w Matlabie,\n",
    "Pythonie lub innym języku programowania. W zadaniu można użyć wcześniej zaimplementowanej\n",
    "funkcji liczenia odległości (na przykład z zadania 0 z listy 3).<br>\n",
    "b) Napisany klasyfikator KNN przetestuj na danych IRIS. Podziel dane losowo na dwie części: 100\n",
    "wektorów danych użyj jako dane uczące do stworzenia klasyfikatora i 50 wektorów danych użyj\n",
    "jako dane testowe do przetestowania stworzonego klasyfikatora. Powtórz ten eksperyment\n",
    "kilkukrotnie i porównaj wyniki.<br>\n",
    "c) Przeprowadź też podobny test klasyfikatora KNN na danych Optical Recognition of Handwritten\n",
    "Digits (https://archive.ics.uci.edu/ml/datasets/Optical+Recognition+of+Handwritten+Digits).<br>\n",
    "d) Zrób cross validation klasyfikatora KNN na obu zestawach danych: podziel dane na 10 części,\n",
    "kolejno bierz jedną z nich, traktuj ją jako dane testowe, a pozostałe 9 części jako dane uczące,\n",
    "stwórz klasyfikator na danych uczących i przetestuj na danych testowych, odnotuj liczbę błędów,\n",
    "powtórz obliczenia dla kolejnych części danych, policz całkowity błąd klasyfikatora sumując\n",
    "odnotowane liczby błędów."
   ]
  },
  {
   "cell_type": "markdown",
   "metadata": {},
   "source": [
    "A)"
   ]
  },
  {
   "cell_type": "code",
   "execution_count": 2,
   "metadata": {},
   "outputs": [],
   "source": [
    "def KNN(train_X, train_Y, test_X, ks):\n",
    "    \"\"\"\n",
    "    code from ML assignement\n",
    "    Compute predictions for various k\n",
    "    Args:\n",
    "        train_X: array of shape Ntrain x D\n",
    "        train_Y: array of shape Ntrain\n",
    "        test_X: array of shape Ntest x D\n",
    "        ks: list of integers, no of neighbours\n",
    "    Returns:\n",
    "        preds: dict k: predictions for k\n",
    "    \"\"\"\n",
    "    # Cats data to float32\n",
    "    train_X = train_X#.astype(np.float32)\n",
    "    test_X = test_X#.astype(np.float32)\n",
    "    # Alloc space for results\n",
    "    preds = {}\n",
    "    #dist matrix\n",
    "    #X_train - former X, test_x - former Y\n",
    "    dists = (np.sum(train_X ** 2, axis=1)[:,np.newaxis] - 2 * np.dot(train_X,test_X.T) +\n",
    "                np.sum(test_X ** 2, axis=1))\n",
    "    #findes closest trainig points\n",
    "    #can be better, for small k 'for loop'\n",
    "    closest = np.argsort(dists, axis=0) #sorting, returns indices\n",
    "    targets = train_Y[closest]#\n",
    "    for k in ks:\n",
    "        predictions = sstats.mode(targets[:k])[0] #take k closest targets\n",
    "        predictions = predictions.ravel()#flattened array\n",
    "        preds[k] = predictions\n",
    "    return preds#returns train examples targets"
   ]
  },
  {
   "cell_type": "markdown",
   "metadata": {},
   "source": [
    "B)"
   ]
  },
  {
   "cell_type": "code",
   "execution_count": 3,
   "metadata": {},
   "outputs": [],
   "source": [
    "# reading data\n",
    "iris = datasets.load_iris()\n",
    "iris_df = pd.DataFrame(data= np.c_[iris['data'], iris['target']],#data & number\n",
    "                     columns= iris['feature_names'] + ['target'])#columns names\n",
    "#using pandas data frame"
   ]
  },
  {
   "cell_type": "code",
   "execution_count": 4,
   "metadata": {},
   "outputs": [
    {
     "data": {
      "text/html": [
       "<div>\n",
       "<style scoped>\n",
       "    .dataframe tbody tr th:only-of-type {\n",
       "        vertical-align: middle;\n",
       "    }\n",
       "\n",
       "    .dataframe tbody tr th {\n",
       "        vertical-align: top;\n",
       "    }\n",
       "\n",
       "    .dataframe thead th {\n",
       "        text-align: right;\n",
       "    }\n",
       "</style>\n",
       "<table border=\"1\" class=\"dataframe\">\n",
       "  <thead>\n",
       "    <tr style=\"text-align: right;\">\n",
       "      <th></th>\n",
       "      <th>sepal length (cm)</th>\n",
       "      <th>sepal width (cm)</th>\n",
       "      <th>petal length (cm)</th>\n",
       "      <th>petal width (cm)</th>\n",
       "      <th>target</th>\n",
       "    </tr>\n",
       "  </thead>\n",
       "  <tbody>\n",
       "    <tr>\n",
       "      <th>0</th>\n",
       "      <td>5.1</td>\n",
       "      <td>3.5</td>\n",
       "      <td>1.4</td>\n",
       "      <td>0.2</td>\n",
       "      <td>0.0</td>\n",
       "    </tr>\n",
       "    <tr>\n",
       "      <th>1</th>\n",
       "      <td>4.9</td>\n",
       "      <td>3.0</td>\n",
       "      <td>1.4</td>\n",
       "      <td>0.2</td>\n",
       "      <td>0.0</td>\n",
       "    </tr>\n",
       "    <tr>\n",
       "      <th>2</th>\n",
       "      <td>4.7</td>\n",
       "      <td>3.2</td>\n",
       "      <td>1.3</td>\n",
       "      <td>0.2</td>\n",
       "      <td>0.0</td>\n",
       "    </tr>\n",
       "    <tr>\n",
       "      <th>3</th>\n",
       "      <td>4.6</td>\n",
       "      <td>3.1</td>\n",
       "      <td>1.5</td>\n",
       "      <td>0.2</td>\n",
       "      <td>0.0</td>\n",
       "    </tr>\n",
       "    <tr>\n",
       "      <th>4</th>\n",
       "      <td>5.0</td>\n",
       "      <td>3.6</td>\n",
       "      <td>1.4</td>\n",
       "      <td>0.2</td>\n",
       "      <td>0.0</td>\n",
       "    </tr>\n",
       "    <tr>\n",
       "      <th>5</th>\n",
       "      <td>5.4</td>\n",
       "      <td>3.9</td>\n",
       "      <td>1.7</td>\n",
       "      <td>0.4</td>\n",
       "      <td>0.0</td>\n",
       "    </tr>\n",
       "    <tr>\n",
       "      <th>6</th>\n",
       "      <td>4.6</td>\n",
       "      <td>3.4</td>\n",
       "      <td>1.4</td>\n",
       "      <td>0.3</td>\n",
       "      <td>0.0</td>\n",
       "    </tr>\n",
       "    <tr>\n",
       "      <th>7</th>\n",
       "      <td>5.0</td>\n",
       "      <td>3.4</td>\n",
       "      <td>1.5</td>\n",
       "      <td>0.2</td>\n",
       "      <td>0.0</td>\n",
       "    </tr>\n",
       "    <tr>\n",
       "      <th>8</th>\n",
       "      <td>4.4</td>\n",
       "      <td>2.9</td>\n",
       "      <td>1.4</td>\n",
       "      <td>0.2</td>\n",
       "      <td>0.0</td>\n",
       "    </tr>\n",
       "    <tr>\n",
       "      <th>9</th>\n",
       "      <td>4.9</td>\n",
       "      <td>3.1</td>\n",
       "      <td>1.5</td>\n",
       "      <td>0.1</td>\n",
       "      <td>0.0</td>\n",
       "    </tr>\n",
       "  </tbody>\n",
       "</table>\n",
       "</div>"
      ],
      "text/plain": [
       "   sepal length (cm)  sepal width (cm)  petal length (cm)  petal width (cm)  \\\n",
       "0                5.1               3.5                1.4               0.2   \n",
       "1                4.9               3.0                1.4               0.2   \n",
       "2                4.7               3.2                1.3               0.2   \n",
       "3                4.6               3.1                1.5               0.2   \n",
       "4                5.0               3.6                1.4               0.2   \n",
       "5                5.4               3.9                1.7               0.4   \n",
       "6                4.6               3.4                1.4               0.3   \n",
       "7                5.0               3.4                1.5               0.2   \n",
       "8                4.4               2.9                1.4               0.2   \n",
       "9                4.9               3.1                1.5               0.1   \n",
       "\n",
       "   target  \n",
       "0     0.0  \n",
       "1     0.0  \n",
       "2     0.0  \n",
       "3     0.0  \n",
       "4     0.0  \n",
       "5     0.0  \n",
       "6     0.0  \n",
       "7     0.0  \n",
       "8     0.0  \n",
       "9     0.0  "
      ]
     },
     "execution_count": 4,
     "metadata": {},
     "output_type": "execute_result"
    }
   ],
   "source": [
    "iris_df.head(10)"
   ]
  },
  {
   "cell_type": "code",
   "execution_count": 5,
   "metadata": {},
   "outputs": [
    {
     "name": "stdout",
     "output_type": "stream",
     "text": [
      "[0 0 0 0 0 0 0 0 0 0 0 0 0 0 0 0 0 0 0 0 0 0 0 0 0 0 0 0 0 0 0 0 0 0 0 0 0\n",
      " 0 0 0 0 0 0 0 0 0 0 0 0 0 1 1 1 1 1 1 1 1 1 1 1 1 1 1 1 1 1 1 1 1 1 1 1 1\n",
      " 1 1 1 1 1 1 1 1 1 1 1 1 1 1 1 1 1 1 1 1 1 1 1 1 1 1 2 2 2 2 2 2 2 2 2 2 2\n",
      " 2 2 2 2 2 2 2 2 2 2 2 2 2 2 2 2 2 2 2 2 2 2 2 2 2 2 2 2 2 2 2 2 2 2 2 2 2\n",
      " 2 2]\n",
      "['sepal length (cm)', 'sepal width (cm)', 'petal length (cm)', 'petal width (cm)']\n",
      "['setosa' 'versicolor' 'virginica']\n"
     ]
    }
   ],
   "source": [
    "print(iris.target)\n",
    "print(iris.feature_names)\n",
    "print(iris.target_names)"
   ]
  },
  {
   "cell_type": "code",
   "execution_count": 6,
   "metadata": {},
   "outputs": [],
   "source": [
    "# divide data\n",
    "train, test = smselection.train_test_split(iris_df, train_size=0.666)\n",
    "\n",
    "train_irisX = np.array(train[['sepal length (cm)', 'sepal width (cm)', \n",
    "                               'petal length (cm)', 'petal width (cm)']])\n",
    "train_irisY = np.array(train['target'])\n",
    "\n",
    "test_irisX = np.array(test[['sepal length (cm)', 'sepal width (cm)', \n",
    "                             'petal length (cm)', 'petal width (cm)']])\n",
    "test_irisY = np.array(test['target'])\n"
   ]
  },
  {
   "cell_type": "code",
   "execution_count": 7,
   "metadata": {},
   "outputs": [
    {
     "name": "stdout",
     "output_type": "stream",
     "text": [
      "dict_items([(3, array([0., 2., 2., 2., 2., 0., 2., 0., 1., 0., 0., 1., 0., 0., 0., 2., 1.,\n",
      "       0., 2., 2., 0., 1., 1., 2., 0., 1., 0., 2., 0., 0., 1., 0., 2., 0.,\n",
      "       2., 1., 0., 2., 1., 1., 2., 2., 1., 0., 0., 1., 2., 0., 2., 1., 0.])), (4, array([0., 2., 2., 2., 2., 0., 2., 0., 1., 0., 0., 1., 0., 0., 0., 2., 1.,\n",
      "       0., 2., 2., 0., 1., 1., 2., 0., 1., 0., 2., 0., 0., 1., 0., 2., 0.,\n",
      "       2., 1., 0., 2., 1., 1., 2., 2., 1., 0., 0., 1., 2., 0., 2., 1., 0.])), (5, array([0., 2., 2., 2., 2., 0., 2., 0., 1., 0., 0., 1., 0., 0., 0., 2., 1.,\n",
      "       0., 2., 2., 0., 1., 2., 2., 0., 1., 0., 2., 0., 0., 1., 0., 2., 0.,\n",
      "       2., 1., 0., 2., 1., 1., 2., 2., 1., 0., 0., 1., 2., 0., 2., 1., 0.])), (6, array([0., 2., 2., 2., 2., 0., 2., 0., 1., 0., 0., 1., 0., 0., 0., 2., 1.,\n",
      "       0., 2., 2., 0., 1., 1., 2., 0., 1., 0., 2., 0., 0., 1., 0., 2., 0.,\n",
      "       2., 1., 0., 2., 1., 1., 2., 2., 1., 0., 0., 1., 2., 0., 2., 1., 0.])), (7, array([0., 2., 2., 2., 2., 0., 2., 0., 1., 0., 0., 1., 0., 0., 0., 2., 1.,\n",
      "       0., 2., 2., 0., 1., 2., 2., 0., 1., 0., 2., 0., 0., 1., 0., 2., 0.,\n",
      "       2., 1., 0., 2., 1., 1., 2., 2., 1., 0., 0., 1., 2., 0., 2., 1., 0.])), (8, array([0., 2., 2., 2., 2., 0., 2., 0., 1., 0., 0., 1., 0., 0., 0., 2., 1.,\n",
      "       0., 2., 2., 0., 1., 1., 2., 0., 1., 0., 2., 0., 0., 1., 0., 2., 0.,\n",
      "       2., 1., 0., 2., 1., 1., 2., 2., 1., 0., 0., 1., 2., 0., 2., 1., 0.])), (9, array([0., 2., 2., 2., 2., 0., 2., 0., 1., 0., 0., 1., 0., 0., 0., 2., 1.,\n",
      "       0., 2., 2., 0., 1., 2., 2., 0., 1., 0., 2., 0., 0., 1., 0., 2., 0.,\n",
      "       2., 1., 0., 2., 1., 1., 2., 2., 1., 0., 0., 1., 2., 0., 2., 1., 0.])), (10, array([0., 2., 2., 2., 2., 0., 2., 0., 1., 0., 0., 1., 0., 0., 0., 2., 1.,\n",
      "       0., 2., 2., 0., 1., 1., 2., 0., 1., 0., 2., 0., 0., 1., 0., 2., 0.,\n",
      "       2., 1., 0., 2., 1., 1., 2., 2., 1., 0., 0., 1., 2., 0., 2., 1., 0.])), (11, array([0., 2., 2., 2., 2., 0., 2., 0., 1., 0., 0., 1., 0., 0., 0., 2., 1.,\n",
      "       0., 2., 2., 0., 1., 2., 2., 0., 1., 0., 2., 0., 0., 1., 0., 2., 0.,\n",
      "       2., 1., 0., 2., 1., 1., 2., 2., 1., 0., 0., 1., 2., 0., 2., 1., 0.])), (12, array([0., 2., 2., 2., 2., 0., 2., 0., 1., 0., 0., 1., 0., 0., 0., 2., 1.,\n",
      "       0., 2., 2., 0., 1., 2., 2., 0., 1., 0., 2., 0., 0., 1., 0., 2., 0.,\n",
      "       2., 1., 0., 2., 1., 1., 2., 2., 1., 0., 0., 1., 2., 0., 2., 1., 0.])), (13, array([0., 2., 2., 2., 2., 0., 2., 0., 1., 0., 0., 1., 0., 0., 0., 2., 1.,\n",
      "       0., 2., 2., 0., 1., 2., 2., 0., 1., 0., 2., 0., 0., 1., 0., 2., 0.,\n",
      "       2., 1., 0., 2., 1., 1., 2., 2., 1., 0., 0., 1., 2., 0., 2., 1., 0.])), (14, array([0., 2., 2., 2., 2., 0., 2., 0., 1., 0., 0., 1., 0., 0., 0., 2., 1.,\n",
      "       0., 2., 2., 0., 1., 1., 2., 0., 1., 0., 2., 0., 0., 1., 0., 2., 0.,\n",
      "       2., 1., 0., 2., 1., 1., 2., 2., 1., 0., 0., 1., 2., 0., 2., 1., 0.]))])\n",
      "Poprawnosc dla k = 3: 98.0392156862745%\n",
      "Poprawnosc dla k = 4: 98.0392156862745%\n",
      "Poprawnosc dla k = 5: 100.0%\n",
      "Poprawnosc dla k = 6: 98.0392156862745%\n",
      "Poprawnosc dla k = 7: 100.0%\n",
      "Poprawnosc dla k = 8: 98.0392156862745%\n",
      "Poprawnosc dla k = 9: 100.0%\n",
      "Poprawnosc dla k = 10: 98.0392156862745%\n",
      "Poprawnosc dla k = 11: 100.0%\n",
      "Poprawnosc dla k = 12: 100.0%\n",
      "Poprawnosc dla k = 13: 100.0%\n",
      "Poprawnosc dla k = 14: 98.0392156862745%\n",
      "max poprawnosc dla k = 5: 100.0\n"
     ]
    }
   ],
   "source": [
    "# run KNN, various k values\n",
    "ks = np.arange(3,15)\n",
    "predictions = KNN(train_irisX, train_irisY, test_irisX, ks)\n",
    "print(predictions.items())#print dictionary items\n",
    "k_max = 0.0\n",
    "k_m=-1.0\n",
    "for k, preds in predictions.items():\n",
    "    result = list(preds == test_irisY)#counting True for correct target values\n",
    "    k_val = result.count(True)/len(result)*100\n",
    "    if k_val>k_max: \n",
    "        k_max = k_val\n",
    "        k_m = k\n",
    "    print(f'Poprawnosc dla k = {k}: {k_val}%')\n",
    "print(f'max poprawnosc dla k = {k_m}: {k_max}')"
   ]
  },
  {
   "cell_type": "code",
   "execution_count": 8,
   "metadata": {},
   "outputs": [
    {
     "data": {
      "text/plain": [
       "<matplotlib.collections.PathCollection at 0x7f6fac70e6a0>"
      ]
     },
     "execution_count": 8,
     "metadata": {},
     "output_type": "execute_result"
    },
    {
     "data": {
      "image/png": "[encoded data removed]",
      "text/plain": [
       "<Figure size 1008x360 with 2 Axes>"
      ]
     },
     "metadata": {
      "needs_background": "dark"
     },
     "output_type": "display_data"
    }
   ],
   "source": [
    "best_k = k_m\n",
    "fig, axes = plt.subplots(1,2)\n",
    "fig.set_size_inches(14,5)\n",
    "#fig.suptitle('KNN on Iris')\n",
    "\n",
    "axes[0].set_title('predcicted targets')\n",
    "axes[1].set_title('real targets')\n",
    "\n",
    "axes[0].scatter(test_irisX[:, 0], test_irisX[:, 1], s=80,\n",
    "                c=predictions[best_k], edgecolors='black', cmap='rainbow')\n",
    "\n",
    "axes[1].scatter(test_irisX[:, 0], test_irisX[:, 1], s=80,\n",
    "                c=test_irisY, edgecolors='black', cmap='rainbow')"
   ]
  },
  {
   "cell_type": "markdown",
   "metadata": {},
   "source": [
    "C)"
   ]
  },
  {
   "cell_type": "code",
   "execution_count": 22,
   "metadata": {},
   "outputs": [
    {
     "name": "stdout",
     "output_type": "stream",
     "text": [
      "[ 0  1  6 15 12  1  0  0  0  7 16  6  6 10  0  0  0  8 16  2  0 11  2  0\n",
      "  0  5 16  3  0  5  7  0  0  7 13  3  0  8  7  0  0  4 12  0  1 13  5  0\n",
      "  0  0 14  9 15  9  0  0  0  0  6 14  7  1  0  0  0]\n",
      "65\n"
     ]
    }
   ],
   "source": [
    "# reading data\n",
    "train_digits = np.array(pd.read_csv('optdigits.tra', header=None))\n",
    "test_digits = np.array(pd.read_csv('optdigits.tes', header=None))\n",
    "print(train_digits[0])\n",
    "print(train_digits[0].size)\n",
    "X_train = train_digits[:,:64]#last fo target\n",
    "Y_train = train_digits[:,64]\n",
    "X_test = test_digits[:,:64]\n",
    "Y_test = test_digits[:, 64]"
   ]
  },
  {
   "cell_type": "code",
   "execution_count": 23,
   "metadata": {},
   "outputs": [
    {
     "data": {
      "text/plain": [
       "<matplotlib.image.AxesImage at 0x7f6ed3f7d908>"
      ]
     },
     "execution_count": 23,
     "metadata": {},
     "output_type": "execute_result"
    },
    {
     "data": {
      "image/png": "[encoded data removed]",
      "text/plain": [
       "<Figure size 432x288 with 1 Axes>"
      ]
     },
     "metadata": {
      "needs_background": "dark"
     },
     "output_type": "display_data"
    }
   ],
   "source": [
    "plt.imshow(X_train[1101].reshape(8, 8), cmap='Greys')\n"
   ]
  },
  {
   "cell_type": "code",
   "execution_count": 27,
   "metadata": {},
   "outputs": [
    {
     "name": "stdout",
     "output_type": "stream",
     "text": [
      "Poprawnosc dla k = 1: 97.9966611018364%\n",
      "Poprawnosc dla k = 2: 97.38452977184195%\n",
      "Poprawnosc dla k = 3: 97.8297161936561%\n",
      "Poprawnosc dla k = 4: 97.60712298274903%\n",
      "Poprawnosc dla k = 5: 97.88536449638286%\n",
      "Poprawnosc dla k = 6: 97.77406789092933%\n",
      "Poprawnosc dla k = 7: 97.66277128547578%\n",
      "Poprawnosc dla k = 8: 97.66277128547578%\n",
      "Poprawnosc dla k = 9: 97.77406789092933%\n",
      "Poprawnosc dla k = 10: 97.55147468002225%\n",
      "Poprawnosc dla k = 11: 97.94101279910963%\n",
      "Poprawnosc dla k = 12: 97.44017807456873%\n",
      "Poprawnosc dla k = 13: 97.38452977184195%\n",
      "Poprawnosc dla k = 14: 97.16193656093489%\n",
      "max poprawnosc dla k = 1: 97.9966611018364\n"
     ]
    }
   ],
   "source": [
    "\n",
    "ks = np.arange(1,15)\n",
    "predictions = KNN(X_train, Y_train, X_test, ks)\n",
    "\n",
    "k_max = 0.0\n",
    "k_m=-1.0\n",
    "for k, preds in predictions.items():\n",
    "    result = list(preds == Y_test)#counting True for correct target values\n",
    "    k_val = result.count(True)/len(result)*100\n",
    "    if k_val>k_max: \n",
    "        k_max = k_val\n",
    "        k_m = k\n",
    "    print(f'Poprawnosc dla k = {k}: {k_val}%')\n",
    "print(f'max poprawnosc dla k = {k_m}: {k_max}')"
   ]
  },
  {
   "cell_type": "code",
   "execution_count": 46,
   "metadata": {},
   "outputs": [
    {
     "name": "stdout",
     "output_type": "stream",
     "text": [
      "1797\n"
     ]
    },
    {
     "data": {
      "text/plain": [
       "<matplotlib.collections.PathCollection at 0x7f6faa48d320>"
      ]
     },
     "execution_count": 46,
     "metadata": {},
     "output_type": "execute_result"
    },
    {
     "data": {
      "image/png": "[encoded data removed]",
      "text/plain": [
       "<Figure size 1008x360 with 2 Axes>"
      ]
     },
     "metadata": {
      "needs_background": "dark"
     },
     "output_type": "display_data"
    }
   ],
   "source": [
    "\n",
    "best_k = 1\n",
    "fig, axes = plt.subplots(1,2)\n",
    "fig.set_size_inches(14,5)\n",
    "axes[0].set_title('predicted targets')\n",
    "axes[1].set_title('real targets')\n",
    "\n",
    "print(predictions[best_k].size)\n",
    "axes[0].scatter(X_test[:, 45], X_test[:, 47], s=100,\n",
    "                c=predictions[best_k], edgecolors='black')\n",
    "#axes[0].scatter(X_test[0:100, 63], predictions[best_k][:100], s=100,\n",
    " #                edgecolors='black')\n",
    "\n",
    "\n",
    "axes[1].scatter(X_test[:, 45], X_test[:, 47], s=100,\n",
    "                c=Y_test, edgecolors='black')"
   ]
  },
  {
   "cell_type": "code",
   "execution_count": 57,
   "metadata": {},
   "outputs": [
    {
     "name": "stdout",
     "output_type": "stream",
     "text": [
      "5\n",
      "75\n",
      "77\n",
      "87\n",
      "134\n",
      "242\n",
      "421\n",
      "445\n",
      "448\n",
      "480\n",
      "547\n",
      "555\n",
      "655\n",
      "678\n",
      "719\n",
      "753\n",
      "771\n",
      "794\n",
      "852\n",
      "872\n",
      "890\n",
      "993\n",
      "1038\n",
      "1100\n",
      "1118\n",
      "1152\n",
      "1363\n",
      "1468\n",
      "1552\n",
      "1553\n",
      "1605\n",
      "1628\n",
      "1658\n",
      "1662\n"
     ]
    }
   ],
   "source": [
    "for i in range(1700):\n",
    "    if Y_test[i] != predictions[best_k][i]:\n",
    "        print(i)\n",
    "        #print(f'{Y_test[i]},   {predictions[best_k][i]}')"
   ]
  },
  {
   "cell_type": "code",
   "execution_count": 56,
   "metadata": {},
   "outputs": [
    {
     "name": "stdout",
     "output_type": "stream",
     "text": [
      "5,   9\n"
     ]
    },
    {
     "data": {
      "image/png": "[encoded data removed]",
      "text/plain": [
       "<Figure size 432x288 with 1 Axes>"
      ]
     },
     "metadata": {
      "needs_background": "dark"
     },
     "output_type": "display_data"
    },
    {
     "name": "stdout",
     "output_type": "stream",
     "text": [
      "2,   1\n"
     ]
    },
    {
     "data": {
      "image/png": "[encoded data removed]",
      "text/plain": [
       "<Figure size 432x288 with 1 Axes>"
      ]
     },
     "metadata": {
      "needs_background": "dark"
     },
     "output_type": "display_data"
    }
   ],
   "source": [
    "plt.imshow(X_test[5].reshape(8, 8), cmap='Greys')\n",
    "print(f'{Y_test[5]},   {predictions[best_k][5]}')\n",
    "plt.show()\n",
    "plt.imshow(X_test[75].reshape(8, 8), cmap='Greys')\n",
    "print(f'{Y_test[75]},   {predictions[best_k][75]}')\n",
    "plt.show()"
   ]
  },
  {
   "cell_type": "markdown",
   "metadata": {},
   "source": [
    "D)"
   ]
  },
  {
   "cell_type": "code",
   "execution_count": 67,
   "metadata": {},
   "outputs": [],
   "source": [
    "def cross_validation(X, Y, no=10):\n",
    "    error_sum = 0\n",
    "    indices = np.random.uniform(0, no, len(X)).astype(int)\n",
    "    for i in range(no):\n",
    "        print(f'Test numer {i}')\n",
    "        x_train = X[indices != i]#bierzemy te ktore potrzebujemy\n",
    "        y_train = Y[indices != i]\n",
    "        x_test = X[indices == i]\n",
    "        y_test = Y[indices == i]\n",
    "        \n",
    "        ks = np.arange(1,15)\n",
    "        predictions = KNN(x_train, y_train, x_test, ks)\n",
    "        \n",
    "        best_k, best_score = 0, 0\n",
    "        for k, preds in predictions.items():\n",
    "            result = list(preds == y_test)\n",
    "            result_cnt = result.count(True) / len(result) * 100\n",
    "            #analogicznie jak wczesniej\n",
    "            if result_cnt > best_score:\n",
    "                best_score = result_cnt\n",
    "                best_k = k\n",
    "        error_sum += best_score\n",
    "        print(f'Najlepsze k: {best_k} wynik: {best_score}\\n')\n",
    "        \n",
    "    print(f'bledy: {error_sum / no}')\n"
   ]
  },
  {
   "cell_type": "code",
   "execution_count": 68,
   "metadata": {},
   "outputs": [
    {
     "name": "stdout",
     "output_type": "stream",
     "text": [
      "Test numer 0\n",
      "Najlepsze k: 1 wynik: 100.0\n",
      "\n",
      "Test numer 1\n",
      "Najlepsze k: 1 wynik: 100.0\n",
      "\n",
      "Test numer 2\n",
      "Najlepsze k: 1 wynik: 85.71428571428571\n",
      "\n",
      "Test numer 3\n",
      "Najlepsze k: 3 wynik: 100.0\n",
      "\n",
      "Test numer 4\n",
      "Najlepsze k: 5 wynik: 100.0\n",
      "\n",
      "Test numer 5\n",
      "Najlepsze k: 1 wynik: 100.0\n",
      "\n",
      "Test numer 6\n",
      "Najlepsze k: 1 wynik: 100.0\n",
      "\n",
      "Test numer 7\n",
      "Najlepsze k: 1 wynik: 100.0\n",
      "\n",
      "Test numer 8\n",
      "Najlepsze k: 6 wynik: 100.0\n",
      "\n",
      "Test numer 9\n",
      "Najlepsze k: 1 wynik: 92.3076923076923\n",
      "\n",
      "bledy: 97.80219780219781\n"
     ]
    }
   ],
   "source": [
    "cross_validation(train_irisX, train_irisY)\n"
   ]
  },
  {
   "cell_type": "code",
   "execution_count": 69,
   "metadata": {},
   "outputs": [
    {
     "name": "stdout",
     "output_type": "stream",
     "text": [
      "Test numer 0\n",
      "Najlepsze k: 11 wynik: 99.2084432717678\n",
      "\n",
      "Test numer 1\n",
      "Najlepsze k: 3 wynik: 98.96103896103897\n",
      "\n",
      "Test numer 2\n",
      "Najlepsze k: 7 wynik: 98.94459102902374\n",
      "\n",
      "Test numer 3\n",
      "Najlepsze k: 1 wynik: 98.65591397849462\n",
      "\n",
      "Test numer 4\n",
      "Najlepsze k: 3 wynik: 99.74489795918367\n",
      "\n",
      "Test numer 5\n",
      "Najlepsze k: 1 wynik: 98.68766404199475\n",
      "\n",
      "Test numer 6\n",
      "Najlepsze k: 3 wynik: 98.99244332493703\n",
      "\n",
      "Test numer 7\n",
      "Najlepsze k: 1 wynik: 99.47780678851174\n",
      "\n",
      "Test numer 8\n",
      "Najlepsze k: 6 wynik: 98.92761394101876\n",
      "\n",
      "Test numer 9\n",
      "Najlepsze k: 3 wynik: 98.42931937172776\n",
      "\n",
      "bledy: 99.00297326676989\n"
     ]
    }
   ],
   "source": [
    "#dane do cyferek\n",
    "cross_validation(X_train, Y_train)\n"
   ]
  },
  {
   "cell_type": "code",
   "execution_count": null,
   "metadata": {},
   "outputs": [],
   "source": []
  }
 ],
 "metadata": {
  "@webio": {
   "lastCommId": null,
   "lastKernelId": null
  },
  "kernelspec": {
   "display_name": "Python 3",
   "language": "python",
   "name": "python3"
  },
  "language_info": {
   "codemirror_mode": {
    "name": "ipython",
    "version": 3
   },
   "file_extension": ".py",
   "mimetype": "text/x-python",
   "name": "python",
   "nbconvert_exporter": "python",
   "pygments_lexer": "ipython3",
   "version": "3.7.3"
  }
 },
 "nbformat": 4,
 "nbformat_minor": 2
}
