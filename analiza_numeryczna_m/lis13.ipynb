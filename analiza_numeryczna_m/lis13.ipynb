{
 "cells": [
  {
   "cell_type": "code",
   "execution_count": 84,
   "metadata": {},
   "outputs": [],
   "source": [
    "using LinearAlgebra"
   ]
  },
  {
   "cell_type": "code",
   "execution_count": 506,
   "metadata": {},
   "outputs": [
    {
     "data": {
      "text/plain": [
       "1000×1000 Array{Float64,2}:\n",
       " 0.556877  0.0602514  0.425808   …  0.268598   0.732371   0.0512756\n",
       " 0.546841  0.979085   0.146611      0.0438357  0.0270988  0.333461 \n",
       " 0.818094  0.747136   0.517279      0.888624   0.966643   0.407537 \n",
       " 0.794305  0.528252   0.4925        0.631243   0.967172   0.932269 \n",
       " 0.65892   0.994676   0.233979      0.279515   0.749487   0.747211 \n",
       " 0.562283  0.633411   0.253269   …  0.275644   0.819488   0.762434 \n",
       " 0.461226  0.405975   0.996231      0.326945   0.896154   0.967486 \n",
       " 0.18095   0.344724   0.240751      0.817705   0.907245   0.278696 \n",
       " 0.449745  0.0395835  0.519124      0.649622   0.07277    0.483511 \n",
       " 0.68622   0.779952   0.389819      0.519592   0.876634   0.279607 \n",
       " 0.292054  0.729301   0.0417727  …  0.901318   0.702709   0.705319 \n",
       " 0.407033  0.021517   0.559628      0.102112   0.873404   0.655277 \n",
       " 0.854201  0.587779   0.272877      0.142201   0.749039   0.953906 \n",
       " ⋮                               ⋱                                 \n",
       " 0.250292  0.977552   0.908152      0.604103   0.690159   0.340433 \n",
       " 0.848902  0.984219   0.910872      0.0233011  0.121964   0.754301 \n",
       " 0.454463  0.650528   0.278241   …  0.837674   0.553923   0.116596 \n",
       " 0.735252  0.219214   0.0724406     0.927285   0.531166   0.312106 \n",
       " 0.737838  0.917734   0.886872      0.214458   0.266153   0.198967 \n",
       " 0.519848  0.405833   0.893789      0.0851835  0.568949   0.916651 \n",
       " 0.231775  0.47936    0.132059      0.14791    0.947943   0.741316 \n",
       " 0.820986  0.35995    0.852062   …  0.0985166  0.878722   0.171121 \n",
       " 0.753284  0.0953664  0.602647      0.178394   0.47393    0.138286 \n",
       " 0.540521  0.466883   0.617199      0.0145147  0.986205   0.394504 \n",
       " 0.786867  0.366402   0.71877       0.901258   0.947969   0.187334 \n",
       " 0.64053   0.816597   0.328949      0.0805299  0.21198    0.214686 "
      ]
     },
     "execution_count": 506,
     "metadata": {},
     "output_type": "execute_result"
    }
   ],
   "source": [
    "A = rand(1000,1000)"
   ]
  },
  {
   "cell_type": "code",
   "execution_count": 507,
   "metadata": {},
   "outputs": [],
   "source": [
    "b = rand(1000,1);"
   ]
  },
  {
   "cell_type": "code",
   "execution_count": 522,
   "metadata": {},
   "outputs": [],
   "source": [
    "A1 = rand(500,500);\n",
    "b1 = rand(500,1);"
   ]
  },
  {
   "cell_type": "code",
   "execution_count": 524,
   "metadata": {},
   "outputs": [
    {
     "name": "stdout",
     "output_type": "stream",
     "text": [
      "  0.084243 seconds (9 allocations: 1.916 MiB)\n"
     ]
    },
    {
     "data": {
      "text/plain": [
       "500×1 Array{Float64,2}:\n",
       "  3.5134066544717513 \n",
       " -3.309603077650202  \n",
       "  1.7370318630743609 \n",
       "  0.6180905888045921 \n",
       "  3.2863885854869856 \n",
       "  2.6169896575844342 \n",
       "  1.6137634357756756 \n",
       " -1.022252160988077  \n",
       " -0.2014769715041294 \n",
       " -0.25502994894696157\n",
       " -2.688884931038663  \n",
       " -5.7949350150370735 \n",
       " -0.23649651155664508\n",
       "  ⋮                  \n",
       " -0.17571542063848694\n",
       " -5.167627699141157  \n",
       " -0.7971200783003082 \n",
       " -2.4407224548175526 \n",
       " -3.5860661854419567 \n",
       " -3.8242405006391182 \n",
       "  0.5237183470708963 \n",
       " -4.211941065695086  \n",
       " -2.476641455203631  \n",
       " -2.571860391381598  \n",
       " -0.10171283587579992\n",
       " -1.67586422249136   "
      ]
     },
     "execution_count": 524,
     "metadata": {},
     "output_type": "execute_result"
    }
   ],
   "source": [
    "@time(\\(A1,b1))"
   ]
  },
  {
   "cell_type": "code",
   "execution_count": 504,
   "metadata": {},
   "outputs": [
    {
     "data": {
      "text/plain": [
       "gaussRow (generic function with 1 method)"
      ]
     },
     "execution_count": 504,
     "metadata": {},
     "output_type": "execute_result"
    }
   ],
   "source": [
    "function gaussRow(A)\n",
    "    #A=B\n",
    "    n = size(A)[1]\n",
    "    print(size(A))\n",
    "    #A = zeros(n,n+1)\n",
    "    #transpose!(A,B')\n",
    "    #n = size(A)[1]\n",
    "    for i = 1:n\n",
    "        #maxRow = argmax(A[i:n,i])+i-1#max i column\n",
    "        #tmp = A[maxRow,:]#column swap\n",
    "        #A[maxRow,:] = A[i,:]\n",
    "        #A[i,:] = tmp\n",
    "        \n",
    "        for k = i+1:n#zeroing next row\n",
    "            c = -A[k,i]/A[i,i]\n",
    "            A[k,i:n+1] = A[k,i:n+1] .+ c .* A[i,i:n+1]\n",
    "            A[k,i] = 0\n",
    "        end\n",
    "    end\n",
    "    #print(A)\n",
    "    x = zeros(n)\n",
    "    for i = n:-1:1#finding xs\n",
    "        x[i] = A[i,n+1]/A[i,i]\n",
    "        A[i-1:-1:1,n+1] -= A[i-1:-1:1,i] .* x[i]\n",
    "    end\n",
    "    return x\n",
    "    \n",
    "end"
   ]
  },
  {
   "cell_type": "code",
   "execution_count": 500,
   "metadata": {},
   "outputs": [
    {
     "data": {
      "text/plain": [
       "gaussColumn (generic function with 1 method)"
      ]
     },
     "execution_count": 500,
     "metadata": {},
     "output_type": "execute_result"
    }
   ],
   "source": [
    "function gaussColumn(A)\n",
    "    #A=B\n",
    "    n = size(A)[2]\n",
    "    #print(size(A))\n",
    "    #A = zeros(n,n+1)\n",
    "    #transpose!(A,B')\n",
    "    #n = size(A)[1]\n",
    "    #print(A)\n",
    "    for i = 1:n\n",
    "        #maxRow = argmax(A[i,i:n])+i-1#max i column\n",
    "        #tmp = A[:,maxRow]#column swap\n",
    "        #A[:,maxRow] = A[:,i]\n",
    "        #A[:,i] = tmp\n",
    "        for k = i+1:n#zeroing next row\n",
    "            c = -A[i,k]/A[i,i]\n",
    "            A[i:n+1,k] = A[i:n+1,k] .+ c .* A[i:n+1,i]\n",
    "            A[i,k] = 0\n",
    "        end\n",
    "    end\n",
    "    #print(A)\n",
    "    x = zeros(n)\n",
    "    for i = n:-1:1#finding xs\n",
    "        x[i] = A[n+1,i]/A[i,i]\n",
    "        A[n+1,i-1:-1:1] -= A[i,i-1:-1:1] .* x[i]\n",
    "    end\n",
    "    return x\n",
    "    \n",
    "end"
   ]
  },
  {
   "cell_type": "code",
   "execution_count": 525,
   "metadata": {},
   "outputs": [
    {
     "name": "stdout",
     "output_type": "stream",
     "text": [
      "  3.791936 seconds (1.50 M allocations: 7.694 GiB, 18.79% gc time)\n"
     ]
    },
    {
     "data": {
      "text/plain": [
       "1000-element Array{Float64,1}:\n",
       " -2.6848285382346635 \n",
       "  1.9026806373248448 \n",
       " -6.882272855294859  \n",
       " -2.452532105985505  \n",
       " -4.418280895925517  \n",
       " -0.06882859898221992\n",
       " -1.0374789708491392 \n",
       " -4.452470413961924  \n",
       " -2.366021267815613  \n",
       "  5.963290175508148  \n",
       "  1.1355389583784163 \n",
       " -2.705698319104925  \n",
       " -1.3662589119464967 \n",
       "  ⋮                  \n",
       " -4.921918892877736  \n",
       "  3.4723923710447258 \n",
       " -2.0674738672310577 \n",
       " -0.2853019893761499 \n",
       " -1.2499892568555804 \n",
       "  4.654370876480343  \n",
       " -0.06897726820175737\n",
       " -1.2714592357510304 \n",
       "  4.517912920990737  \n",
       " -7.39776220545493   \n",
       " -1.4580370753590837 \n",
       "  7.430975880933352  "
      ]
     },
     "execution_count": 525,
     "metadata": {},
     "output_type": "execute_result"
    }
   ],
   "source": [
    "m1 = hcat(A,b)\n",
    "n = size(m1)[1]\n",
    "m2 = zeros(n+1,n)\n",
    "transpose!(m2,m1)\n",
    "@time(x = gaussColumn(m2))"
   ]
  },
  {
   "cell_type": "code",
   "execution_count": 526,
   "metadata": {},
   "outputs": [
    {
     "name": "stdout",
     "output_type": "stream",
     "text": [
      "(1000, 1001)  5.423913 seconds (1.50 M allocations: 7.694 GiB, 13.34% gc time)\n"
     ]
    },
    {
     "data": {
      "text/plain": [
       "1000-element Array{Float64,1}:\n",
       " -2.6848285382346635 \n",
       "  1.9026806373248448 \n",
       " -6.882272855294859  \n",
       " -2.452532105985505  \n",
       " -4.418280895925517  \n",
       " -0.06882859898221992\n",
       " -1.0374789708491392 \n",
       " -4.452470413961924  \n",
       " -2.366021267815613  \n",
       "  5.963290175508148  \n",
       "  1.1355389583784163 \n",
       " -2.705698319104925  \n",
       " -1.3662589119464967 \n",
       "  ⋮                  \n",
       " -4.921918892877736  \n",
       "  3.4723923710447258 \n",
       " -2.0674738672310577 \n",
       " -0.2853019893761499 \n",
       " -1.2499892568555804 \n",
       "  4.654370876480343  \n",
       " -0.06897726820175737\n",
       " -1.2714592357510304 \n",
       "  4.517912920990737  \n",
       " -7.39776220545493   \n",
       " -1.4580370753590837 \n",
       "  7.430975880933352  "
      ]
     },
     "execution_count": 526,
     "metadata": {},
     "output_type": "execute_result"
    }
   ],
   "source": [
    "m1 = hcat(A,b)\n",
    "@time(x = gaussRow(m1))"
   ]
  },
  {
   "cell_type": "code",
   "execution_count": 527,
   "metadata": {},
   "outputs": [
    {
     "name": "stdout",
     "output_type": "stream",
     "text": [
      "  0.573966 seconds (376.25 k allocations: 1015.246 MiB, 20.72% gc time)\n",
      "(500, 501)  0.741304 seconds (376.35 k allocations: 1015.248 MiB, 27.39% gc time)\n"
     ]
    },
    {
     "data": {
      "text/plain": [
       "500-element Array{Float64,1}:\n",
       "  3.513406653722628 \n",
       " -3.3096030767484312\n",
       "  1.737031863448517 \n",
       "  0.6180905889775398\n",
       "  3.286388585661986 \n",
       "  2.6169896574517315\n",
       "  1.613763435729126 \n",
       " -1.0222521614053672\n",
       " -0.2014769716752197\n",
       " -0.2550299491877055\n",
       " -2.6888849304140856\n",
       " -5.794935014660772 \n",
       " -0.2364965117924942\n",
       "  ⋮                 \n",
       " -0.1757154203132392\n",
       " -5.167627699318477 \n",
       " -0.7971200784751492\n",
       " -2.440722454547602 \n",
       " -3.5860661850787054\n",
       " -3.8242405004228406\n",
       "  0.5237183471855933\n",
       " -4.211941065476658 \n",
       " -2.476641455069782 \n",
       " -2.5718603914242144\n",
       " -0.1017128357576028\n",
       " -1.6758642225672025"
      ]
     },
     "execution_count": 527,
     "metadata": {},
     "output_type": "execute_result"
    }
   ],
   "source": [
    "m1 = hcat(A1,b1)\n",
    "n = size(m1)[1]\n",
    "m2 = zeros(n+1,n)\n",
    "transpose!(m2,m1)\n",
    "@time(x = gaussColumn(m2))\n",
    "m1 = hcat(A1,b1)\n",
    "@time(x = gaussRow(m1))"
   ]
  },
  {
   "cell_type": "code",
   "execution_count": 213,
   "metadata": {},
   "outputs": [
    {
     "data": {
      "text/plain": [
       "LU{Float64,Array{Float64,2}}\n",
       "L factor:\n",
       "10×10 Array{Float64,2}:\n",
       " 1.0         0.0        0.0        0.0        …   0.0        0.0       0.0\n",
       " 0.0708237   1.0        0.0        0.0            0.0        0.0       0.0\n",
       " 0.160583    0.425224   1.0        0.0            0.0        0.0       0.0\n",
       " 0.578237    0.399973   0.651783   1.0            0.0        0.0       0.0\n",
       " 0.751099    0.519196  -0.29692   -0.188037       0.0        0.0       0.0\n",
       " 0.842764   -0.609414   0.777456  -0.781755   …   0.0        0.0       0.0\n",
       " 0.160855    0.740978  -0.06617    0.0560897      0.0        0.0       0.0\n",
       " 0.116747    0.105625   0.366365   0.0176396      1.0        0.0       0.0\n",
       " 0.446266    0.456834   0.711658   0.40879       -0.594543   1.0       0.0\n",
       " 0.73364     0.155262   0.340219   0.875213       0.44072   -0.144453  1.0\n",
       "U factor:\n",
       "10×10 Array{Float64,2}:\n",
       " 0.886125  0.641443   0.519533    …   0.392864    0.141255    0.132919 \n",
       " 0.0       0.833291  -0.00516572      0.209597    0.213955    0.620454 \n",
       " 0.0       0.0        0.536836       -0.0197041  -0.0414388   0.405606 \n",
       " 0.0       0.0        0.0            -0.122241    0.56977    -0.394071 \n",
       " 0.0       0.0        0.0             0.528473    0.217157    0.336918 \n",
       " 0.0       0.0        0.0         …   0.70782     1.31189     0.483304 \n",
       " 0.0       0.0        0.0            -0.149007    0.609903    0.0222186\n",
       " 0.0       0.0        0.0             1.02602     1.3623      0.204747 \n",
       " 0.0       0.0        0.0             0.0         1.62613     0.0422426\n",
       " 0.0       0.0        0.0             0.0         0.0         0.462147 "
      ]
     },
     "execution_count": 213,
     "metadata": {},
     "output_type": "execute_result"
    }
   ],
   "source": [
    "solve1 = hcat(A,b)\n",
    "factorize(A)"
   ]
  },
  {
   "cell_type": "code",
   "execution_count": null,
   "metadata": {},
   "outputs": [],
   "source": []
  },
  {
   "cell_type": "code",
   "execution_count": null,
   "metadata": {},
   "outputs": [],
   "source": []
  },
  {
   "cell_type": "code",
   "execution_count": null,
   "metadata": {},
   "outputs": [],
   "source": []
  },
  {
   "cell_type": "code",
   "execution_count": null,
   "metadata": {},
   "outputs": [],
   "source": []
  },
  {
   "cell_type": "code",
   "execution_count": null,
   "metadata": {},
   "outputs": [],
   "source": [
    "function gauss(B)\n",
    "    A=B\n",
    "    n = size(A)[1]\n",
    "    for i = 1:n\n",
    "        maxEl = abs(A[i,i])\n",
    "        maxRow = i\n",
    "        for k = i+1:n\n",
    "            if abs(A[k,i]) > maxEl\n",
    "                maxEl = abs(A[k,i])\n",
    "                maxRow = k\n",
    "            end\n",
    "        end\n",
    "        #maxRow = argmax(A[i:n,i])+i-1\n",
    "        #maxEl = max\n",
    "        for k = i:n+1\n",
    "            tmp = A[maxRow,k]\n",
    "            A[maxRow,k] = A[i,k]\n",
    "            A[i,k] = tmp\n",
    "        end\n",
    "        #tmp = A[maxRow,:]\n",
    "        #A[maxRow,:] = A[i,:]\n",
    "        #A[i,:] = tmp\n",
    "        # print(A, \"\\n\")\n",
    "        for k = i+1:n\n",
    "            c = -A[k,i]/A[i,i]\n",
    "            for j = i:n+1\n",
    "                if i == j\n",
    "                    A[k,j] = 0\n",
    "                else\n",
    "                    A[k,j] += c * A[i ,j]\n",
    "                end\n",
    "            end\n",
    "        end\n",
    "    end\n",
    "    x = zeros(n)\n",
    "    for i = n:-1:1\n",
    "        x[i] = A[i,n+1]/A[i,i]\n",
    "        \n",
    "        for k = i-1:-1:1\n",
    "            A[k,n+1] -= A[k,i] * x[i]\n",
    "        end\n",
    "        #A[i-1:-1:1,n+1] -= A[i-1:-1:1,i] .* x[i]\n",
    "    end\n",
    "    return x\n",
    "    \n",
    "end"
   ]
  }
 ],
 "metadata": {
  "kernelspec": {
   "display_name": "Julia 1.2.0",
   "language": "julia",
   "name": "julia-1.2"
  },
  "language_info": {
   "file_extension": ".jl",
   "mimetype": "application/julia",
   "name": "julia",
   "version": "1.2.0"
  }
 },
 "nbformat": 4,
 "nbformat_minor": 2
}
