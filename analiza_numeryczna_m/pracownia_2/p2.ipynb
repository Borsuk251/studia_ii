{
 "cells": [
  {
   "cell_type": "markdown",
   "metadata": {},
   "source": [
    "Oskar Bujacz, obliczenia w Jupyterze w Julia 1.2.0, pracownia 2 z ANM, temat kwadratur"
   ]
  },
  {
   "cell_type": "markdown",
   "metadata": {},
   "source": [
    "pracownia P2<br>\n",
    "P2.14. 10 punktów Obliczyć przybliżoną wartość całki a f (x) dx przy założeniu, że znane są tylko wartości\n",
    "f w zadanych z góry punktach a = t 0 < t 1 < · · · < t n = b. Wykonać obliczenia kontrolne, m. in., dla\n",
    "następujących funkcji podcałkowych:"
   ]
  },
  {
   "cell_type": "code",
   "execution_count": 1,
   "metadata": {},
   "outputs": [
    {
     "name": "stderr",
     "output_type": "stream",
     "text": [
      "┌ Info: Recompiling stale cache file /home/oskar/.julia/compiled/v1.2/Plotly/M5iCk.ji for Plotly [58dd65bb-95f3-509e-9936-c39a10fdeae7]\n",
      "└ @ Base loading.jl:1240\n",
      "WARNING: Method definition savehtml(IO, PlotlyBase.Plot{TT} where TT<:PlotlyBase.AbstractTrace) in module PlotlyBase at /home/oskar/.julia/packages/PlotlyBase/80KwD/src/output.jl:40 overwritten in module PlotlyJS at /home/oskar/.julia/packages/PlotlyJS/b9Efu/src/display.jl:334.\n",
      "  ** incremental compilation may be fatally broken for this module **\n",
      "\n",
      "WARNING: Method definition savehtml(PlotlyBase.Plot{TT} where TT<:PlotlyBase.AbstractTrace, AbstractString) in module PlotlyBase at /home/oskar/.julia/packages/PlotlyBase/80KwD/src/output.jl:52 overwritten in module PlotlyJS at /home/oskar/.julia/packages/PlotlyJS/b9Efu/src/display.jl:361.\n",
      "  ** incremental compilation may be fatally broken for this module **\n",
      "\n",
      "WARNING: Method definition savehtml(IO, PlotlyBase.Plot{TT} where TT<:PlotlyBase.AbstractTrace) in module PlotlyBase at /home/oskar/.julia/packages/PlotlyBase/80KwD/src/output.jl:40 overwritten in module PlotlyJS at /home/oskar/.julia/packages/PlotlyJS/b9Efu/src/display.jl:334.\n",
      "  ** incremental compilation may be fatally broken for this module **\n",
      "\n",
      "WARNING: Method definition savehtml(PlotlyBase.Plot{TT} where TT<:PlotlyBase.AbstractTrace, AbstractString) in module PlotlyBase at /home/oskar/.julia/packages/PlotlyBase/80KwD/src/output.jl:52 overwritten in module PlotlyJS at /home/oskar/.julia/packages/PlotlyJS/b9Efu/src/display.jl:361.\n",
      "  ** incremental compilation may be fatally broken for this module **\n",
      "\n"
     ]
    },
    {
     "data": {
      "text/html": [
       "<script>\n",
       "// Immediately-invoked-function-expression to avoid global variables.\n",
       "(function() {\n",
       "    var warning_div = document.getElementById(\"webio-warning-14781004051850080325\");\n",
       "    var hide = function () {\n",
       "        var script = document.getElementById(\"webio-setup-12753900043876738176\");\n",
       "        var parent = script && script.parentElement;\n",
       "        var grandparent = parent && parent.parentElement;\n",
       "        if (grandparent) {\n",
       "            grandparent.style.display = \"none\";\n",
       "        }\n",
       "        warning_div.style.display = \"none\";\n",
       "    };\n",
       "    if (typeof Jupyter !== \"undefined\") {\n",
       "        console.log(\"WebIO detected Jupyter notebook environment.\");\n",
       "        // Jupyter notebook.\n",
       "        var extensions = (\n",
       "            Jupyter\n",
       "            && Jupyter.notebook.config.data\n",
       "            && Jupyter.notebook.config.data.load_extensions\n",
       "        );\n",
       "        if (extensions && extensions[\"webio-jupyter-notebook\"]) {\n",
       "            // Extension already loaded.\n",
       "            console.log(\"Jupyter WebIO nbextension detected; not loading ad-hoc.\");\n",
       "            hide();\n",
       "            return;\n",
       "        }\n",
       "    } else if (window.location.pathname.includes(\"/lab\")) {\n",
       "        // Guessing JupyterLa\n",
       "        console.log(\"Jupyter Lab detected; make sure the @webio/jupyter-lab-provider labextension is installed.\");\n",
       "        hide();\n",
       "        return;\n",
       "    }\n",
       "})();\n",
       "\n",
       "</script>\n",
       "<p\n",
       "    id=\"webio-warning-14781004051850080325\"\n",
       "    class=\"output_text output_stderr\"\n",
       "    style=\"padding: 1em; font-weight: bold;\"\n",
       ">\n",
       "    Unable to load WebIO. Please make sure WebIO works for your Jupyter client.\n",
       "    For troubleshooting, please see <a href=\"https://juliagizmos.github.io/WebIO.jl/latest/providers/ijulia/\">\n",
       "    the WebIO/IJulia documentation</a>.\n",
       "    <!-- TODO: link to installation docs. -->\n",
       "</p>\n"
      ],
      "text/plain": [
       "HTML{String}(\"<script>\\n// Immediately-invoked-function-expression to avoid global variables.\\n(function() {\\n    var warning_div = document.getElementById(\\\"webio-warning-14781004051850080325\\\");\\n    var hide = function () {\\n        var script = document.getElementById(\\\"webio-setup-12753900043876738176\\\");\\n        var parent = script && script.parentElement;\\n        var grandparent = parent && parent.parentElement;\\n        if (grandparent) {\\n            grandparent.style.display = \\\"none\\\";\\n        }\\n        warning_div.style.display = \\\"none\\\";\\n    };\\n    if (typeof Jupyter !== \\\"undefined\\\") {\\n        console.log(\\\"WebIO detected Jupyter notebook environment.\\\");\\n        // Jupyter notebook.\\n        var extensions = (\\n            Jupyter\\n            && Jupyter.notebook.config.data\\n            && Jupyter.notebook.config.data.load_extensions\\n        );\\n        if (extensions && extensions[\\\"webio-jupyter-notebook\\\"]) {\\n            // Extension already loaded.\\n            console.log(\\\"Jupyter WebIO nbextension detected; not loading ad-hoc.\\\");\\n            hide();\\n            return;\\n        }\\n    } else if (window.location.pathname.includes(\\\"/lab\\\")) {\\n        // Guessing JupyterLa\\n        console.log(\\\"Jupyter Lab detected; make sure the @webio/jupyter-lab-provider labextension is installed.\\\");\\n        hide();\\n        return;\\n    }\\n})();\\n\\n</script>\\n<p\\n    id=\\\"webio-warning-14781004051850080325\\\"\\n    class=\\\"output_text output_stderr\\\"\\n    style=\\\"padding: 1em; font-weight: bold;\\\"\\n>\\n    Unable to load WebIO. Please make sure WebIO works for your Jupyter client.\\n    For troubleshooting, please see <a href=\\\"https://juliagizmos.github.io/WebIO.jl/latest/providers/ijulia/\\\">\\n    the WebIO/IJulia documentation</a>.\\n    <!-- TODO: link to installation docs. -->\\n</p>\\n\")"
      ]
     },
     "metadata": {},
     "output_type": "display_data"
    }
   ],
   "source": [
    "using Plotly"
   ]
  },
  {
   "cell_type": "code",
   "execution_count": 1,
   "metadata": {},
   "outputs": [],
   "source": [
    "using LinearAlgebra\n",
    "using QuadGK\n",
    "import Distributions: Uniform \n",
    "using Statistics\n",
    "using FFTW\n"
   ]
  },
  {
   "cell_type": "code",
   "execution_count": 442,
   "metadata": {},
   "outputs": [
    {
     "data": {
      "text/plain": [
       "int_rect (generic function with 2 methods)"
      ]
     },
     "execution_count": 442,
     "metadata": {},
     "output_type": "execute_result"
    }
   ],
   "source": [
    "#całkowanie przez próbkowanie prostokatami\n",
    "#mozna zmodyfikowac do dzialania nie tylko na wezlach rownoodleglych\n",
    "function int_rect(x,y)\n",
    "    #sum = 0\n",
    "    #for i =1:1000#int(length(y))\n",
    "     #   sum += y[i]*len\n",
    "    #end\n",
    "    h = x[2]-x[1]\n",
    "    return sum(y)*h #zakladamy wezly rownoodlegle\n",
    "end"
   ]
  },
  {
   "cell_type": "code",
   "execution_count": 400,
   "metadata": {},
   "outputs": [
    {
     "data": {
      "text/plain": [
       "int_trap (generic function with 1 method)"
      ]
     },
     "execution_count": 400,
     "metadata": {},
     "output_type": "execute_result"
    }
   ],
   "source": [
    "#metoda trapezów\n",
    "function int_trap(x,y)\n",
    "    len = size(x)[1]\n",
    "    a = x[1]; b=x[len]#krance przedzialu\n",
    "    h = x[2] - x[1]\n",
    "    sum1 = 0.0\n",
    "    sum1 = sum(y)\n",
    "    sum1-= a/2 +b/2\n",
    "    return sum1*h\n",
    "end"
   ]
  },
  {
   "cell_type": "code",
   "execution_count": 55,
   "metadata": {},
   "outputs": [
    {
     "data": {
      "text/plain": [
       "int_simpson (generic function with 1 method)"
      ]
     },
     "execution_count": 55,
     "metadata": {},
     "output_type": "execute_result"
    }
   ],
   "source": [
    "#metoda simpsona\n",
    "function int_simpson(x,y)#dwie tablice, arg i wartosci\n",
    "    len = size(x)[1]\n",
    "    sum = 0.0\n",
    "    for i = 2:trunc(Int,len/2)\n",
    "       sum += 1/3*y[2*i-2] + 4/3*y[2*i-1] + 1/3*y[2*i] \n",
    "    end\n",
    "    sum+=(y[1]+y[2])*(x[2]-x[1])/2#pierwszy przedzial\n",
    "    return  sum*(x[2]-x[1])#h, zakladamy rownoodleglosc\n",
    "end"
   ]
  },
  {
   "cell_type": "code",
   "execution_count": 83,
   "metadata": {},
   "outputs": [
    {
     "data": {
      "text/plain": [
       "int_newtonc3 (generic function with 1 method)"
      ]
     },
     "execution_count": 83,
     "metadata": {},
     "output_type": "execute_result"
    }
   ],
   "source": [
    "#metoda 3/8\n",
    "function int_newtonc3(x,y)\n",
    "    len = size(x)[1]\n",
    "    sum = 0.0\n",
    "    for i = 1:trunc(Int,len/3-1)\n",
    "        sum+= y[3*i-2] + 3*y[3*i-1] + 3*y[3*i] + y[3*i+1]\n",
    "    end\n",
    "    sum += y[1]+3*y[2]+3*y[3]+y[4]\n",
    "    return sum*3/8*(x[2]-x[1])\n",
    "end"
   ]
  },
  {
   "cell_type": "code",
   "execution_count": 84,
   "metadata": {},
   "outputs": [
    {
     "data": {
      "text/plain": [
       "int_simpson2 (generic function with 1 method)"
      ]
     },
     "execution_count": 84,
     "metadata": {},
     "output_type": "execute_result"
    }
   ],
   "source": [
    "#simpson dla dowolnych wezlow\n",
    "function int_simpson2(x,y)\n",
    "    len = size(x)[1]\n",
    "    h = x[2] - x[1]\n",
    "    sum1, sum2 = 0.0, 0.0\n",
    "    for i = 1:trunc(Int, len/2)\n",
    "        sum1 += y[2*i-1]\n",
    "        sum2 += y[2*i]\n",
    "    end\n",
    "    sum1 -= y[1]/2\n",
    "    sum1 -= y[trunc(Int, len/2)]\n",
    "    return h/3* (2*sum1 + 4*sum2)\n",
    "end"
   ]
  },
  {
   "cell_type": "code",
   "execution_count": 404,
   "metadata": {},
   "outputs": [
    {
     "data": {
      "text/plain": [
       "GaussLegendre (generic function with 1 method)"
      ]
     },
     "execution_count": 404,
     "metadata": {},
     "output_type": "execute_result"
    }
   ],
   "source": [
    "function GaussLegendre(f,n)# w=1\n",
    "    b = 1 ./ sqrt.(4.0.-(1:n).^(-2.0))\n",
    "    #print(b)\n",
    "    T = SymTridiagonal(zeros(n+1),b)\n",
    "    x, V = eigvals(T), eigvecs(T)#wartosci wlasne, wektory wlasne\n",
    "    w = 2.0*vec(V[1,:]).^2\n",
    "    return dot(w, f.(x))\n",
    "    #bedzie najlepszy, ale wolniejszy niz clenashw curtis\n",
    "end"
   ]
  },
  {
   "cell_type": "code",
   "execution_count": 330,
   "metadata": {},
   "outputs": [
    {
     "name": "stdout",
     "output_type": "stream",
     "text": [
      " 26.187097 seconds (510.49 k allocations: 791.719 MiB, 0.17% gc time)\n"
     ]
    },
    {
     "data": {
      "text/plain": [
       "1.493648265624855"
      ]
     },
     "execution_count": 330,
     "metadata": {},
     "output_type": "execute_result"
    }
   ],
   "source": [
    "#testy wydajnosci\n",
    "@time(GaussLegendre(x -> exp(-x^2), 10000))"
   ]
  },
  {
   "cell_type": "code",
   "execution_count": 53,
   "metadata": {},
   "outputs": [
    {
     "name": "stdout",
     "output_type": "stream",
     "text": [
      " 71.769361 seconds (141.12 k allocations: 1.689 GiB, 0.30% gc time)\n"
     ]
    },
    {
     "data": {
      "text/plain": [
       "1.4936482656248435"
      ]
     },
     "execution_count": 53,
     "metadata": {},
     "output_type": "execute_result"
    }
   ],
   "source": [
    "@time(GaussLegendre(x -> exp(-x^2), 15000))"
   ]
  },
  {
   "cell_type": "code",
   "execution_count": 657,
   "metadata": {},
   "outputs": [],
   "source": [
    "X2 = collect(-1:0.01:1);\n",
    "Y2 = exp.(-X2.^2);"
   ]
  },
  {
   "cell_type": "code",
   "execution_count": 48,
   "metadata": {},
   "outputs": [
    {
     "data": {
      "text/plain": [
       "GaussC (generic function with 1 method)"
      ]
     },
     "execution_count": 48,
     "metadata": {},
     "output_type": "execute_result"
    }
   ],
   "source": [
    "# w = 1/sqrt(1-x^2) * pi/n\n",
    "function GaussChebyshev(f,n)\n",
    "    x = cos.((collect(1:2:(2*n-1))*pi)/(2n))\n",
    "    return pi/(n)*sum(f.(x))\n",
    "end\n",
    "#w = 1/sqrt(1-x^2) * pi/n, wezly czebyshev ekstrema \n",
    "function Lobatto(f,n)\n",
    "    x = cos.(collect(0:n)*pi/n)\n",
    "    y = f.(x)\n",
    "    y[1] *= 0.5; y[n+1]*=0.5\n",
    "    return pi/n*sum(y)\n",
    "end"
   ]
  },
  {
   "cell_type": "code",
   "execution_count": 659,
   "metadata": {},
   "outputs": [
    {
     "name": "stdout",
     "output_type": "stream",
     "text": [
      "GaussChebyshev((x->begin\n",
      "            #= In[659]:1 =#\n",
      "            exp(-(x ^ 2)) * sqrt(1 - x ^ 2)\n",
      "        end), 1000) = 1.4936485681931313\n",
      "Lobatto((x->begin\n",
      "            #= In[659]:2 =#\n",
      "            exp(-(x ^ 2)) * sqrt(1 - x ^ 2)\n",
      "        end), 1000) = 1.4936476604879265\n"
     ]
    },
    {
     "data": {
      "text/plain": [
       "1.4936476604879265"
      ]
     },
     "execution_count": 659,
     "metadata": {},
     "output_type": "execute_result"
    }
   ],
   "source": [
    "@show(GaussChebyshev(x -> exp(-x^2)*sqrt(1-x^2), 1000))\n",
    "@show(Lobatto(x -> exp(-x^2)*sqrt(1-x^2), 1000))"
   ]
  },
  {
   "cell_type": "code",
   "execution_count": 25,
   "metadata": {},
   "outputs": [
    {
     "data": {
      "text/plain": [
       "(1.493648265624854, 1.5774048733874224e-12)"
      ]
     },
     "execution_count": 25,
     "metadata": {},
     "output_type": "execute_result"
    }
   ],
   "source": [
    "integral, err = quadgk(x -> exp(-x^2), -1, 1, rtol=1e-8)"
   ]
  },
  {
   "cell_type": "code",
   "execution_count": 140,
   "metadata": {},
   "outputs": [
    {
     "data": {
      "text/plain": [
       "ClenshawC (generic function with 1 method)"
      ]
     },
     "execution_count": 140,
     "metadata": {},
     "output_type": "execute_result"
    }
   ],
   "source": [
    "#clenshaw curtis implemntacja \n",
    "function ClenshawC(f,n)\n",
    "    x = cos.(collect(0:n)*pi/n)#pkt ekstremalne czebyszewa\n",
    "    y = f.(x)\n",
    "    #jawny wzor na Ak\n",
    "    A = zeros(n+1)\n",
    "    for k=1:n+1\n",
    "        temp = 0.0\n",
    "        for j=1:Int(n/2)-1#  bo sumbis \n",
    "            temp+=cos((k-1)*2*j*pi/n)/(1-4j*j)\n",
    "        end\n",
    "        temp+= (0.5*cos(0) + cos((k-1)*2*Int(n/2)*pi/n)*0.5/(1-4*Int(n/2)*Int(n/2)))\n",
    "        A[k] = temp*4/n\n",
    "    end\n",
    "    s = sum(dot(A[2:n], y[2:n]))\n",
    "    s += A[1]*y[1]*0.5 + A[n+1]*y[n+1]*0.5#pierwszy i ostatni\n",
    "    return s\n",
    "\n",
    "end"
   ]
  },
  {
   "cell_type": "code",
   "execution_count": 141,
   "metadata": {},
   "outputs": [
    {
     "name": "stdout",
     "output_type": "stream",
     "text": [
      "ClenshawC((x->begin\n",
      "            #= In[141]:1 =#\n",
      "            exp(-(x ^ 2))\n",
      "        end), 5000) = 1.493648265624854\n",
      "  0.421989 seconds (463.41 k allocations: 24.280 MiB, 2.30% gc time)\n"
     ]
    },
    {
     "data": {
      "text/plain": [
       "1.493648265624854"
      ]
     },
     "execution_count": 141,
     "metadata": {},
     "output_type": "execute_result"
    }
   ],
   "source": [
    "@time(@show(ClenshawC(x -> exp(-x^2), 5000)))"
   ]
  },
  {
   "cell_type": "code",
   "execution_count": 155,
   "metadata": {},
   "outputs": [
    {
     "data": {
      "text/plain": [
       "ClenshawCFast (generic function with 1 method)"
      ]
     },
     "execution_count": 155,
     "metadata": {},
     "output_type": "execute_result"
    }
   ],
   "source": [
    "#clenshaw curtis FFT \n",
    "function ClenshawCFast(f,n)\n",
    "    x = cos.(collect(0:n)*pi/n)#pkt ekstremalne czebyszewa tu oki\n",
    "    y = f.(x) ./ (2*n)\n",
    "    vx = vcat(y,  y[2:n])\n",
    "    A = zeros(n+1)\n",
    "    g = real(myFFT(vx))\n",
    "    A[1], A[n+1] = g[1], g[n+1]\n",
    "    A[2:n] = g[2:n] + g[2*n:-1:n+2]\n",
    "    w = 0*A';\n",
    "    for i =1:2:n\n",
    "         w[i] = 2/(1-(i-1)^2)\n",
    "    end\n",
    "    I = w*A; \n",
    "    return I\n",
    "\n",
    "end"
   ]
  },
  {
   "cell_type": "code",
   "execution_count": null,
   "metadata": {},
   "outputs": [],
   "source": []
  },
  {
   "cell_type": "code",
   "execution_count": 156,
   "metadata": {},
   "outputs": [
    {
     "name": "stdout",
     "output_type": "stream",
     "text": [
      "  0.241824 seconds (921.40 k allocations: 133.925 MiB, 15.87% gc time)\n",
      "-5.195784839613482864411319170164523322062724150739997350695675775770069925031906e-18"
     ]
    }
   ],
   "source": [
    "@time(aaa = ClenshawCFast(x -> exp(-x^2), 32768))\n",
    "bbb = quadgk(x -> exp(-x^2), BigFloat(-1), 1-eps(Float64), rtol=1e-16)[1]\n",
    "print((bbb-aaa)/bbb)"
   ]
  },
  {
   "cell_type": "code",
   "execution_count": 150,
   "metadata": {},
   "outputs": [
    {
     "name": "stdout",
     "output_type": "stream",
     "text": [
      "  9.741661 seconds (141.06 k allocations: 9.282 MiB, 0.07% gc time)\n",
      "-5.195784839613482864411319170164523322062724150739997350695675775770069925031906e-18"
     ]
    }
   ],
   "source": [
    "@time(aaa = ClenshawC(x -> exp(-x^2), 32768))\n",
    "bbb = quadgk(x -> exp(-x^2), BigFloat(-1), 1-eps(Float64), rtol=1e-16)[1]\n",
    "print((bbb-aaa)/bbb)"
   ]
  },
  {
   "cell_type": "code",
   "execution_count": 160,
   "metadata": {},
   "outputs": [
    {
     "name": "stdout",
     "output_type": "stream",
     "text": [
      "  0.046311 seconds (141.04 k allocations: 7.287 MiB)\n",
      "  0.000741 seconds (27 allocations: 17.781 KiB)\n",
      "  0.002991 seconds (28 allocations: 33.797 KiB)\n",
      "  0.010233 seconds (28 allocations: 65.797 KiB)\n",
      "  0.037903 seconds (34 allocations: 129.516 KiB)\n",
      "  0.162543 seconds (36 allocations: 257.422 KiB)\n",
      "  0.569408 seconds (36 allocations: 513.422 KiB)\n",
      "  2.457818 seconds (36 allocations: 1.001 MiB, 0.19% gc time)\n",
      " 10.145807 seconds (36 allocations: 2.001 MiB)\n",
      " 41.925297 seconds (36 allocations: 4.001 MiB)\n",
      "326.514293 seconds (36 allocations: 8.001 MiB)\n"
     ]
    }
   ],
   "source": [
    "time = zeros(10); w = 128\n",
    "for i=1:11\n",
    "    @time(ClenshawC(x -> exp(-x^2), w))\n",
    "    w*=2\n",
    "end"
   ]
  },
  {
   "cell_type": "code",
   "execution_count": 161,
   "metadata": {},
   "outputs": [
    {
     "name": "stdout",
     "output_type": "stream",
     "text": [
      "  0.152239 seconds (198.24 k allocations: 10.435 MiB, 5.22% gc time)\n",
      "  0.000497 seconds (4.64 k allocations: 681.797 KiB)\n",
      "  0.001016 seconds (9.25 k allocations: 1.400 MiB)\n",
      "  0.001706 seconds (18.47 k allocations: 2.940 MiB)\n",
      "  0.003316 seconds (36.91 k allocations: 6.159 MiB)\n",
      "  0.013275 seconds (73.80 k allocations: 12.878 MiB, 46.35% gc time)\n",
      "  0.022323 seconds (147.56 k allocations: 26.879 MiB, 24.97% gc time)\n",
      "  0.047356 seconds (295.09 k allocations: 56.007 MiB, 33.13% gc time)\n",
      "  0.162157 seconds (590.15 k allocations: 116.512 MiB, 18.15% gc time)\n",
      "  0.261693 seconds (1.18 M allocations: 242.022 MiB, 22.39% gc time)\n",
      "  0.566005 seconds (2.36 M allocations: 502.043 MiB, 36.55% gc time)\n"
     ]
    }
   ],
   "source": [
    "w=128\n",
    "for i=1:11\n",
    "    @time(ClenshawCFast(x -> exp(-x^2), w))\n",
    "    w*=2\n",
    "end"
   ]
  },
  {
   "cell_type": "code",
   "execution_count": 170,
   "metadata": {},
   "outputs": [
    {
     "name": "stdout",
     "output_type": "stream",
     "text": [
      "  0.163924 seconds (146.97 k allocations: 7.523 MiB)\n",
      "  0.001298 seconds (27 allocations: 17.781 KiB)\n",
      "  0.004998 seconds (28 allocations: 33.797 KiB)\n",
      "  0.019509 seconds (28 allocations: 65.797 KiB)\n",
      "  0.077873 seconds (34 allocations: 129.516 KiB)\n",
      "  0.315701 seconds (36 allocations: 257.422 KiB)\n",
      "  1.199181 seconds (36 allocations: 513.422 KiB)\n",
      "  4.910388 seconds (36 allocations: 1.001 MiB)\n",
      " 20.311407 seconds (36 allocations: 2.001 MiB)\n",
      " 84.607258 seconds (36 allocations: 4.001 MiB)\n",
      "345.382358 seconds (36 allocations: 8.001 MiB, 0.00% gc time)\n"
     ]
    }
   ],
   "source": [
    "w = 128\n",
    "for i=1:11\n",
    "    @time(ClenshawC(x -> g3(x), w))\n",
    "    w*=2\n",
    "end"
   ]
  },
  {
   "cell_type": "code",
   "execution_count": 165,
   "metadata": {},
   "outputs": [
    {
     "name": "stdout",
     "output_type": "stream",
     "text": [
      "  0.212718 seconds (332.54 k allocations: 17.162 MiB, 4.62% gc time)\n",
      "  0.000461 seconds (4.64 k allocations: 681.797 KiB)\n",
      "  0.000841 seconds (9.25 k allocations: 1.400 MiB)\n",
      "  0.003473 seconds (18.47 k allocations: 2.940 MiB)\n",
      "  0.005200 seconds (36.91 k allocations: 6.159 MiB)\n",
      "  0.017666 seconds (73.80 k allocations: 12.878 MiB, 52.11% gc time)\n",
      "  0.020526 seconds (147.56 k allocations: 26.879 MiB, 29.74% gc time)\n",
      "  0.043239 seconds (295.09 k allocations: 56.007 MiB, 31.31% gc time)\n",
      "  0.167805 seconds (590.15 k allocations: 116.512 MiB, 17.72% gc time)\n",
      "  0.305183 seconds (1.18 M allocations: 242.022 MiB, 25.18% gc time)\n",
      "  0.671152 seconds (2.36 M allocations: 502.043 MiB, 40.94% gc time)\n"
     ]
    }
   ],
   "source": [
    "w=128\n",
    "for i=1:11\n",
    "    @time(ClenshawCFast(x -> g3(x), w))\n",
    "    w*=2\n",
    "end"
   ]
  },
  {
   "cell_type": "code",
   "execution_count": 167,
   "metadata": {},
   "outputs": [
    {
     "data": {
      "text/plain": [
       "fc (generic function with 1 method)"
      ]
     },
     "execution_count": 167,
     "metadata": {},
     "output_type": "execute_result"
    }
   ],
   "source": [
    "fc(x) = 2.3535*cos(-5.76523*pi^x*(x+2.5231)\\(0.82371*x+-0.1311))"
   ]
  },
  {
   "cell_type": "code",
   "execution_count": 168,
   "metadata": {},
   "outputs": [
    {
     "name": "stdout",
     "output_type": "stream",
     "text": [
      "  0.128043 seconds (165.37 k allocations: 8.410 MiB)\n",
      "  0.001246 seconds (27 allocations: 17.781 KiB)\n",
      "  0.004679 seconds (28 allocations: 33.797 KiB)\n",
      "  0.018808 seconds (28 allocations: 65.797 KiB)\n",
      "  0.075688 seconds (34 allocations: 129.516 KiB)\n",
      "  0.288640 seconds (36 allocations: 257.422 KiB)\n",
      "  1.180448 seconds (36 allocations: 513.422 KiB)\n",
      "  4.896094 seconds (36 allocations: 1.001 MiB)\n",
      " 19.951047 seconds (36 allocations: 2.001 MiB, 0.06% gc time)\n",
      " 83.672176 seconds (36 allocations: 4.001 MiB)\n",
      "344.547595 seconds (36 allocations: 8.001 MiB)\n"
     ]
    }
   ],
   "source": [
    "w = 128\n",
    "for i=1:11\n",
    "    @time(ClenshawC(x -> fc(x), w))\n",
    "    w*=2\n",
    "end"
   ]
  },
  {
   "cell_type": "code",
   "execution_count": 169,
   "metadata": {},
   "outputs": [
    {
     "name": "stdout",
     "output_type": "stream",
     "text": [
      "  0.174646 seconds (218.81 k allocations: 11.229 MiB, 3.53% gc time)\n",
      "  0.000608 seconds (4.64 k allocations: 681.797 KiB)\n",
      "  0.000922 seconds (9.25 k allocations: 1.400 MiB)\n",
      "  0.003148 seconds (18.47 k allocations: 2.940 MiB)\n",
      "  0.005372 seconds (36.91 k allocations: 6.159 MiB)\n",
      "  0.014195 seconds (73.80 k allocations: 12.878 MiB, 47.21% gc time)\n",
      "  0.026525 seconds (147.56 k allocations: 26.879 MiB, 29.47% gc time)\n",
      "  0.057261 seconds (295.09 k allocations: 56.007 MiB, 34.52% gc time)\n",
      "  0.174046 seconds (590.15 k allocations: 116.512 MiB, 18.24% gc time)\n",
      "  0.441867 seconds (1.18 M allocations: 242.022 MiB, 46.13% gc time)\n",
      "  0.758619 seconds (2.36 M allocations: 502.043 MiB, 33.87% gc time)\n"
     ]
    }
   ],
   "source": [
    "w=128\n",
    "for i=1:11\n",
    "    @time(ClenshawCFast(x -> fc(x), w))\n",
    "    w*=2\n",
    "end"
   ]
  },
  {
   "cell_type": "code",
   "execution_count": 131,
   "metadata": {},
   "outputs": [
    {
     "data": {
      "text/plain": [
       "myFFT (generic function with 1 method)"
      ]
     },
     "execution_count": 131,
     "metadata": {},
     "output_type": "execute_result"
    }
   ],
   "source": [
    "#dyskretna transformacja cosinusowa do O(nlogn)\n",
    "#daje wszystkie Beta\n",
    "function myFFT(x)\n",
    "    N = size(x)[1]\n",
    "    if (N==1) return x end\n",
    "    #y = 0.0\n",
    "    M = Int(floor(N/2))\n",
    "    xL = x[1:M]\n",
    "    xR = x[M+1:N]\n",
    "    ye = myFFT(xL+xR)\n",
    "    yo = myFFT((xL-xR).*[exp(Complex(0,2*pi*j/N)) for j=0:M-1])\n",
    "    y = Complex(0,0) * zeros(N)\n",
    "    y[1:2:N-1] = ye\n",
    "    y[2:2:N] = yo\n",
    "    return y\n",
    "end"
   ]
  },
  {
   "cell_type": "code",
   "execution_count": 1,
   "metadata": {},
   "outputs": [
    {
     "data": {
      "text/plain": [
       "romberg (generic function with 1 method)"
      ]
     },
     "execution_count": 1,
     "metadata": {},
     "output_type": "execute_result"
    }
   ],
   "source": [
    "#metoda romberga\n",
    "function romberg(f,a,b,n)\n",
    "    h = (b - a) ./ (2 .^ (0:n-1));\n",
    "    r = zeros(n,n)\n",
    "    r[1,1] = (b - a) * (f(a) + f(b)) / 2;#pierwszy trapez\n",
    "    for j = 2:n\n",
    "        s = 0;\n",
    "        for i = 1:2^(j-2)#wykladniczo zwiekszamy ilosc wezlow\n",
    "            s += f(a + (2 * i - 1) * h[j]);\n",
    "        end\n",
    "        r[j,1] = r[j-1,1] / 2 + h[j] * s;\n",
    "        for k = 2:j#wzor reku na pozostale w wierszu\n",
    "            r[j,k] = (4^(k-1) * r[j,k-1] - r[j-1,k-1]) / (4^(k-1) - 1);\n",
    "        end\n",
    "    end\n",
    "    return r\n",
    "end"
   ]
  },
  {
   "cell_type": "code",
   "execution_count": 2,
   "metadata": {},
   "outputs": [
    {
     "name": "stdout",
     "output_type": "stream",
     "text": [
      "  0.238828 seconds (605.65 k allocations: 30.833 MiB, 5.10% gc time)\n"
     ]
    },
    {
     "data": {
      "text/plain": [
       "6×6 Array{Float64,2}:\n",
       " 0.735759  0.0      0.0      0.0      0.0      0.0    \n",
       " 1.36788   1.57859  0.0      0.0      0.0      0.0    \n",
       " 1.46274   1.49436  1.48875  0.0      0.0      0.0    \n",
       " 1.48597   1.49371  1.49367  1.49375  0.0      0.0    \n",
       " 1.49173   1.49365  1.49365  1.49365  1.49365  0.0    \n",
       " 1.49317   1.49365  1.49365  1.49365  1.49365  1.49365"
      ]
     },
     "execution_count": 2,
     "metadata": {},
     "output_type": "execute_result"
    }
   ],
   "source": [
    "@time(romberg(x -> exp(-x^2), -1,1,6))"
   ]
  },
  {
   "cell_type": "code",
   "execution_count": 661,
   "metadata": {},
   "outputs": [
    {
     "name": "stdout",
     "output_type": "stream",
     "text": [
      "  0.194360 seconds (288.30 k allocations: 14.368 MiB, 12.48% gc time)\n"
     ]
    },
    {
     "data": {
      "text/plain": [
       "6×6 Array{Float64,2}:\n",
       " 0.735759  0.0      0.0      0.0      0.0      0.0    \n",
       " 1.36788   1.57859  0.0      0.0      0.0      0.0    \n",
       " 1.46274   1.49436  1.48875  0.0      0.0      0.0    \n",
       " 1.48597   1.49371  1.49367  1.49375  0.0      0.0    \n",
       " 1.49173   1.49365  1.49365  1.49365  1.49365  0.0    \n",
       " 1.49317   1.49365  1.49365  1.49365  1.49365  1.49365"
      ]
     },
     "execution_count": 661,
     "metadata": {},
     "output_type": "execute_result"
    }
   ],
   "source": [
    "@time(romberg(x -> exp(-x^2), -1,1,6))"
   ]
  },
  {
   "cell_type": "code",
   "execution_count": 655,
   "metadata": {},
   "outputs": [
    {
     "data": {
      "text/plain": [
       "ad_simpsons (generic function with 1 method)"
      ]
     },
     "execution_count": 655,
     "metadata": {},
     "output_type": "execute_result"
    }
   ],
   "source": [
    "#zwykly simpsons, zwraca tez midpoint i wartosc\n",
    "function simpsons_1(f, a, fa, b, fb)\n",
    "    m = (a + b) / 2\n",
    "    fm = f(m)\n",
    "    return (m, fm, abs(b - a) / 6 * (fa + 4 * fm + fb))\n",
    "end\n",
    "function simpsons_reku(f, a, fa, b, fb, eps, whole, m, fm)\n",
    "    lm, flm, left  = simpsons_1(f, a, fa, m, fm)#wartosci na podprzedzialach\n",
    "    rm, frm, right = simpsons_1(f, m, fm, b, fb)\n",
    "    delta = left + right - whole\n",
    "    if abs(delta) <= 15 * eps#dopuszczalny blad simpsona\n",
    "        return left + right + delta / 15\n",
    "    end\n",
    "    return simpsons_reku(f, a, fa, m, fm, eps/2, left , lm, flm) +\n",
    "           simpsons_reku(f, m, fm, b, fb, eps/2, right, rm, frm)\n",
    "end\n",
    "function ad_simpsons(f, a, b, eps)\n",
    "    fa, fb = f(a), f(b)\n",
    "    m, fm, whole = simpsons_1(f, a, fa, b, fb)\n",
    "    return simpsons_reku(f, a, fa, b, fb, eps, whole, m, fm)\n",
    "end\n"
   ]
  },
  {
   "cell_type": "code",
   "execution_count": 660,
   "metadata": {},
   "outputs": [
    {
     "name": "stdout",
     "output_type": "stream",
     "text": [
      "  0.107531 seconds (110.29 k allocations: 5.600 MiB)\n"
     ]
    },
    {
     "data": {
      "text/plain": [
       "1.4936482656249894"
      ]
     },
     "execution_count": 660,
     "metadata": {},
     "output_type": "execute_result"
    }
   ],
   "source": [
    "@time(ad_simpsons(x -> exp(-x^2), -1, 1, 1e-09))"
   ]
  },
  {
   "cell_type": "code",
   "execution_count": 440,
   "metadata": {},
   "outputs": [],
   "source": [
    "\n",
    "#funckje to testow\n",
    "#wielomiany\n",
    "#trygo\n",
    "#wykladnicze\n",
    "#log jakis przesuniety\n",
    "#np sin(1/x) jako jakis oscylacyjny kolo zera?\n",
    "# z e^x jakis z pi\n",
    "#ile testow? setki najlepiej np wielomiany 10 stopnia z randomowymi \n",
    "#wspolczynnikami [-100,100]\n",
    "#ile wezlow dawac np podwajamy ilosc wezlow\n",
    "#\n",
    "\n",
    "\n",
    "f1(x) = x^2\n",
    "#@show(GaussChebyshev(x -> f1(x)*sqrt(1-x^2), 20))\n",
    "x1 = collect(-1:0.0001:1)\n",
    "y1 = f1.(x1);"
   ]
  },
  {
   "cell_type": "code",
   "execution_count": 444,
   "metadata": {},
   "outputs": [
    {
     "name": "stdout",
     "output_type": "stream",
     "text": [
      "int_rect(x1, y1) = 0.6667666699999265\n",
      "int_trap(x1, y1) = 0.6667666699999265\n",
      "int_simpson(x1, y1) = 0.666466686665924\n",
      "int_newtonc3(x1, y1) = 0.6667666166729256\n"
     ]
    },
    {
     "data": {
      "text/plain": [
       "0.6667666166729256"
      ]
     },
     "execution_count": 444,
     "metadata": {},
     "output_type": "execute_result"
    }
   ],
   "source": [
    "@show(int_rect(x1,y1))\n",
    "@show(int_trap(x1,y1))\n",
    "@show(int_simpson(x1,y1))\n",
    "@show(int_newtonc3(x1,y1))"
   ]
  },
  {
   "cell_type": "code",
   "execution_count": 663,
   "metadata": {},
   "outputs": [
    {
     "name": "stdout",
     "output_type": "stream",
     "text": [
      "GaussChebyshev((x->begin\n",
      "            #= In[663]:1 =#\n",
      "            exp(-(x ^ 2)) * sqrt(1 - x ^ 2)\n",
      "        end), 20) = 1.494401966092653\n",
      "Lobatto((x->begin\n",
      "            #= In[663]:2 =#\n",
      "            exp(-(x ^ 2)) * sqrt(1 - x ^ 2)\n",
      "        end), 1000) = 1.4936476604879265\n",
      "ClenshawC((x->begin\n",
      "            #= In[663]:3 =#\n",
      "            exp(-(x ^ 2))\n",
      "        end), 1000) = 1.493648265624854\n",
      "GaussLegendre((x->begin\n",
      "            #= In[663]:4 =#\n",
      "            exp(-(x ^ 2))\n",
      "        end), 1000) = 1.4936482656248522\n",
      "(romberg((x->begin\n",
      "            #= In[663]:5 =#\n",
      "            exp(-(x ^ 2))\n",
      "        end), -1, 1, 6))[6, 6] = 1.493648266788029\n",
      "ad_simpsons((x->begin\n",
      "            #= In[663]:6 =#\n",
      "            exp(-(x ^ 2))\n",
      "        end), -1, 1, 1.0e-9) = 1.4936482656249894\n"
     ]
    },
    {
     "data": {
      "text/plain": [
       "(1.493648265624854, 7.887024366937112e-13)"
      ]
     },
     "execution_count": 663,
     "metadata": {},
     "output_type": "execute_result"
    }
   ],
   "source": [
    "@show(GaussChebyshev(x -> exp(-x^2)*sqrt(1-x^2), 20))\n",
    "@show(Lobatto(x -> exp(-x^2)*sqrt(1-x^2), 1000))\n",
    "@show(ClenshawC(x -> exp(-x^2), 1000))\n",
    "@show(GaussLegendre(x -> exp(-x^2), 1000))\n",
    "@show(romberg(x -> exp(-x^2), -1,1,6)[6,6])\n",
    "@show(ad_simpsons(x -> exp(-x^2), -1, 1, 1e-09))\n",
    "integral, err = quadgk(x -> exp(-x^2), -1, 1, rtol=1e-12)"
   ]
  },
  {
   "cell_type": "code",
   "execution_count": 873,
   "metadata": {},
   "outputs": [
    {
     "data": {
      "text/plain": [
       "test (generic function with 1 method)"
      ]
     },
     "execution_count": 873,
     "metadata": {},
     "output_type": "execute_result"
    }
   ],
   "source": [
    "#funkcja testujaca zwracajaca bledy wzgledne wszystkich zaimplementowanych metod + czas\n",
    "function test(f, n)\n",
    "    diff = 2/n\n",
    "    x1 = collect(-1:diff:1)\n",
    "    y1 = f.(x1)\n",
    "    R = zeros(10)\n",
    "    time = zeros(10)\n",
    "    time[1] = @time(R[1] = int_rect(x1,y1))\n",
    "    time[2] = @time(R[2] = int_trap(x1,y1))\n",
    "    time[3] = @time(R[3] = int_simpson(x1,y1))\n",
    "    time[4] = @time(R[4] = int_newtonc3(x1,y1))\n",
    "    time[5] = @time(R[5] = GaussChebyshev(x -> f(x)*sqrt(1-x^2), n))\n",
    "    time[6] = @time(R[6] = Lobatto(x -> f(x)*sqrt(1-x^2), n))\n",
    "    time[7] = @time(R[7] = ClenshawC(x -> f(x), n))\n",
    "    time[8] = @time(R[8] = GaussLegendre(x -> f(x), n))\n",
    "    time[9] = @time(R[9] = romberg(x -> f(x), -1,1,15)[15,15])\n",
    "    time[10] = @time(R[10] = ad_simpsons(x -> f(x), -1, 1-eps(Float64), 1e-10))\n",
    "    res = quadgk(x -> f(x), BigFloat(-1), 1-eps(Float64), rtol=1e-16)[1]\n",
    "    #return (R .- res) ./ res#, time\n",
    "    print(time)\n",
    "    return time\n",
    "end"
   ]
  },
  {
   "cell_type": "code",
   "execution_count": 883,
   "metadata": {},
   "outputs": [
    {
     "name": "stdout",
     "output_type": "stream",
     "text": [
      "  0.000012 seconds (1 allocation: 16 bytes)\n",
      "  0.000007 seconds (1 allocation: 16 bytes)\n",
      "  0.000013 seconds (1 allocation: 16 bytes)\n",
      "  0.000009 seconds (1 allocation: 16 bytes)\n",
      "  0.044145 seconds (437.66 k allocations: 8.310 MiB)\n",
      "  0.043702 seconds (437.71 k allocations: 8.311 MiB)\n",
      "  0.922103 seconds (417.67 k allocations: 8.232 MiB, 1.06% gc time)\n",
      " 12.699390 seconds (417.71 k allocations: 774.073 MiB, 0.05% gc time)\n",
      "  0.034785 seconds (622.69 k allocations: 9.504 MiB)\n",
      "[-119.25830828475979, -119.25830828475979, -119.23334910445385, -119.13187924878372, -119.24999407762763, -119.24999305162166, -119.24999373562568, -119.24999373562578, -119.24999373562537, 0.0]"
     ]
    },
    {
     "data": {
      "text/plain": [
       "10-element Array{Float64,1}:\n",
       " -119.25830828475979\n",
       " -119.25830828475979\n",
       " -119.23334910445385\n",
       " -119.13187924878372\n",
       " -119.24999407762763\n",
       " -119.24999305162166\n",
       " -119.24999373562568\n",
       " -119.24999373562578\n",
       " -119.24999373562537\n",
       "    0.0             "
      ]
     },
     "execution_count": 883,
     "metadata": {},
     "output_type": "execute_result"
    }
   ],
   "source": [
    "b = rand(Uniform(-100,100),10)\n",
    "fff(x) = (b[1]+x*(b[2]+x*(b[3]+x*(b[4]+x*(b[5]+x*(b[6]+x*(b[7]+x*(b[8]+x*(b[9]+x*b[10])))))))))\n",
    "ggg(x) = b[1]*sin(b[2]*sin(b[5]*cos((x+b[3])/b[4])))\n",
    "t = test(fff, 10000)"
   ]
  },
  {
   "cell_type": "code",
   "execution_count": 575,
   "metadata": {},
   "outputs": [
    {
     "data": {
      "text/plain": [
       "(1.493648265624854050798934872263706010713, 4.154344010739461307558110386644449836898e-21)"
      ]
     },
     "execution_count": 575,
     "metadata": {},
     "output_type": "execute_result"
    }
   ],
   "source": [
    "integral, err = quadgk(x -> exp(-x^2), BigFloat(-1), 1, rtol=1e-20)"
   ]
  },
  {
   "cell_type": "code",
   "execution_count": 671,
   "metadata": {},
   "outputs": [
    {
     "name": "stdout",
     "output_type": "stream",
     "text": [
      "  0.000006 seconds\n",
      "  0.000005 seconds\n",
      "  0.000014 seconds\n",
      "  0.000010 seconds\n",
      "  0.030333 seconds (1.15 k allocations: 458.016 KiB)\n",
      "  0.035412 seconds (1.16 k allocations: 458.422 KiB)\n",
      "  1.799400 seconds (1.13 k allocations: 690.688 KiB)\n",
      " 25.367854 seconds (1.16 k allocations: 766.515 MiB, 0.16% gc time)\n",
      "  0.000014 seconds (2 allocations: 496 bytes)\n",
      "  0.051035 seconds (1.25 k allocations: 41.984 KiB)\n"
     ]
    },
    {
     "data": {
      "text/plain": [
       "10-element Array{BigFloat,1}:\n",
       "  0.0001045881872740564263588016587682147790037\n",
       "  0.0001045881872740564263588016587682147790037\n",
       " -0.0002091276345019984428986835532018811806044\n",
       " -0.0001556658867807991874640127534394407791317\n",
       "  4.300766229467011697111882867498080414117e-09\n",
       " -8.601532516638350533393829848223591107073e-09\n",
       " -1.589682425829328529649639252496390143914e-16\n",
       "  2.60232158026695641816700420220470467456e-16 \n",
       " -1.2647214712888008076571524904057171923e-05  \n",
       " -1.179760208042165689375844298498962416937e-06"
      ]
     },
     "execution_count": 671,
     "metadata": {},
     "output_type": "execute_result"
    }
   ],
   "source": [
    "#r1, t1 = test(x -> exp(-x^2),10)\n",
    "r2  = test(x -> exp(cos(sin(4*x+30))),10000)"
   ]
  },
  {
   "cell_type": "code",
   "execution_count": 672,
   "metadata": {},
   "outputs": [
    {
     "data": {
      "text/plain": [
       "10-element Array{BigFloat,1}:\n",
       "  0.0001045881872740564263588016587682147790037\n",
       "  0.0001045881872740564263588016587682147790037\n",
       " -0.0002091276345019984428986835532018811806044\n",
       " -0.0001556658867807991874640127534394407791317\n",
       "  4.300766229467011697111882867498080414117e-09\n",
       " -8.601532516638350533393829848223591107073e-09\n",
       " -1.589682425829328529649639252496390143914e-16\n",
       "  2.60232158026695641816700420220470467456e-16 \n",
       " -1.2647214712888008076571524904057171923e-05  \n",
       " -1.179760208042165689375844298498962416937e-06"
      ]
     },
     "execution_count": 672,
     "metadata": {},
     "output_type": "execute_result"
    }
   ],
   "source": [
    "r2"
   ]
  },
  {
   "cell_type": "code",
   "execution_count": 673,
   "metadata": {},
   "outputs": [
    {
     "data": {
      "text/plain": [
       "test_poly (generic function with 3 methods)"
      ]
     },
     "execution_count": 673,
     "metadata": {},
     "output_type": "execute_result"
    }
   ],
   "source": [
    "function test_poly(n)\n",
    "    b = rand(Uniform(-100,100),10)\n",
    "    res = zeros(10)\n",
    "    res_t = zeros(10)\n",
    "    #for i=1:m\n",
    "    b = rand(Uniform(-100,100),10)\n",
    "    f(x) = (b[1]+x*(b[2]+x*(b[3]+x*(b[4]+x*(b[5]+x*(b[6]+x*(b[7]+x*(b[8]+x*(b[9]+x*b[10])))))))))\n",
    "    res = test(f,n)\n",
    "    #end\n",
    "    return res\n",
    "end"
   ]
  },
  {
   "cell_type": "code",
   "execution_count": 775,
   "metadata": {},
   "outputs": [
    {
     "data": {
      "text/plain": [
       "test_poly_mean (generic function with 1 method)"
      ]
     },
     "execution_count": 775,
     "metadata": {},
     "output_type": "execute_result"
    }
   ],
   "source": [
    "function test_poly_mean(n,m)#testuje wielomiany st n z losowami wspolczynnikami m razy i zwrac\n",
    "    #srednia bledy wzgledngo\n",
    "    R = zeros(m,10)\n",
    "    diff = 2/n\n",
    "    S = zeros(10)\n",
    "    x1 = collect(-1:diff:1)\n",
    "    for i=1:m\n",
    "        b = rand(Uniform(-100,100),10)\n",
    "        f(x) = (b[1]+x*(b[2]+x*(b[3]+x*(b[4]+x*(b[5]+x*(b[6]+x*(b[7]+x*(b[8]+x*(b[9]+x*b[10])))))))))\n",
    "        y1 = f.(x1)\n",
    "        R[i,1] = int_rect(x1,y1)\n",
    "        R[i,2] = int_trap(x1,y1)\n",
    "        R[i,3] = int_simpson(x1,y1)\n",
    "        R[i,4] = int_newtonc3(x1,y1)\n",
    "        R[i,5] = GaussChebyshev(x -> f(x)*sqrt(1-x^2), n)\n",
    "        R[i,6] = Lobatto(x -> f(x)*sqrt(1-x^2), n)\n",
    "        R[i,7] = ClenshawC(x -> f(x), n)\n",
    "        R[i,8] = GaussLegendre(x -> f(x), n)\n",
    "        R[i,9] = romberg(x -> f(x), -1,1,6)[6,6]\n",
    "        R[i,10] = ad_simpsons(x -> f(x), -1, 1, 1e-10)\n",
    "        res = quadgk(x -> f(x), BigFloat(-1), 1, rtol=1e-16)[1]\n",
    "        R[i,:] = (R[i,:] .- res) ./ res\n",
    "    end\n",
    "    \n",
    "    for i=1:10\n",
    "         S[i] = abs(mean(R[:,i]))\n",
    "    end\n",
    "    return S#(R .- res) ./ res \n",
    "    \n",
    "end"
   ]
  },
  {
   "cell_type": "code",
   "execution_count": null,
   "metadata": {},
   "outputs": [],
   "source": []
  },
  {
   "cell_type": "code",
   "execution_count": 727,
   "metadata": {},
   "outputs": [
    {
     "data": {
      "text/plain": [
       "10-element Array{Float64,1}:\n",
       " 0.0002533202112023259 \n",
       " 0.0002533202112023259 \n",
       " 0.0004946671949417865 \n",
       " 0.03330790205149437   \n",
       " 1.0355996005928518e-7 \n",
       " 2.0711852798292752e-7 \n",
       " 6.453085391630486e-17 \n",
       " 1.0291171573115754e-15\n",
       " 4.1082644033040185e-17\n",
       " 5.853889799723462e-17 "
      ]
     },
     "execution_count": 727,
     "metadata": {},
     "output_type": "execute_result"
    }
   ],
   "source": [
    "p1 = test_poly_mean(10,100)\n",
    "p2 = test_poly_mean(100,100)\n",
    "p3 = test_poly_mean(1000,100)\n",
    "#p4 = test_poly_mean(10000,50)\n",
    "#p5 = test_poly_mean(50000,10)\n",
    "#p6 = test_poly_mean(1000,50)"
   ]
  },
  {
   "cell_type": "code",
   "execution_count": 745,
   "metadata": {},
   "outputs": [
    {
     "name": "stdout",
     "output_type": "stream",
     "text": [
      "2.453698e-04 \n",
      "2.453698e-04 \n",
      "4.904801e-04 \n",
      "3.791611e-04 \n",
      "1.008909e-08 \n",
      "2.017819e-08 \n",
      "2.096803e-16 \n",
      "7.994914e-16 \n",
      "5.028346e-17 \n",
      "7.163252e-17 \n"
     ]
    }
   ],
   "source": [
    "using Printf\n",
    "for i=1:10\n",
    "    @printf(\"%e \\n\",p4[i])\n",
    "end"
   ]
  },
  {
   "cell_type": "code",
   "execution_count": 732,
   "metadata": {},
   "outputs": [
    {
     "name": "stdout",
     "output_type": "stream",
     "text": [
      "271.160453 seconds (433.55 k allocations: 7.506 GiB, 0.21% gc time)\n"
     ]
    },
    {
     "data": {
      "text/plain": [
       "10-element Array{Float64,1}:\n",
       " 0.00024536975245574035\n",
       " 0.00024536975245574035\n",
       " 0.0004904801160573938 \n",
       " 0.000379161059405947  \n",
       " 1.0089093406810636e-8 \n",
       " 2.0178185974227104e-8 \n",
       " 2.0968028817874794e-16\n",
       " 7.994914088681734e-16 \n",
       " 5.028346070465163e-17 \n",
       " 7.16325246164961e-17  "
      ]
     },
     "execution_count": 732,
     "metadata": {},
     "output_type": "execute_result"
    }
   ],
   "source": [
    "\n",
    "@time(p4 = test_poly_mean(10000,10))"
   ]
  },
  {
   "cell_type": "code",
   "execution_count": 674,
   "metadata": {},
   "outputs": [
    {
     "name": "stdout",
     "output_type": "stream",
     "text": [
      "  0.000017 seconds (1 allocation: 16 bytes)\n",
      "  0.000003 seconds (1 allocation: 16 bytes)\n",
      "  0.000004 seconds (1 allocation: 16 bytes)\n",
      "  0.000003 seconds (1 allocation: 16 bytes)\n",
      "  0.065133 seconds (82.92 k allocations: 2.768 MiB)\n",
      "  0.063755 seconds (82.97 k allocations: 2.769 MiB)\n",
      "  0.077511 seconds (81.08 k allocations: 2.765 MiB)\n",
      "  0.207429 seconds (81.11 k allocations: 10.687 MiB)\n",
      "  0.000063 seconds (1.27 k allocations: 20.234 KiB)\n",
      "  0.073240 seconds (74.16 k allocations: 3.880 MiB, 16.08% gc time)\n"
     ]
    },
    {
     "data": {
      "text/plain": [
       "10-element Array{BigFloat,1}:\n",
       "  0.001742139646461468905414585812050132460351 \n",
       "  0.001742139646461468905414585812050132460351 \n",
       " -0.003432442331147911783144133396721496380326 \n",
       "  0.1382936934867039656206824418254511437303   \n",
       "  7.137564083999523018085226874984035256421e-07\n",
       " -1.427506695373842398029507771899121051206e-06\n",
       "  4.488808491246726910367059247588494055559e-17\n",
       " -1.043802760714562169657472468378258442866e-14\n",
       "  6.543599274739840694338098527234703689994e-16\n",
       "  2.502189863777973456110017553341207739804e-09"
      ]
     },
     "execution_count": 674,
     "metadata": {},
     "output_type": "execute_result"
    }
   ],
   "source": [
    "a = test_poly(1000)\n"
   ]
  },
  {
   "cell_type": "code",
   "execution_count": 162,
   "metadata": {},
   "outputs": [
    {
     "data": {
      "text/plain": [
       "g3 (generic function with 1 method)"
      ]
     },
     "execution_count": 162,
     "metadata": {},
     "output_type": "execute_result"
    }
   ],
   "source": [
    "Pi = 3.1415926535979323\n",
    "g1(x) = 1/(x^4+x^2+0.9)\n",
    "g2(x) = 4/(Pi*(1+x^2))\n",
    "g3(x) = (2*pi^2*(1+x))/((1-eps(Float64)-x)*(3+x))*sin(pi*(1+x))"
   ]
  },
  {
   "cell_type": "code",
   "execution_count": 625,
   "metadata": {},
   "outputs": [
    {
     "data": {
      "application/vnd.plotly.v1+json": {
       "data": [
        {
         "type": "scatter",
         "x": [
          -1,
          -0.99,
          -0.98,
          -0.97,
          -0.96,
          -0.95,
          -0.94,
          -0.93,
          -0.92,
          -0.91,
          -0.9,
          -0.89,
          -0.88,
          -0.87,
          -0.86,
          -0.85,
          -0.84,
          -0.83,
          -0.82,
          -0.81,
          -0.8,
          -0.79,
          -0.78,
          -0.77,
          -0.76,
          -0.75,
          -0.74,
          -0.73,
          -0.72,
          -0.71,
          -0.7,
          -0.69,
          -0.68,
          -0.67,
          -0.66,
          -0.65,
          -0.64,
          -0.63,
          -0.62,
          -0.61,
          -0.6,
          -0.59,
          -0.58,
          -0.57,
          -0.56,
          -0.55,
          -0.54,
          -0.53,
          -0.52,
          -0.51,
          -0.5,
          -0.49,
          -0.48,
          -0.47,
          -0.46,
          -0.45,
          -0.44,
          -0.43,
          -0.42,
          -0.41,
          -0.4,
          -0.39,
          -0.38,
          -0.37,
          -0.36,
          -0.35,
          -0.34,
          -0.33,
          -0.32,
          -0.31,
          -0.3,
          -0.29,
          -0.28,
          -0.27,
          -0.26,
          -0.25,
          -0.24,
          -0.23,
          -0.22,
          -0.21,
          -0.2,
          -0.19,
          -0.18,
          -0.17,
          -0.16,
          -0.15,
          -0.14,
          -0.13,
          -0.12,
          -0.11,
          -0.1,
          -0.09,
          -0.08,
          -0.07,
          -0.06,
          -0.05,
          -0.04,
          -0.03,
          -0.02,
          -0.01,
          0,
          0.01,
          0.02,
          0.03,
          0.04,
          0.05,
          0.06,
          0.07,
          0.08,
          0.09,
          0.1,
          0.11,
          0.12,
          0.13,
          0.14,
          0.15,
          0.16,
          0.17,
          0.18,
          0.19,
          0.2,
          0.21,
          0.22,
          0.23,
          0.24,
          0.25,
          0.26,
          0.27,
          0.28,
          0.29,
          0.3,
          0.31,
          0.32,
          0.33,
          0.34,
          0.35,
          0.36,
          0.37,
          0.38,
          0.39,
          0.4,
          0.41,
          0.42,
          0.43,
          0.44,
          0.45,
          0.46,
          0.47,
          0.48,
          0.49,
          0.5,
          0.51,
          0.52,
          0.53,
          0.54,
          0.55,
          0.56,
          0.57,
          0.58,
          0.59,
          0.6,
          0.61,
          0.62,
          0.63,
          0.64,
          0.65,
          0.66,
          0.67,
          0.68,
          0.69,
          0.7,
          0.71,
          0.72,
          0.73,
          0.74,
          0.75,
          0.76,
          0.77,
          0.78,
          0.79,
          0.8,
          0.81,
          0.82,
          0.83,
          0.84,
          0.85,
          0.86,
          0.87,
          0.88,
          0.89,
          0.9,
          0.91,
          0.92,
          0.93,
          0.94,
          0.95,
          0.96,
          0.97,
          0.98,
          0.99,
          1
         ],
         "y": [
          0,
          0.0015500975826468783,
          0.006197795658545996,
          0.013935312795099677,
          0.0247496885473913,
          0.03862279636410485,
          0.05553136163942041,
          0.07544698489451071,
          0.09833617006761244,
          0.12416035788700597,
          0.15287596429663297,
          0.184434423899489,
          0.218782238379378,
          0.2558610298570944,
          0.2956075991326209,
          0.33795398876048843,
          0.38282755090105947,
          0.4301510198861524,
          0.4798425894331415,
          0.5318159944374409,
          0.5859805972691177,
          0.6422414784952742,
          0.7004995319458246,
          0.76065156403632,
          0.8225903972576091,
          0.8862049777383162,
          0.951380486782404,
          1.0179984562804616,
          1.0859368878898232,
          1.1550703758751648,
          1.2252702334978935,
          1.29640462283938,
          1.3683386879399484,
          1.440934691132486,
          1.514052152446598,
          1.587547991956421,
          1.6612766749424828,
          1.7350903597353968,
          1.8088390481067176,
          1.8823707380698975,
          1.9555315789520682,
          2.028166028595239,
          2.100117012543532,
          2.171226085071187,
          2.2413335919043624,
          2.3102788344881424,
          2.3779002356486787,
          2.4440355064990875,
          2.5085218144364876,
          2.5711959520765304,
          2.6318945069707995,
          2.69045403195171,
          2.746711215948856,
          2.800503055120236,
          2.851667024141423,
          2.9000412474955013,
          2.945464670606487,
          2.987777230659003,
          3.026820026947153,
          3.0624354905958575,
          3.094467553498386,
          3.1227618163144037,
          3.1471657153736063,
          3.167528688330865,
          3.1837023384198644,
          3.1955405971532973,
          3.202899885319025,
          3.2056392721230065,
          3.203620632331324,
          3.196708801265382,
          3.18477172750608,
          3.167680623164782,
          3.1453101115809234,
          3.1175383723082994,
          3.084247283254405,
          3.04532255983961,
          3.000653891045539,
          2.950135072224666,
          2.8936641345459266,
          2.8311434709540735,
          2.7624799585234654,
          2.6875850770901204,
          2.6063750240490675,
          2.5187708252073766,
          2.424698441586597,
          2.3240888720719335,
          2.216878251809011,
          2.1030079462528106,
          1.982424640777149,
          1.855080425756891,
          1.7209328770390524,
          1.5799451317229463,
          1.4320859591736537,
          1.2773298271971678,
          1.115656963309865,
          0.9470534110392013,
          0.7715110811968312,
          0.5890277980698249,
          0.39960734047998625,
          0.20325947766585709,
          -5.355342473577399e-11,
          -0.21014925586964073,
          -0.42716038636149933,
          -0.6509994066867621,
          -0.8816262411084469,
          -1.118994718875689,
          -1.3630525754714402,
          -1.6137414592355945,
          -1.8709969433672018,
          -2.134748543304834,
          -2.40491973947932,
          -2.681428005428451,
          -2.964184841258463,
          -3.2530958124325062,
          -3.54806059386158,
          -3.848973019268625,
          -4.155721135792191,
          -4.468187263791003,
          -4.786248061806579,
          -5.109774596636307,
          -5.438632418464926,
          -5.772681640997934,
          -6.111777026535988,
          -6.455768075925055,
          -6.804499123312737,
          -7.157809435636968,
          -7.515533316769076,
          -7.877500216229147,
          -8.243534842387545,
          -8.613457280062422,
          -8.987083112419366,
          -9.364223547075177,
          -9.744685546304465,
          -10.128271961243698,
          -10.514781669984156,
          -10.904009719441493,
          -11.295747470886466,
          -11.689782749018029,
          -12.085899994456774,
          -12.48388041953392,
          -12.883502167247693,
          -13.284540473256543,
          -13.686767830775553,
          -14.089954158240067,
          -14.49386696959795,
          -14.898271547089498,
          -15.30293111637189,
          -15.70760702384281,
          -16.11205891601602,
          -16.516044920799704,
          -16.919321830526567,
          -17.32164528658344,
          -17.7227699654861,
          -18.122449766244227,
          -18.520437998859798,
          -18.916487573801376,
          -19.31035119229575,
          -19.70178153727756,
          -20.09053146483686,
          -20.476354196004124,
          -20.85900350871173,
          -21.238233929770843,
          -21.613800926702233,
          -21.98546109925998,
          -22.352972370486825,
          -22.716094177140505,
          -23.074587659330625,
          -23.428215849206566,
          -23.776743858536978,
          -24.119939065023345,
          -24.4575712971897,
          -24.789413017693217,
          -25.115239504900348,
          -25.43482903257543,
          -25.747963047530014,
          -26.05442634508238,
          -26.35400724217938,
          -26.646497748033724,
          -26.931693732132583,
          -27.209395089475176,
          -27.47940590289929,
          -27.74153460235962,
          -27.9955941210224,
          -28.24140204804423,
          -28.47878077790588,
          -28.707557656173247,
          -28.927565121563553,
          -29.13864084419376,
          -29.34062785989613,
          -29.53337470048495,
          -29.716735519864475,
          -29.890570215869833,
          -30.05474454773877,
          -30.209130249109908,
          -30.35360513645461,
          -30.488053212840374,
          -30.612364766930128,
          -30.726436467084856,
          -30.830171450266096,
          -30.923479403656888,
          null
         ]
        }
       ],
       "layout": {
        "margin": {
         "b": 50,
         "l": 50,
         "r": 50,
         "t": 60
        }
       }
      },
      "application/vnd.webio.node+json": {
       "children": [
        {
         "children": [],
         "instanceArgs": {
          "namespace": "html",
          "tag": "div"
         },
         "nodeType": "DOM",
         "props": {
          "id": "plot-c5ccebeb-0e2c-48d7-901c-c94571cd1142"
         },
         "type": "node"
        }
       ],
       "instanceArgs": {
        "handlers": {
         "__get_gd_contents": [
          "(function (prop){prop==\"data\" ? (WebIO.setval({\"name\":\"__gd_contents\",\"scope\":\"1151944308572430370\",\"id\":\"ob_126\",\"type\":\"observable\"},this.plotElem.data)) : undefined; return prop==\"layout\" ? (WebIO.setval({\"name\":\"__gd_contents\",\"scope\":\"1151944308572430370\",\"id\":\"ob_126\",\"type\":\"observable\"},this.plotElem.layout)) : undefined})"
         ],
         "_commands": [
          "(function (args){var fn=args.shift(); var elem=this.plotElem; var Plotly=this.Plotly; args.unshift(elem); return Plotly[fn].apply(this,args)})"
         ],
         "_downloadImage": [
          "(function (options){return this.Plotly.downloadImage(this.plotElem,options)})"
         ],
         "_toImage": [
          "(function (options){return this.Plotly.toImage(this.plotElem,options).then((function (data){return WebIO.setval({\"name\":\"image\",\"scope\":\"1151944308572430370\",\"id\":\"ob_125\",\"type\":\"observable\"},data)}))})"
         ]
        },
        "id": "1151944308572430370",
        "imports": {
         "data": [
          {
           "name": "Plotly",
           "type": "js",
           "url": "/assetserver/a6704aa0e21c251cf244c70f3a715563d6b513a4-plotly-latest.min.js"
          },
          {
           "name": null,
           "type": "js",
           "url": "/assetserver/a0fa08fb0324cf8f7fc5efb03ab51c4ad91d158a-plotly_webio.bundle.js"
          }
         ],
         "type": "async_block"
        },
        "mount_callbacks": [
         "function () {\n    var handler = ((function (Plotly,PlotlyWebIO){PlotlyWebIO.init(WebIO); var gd=this.dom.querySelector(\"#plot-c5ccebeb-0e2c-48d7-901c-c94571cd1142\"); this.plotElem=gd; this.Plotly=Plotly; (window.Blink!==undefined) ? (gd.style.width=\"100%\", gd.style.height=\"100vh\", gd.style.marginLeft=\"0%\", gd.style.marginTop=\"0vh\") : undefined; window.onresize=(function (){return Plotly.Plots.resize(gd)}); Plotly.newPlot(gd,[{\"y\":[0.0,0.0015500975826468783,0.006197795658545996,0.013935312795099677,0.0247496885473913,0.03862279636410485,0.05553136163942041,0.07544698489451071,0.09833617006761244,0.12416035788700597,0.15287596429663297,0.184434423899489,0.218782238379378,0.2558610298570944,0.2956075991326209,0.33795398876048843,0.38282755090105947,0.4301510198861524,0.4798425894331415,0.5318159944374409,0.5859805972691177,0.6422414784952742,0.7004995319458246,0.76065156403632,0.8225903972576091,0.8862049777383162,0.951380486782404,1.0179984562804616,1.0859368878898232,1.1550703758751648,1.2252702334978935,1.29640462283938,1.3683386879399484,1.440934691132486,1.514052152446598,1.587547991956421,1.6612766749424828,1.7350903597353968,1.8088390481067176,1.8823707380698975,1.9555315789520682,2.028166028595239,2.100117012543532,2.171226085071187,2.2413335919043624,2.3102788344881424,2.3779002356486787,2.4440355064990875,2.5085218144364876,2.5711959520765304,2.6318945069707995,2.69045403195171,2.746711215948856,2.800503055120236,2.851667024141423,2.9000412474955013,2.945464670606487,2.987777230659003,3.026820026947153,3.0624354905958575,3.094467553498386,3.1227618163144037,3.1471657153736063,3.167528688330865,3.1837023384198644,3.1955405971532973,3.202899885319025,3.2056392721230065,3.203620632331324,3.196708801265382,3.18477172750608,3.167680623164782,3.1453101115809234,3.1175383723082994,3.084247283254405,3.04532255983961,3.000653891045539,2.950135072224666,2.8936641345459266,2.8311434709540735,2.7624799585234654,2.6875850770901204,2.6063750240490675,2.5187708252073766,2.424698441586597,2.3240888720719335,2.216878251809011,2.1030079462528106,1.982424640777149,1.855080425756891,1.7209328770390524,1.5799451317229463,1.4320859591736537,1.2773298271971678,1.115656963309865,0.9470534110392013,0.7715110811968312,0.5890277980698249,0.39960734047998625,0.20325947766585709,-5.355342473577399e-11,-0.21014925586964073,-0.42716038636149933,-0.6509994066867621,-0.8816262411084469,-1.118994718875689,-1.3630525754714402,-1.6137414592355945,-1.8709969433672018,-2.134748543304834,-2.40491973947932,-2.681428005428451,-2.964184841258463,-3.2530958124325062,-3.54806059386158,-3.848973019268625,-4.155721135792191,-4.468187263791003,-4.786248061806579,-5.109774596636307,-5.438632418464926,-5.772681640997934,-6.111777026535988,-6.455768075925055,-6.804499123312737,-7.157809435636968,-7.515533316769076,-7.877500216229147,-8.243534842387545,-8.613457280062422,-8.987083112419366,-9.364223547075177,-9.744685546304465,-10.128271961243698,-10.514781669984156,-10.904009719441493,-11.295747470886466,-11.689782749018029,-12.085899994456774,-12.48388041953392,-12.883502167247693,-13.284540473256543,-13.686767830775553,-14.089954158240067,-14.49386696959795,-14.898271547089498,-15.30293111637189,-15.70760702384281,-16.11205891601602,-16.516044920799704,-16.919321830526567,-17.32164528658344,-17.7227699654861,-18.122449766244227,-18.520437998859798,-18.916487573801376,-19.31035119229575,-19.70178153727756,-20.09053146483686,-20.476354196004124,-20.85900350871173,-21.238233929770843,-21.613800926702233,-21.98546109925998,-22.352972370486825,-22.716094177140505,-23.074587659330625,-23.428215849206566,-23.776743858536978,-24.119939065023345,-24.4575712971897,-24.789413017693217,-25.115239504900348,-25.43482903257543,-25.747963047530014,-26.05442634508238,-26.35400724217938,-26.646497748033724,-26.931693732132583,-27.209395089475176,-27.47940590289929,-27.74153460235962,-27.9955941210224,-28.24140204804423,-28.47878077790588,-28.707557656173247,-28.927565121563553,-29.13864084419376,-29.34062785989613,-29.53337470048495,-29.716735519864475,-29.890570215869833,-30.05474454773877,-30.209130249109908,-30.35360513645461,-30.488053212840374,-30.612364766930128,-30.726436467084856,-30.830171450266096,-30.923479403656888,null],\"type\":\"scatter\",\"x\":[-1.0,-0.99,-0.98,-0.97,-0.96,-0.95,-0.94,-0.93,-0.92,-0.91,-0.9,-0.89,-0.88,-0.87,-0.86,-0.85,-0.84,-0.83,-0.82,-0.81,-0.8,-0.79,-0.78,-0.77,-0.76,-0.75,-0.74,-0.73,-0.72,-0.71,-0.7,-0.69,-0.68,-0.67,-0.66,-0.65,-0.64,-0.63,-0.62,-0.61,-0.6,-0.59,-0.58,-0.57,-0.56,-0.55,-0.54,-0.53,-0.52,-0.51,-0.5,-0.49,-0.48,-0.47,-0.46,-0.45,-0.44,-0.43,-0.42,-0.41,-0.4,-0.39,-0.38,-0.37,-0.36,-0.35,-0.34,-0.33,-0.32,-0.31,-0.3,-0.29,-0.28,-0.27,-0.26,-0.25,-0.24,-0.23,-0.22,-0.21,-0.2,-0.19,-0.18,-0.17,-0.16,-0.15,-0.14,-0.13,-0.12,-0.11,-0.1,-0.09,-0.08,-0.07,-0.06,-0.05,-0.04,-0.03,-0.02,-0.01,0.0,0.01,0.02,0.03,0.04,0.05,0.06,0.07,0.08,0.09,0.1,0.11,0.12,0.13,0.14,0.15,0.16,0.17,0.18,0.19,0.2,0.21,0.22,0.23,0.24,0.25,0.26,0.27,0.28,0.29,0.3,0.31,0.32,0.33,0.34,0.35,0.36,0.37,0.38,0.39,0.4,0.41,0.42,0.43,0.44,0.45,0.46,0.47,0.48,0.49,0.5,0.51,0.52,0.53,0.54,0.55,0.56,0.57,0.58,0.59,0.6,0.61,0.62,0.63,0.64,0.65,0.66,0.67,0.68,0.69,0.7,0.71,0.72,0.73,0.74,0.75,0.76,0.77,0.78,0.79,0.8,0.81,0.82,0.83,0.84,0.85,0.86,0.87,0.88,0.89,0.9,0.91,0.92,0.93,0.94,0.95,0.96,0.97,0.98,0.99,1.0]}],{\"margin\":{\"l\":50,\"b\":50,\"r\":50,\"t\":60}},{}); gd.on(\"plotly_hover\",(function (data){var filtered_data=WebIO.PlotlyCommands.filterEventData(gd,data,\"hover\"); return !(filtered_data.isnil) ? (WebIO.setval({\"name\":\"hover\",\"scope\":\"1151944308572430370\",\"id\":\"ob_121\",\"type\":\"observable\"},filtered_data.out)) : undefined})); gd.on(\"plotly_unhover\",(function (){return WebIO.setval({\"name\":\"hover\",\"scope\":\"1151944308572430370\",\"id\":\"ob_121\",\"type\":\"observable\"},{})})); gd.on(\"plotly_selected\",(function (data){var filtered_data=WebIO.PlotlyCommands.filterEventData(gd,data,\"selected\"); return !(filtered_data.isnil) ? (WebIO.setval({\"name\":\"selected\",\"scope\":\"1151944308572430370\",\"id\":\"ob_122\",\"type\":\"observable\"},filtered_data.out)) : undefined})); gd.on(\"plotly_deselect\",(function (){return WebIO.setval({\"name\":\"selected\",\"scope\":\"1151944308572430370\",\"id\":\"ob_122\",\"type\":\"observable\"},{})})); gd.on(\"plotly_relayout\",(function (data){var filtered_data=WebIO.PlotlyCommands.filterEventData(gd,data,\"relayout\"); return !(filtered_data.isnil) ? (WebIO.setval({\"name\":\"relayout\",\"scope\":\"1151944308572430370\",\"id\":\"ob_124\",\"type\":\"observable\"},filtered_data.out)) : undefined})); return gd.on(\"plotly_click\",(function (data){var filtered_data=WebIO.PlotlyCommands.filterEventData(gd,data,\"click\"); return !(filtered_data.isnil) ? (WebIO.setval({\"name\":\"click\",\"scope\":\"1151944308572430370\",\"id\":\"ob_123\",\"type\":\"observable\"},filtered_data.out)) : undefined}))}));\n    (WebIO.importBlock({\"data\":[{\"name\":\"Plotly\",\"type\":\"js\",\"url\":\"/assetserver/a6704aa0e21c251cf244c70f3a715563d6b513a4-plotly-latest.min.js\"},{\"name\":null,\"type\":\"js\",\"url\":\"/assetserver/a0fa08fb0324cf8f7fc5efb03ab51c4ad91d158a-plotly_webio.bundle.js\"}],\"type\":\"async_block\"})).then((imports) => handler.apply(this, imports));\n}\n"
        ],
        "observables": {
         "__gd_contents": {
          "id": "ob_126",
          "sync": false,
          "value": {}
         },
         "__get_gd_contents": {
          "id": "ob_130",
          "sync": false,
          "value": ""
         },
         "_commands": {
          "id": "ob_127",
          "sync": false,
          "value": []
         },
         "_downloadImage": {
          "id": "ob_129",
          "sync": false,
          "value": {}
         },
         "_toImage": {
          "id": "ob_128",
          "sync": false,
          "value": {}
         },
         "click": {
          "id": "ob_123",
          "sync": false,
          "value": {}
         },
         "hover": {
          "id": "ob_121",
          "sync": false,
          "value": {}
         },
         "image": {
          "id": "ob_125",
          "sync": true,
          "value": ""
         },
         "relayout": {
          "id": "ob_124",
          "sync": false,
          "value": {}
         },
         "selected": {
          "id": "ob_122",
          "sync": false,
          "value": {}
         }
        },
        "systemjs_options": null
       },
       "nodeType": "Scope",
       "props": {},
       "type": "node"
      },
      "text/html": [
       "<div\n",
       "    class=\"webio-mountpoint\"\n",
       "    data-webio-mountpoint=\"1049095133806392271\"\n",
       ">\n",
       "    <script>\n",
       "    if (window.require && require.defined && require.defined(\"nbextensions/webio-jupyter-notebook\")) {\n",
       "        console.log(\"Jupyter WebIO extension detected, not mounting.\");\n",
       "    } else if (window.WebIO) {\n",
       "        WebIO.mount(\n",
       "            document.querySelector('[data-webio-mountpoint=\"1049095133806392271\"]'),\n",
       "            {\"props\":{},\"nodeType\":\"Scope\",\"type\":\"node\",\"instanceArgs\":{\"imports\":{\"data\":[{\"name\":\"Plotly\",\"type\":\"js\",\"url\":\"\\/assetserver\\/a6704aa0e21c251cf244c70f3a715563d6b513a4-plotly-latest.min.js\"},{\"name\":null,\"type\":\"js\",\"url\":\"\\/assetserver\\/a0fa08fb0324cf8f7fc5efb03ab51c4ad91d158a-plotly_webio.bundle.js\"}],\"type\":\"async_block\"},\"id\":\"1151944308572430370\",\"handlers\":{\"_toImage\":[\"(function (options){return this.Plotly.toImage(this.plotElem,options).then((function (data){return WebIO.setval({\\\"name\\\":\\\"image\\\",\\\"scope\\\":\\\"1151944308572430370\\\",\\\"id\\\":\\\"ob_125\\\",\\\"type\\\":\\\"observable\\\"},data)}))})\"],\"__get_gd_contents\":[\"(function (prop){prop==\\\"data\\\" ? (WebIO.setval({\\\"name\\\":\\\"__gd_contents\\\",\\\"scope\\\":\\\"1151944308572430370\\\",\\\"id\\\":\\\"ob_126\\\",\\\"type\\\":\\\"observable\\\"},this.plotElem.data)) : undefined; return prop==\\\"layout\\\" ? (WebIO.setval({\\\"name\\\":\\\"__gd_contents\\\",\\\"scope\\\":\\\"1151944308572430370\\\",\\\"id\\\":\\\"ob_126\\\",\\\"type\\\":\\\"observable\\\"},this.plotElem.layout)) : undefined})\"],\"_downloadImage\":[\"(function (options){return this.Plotly.downloadImage(this.plotElem,options)})\"],\"_commands\":[\"(function (args){var fn=args.shift(); var elem=this.plotElem; var Plotly=this.Plotly; args.unshift(elem); return Plotly[fn].apply(this,args)})\"]},\"systemjs_options\":null,\"mount_callbacks\":[\"function () {\\n    var handler = ((function (Plotly,PlotlyWebIO){PlotlyWebIO.init(WebIO); var gd=this.dom.querySelector(\\\"#plot-c5ccebeb-0e2c-48d7-901c-c94571cd1142\\\"); this.plotElem=gd; this.Plotly=Plotly; (window.Blink!==undefined) ? (gd.style.width=\\\"100%\\\", gd.style.height=\\\"100vh\\\", gd.style.marginLeft=\\\"0%\\\", gd.style.marginTop=\\\"0vh\\\") : undefined; window.onresize=(function (){return Plotly.Plots.resize(gd)}); Plotly.newPlot(gd,[{\\\"y\\\":[0.0,0.0015500975826468783,0.006197795658545996,0.013935312795099677,0.0247496885473913,0.03862279636410485,0.05553136163942041,0.07544698489451071,0.09833617006761244,0.12416035788700597,0.15287596429663297,0.184434423899489,0.218782238379378,0.2558610298570944,0.2956075991326209,0.33795398876048843,0.38282755090105947,0.4301510198861524,0.4798425894331415,0.5318159944374409,0.5859805972691177,0.6422414784952742,0.7004995319458246,0.76065156403632,0.8225903972576091,0.8862049777383162,0.951380486782404,1.0179984562804616,1.0859368878898232,1.1550703758751648,1.2252702334978935,1.29640462283938,1.3683386879399484,1.440934691132486,1.514052152446598,1.587547991956421,1.6612766749424828,1.7350903597353968,1.8088390481067176,1.8823707380698975,1.9555315789520682,2.028166028595239,2.100117012543532,2.171226085071187,2.2413335919043624,2.3102788344881424,2.3779002356486787,2.4440355064990875,2.5085218144364876,2.5711959520765304,2.6318945069707995,2.69045403195171,2.746711215948856,2.800503055120236,2.851667024141423,2.9000412474955013,2.945464670606487,2.987777230659003,3.026820026947153,3.0624354905958575,3.094467553498386,3.1227618163144037,3.1471657153736063,3.167528688330865,3.1837023384198644,3.1955405971532973,3.202899885319025,3.2056392721230065,3.203620632331324,3.196708801265382,3.18477172750608,3.167680623164782,3.1453101115809234,3.1175383723082994,3.084247283254405,3.04532255983961,3.000653891045539,2.950135072224666,2.8936641345459266,2.8311434709540735,2.7624799585234654,2.6875850770901204,2.6063750240490675,2.5187708252073766,2.424698441586597,2.3240888720719335,2.216878251809011,2.1030079462528106,1.982424640777149,1.855080425756891,1.7209328770390524,1.5799451317229463,1.4320859591736537,1.2773298271971678,1.115656963309865,0.9470534110392013,0.7715110811968312,0.5890277980698249,0.39960734047998625,0.20325947766585709,-5.355342473577399e-11,-0.21014925586964073,-0.42716038636149933,-0.6509994066867621,-0.8816262411084469,-1.118994718875689,-1.3630525754714402,-1.6137414592355945,-1.8709969433672018,-2.134748543304834,-2.40491973947932,-2.681428005428451,-2.964184841258463,-3.2530958124325062,-3.54806059386158,-3.848973019268625,-4.155721135792191,-4.468187263791003,-4.786248061806579,-5.109774596636307,-5.438632418464926,-5.772681640997934,-6.111777026535988,-6.455768075925055,-6.804499123312737,-7.157809435636968,-7.515533316769076,-7.877500216229147,-8.243534842387545,-8.613457280062422,-8.987083112419366,-9.364223547075177,-9.744685546304465,-10.128271961243698,-10.514781669984156,-10.904009719441493,-11.295747470886466,-11.689782749018029,-12.085899994456774,-12.48388041953392,-12.883502167247693,-13.284540473256543,-13.686767830775553,-14.089954158240067,-14.49386696959795,-14.898271547089498,-15.30293111637189,-15.70760702384281,-16.11205891601602,-16.516044920799704,-16.919321830526567,-17.32164528658344,-17.7227699654861,-18.122449766244227,-18.520437998859798,-18.916487573801376,-19.31035119229575,-19.70178153727756,-20.09053146483686,-20.476354196004124,-20.85900350871173,-21.238233929770843,-21.613800926702233,-21.98546109925998,-22.352972370486825,-22.716094177140505,-23.074587659330625,-23.428215849206566,-23.776743858536978,-24.119939065023345,-24.4575712971897,-24.789413017693217,-25.115239504900348,-25.43482903257543,-25.747963047530014,-26.05442634508238,-26.35400724217938,-26.646497748033724,-26.931693732132583,-27.209395089475176,-27.47940590289929,-27.74153460235962,-27.9955941210224,-28.24140204804423,-28.47878077790588,-28.707557656173247,-28.927565121563553,-29.13864084419376,-29.34062785989613,-29.53337470048495,-29.716735519864475,-29.890570215869833,-30.05474454773877,-30.209130249109908,-30.35360513645461,-30.488053212840374,-30.612364766930128,-30.726436467084856,-30.830171450266096,-30.923479403656888,null],\\\"type\\\":\\\"scatter\\\",\\\"x\\\":[-1.0,-0.99,-0.98,-0.97,-0.96,-0.95,-0.94,-0.93,-0.92,-0.91,-0.9,-0.89,-0.88,-0.87,-0.86,-0.85,-0.84,-0.83,-0.82,-0.81,-0.8,-0.79,-0.78,-0.77,-0.76,-0.75,-0.74,-0.73,-0.72,-0.71,-0.7,-0.69,-0.68,-0.67,-0.66,-0.65,-0.64,-0.63,-0.62,-0.61,-0.6,-0.59,-0.58,-0.57,-0.56,-0.55,-0.54,-0.53,-0.52,-0.51,-0.5,-0.49,-0.48,-0.47,-0.46,-0.45,-0.44,-0.43,-0.42,-0.41,-0.4,-0.39,-0.38,-0.37,-0.36,-0.35,-0.34,-0.33,-0.32,-0.31,-0.3,-0.29,-0.28,-0.27,-0.26,-0.25,-0.24,-0.23,-0.22,-0.21,-0.2,-0.19,-0.18,-0.17,-0.16,-0.15,-0.14,-0.13,-0.12,-0.11,-0.1,-0.09,-0.08,-0.07,-0.06,-0.05,-0.04,-0.03,-0.02,-0.01,0.0,0.01,0.02,0.03,0.04,0.05,0.06,0.07,0.08,0.09,0.1,0.11,0.12,0.13,0.14,0.15,0.16,0.17,0.18,0.19,0.2,0.21,0.22,0.23,0.24,0.25,0.26,0.27,0.28,0.29,0.3,0.31,0.32,0.33,0.34,0.35,0.36,0.37,0.38,0.39,0.4,0.41,0.42,0.43,0.44,0.45,0.46,0.47,0.48,0.49,0.5,0.51,0.52,0.53,0.54,0.55,0.56,0.57,0.58,0.59,0.6,0.61,0.62,0.63,0.64,0.65,0.66,0.67,0.68,0.69,0.7,0.71,0.72,0.73,0.74,0.75,0.76,0.77,0.78,0.79,0.8,0.81,0.82,0.83,0.84,0.85,0.86,0.87,0.88,0.89,0.9,0.91,0.92,0.93,0.94,0.95,0.96,0.97,0.98,0.99,1.0]}],{\\\"margin\\\":{\\\"l\\\":50,\\\"b\\\":50,\\\"r\\\":50,\\\"t\\\":60}},{}); gd.on(\\\"plotly_hover\\\",(function (data){var filtered_data=WebIO.PlotlyCommands.filterEventData(gd,data,\\\"hover\\\"); return !(filtered_data.isnil) ? (WebIO.setval({\\\"name\\\":\\\"hover\\\",\\\"scope\\\":\\\"1151944308572430370\\\",\\\"id\\\":\\\"ob_121\\\",\\\"type\\\":\\\"observable\\\"},filtered_data.out)) : undefined})); gd.on(\\\"plotly_unhover\\\",(function (){return WebIO.setval({\\\"name\\\":\\\"hover\\\",\\\"scope\\\":\\\"1151944308572430370\\\",\\\"id\\\":\\\"ob_121\\\",\\\"type\\\":\\\"observable\\\"},{})})); gd.on(\\\"plotly_selected\\\",(function (data){var filtered_data=WebIO.PlotlyCommands.filterEventData(gd,data,\\\"selected\\\"); return !(filtered_data.isnil) ? (WebIO.setval({\\\"name\\\":\\\"selected\\\",\\\"scope\\\":\\\"1151944308572430370\\\",\\\"id\\\":\\\"ob_122\\\",\\\"type\\\":\\\"observable\\\"},filtered_data.out)) : undefined})); gd.on(\\\"plotly_deselect\\\",(function (){return WebIO.setval({\\\"name\\\":\\\"selected\\\",\\\"scope\\\":\\\"1151944308572430370\\\",\\\"id\\\":\\\"ob_122\\\",\\\"type\\\":\\\"observable\\\"},{})})); gd.on(\\\"plotly_relayout\\\",(function (data){var filtered_data=WebIO.PlotlyCommands.filterEventData(gd,data,\\\"relayout\\\"); return !(filtered_data.isnil) ? (WebIO.setval({\\\"name\\\":\\\"relayout\\\",\\\"scope\\\":\\\"1151944308572430370\\\",\\\"id\\\":\\\"ob_124\\\",\\\"type\\\":\\\"observable\\\"},filtered_data.out)) : undefined})); return gd.on(\\\"plotly_click\\\",(function (data){var filtered_data=WebIO.PlotlyCommands.filterEventData(gd,data,\\\"click\\\"); return !(filtered_data.isnil) ? (WebIO.setval({\\\"name\\\":\\\"click\\\",\\\"scope\\\":\\\"1151944308572430370\\\",\\\"id\\\":\\\"ob_123\\\",\\\"type\\\":\\\"observable\\\"},filtered_data.out)) : undefined}))}));\\n    (WebIO.importBlock({\\\"data\\\":[{\\\"name\\\":\\\"Plotly\\\",\\\"type\\\":\\\"js\\\",\\\"url\\\":\\\"\\/assetserver\\/a6704aa0e21c251cf244c70f3a715563d6b513a4-plotly-latest.min.js\\\"},{\\\"name\\\":null,\\\"type\\\":\\\"js\\\",\\\"url\\\":\\\"\\/assetserver\\/a0fa08fb0324cf8f7fc5efb03ab51c4ad91d158a-plotly_webio.bundle.js\\\"}],\\\"type\\\":\\\"async_block\\\"})).then((imports) => handler.apply(this, imports));\\n}\\n\"],\"observables\":{\"_toImage\":{\"sync\":false,\"id\":\"ob_128\",\"value\":{}},\"hover\":{\"sync\":false,\"id\":\"ob_121\",\"value\":{}},\"selected\":{\"sync\":false,\"id\":\"ob_122\",\"value\":{}},\"__gd_contents\":{\"sync\":false,\"id\":\"ob_126\",\"value\":{}},\"click\":{\"sync\":false,\"id\":\"ob_123\",\"value\":{}},\"image\":{\"sync\":true,\"id\":\"ob_125\",\"value\":\"\"},\"__get_gd_contents\":{\"sync\":false,\"id\":\"ob_130\",\"value\":\"\"},\"_downloadImage\":{\"sync\":false,\"id\":\"ob_129\",\"value\":{}},\"relayout\":{\"sync\":false,\"id\":\"ob_124\",\"value\":{}},\"_commands\":{\"sync\":false,\"id\":\"ob_127\",\"value\":[]}}},\"children\":[{\"props\":{\"id\":\"plot-c5ccebeb-0e2c-48d7-901c-c94571cd1142\"},\"nodeType\":\"DOM\",\"type\":\"node\",\"instanceArgs\":{\"namespace\":\"html\",\"tag\":\"div\"},\"children\":[]}]},\n",
       "            window,\n",
       "        );\n",
       "    } else {\n",
       "        document\n",
       "            .querySelector('[data-webio-mountpoint=\"1049095133806392271\"]')\n",
       "            .innerHTML = (\n",
       "                '<strong>WebIO not detected. Please read ' +\n",
       "                '<a href=\"https://juliagizmos.github.io/WebIO.jl/latest/troubleshooting/not-detected/\">the troubleshooting guide</a> ' +\n",
       "                'for more information on how to resolve this issue.' +\n",
       "                '</strong>'\n",
       "            );\n",
       "    }\n",
       "    </script>\n",
       "</div>\n"
      ],
      "text/plain": [
       "data: [\n",
       "  \"scatter with fields type, x, and y\"\n",
       "]\n",
       "\n",
       "layout: \"layout with field margin\"\n",
       "\n"
      ]
     },
     "execution_count": 625,
     "metadata": {
      "application/vnd.webio.node+json": {
       "kernelId": null
      }
     },
     "output_type": "execute_result"
    }
   ],
   "source": [
    "xg3 = collect(-1:0.01:1)\n",
    "yg3 = g3.(xg3)\n",
    "plot(xg3,yg3)"
   ]
  },
  {
   "cell_type": "code",
   "execution_count": 715,
   "metadata": {},
   "outputs": [
    {
     "data": {
      "text/plain": [
       "-14.727040999163346"
      ]
     },
     "execution_count": 715,
     "metadata": {},
     "output_type": "execute_result"
    }
   ],
   "source": [
    "ad_simpsons(x -> g3(x), -1, 1-eps(Float64), 1e-10)"
   ]
  },
  {
   "cell_type": "code",
   "execution_count": 767,
   "metadata": {},
   "outputs": [
    {
     "name": "stdout",
     "output_type": "stream",
     "text": [
      "  0.000001 seconds\n",
      "  0.000001 seconds\n",
      "  0.000001 seconds\n",
      "  0.000001 seconds\n",
      "  0.030665 seconds (1.15 k allocations: 71.359 KiB)\n",
      "  0.030071 seconds (1.16 k allocations: 71.422 KiB)\n",
      "  0.025804 seconds (1.13 k allocations: 71.656 KiB)\n",
      "  0.030202 seconds (1.15 k allocations: 181.781 KiB)\n",
      "  0.000009 seconds (2 allocations: 496 bytes)\n"
     ]
    },
    {
     "data": {
      "text/plain": [
       "10-element Array{BigFloat,1}:\n",
       "  0.004328685903720686567474672115075454239082 \n",
       "  0.004328685903720686567474672115075454239082 \n",
       " -0.008900028114476693322954023811440920796533 \n",
       " -0.005030357940425688023918168308307171498372 \n",
       "  1.792193844997724614108768249317814092481e-05\n",
       " -3.584617942817942283143614581690313262162e-05\n",
       "  8.464236618115567751249220944732439222416e-17\n",
       " -1.45905613471333581408660630540243595007e-15 \n",
       " -2.675358224007269002011601234355202063484e-08\n",
       " -1.0                                          "
      ]
     },
     "execution_count": 767,
     "metadata": {},
     "output_type": "execute_result"
    }
   ],
   "source": [
    "g11 = test(g1,100)"
   ]
  },
  {
   "cell_type": "code",
   "execution_count": 752,
   "metadata": {},
   "outputs": [
    {
     "name": "stdout",
     "output_type": "stream",
     "text": [
      "  0.000006 seconds\n",
      "  0.000006 seconds\n",
      "  0.000019 seconds\n",
      "  0.000017 seconds\n",
      "  0.002063 seconds (15 allocations: 391.094 KiB)\n",
      "  0.001762 seconds (21 allocations: 391.500 KiB)\n",
      "  1.806810 seconds (32 allocations: 626.266 KiB)\n",
      " 25.522280 seconds (66 allocations: 766.452 MiB, 0.20% gc time)\n",
      "  0.000022 seconds (2 allocations: 496 bytes)\n",
      "  0.000735 seconds (6.87 k allocations: 115.156 KiB)\n"
     ]
    },
    {
     "data": {
      "text/plain": [
       "10-element Array{BigFloat,1}:\n",
       "  4.358445463161530400214526695523555087878e-05\n",
       "  4.358445463161530400214526695523555087878e-05\n",
       " -8.719296001868023663530686796981589425125e-05\n",
       " -4.365062769788931073756209277819405431443e-05\n",
       "  1.792462651895230541687668609276480319241e-09\n",
       " -3.584924909527135185863623626612830946528e-09\n",
       " -1.960300885269336845964347932526320336479e-16\n",
       "  6.45987275597334401730346214847237243967e-16 \n",
       " -2.675358224007269002011601234355202063484e-08\n",
       "  2.751030685908004617547298735096910438009e-15"
      ]
     },
     "execution_count": 752,
     "metadata": {},
     "output_type": "execute_result"
    }
   ],
   "source": [
    "g12 = test(g1,10000)"
   ]
  },
  {
   "cell_type": "code",
   "execution_count": 759,
   "metadata": {},
   "outputs": [
    {
     "name": "stdout",
     "output_type": "stream",
     "text": [
      "6.365986e-05 \n",
      "6.365986e-05 \n",
      "-1.273367e-04 \n",
      "-6.370656e-05 \n",
      "2.617994e-09 \n",
      "-5.235988e-09 \n",
      "-4.626746e-17 \n",
      "8.419110e-16 \n",
      "6.938956e-09 \n",
      "5.726892e-15 \n"
     ]
    }
   ],
   "source": [
    "using Printf\n",
    "for i=1:10\n",
    "    @printf(\"%e \\n\",g22[i])\n",
    "end"
   ]
  },
  {
   "cell_type": "code",
   "execution_count": 757,
   "metadata": {},
   "outputs": [
    {
     "name": "stdout",
     "output_type": "stream",
     "text": [
      "  0.000004 seconds (1 allocation: 16 bytes)\n",
      "  0.000004 seconds (1 allocation: 16 bytes)\n",
      "  0.000003 seconds (1 allocation: 16 bytes)\n",
      "  0.000003 seconds (1 allocation: 16 bytes)\n",
      "  0.066707 seconds (43.78 k allocations: 2.145 MiB)\n",
      "  0.066216 seconds (43.79 k allocations: 2.133 MiB)\n",
      "  0.075540 seconds (43.55 k allocations: 2.130 MiB, 25.37% gc time)\n",
      "  0.058450 seconds (43.57 k allocations: 2.240 MiB)\n",
      "  0.000024 seconds (159 allocations: 2.938 KiB)\n",
      "  0.061006 seconds (79.76 k allocations: 3.964 MiB)\n",
      "  0.000007 seconds (1 allocation: 16 bytes)\n",
      "  0.000004 seconds (1 allocation: 16 bytes)\n",
      "  0.000016 seconds (1 allocation: 16 bytes)\n",
      "  0.000012 seconds (1 allocation: 16 bytes)\n",
      "  0.001752 seconds (59.51 k allocations: 1.290 MiB)\n",
      "  0.001754 seconds (59.52 k allocations: 1.290 MiB)\n",
      "  1.778013 seconds (39.53 k allocations: 1.214 MiB)\n",
      " 25.645901 seconds (39.56 k allocations: 767.055 MiB, 0.18% gc time)\n",
      "  0.000027 seconds (159 allocations: 2.938 KiB)\n",
      "  0.001060 seconds (12.41 k allocations: 201.766 KiB)\n"
     ]
    },
    {
     "data": {
      "text/plain": [
       "10-element Array{BigFloat,1}:\n",
       "  6.365985506063474015252844137480563489637e-05\n",
       "  6.365985506063474015252844137480563489637e-05\n",
       " -0.0001273366878246515972050050801563302236792\n",
       " -6.370655643593885141379661209173723701984e-05\n",
       "  2.617993775468989011600274420157567659629e-09\n",
       " -5.235987689740367153546846361654799257883e-09\n",
       " -4.626746304344876584044655464620375534662e-17\n",
       "  8.419109566589775326652322234386450676577e-16\n",
       "  6.938956474236331434680894263695181765351e-09\n",
       "  5.726892265022322174446465502905313594168e-15"
      ]
     },
     "execution_count": 757,
     "metadata": {},
     "output_type": "execute_result"
    }
   ],
   "source": [
    "g21 = test(g2,100)\n",
    "g22 = test(g2,10000)"
   ]
  },
  {
   "cell_type": "code",
   "execution_count": 874,
   "metadata": {},
   "outputs": [
    {
     "name": "stdout",
     "output_type": "stream",
     "text": [
      "  0.000005 seconds (1 allocation: 16 bytes)\n",
      "  0.000001 seconds (1 allocation: 16 bytes)\n",
      "  0.000001 seconds (1 allocation: 16 bytes)\n",
      "  0.000001 seconds (1 allocation: 16 bytes)\n",
      "  0.022112 seconds (1.19 k allocations: 73.953 KiB)\n",
      "  0.024036 seconds (1.20 k allocations: 74.016 KiB)\n",
      "  0.015787 seconds (1.17 k allocations: 74.422 KiB)\n",
      "  0.019074 seconds (1.19 k allocations: 184.547 KiB)\n",
      "  0.000209 seconds (2 allocations: 2.188 KiB)\n",
      "[-14.199500572851898, -14.199500572851898, -14.10864768845002, -12.279122276393865, -14.728316145358225, -14.724490761774184, -14.722851272215095, -14.727040999163396, -14.725483433400408, 0.0]"
     ]
    },
    {
     "data": {
      "text/plain": [
       "-14.72704099916356"
      ]
     },
     "execution_count": 874,
     "metadata": {},
     "output_type": "execute_result"
    }
   ],
   "source": [
    "g31 = test(g3,100)\n",
    "res = quadgk(x -> g3(x), BigFloat(-1), 0.999999999999999, rtol=1e-20)[1]\n",
    "g31[10] = ad_simpsons(x -> g3(x), -1, 0.999999999999999, 1e-10)"
   ]
  },
  {
   "cell_type": "code",
   "execution_count": 521,
   "metadata": {},
   "outputs": [
    {
     "name": "stdout",
     "output_type": "stream",
     "text": [
      "  0.121456 seconds (119.50 k allocations: 6.246 MiB, 11.76% gc time)\n"
     ]
    },
    {
     "data": {
      "text/plain": [
       "-0.31861487919167253"
      ]
     },
     "execution_count": 521,
     "metadata": {},
     "output_type": "execute_result"
    }
   ],
   "source": [
    "b = rand(Uniform(-100,100),10)\n",
    "f(x) = (b[1]+x*(b[2]+x*(b[3]+x*(b[4]+x*(b[5]+x*(b[6]+x*(b[7]+x*(b[8]+x*(b[9]+x*b[10])))))))))\n",
    "@time(GaussLegendre(x -> f(x), 10))"
   ]
  },
  {
   "cell_type": "code",
   "execution_count": 875,
   "metadata": {},
   "outputs": [
    {
     "name": "stdout",
     "output_type": "stream",
     "text": [
      "  0.000014 seconds (1 allocation: 16 bytes)\n",
      "  0.000014 seconds (1 allocation: 16 bytes)\n",
      "  0.000055 seconds (1 allocation: 16 bytes)\n",
      "  0.000044 seconds (1 allocation: 16 bytes)\n",
      "  0.001359 seconds (15 allocations: 391.094 KiB)\n",
      "  0.001099 seconds (21 allocations: 391.500 KiB)\n",
      "  0.884721 seconds (32 allocations: 626.266 KiB)\n",
      " 13.353339 seconds (66 allocations: 766.452 MiB, 0.34% gc time)\n",
      "  0.000559 seconds (2 allocations: 2.188 KiB)\n",
      "[-14.721763036717228, -14.721763036717228, -14.720839899039545, -14.702238466237409, -14.727041126671711, -14.727040744147034, -14.72704058023264, -14.727040999163483, -14.725483433400408, 0.0]"
     ]
    },
    {
     "data": {
      "text/plain": [
       "-14.72704099916356"
      ]
     },
     "execution_count": 875,
     "metadata": {},
     "output_type": "execute_result"
    }
   ],
   "source": [
    "g32 = test(g3, 10000)\n",
    "g32[10]=g31[10]\n"
   ]
  },
  {
   "cell_type": "code",
   "execution_count": 801,
   "metadata": {},
   "outputs": [
    {
     "name": "stdout",
     "output_type": "stream",
     "text": [
      "3.582121e-02 \n",
      "3.582121e-02 \n",
      "4.199033e-02 \n",
      "1.662193e-01 \n",
      "-8.658536e-05 \n",
      "1.731670e-04 \n",
      "2.844921e-04 \n",
      "5.691906e-15 \n",
      "1.057623e-04 \n",
      "-5.405016e-15 \n"
     ]
    }
   ],
   "source": [
    "for i=1:10\n",
    "    @printf(\"%e \\n\",(res - g31[i])/res)\n",
    "end"
   ]
  },
  {
   "cell_type": "code",
   "execution_count": 827,
   "metadata": {},
   "outputs": [
    {
     "data": {
      "text/plain": [
       "test_try1_mean (generic function with 1 method)"
      ]
     },
     "execution_count": 827,
     "metadata": {},
     "output_type": "execute_result"
    }
   ],
   "source": [
    "function test_try1_mean(n,m)#testuje wielomiany st n z losowami wspolczynnikami m razy i zwrac\n",
    "    #srednia bledy wzgledngo\n",
    "    R = zeros(m,10)\n",
    "    diff = 2/n\n",
    "    S = zeros(10)\n",
    "    x1 = collect(-1:diff:1)\n",
    "    for i=1:m\n",
    "        b = rand(Uniform(-100,100),5)\n",
    "        #f(x) = b[1]*sin(b[2]*sin(b[5]*cos((x+b[3])/b[4])))\n",
    "        e = 2.718281828459045\n",
    "        f(x) = b[1]*cos(b[2]*e^x*(x+b[3])\\(b[4]*x+b[5]))\n",
    "        y1 = f.(x1)\n",
    "        R[i,1] = int_rect(x1,y1)\n",
    "        R[i,2] = int_trap(x1,y1)\n",
    "        R[i,3] = int_simpson(x1,y1)\n",
    "        R[i,4] = int_newtonc3(x1,y1)\n",
    "        R[i,5] = GaussChebyshev(x -> f(x)*sqrt(1-x^2), n)\n",
    "        R[i,6] = Lobatto(x -> f(x)*sqrt(1-x^2), n)\n",
    "        R[i,7] = ClenshawC(x -> f(x), n)\n",
    "        R[i,8] = GaussLegendre(x -> f(x), n)\n",
    "        R[i,9] = romberg(x -> f(x), -1,1,20)[20,20]\n",
    "        R[i,10] = ad_simpsons(x -> f(x), -1, 1, 1e-10)\n",
    "        res = quadgk(x -> f(x), BigFloat(-1), 1, rtol=1e-16)[1]\n",
    "        R[i,:] = (R[i,:] .- res) ./ res\n",
    "        print(i)\n",
    "    end\n",
    "    \n",
    "    for i=1:10\n",
    "         S[i] = abs(mean(R[:,i]))\n",
    "    end\n",
    "    return S#(R .- res) ./ res \n",
    "    \n",
    "end"
   ]
  },
  {
   "cell_type": "code",
   "execution_count": 814,
   "metadata": {},
   "outputs": [
    {
     "data": {
      "text/plain": [
       "10-element Array{Float64,1}:\n",
       " 0.7117418713757426    \n",
       " 0.7117418713757426    \n",
       " 0.5740518966863803    \n",
       " 0.7978337944091685    \n",
       " 0.25889794037760283   \n",
       " 0.3204052152070518    \n",
       " 0.3200403668661106    \n",
       " 0.3257299429540471    \n",
       " 2.2694440577371494e-15\n",
       " 2.0331796118154525e-12"
      ]
     },
     "execution_count": 814,
     "metadata": {},
     "output_type": "execute_result"
    }
   ],
   "source": [
    "h1 = test_try1_mean(100,100)"
   ]
  },
  {
   "cell_type": "code",
   "execution_count": 815,
   "metadata": {},
   "outputs": [
    {
     "name": "stdout",
     "output_type": "stream",
     "text": [
      " 20.387026 seconds (101.04 M allocations: 2.729 GiB, 4.81% gc time)\n"
     ]
    },
    {
     "data": {
      "text/plain": [
       "10-element Array{Float64,1}:\n",
       " 0.037332808191895876  \n",
       " 0.037332808191895876  \n",
       " 0.02614216350494503   \n",
       " 0.17314697198872167   \n",
       " 0.04810829072263953   \n",
       " 0.002843296407208815  \n",
       " 0.0028263410924828924 \n",
       " 0.013890147429456106  \n",
       " 1.7247229631378204e-14\n",
       " 5.1780234294428684e-15"
      ]
     },
     "execution_count": 815,
     "metadata": {},
     "output_type": "execute_result"
    }
   ],
   "source": [
    "@time(h2 = test_try1_mean(1000,100))"
   ]
  },
  {
   "cell_type": "code",
   "execution_count": 816,
   "metadata": {},
   "outputs": [
    {
     "name": "stdout",
     "output_type": "stream",
     "text": [
      " 74.120160 seconds (13.85 M allocations: 4.023 GiB, 1.10% gc time)\n"
     ]
    },
    {
     "data": {
      "text/plain": [
       "10-element Array{Float64,1}:\n",
       " 0.004240346491455621  \n",
       " 0.004240346491455621  \n",
       " 0.008050356726221602  \n",
       " 0.0019594440935443115 \n",
       " 1.7295849944235016e-7 \n",
       " 3.459099527648893e-7  \n",
       " 1.1393507841154674e-12\n",
       " 4.091468769673159e-13 \n",
       " 9.182785004452063e-14 \n",
       " 1.3431875117299266e-13"
      ]
     },
     "execution_count": 816,
     "metadata": {},
     "output_type": "execute_result"
    }
   ],
   "source": [
    "@time(h3 = test_try1_mean(10000,5))"
   ]
  },
  {
   "cell_type": "code",
   "execution_count": 821,
   "metadata": {},
   "outputs": [
    {
     "name": "stdout",
     "output_type": "stream",
     "text": [
      "& 7.117419e-01  & 4.240346e-03 \\\\ \n",
      "& 7.117419e-01  & 4.240346e-03 \\\\ \n",
      "& 5.740519e-01  & 8.050357e-03 \\\\ \n",
      "& 7.978338e-01  & 1.959444e-03 \\\\ \n",
      "& 2.588979e-01  & 1.729585e-07 \\\\ \n",
      "& 3.204052e-01  & 3.459100e-07 \\\\ \n",
      "& 3.200404e-01  & 1.139351e-12 \\\\ \n",
      "& 3.257299e-01  & 4.091469e-13 \\\\ \n",
      "& 2.269444e-15  & 9.182785e-14 \\\\ \n",
      "& 2.033180e-12  & 1.343188e-13 \\\\ \n"
     ]
    }
   ],
   "source": [
    "for i=1:10\n",
    "    @printf(\"& %e  & %e \\\\\\\\ \\n\",h1[i], h3[i])\n",
    "end"
   ]
  },
  {
   "cell_type": "code",
   "execution_count": 828,
   "metadata": {},
   "outputs": [
    {
     "name": "stdout",
     "output_type": "stream",
     "text": [
      "123456789101112131415161718192021222324252627282930313233343536373839404142434445464748495051525354555657585960616263646566676869707172737475767778798081828384858687888990919293949596979899100  5.316740 seconds (3.88 M allocations: 174.746 MiB, 2.53% gc time)\n"
     ]
    },
    {
     "data": {
      "text/plain": [
       "10-element Array{Float64,1}:\n",
       " 0.00949910104759187   \n",
       " 0.00949910104759187   \n",
       " 0.019097540456803716  \n",
       " 0.026979724355124225  \n",
       " 3.9107283458128894e-5 \n",
       " 7.821457413117699e-5  \n",
       " 1.3596552287094453e-17\n",
       " 2.4492422287815494e-16\n",
       " 7.099395647630109e-16 \n",
       " 1.0724693309251078e-12"
      ]
     },
     "execution_count": 828,
     "metadata": {},
     "output_type": "execute_result"
    }
   ],
   "source": [
    "@time(hh1 = test_try1_mean(100,100))\n",
    "#@time(hh2 = test_try1_mean(10000,7))"
   ]
  },
  {
   "cell_type": "code",
   "execution_count": 846,
   "metadata": {},
   "outputs": [
    {
     "name": "stdout",
     "output_type": "stream",
     "text": [
      "12345 76.107663 seconds (43.23 k allocations: 3.751 GiB, 0.76% gc time)\n"
     ]
    },
    {
     "data": {
      "text/plain": [
       "10-element Array{Float64,1}:\n",
       " 9.915220384798565e-5  \n",
       " 9.915220384798565e-5  \n",
       " 0.00019830542456892816\n",
       " 0.00010757155349531893\n",
       " 4.077476327843321e-9  \n",
       " 8.154952334258124e-9  \n",
       " 1.51133989450985e-16  \n",
       " 8.667171666216006e-16 \n",
       " 1.4952426108436944e-15\n",
       " 2.7677134611332656e-16"
      ]
     },
     "execution_count": 846,
     "metadata": {},
     "output_type": "execute_result"
    }
   ],
   "source": [
    "@time(hh2 = test_try1_mean(10000,5))"
   ]
  },
  {
   "cell_type": "code",
   "execution_count": 823,
   "metadata": {},
   "outputs": [
    {
     "data": {
      "text/plain": [
       "ℯ = 2.7182818284590..."
      ]
     },
     "execution_count": 823,
     "metadata": {},
     "output_type": "execute_result"
    }
   ],
   "source": [
    "for i=1:10\n",
    "    @printf(\"& %e  & %e \\\\\\\\ \\n\",hh1[i], hh2[i])\n",
    "end"
   ]
  },
  {
   "cell_type": "code",
   "execution_count": 858,
   "metadata": {},
   "outputs": [
    {
     "data": {
      "text/plain": [
       "test_tryg2_mean (generic function with 1 method)"
      ]
     },
     "execution_count": 858,
     "metadata": {},
     "output_type": "execute_result"
    }
   ],
   "source": [
    "function test_tryg2_mean(n,m)#testuje wielomiany st n z losowami wspolczynnikami m razy i zwrac\n",
    "    #srednia bledy wzgledngo\n",
    "    R = zeros(m,10)\n",
    "    diff = 2/n\n",
    "    S = zeros(10)\n",
    "    x1 = collect(-1:diff:1)\n",
    "    for i=1:m\n",
    "        b = rand(Uniform(-100,100),5)\n",
    "        #f(x) = b[1]*sin(b[2]*sin(b[5]*cos((x+b[3])/b[4])))\n",
    "        e = 2.718281828459045\n",
    "        f(x) = b[1]*(cos(b[2]))^2+sin(b[5]*tan(x))\n",
    "        y1 = f.(x1)\n",
    "        R[i,1] = int_rect(x1,y1)\n",
    "        R[i,2] = int_trap(x1,y1)\n",
    "        R[i,3] = int_simpson(x1,y1)\n",
    "        R[i,4] = int_newtonc3(x1,y1)\n",
    "        R[i,5] = GaussChebyshev(x -> f(x)*sqrt(1-x^2), n)\n",
    "        R[i,6] = Lobatto(x -> f(x)*sqrt(1-x^2), n)\n",
    "        R[i,7] = ClenshawC(x -> f(x), n)\n",
    "        R[i,8] = GaussLegendre(x -> f(x), n)\n",
    "        R[i,9] = romberg(x -> f(x), -1,1,20)[20,20]\n",
    "        R[i,10] = ad_simpsons(x -> f(x), -1, 1, 1e-10)\n",
    "        res = quadgk(x -> f(x), BigFloat(-1), 1, rtol=1e-16)[1]\n",
    "        R[i,:] = (R[i,:] .- res) ./ res\n",
    "        print(i)\n",
    "    end\n",
    "    \n",
    "    for i=1:10\n",
    "         S[i] = abs(mean(R[:,i]))\n",
    "    end\n",
    "    return S#(R .- res) ./ res \n",
    "    \n",
    "end"
   ]
  },
  {
   "cell_type": "code",
   "execution_count": 860,
   "metadata": {},
   "outputs": [
    {
     "name": "stdout",
     "output_type": "stream",
     "text": [
      "123456789101112131415161718192021222324252627282930313233343536373839404142434445464748495051525354555657585960616263646566676869707172737475767778798081828384858687888990919293949596979899100  2.656904 seconds (79.95 k allocations: 15.816 MiB, 0.76% gc time)\n"
     ]
    },
    {
     "data": {
      "text/plain": [
       "10-element Array{Float64,1}:\n",
       " 0.010000000000000864  \n",
       " 0.010000000000000864  \n",
       " 0.019999999999999237  \n",
       " 0.005076973875475204  \n",
       " 4.112453549261992e-5  \n",
       " 8.224805627902643e-5  \n",
       " 8.812342286097328e-16 \n",
       " 1.0492501931778205e-15\n",
       " 4.292082627747932e-16 \n",
       " 9.71175188754775e-17  "
      ]
     },
     "execution_count": 860,
     "metadata": {},
     "output_type": "execute_result"
    }
   ],
   "source": [
    "@time(kk1 = test_tryg2_mean(100,100))\n"
   ]
  },
  {
   "cell_type": "code",
   "execution_count": 861,
   "metadata": {},
   "outputs": [
    {
     "name": "stdout",
     "output_type": "stream",
     "text": [
      "12345 70.164759 seconds (4.41 k allocations: 3.750 GiB, 0.83% gc time)\n"
     ]
    },
    {
     "data": {
      "text/plain": [
       "10-element Array{Float64,1}:\n",
       " 9.999999988977612e-5  \n",
       " 9.999999988977612e-5  \n",
       " 0.00020000000011016224\n",
       " 0.00038077616308129634\n",
       " 4.112335274614987e-9  \n",
       " 8.224670376838728e-9  \n",
       " 1.824612653499666e-16 \n",
       " 5.776259981153287e-16 \n",
       " 2.2203484367214217e-15\n",
       " 3.0099429194854814e-17"
      ]
     },
     "execution_count": 861,
     "metadata": {},
     "output_type": "execute_result"
    }
   ],
   "source": [
    "@time(kk2 = test_tryg2_mean(10000,5))\n"
   ]
  },
  {
   "cell_type": "code",
   "execution_count": 863,
   "metadata": {},
   "outputs": [
    {
     "name": "stdout",
     "output_type": "stream",
     "text": [
      "1.000000e-02  & 1.000000e-04 \\\\ \n",
      "1.000000e-02  & 1.000000e-04 \\\\ \n",
      "2.000000e-02  & 2.000000e-04 \\\\ \n",
      "5.076974e-03  & 3.807762e-04 \\\\ \n",
      "4.112454e-05  & 4.112335e-09 \\\\ \n",
      "8.224806e-05  & 8.224670e-09 \\\\ \n",
      "8.812342e-16  & 1.824613e-16 \\\\ \n",
      "1.049250e-15  & 5.776260e-16 \\\\ \n",
      "4.292083e-16  & 2.220348e-15 \\\\ \n",
      "9.711752e-17  & 3.009943e-17 \\\\ \n"
     ]
    }
   ],
   "source": [
    "for i=1:10\n",
    "    @printf(\"%e  & %e \\\\\\\\ \\n\",kk1[i], kk2[i])\n",
    "end"
   ]
  },
  {
   "cell_type": "code",
   "execution_count": 869,
   "metadata": {},
   "outputs": [
    {
     "data": {
      "text/plain": [
       "test_exp2_mean (generic function with 1 method)"
      ]
     },
     "execution_count": 869,
     "metadata": {},
     "output_type": "execute_result"
    }
   ],
   "source": [
    "function test_exp2_mean(n,m)#testuje wielomiany st n z losowami wspolczynnikami m razy i zwrac\n",
    "    #srednia bledy wzgledngo\n",
    "    R = zeros(m,10)\n",
    "    diff = 2/n\n",
    "    S = zeros(10)\n",
    "    x1 = collect(-1:diff:1)\n",
    "    for i=1:m\n",
    "        b = rand(Uniform(-100,100),5)\n",
    "        #f(x) = b[1]*sin(b[2]*sin(b[5]*cos((x+b[3])/b[4])))\n",
    "        e = 2.718281828459045\n",
    "        #f(x) = b[1]*e^x+b[2]* 2 .^ x + abs(b[3]/10.)^x\n",
    "        f(x) = Pi^x*b[1]+abs(b[2])*x^5+abs(b[3]/10)^x\n",
    "        y1 = f.(x1)\n",
    "        R[i,1] = int_rect(x1,y1)\n",
    "        R[i,2] = int_trap(x1,y1)\n",
    "        R[i,3] = int_simpson(x1,y1)\n",
    "        R[i,4] = int_newtonc3(x1,y1)\n",
    "        R[i,5] = GaussChebyshev(x -> f(x)*sqrt(1-x^2), n)\n",
    "        R[i,6] = Lobatto(x -> f(x)*sqrt(1-x^2), n)\n",
    "        R[i,7] = ClenshawC(x -> f(x), n)\n",
    "        R[i,8] = GaussLegendre(x -> f(x), n)\n",
    "        R[i,9] = romberg(x -> f(x), -1,1,20)[20,20]\n",
    "        R[i,10] = ad_simpsons(x -> f(x), -1, 1, 1e-10)\n",
    "        res = quadgk(x -> f(x), BigFloat(-1), 1, rtol=1e-16)[1]\n",
    "        R[i,:] = (R[i,:] .- res) ./ res\n",
    "        print(i)\n",
    "    end\n",
    "    \n",
    "    for i=1:10\n",
    "         S[i] = abs(mean(R[:,i]))\n",
    "    end\n",
    "    return S#(R .- res) ./ res \n",
    "    \n",
    "end"
   ]
  },
  {
   "cell_type": "code",
   "execution_count": 843,
   "metadata": {},
   "outputs": [
    {
     "name": "stdout",
     "output_type": "stream",
     "text": [
      "123456789101112131415161718192021222324252627282930313233343536373839404142434445464748495051525354555657585960616263646566676869707172737475767778798081828384858687888990919293949596979899100  3.388786 seconds (1.16 M allocations: 35.075 MiB, 0.23% gc time)\n"
     ]
    },
    {
     "data": {
      "text/plain": [
       "10-element Array{Float64,1}:\n",
       " 0.013163685966107414  \n",
       " 0.013163685966107414  \n",
       " 0.026062448926277838  \n",
       " 0.07923878950050228   \n",
       " 5.400151864420229e-5  \n",
       " 0.00010799865987255802\n",
       " 3.0324308482567623e-17\n",
       " 6.473173323248282e-19 \n",
       " 1.2278419732634293e-15\n",
       " 3.50532885563669e-17  "
      ]
     },
     "execution_count": 843,
     "metadata": {},
     "output_type": "execute_result"
    }
   ],
   "source": [
    "@time(ee1 = test_exp_mean(100,100))\n"
   ]
  },
  {
   "cell_type": "code",
   "execution_count": 844,
   "metadata": {},
   "outputs": [
    {
     "name": "stdout",
     "output_type": "stream",
     "text": [
      "12345 75.949188 seconds (65.38 k allocations: 3.751 GiB, 0.78% gc time)\n"
     ]
    },
    {
     "data": {
      "text/plain": [
       "10-element Array{Float64,1}:\n",
       " 0.00013130686177308855\n",
       " 0.00013130686177308855\n",
       " 0.0002625870589598054 \n",
       " 0.0008309053628723698 \n",
       " 5.399641342317235e-9  \n",
       " 1.0799282440033345e-8 \n",
       " 2.3200202422744796e-16\n",
       " 9.60786433996643e-16  \n",
       " 2.300136463820056e-15 \n",
       " 6.987940773769261e-18 "
      ]
     },
     "execution_count": 844,
     "metadata": {},
     "output_type": "execute_result"
    }
   ],
   "source": [
    "@time(ee2 = test_exp_mean(10000,5))\n"
   ]
  },
  {
   "cell_type": "code",
   "execution_count": 848,
   "metadata": {},
   "outputs": [
    {
     "name": "stdout",
     "output_type": "stream",
     "text": [
      "1.316369e-02  & 1.313069e-04 \\\\ \n",
      "1.316369e-02  & 1.313069e-04 \\\\ \n",
      "2.606245e-02  & 2.625871e-04 \\\\ \n",
      "7.923879e-02  & 8.309054e-04 \\\\ \n",
      "5.400152e-05  & 5.399641e-09 \\\\ \n",
      "1.079987e-04  & 1.079928e-08 \\\\ \n",
      "3.032431e-17  & 2.320020e-16 \\\\ \n",
      "6.473173e-19  & 9.607864e-16 \\\\ \n",
      "1.227842e-15  & 2.300136e-15 \\\\ \n",
      "3.505329e-17  & 6.987941e-18 \\\\ \n"
     ]
    }
   ],
   "source": [
    "for i=1:10\n",
    "    @printf(\"%e  & %e \\\\\\\\ \\n\",ee1[i], ee2[i])\n",
    "end"
   ]
  },
  {
   "cell_type": "code",
   "execution_count": 870,
   "metadata": {},
   "outputs": [
    {
     "name": "stdout",
     "output_type": "stream",
     "text": [
      "123456789101112131415161718192021222324252627282930313233343536373839404142434445464748495051525354555657585960616263646566676869707172737475767778798081828384858687888990919293949596979899100 21.303816 seconds (480.33 M allocations: 7.257 GiB, 10.08% gc time)\n"
     ]
    },
    {
     "data": {
      "text/plain": [
       "10-element Array{Float64,1}:\n",
       " 0.014573500045085225  \n",
       " 0.014573500045085225  \n",
       " 0.02874861130289836   \n",
       " 0.3648771536047502    \n",
       " 5.973183812604862e-5  \n",
       " 0.00011945761857020355\n",
       " 1.9144952715820548e-17\n",
       " 1.0117588807774198e-15\n",
       " 2.618418285546018e-15 \n",
       " 1.0722569956022802e-16"
      ]
     },
     "execution_count": 870,
     "metadata": {},
     "output_type": "execute_result"
    }
   ],
   "source": [
    "@time(ff1 = test_exp2_mean(100,100))\n"
   ]
  },
  {
   "cell_type": "code",
   "execution_count": 871,
   "metadata": {},
   "outputs": [
    {
     "name": "stdout",
     "output_type": "stream",
     "text": [
      "12345 71.427534 seconds (26.30 M allocations: 4.142 GiB, 1.75% gc time)\n"
     ]
    },
    {
     "data": {
      "text/plain": [
       "10-element Array{Float64,1}:\n",
       " 0.00014719358440241472\n",
       " 0.00014719358440241472\n",
       " 0.0002943446671903846 \n",
       " 0.0024909423936833363 \n",
       " 6.052875343725645e-9  \n",
       " 1.2105750270198432e-8 \n",
       " 1.4815926327643204e-16\n",
       " 7.904739190139054e-16 \n",
       " 2.1317179563523437e-15\n",
       " 1.3838222266987357e-16"
      ]
     },
     "execution_count": 871,
     "metadata": {},
     "output_type": "execute_result"
    }
   ],
   "source": [
    "@time(ff2 = test_exp2_mean(10000,5))\n"
   ]
  },
  {
   "cell_type": "code",
   "execution_count": 872,
   "metadata": {},
   "outputs": [
    {
     "name": "stdout",
     "output_type": "stream",
     "text": [
      "1.457350e-02  & 1.471936e-04 \\\\ \n",
      "2.874861e-02  & 2.943447e-04 \\\\ \n",
      "3.648772e-01  & 2.490942e-03 \\\\ \n",
      "5.973184e-05  & 6.052875e-09 \\\\ \n",
      "1.194576e-04  & 1.210575e-08 \\\\ \n",
      "1.914495e-17  & 1.481593e-16 \\\\ \n",
      "1.011759e-15  & 7.904739e-16 \\\\ \n",
      "2.618418e-15  & 2.131718e-15 \\\\ \n",
      "1.072257e-16  & 1.383822e-16 \\\\ \n"
     ]
    }
   ],
   "source": [
    "for i=2:10\n",
    "    @printf(\"%e  & %e \\\\\\\\ \\n\",ff1[i], ff2[i])\n",
    "end"
   ]
  },
  {
   "cell_type": "code",
   "execution_count": null,
   "metadata": {},
   "outputs": [],
   "source": []
  },
  {
   "cell_type": "code",
   "execution_count": null,
   "metadata": {},
   "outputs": [],
   "source": []
  },
  {
   "cell_type": "code",
   "execution_count": null,
   "metadata": {},
   "outputs": [],
   "source": []
  },
  {
   "cell_type": "code",
   "execution_count": null,
   "metadata": {},
   "outputs": [],
   "source": []
  },
  {
   "cell_type": "code",
   "execution_count": null,
   "metadata": {},
   "outputs": [],
   "source": []
  }
 ],
 "metadata": {
  "@webio": {
   "lastCommId": "0b65a073c85d4d4080906c3ba37c919c",
   "lastKernelId": "475cb0f0-5498-4b84-b367-2a520c74394b"
  },
  "kernelspec": {
   "display_name": "Julia 1.2.0",
   "language": "julia",
   "name": "julia-1.2"
  },
  "language_info": {
   "file_extension": ".jl",
   "mimetype": "application/julia",
   "name": "julia",
   "version": "1.2.0"
  }
 },
 "nbformat": 4,
 "nbformat_minor": 2
}
