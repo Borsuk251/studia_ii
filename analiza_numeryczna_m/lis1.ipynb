{
 "cells": [
  {
   "cell_type": "code",
   "execution_count": 153,
   "metadata": {},
   "outputs": [],
   "source": [
    "using Printf\n",
    "using Polynomials"
   ]
  },
  {
   "cell_type": "code",
   "execution_count": 2,
   "metadata": {},
   "outputs": [
    {
     "data": {
      "text/html": [
       "&#45;0.149 &#43; 3.0&#8729;x &#45; 6.0&#8729;x^2 &#43; 1.0&#8729;x^3"
      ],
      "text/latex": [
       "$-0.149 + 3.0\\cdot x - 6.0\\cdot x^{2} + 1.0\\cdot x^{3}$"
      ],
      "text/plain": [
       "Poly(-0.149 + 3.0*x - 6.0*x^2 + 1.0*x^3)"
      ]
     },
     "execution_count": 2,
     "metadata": {},
     "output_type": "execute_result"
    }
   ],
   "source": [
    "a = Poly([-0.149, 3, -6, 1])"
   ]
  },
  {
   "cell_type": "code",
   "execution_count": 3,
   "metadata": {},
   "outputs": [
    {
     "data": {
      "text/plain": [
       "-14.238175999999998"
      ]
     },
     "execution_count": 3,
     "metadata": {},
     "output_type": "execute_result"
    }
   ],
   "source": [
    "polyval(a,4.74)"
   ]
  },
  {
   "cell_type": "code",
   "execution_count": 4,
   "metadata": {},
   "outputs": [
    {
     "data": {
      "text/plain": [
       "-14.636489"
      ]
     },
     "execution_count": 4,
     "metadata": {},
     "output_type": "execute_result"
    }
   ],
   "source": [
    "result = -14.636489"
   ]
  },
  {
   "cell_type": "code",
   "execution_count": 5,
   "metadata": {},
   "outputs": [
    {
     "data": {
      "text/plain": [
       "Float16(-14.63)"
      ]
     },
     "execution_count": 5,
     "metadata": {},
     "output_type": "execute_result"
    }
   ],
   "source": [
    "Float16(polyval(a,4.71))"
   ]
  },
  {
   "cell_type": "code",
   "execution_count": 6,
   "metadata": {},
   "outputs": [
    {
     "data": {
      "text/plain": [
       "my_error (generic function with 1 method)"
      ]
     },
     "execution_count": 6,
     "metadata": {},
     "output_type": "execute_result"
    }
   ],
   "source": [
    "function my_error(x,res)\n",
    "    return abs((x-res)/x)\n",
    "end"
   ]
  },
  {
   "cell_type": "code",
   "execution_count": 166,
   "metadata": {},
   "outputs": [
    {
     "data": {
      "text/plain": [
       "poly_val1 (generic function with 1 method)"
      ]
     },
     "execution_count": 166,
     "metadata": {},
     "output_type": "execute_result"
    }
   ],
   "source": [
    "function poly_val1(x,y)\n",
    "    if y==16\n",
    "        x = Float16(x)\n",
    "        return Float16(x^3-6x^2+3x-0.149)\n",
    "    elseif y==32\n",
    "        x = Float32(x)\n",
    "        return Float32(x^3-6x^2+3x-0.149)\n",
    "    elseif y ==64\n",
    "        x = Float64(x)\n",
    "        return Float64(x^3-6x^2+3x-0.149)\n",
    "    end\n",
    "end"
   ]
  },
  {
   "cell_type": "code",
   "execution_count": 167,
   "metadata": {},
   "outputs": [
    {
     "name": "stdout",
     "output_type": "stream",
     "text": [
      "0.004003532690246461\n",
      "7.760449059200675e-7\n",
      "4.854598228851878e-16\n"
     ]
    }
   ],
   "source": [
    "a1 = poly_val1(4.71,16)\n",
    "a2 = poly_val1(4.71,32)\n",
    "a3 = poly_val1(4.71,64)\n",
    "#my_error(a1,result)\n",
    "println(my_error(a1,result))\n",
    "println(my_error(a2,result))\n",
    "println(my_error(a3,result))"
   ]
  },
  {
   "cell_type": "code",
   "execution_count": 9,
   "metadata": {},
   "outputs": [
    {
     "data": {
      "text/plain": [
       "poly_val2 (generic function with 1 method)"
      ]
     },
     "execution_count": 9,
     "metadata": {},
     "output_type": "execute_result"
    }
   ],
   "source": [
    "function poly_val2(x,y)\n",
    "    if y==16\n",
    "        x = Float16(x)\n",
    "        return Float16(((x-6)*x+3)*x - 0.149)\n",
    "    elseif y==32\n",
    "        x = Float32(x)\n",
    "        return Float32(((x-6)*x+3)*x - 0.149)\n",
    "    elseif y ==64\n",
    "        x = Float64(x)\n",
    "        return Float64(((x-6)*x+3)*x - 0.149)\n",
    "    end\n",
    "\n",
    "end"
   ]
  },
  {
   "cell_type": "code",
   "execution_count": 23,
   "metadata": {},
   "outputs": [
    {
     "name": "stdout",
     "output_type": "stream",
     "text": [
      "0.0002512504004270672\n",
      "5.9315045555700395e-8\n",
      "0.0\n"
     ]
    }
   ],
   "source": [
    "a1 = poly_val2(4.71,16)\n",
    "a2 = poly_val2(4.71,32)\n",
    "a3 = poly_val2(4.71,64)\n",
    "println(my_error(a1,result))\n",
    "println(my_error(a2,result))\n",
    "println(my_error(a3,result))"
   ]
  },
  {
   "cell_type": "code",
   "execution_count": 55,
   "metadata": {},
   "outputs": [
    {
     "data": {
      "text/plain": [
       "str_to_int (generic function with 1 method)"
      ]
     },
     "execution_count": 55,
     "metadata": {},
     "output_type": "execute_result"
    }
   ],
   "source": [
    "function str_to_int(x)\n",
    "   parse(Int64,x)\n",
    "end"
   ]
  },
  {
   "cell_type": "code",
   "execution_count": 62,
   "metadata": {},
   "outputs": [
    {
     "data": {
      "text/plain": [
       "111111111100001110"
      ]
     },
     "execution_count": 62,
     "metadata": {},
     "output_type": "execute_result"
    }
   ],
   "source": [
    "str_to_int(\"111111111100001110\")"
   ]
  },
  {
   "cell_type": "code",
   "execution_count": 66,
   "metadata": {},
   "outputs": [
    {
     "data": {
      "text/plain": [
       "fl_number (generic function with 1 method)"
      ]
     },
     "execution_count": 66,
     "metadata": {},
     "output_type": "execute_result"
    }
   ],
   "source": [
    "function fl_number(x)\n",
    "    m = 1; j=-52; n=0; c = -1023;\n",
    "    for i = 1:52\n",
    "        if x%2 == 1\n",
    "            m = m + 2.0^j\n",
    "        end\n",
    "        x = div(x,10)\n",
    "        j = j + 1 \n",
    "    end\n",
    "    for j = 1:11\n",
    "        if x%2 == 1\n",
    "            c = c + 2.0^n\n",
    "        end\n",
    "        x = div(x,10)\n",
    "        n = n + 1\n",
    "    end\n",
    "    if x%2 == 1\n",
    "        s = -1\n",
    "    else\n",
    "        s = 1\n",
    "    end\n",
    "    return (s*2^c*m)\n",
    "end"
   ]
  },
  {
   "cell_type": "code",
   "execution_count": 176,
   "metadata": {},
   "outputs": [
    {
     "data": {
      "text/plain": [
       "bit_string2 (generic function with 1 method)"
      ]
     },
     "execution_count": 176,
     "metadata": {},
     "output_type": "execute_result"
    }
   ],
   "source": [
    "function bit_string2(repr)\n",
    "    s = repr[1] == \"1\" ? -1 : 1\n",
    "    c = repr[2:12] \n",
    "    c1 = -1023.0\n",
    "    m = repr[13:end] \n",
    "    m1 = 1.0\n",
    "    for i = 1:(length(c))\n",
    "        c1 += \"1\" == c[i] ? 1 : 0\n",
    "    end\n",
    "    for i = 0:(length(m)-1)\n",
    "        m1 += \"1\" == m[i]  ? 2.0^(-i) : 0\n",
    "        \n",
    "    end\n",
    "    return s*2^c1*m1\n",
    "end"
   ]
  },
  {
   "cell_type": "code",
   "execution_count": 177,
   "metadata": {},
   "outputs": [
    {
     "data": {
      "text/plain": [
       "1.7976931348623157e308"
      ]
     },
     "execution_count": 177,
     "metadata": {},
     "output_type": "execute_result"
    }
   ],
   "source": [
    "fl_number(0111111111101111111111111111111111111111111111111111111111111111)"
   ]
  },
  {
   "cell_type": "code",
   "execution_count": 178,
   "metadata": {},
   "outputs": [
    {
     "ename": "BoundsError",
     "evalue": "BoundsError: attempt to access \"0000000000000000000000000000000000000000000000000000\"\n  at index [0]",
     "output_type": "error",
     "traceback": [
      "BoundsError: attempt to access \"0000000000000000000000000000000000000000000000000000\"\n  at index [0]",
      "",
      "Stacktrace:",
      " [1] checkbounds at ./strings/basic.jl:193 [inlined]",
      " [2] codeunit at ./strings/string.jl:89 [inlined]",
      " [3] getindex at ./strings/string.jl:207 [inlined]",
      " [4] bit_string2(::String) at ./In[176]:11",
      " [5] top-level scope at In[178]:1"
     ]
    }
   ],
   "source": [
    "bit_string2(\"0000000000010000000000000000000000000000000000000000000000000000\")"
   ]
  },
  {
   "cell_type": "code",
   "execution_count": 68,
   "metadata": {},
   "outputs": [
    {
     "data": {
      "text/plain": [
       "2.2250738585072014e-308"
      ]
     },
     "execution_count": 68,
     "metadata": {},
     "output_type": "execute_result"
    }
   ],
   "source": [
    "fl_number(0000000000010000000000000000000000000000000000000000000000000000)"
   ]
  },
  {
   "cell_type": "code",
   "execution_count": 14,
   "metadata": {},
   "outputs": [
    {
     "data": {
      "text/plain": [
       "713.0"
      ]
     },
     "execution_count": 14,
     "metadata": {},
     "output_type": "execute_result"
    }
   ],
   "source": [
    "fl_number(0100000010000110010010000000000000000000000000000000000000000000)"
   ]
  },
  {
   "cell_type": "code",
   "execution_count": 15,
   "metadata": {},
   "outputs": [
    {
     "name": "stdout",
     "output_type": "stream",
     "text": [
      "5.0e-324"
     ]
    }
   ],
   "source": [
    "a =eps(0.0)\n",
    "y=0\n",
    "x = a\n",
    "while y != 1\n",
    "        if Float64(x*Float64(1.0/x)) != 1.0\n",
    "            print(x)\n",
    "        end\n",
    "        x = x + a\n",
    "        y = 1\n",
    "end\n",
    "\n"
   ]
  },
  {
   "cell_type": "code",
   "execution_count": 16,
   "metadata": {},
   "outputs": [
    {
     "name": "stdout",
     "output_type": "stream",
     "text": [
      "1.000000057228997"
     ]
    }
   ],
   "source": [
    "x = 1\n",
    "i = eps(Float64)\n",
    "while Float64((x+i)*Float64(1.0/(x+i))) == 1\n",
    "    i += eps(Float64)\n",
    "end\n",
    "print(x+i)\n",
    "\n"
   ]
  },
  {
   "cell_type": "code",
   "execution_count": 17,
   "metadata": {},
   "outputs": [
    {
     "data": {
      "text/plain": [
       "0.9999999999999999"
      ]
     },
     "execution_count": 17,
     "metadata": {},
     "output_type": "execute_result"
    }
   ],
   "source": [
    "Float64(1.000000057228997*Float64(1.0/1.000000057228997))"
   ]
  },
  {
   "cell_type": "code",
   "execution_count": 18,
   "metadata": {},
   "outputs": [
    {
     "data": {
      "text/plain": [
       "1.000000057228997"
      ]
     },
     "execution_count": 18,
     "metadata": {},
     "output_type": "execute_result"
    }
   ],
   "source": [
    "a = 1.000000057228997"
   ]
  },
  {
   "cell_type": "code",
   "execution_count": 19,
   "metadata": {},
   "outputs": [
    {
     "data": {
      "text/plain": [
       "2.220446049250313e-16"
      ]
     },
     "execution_count": 19,
     "metadata": {},
     "output_type": "execute_result"
    }
   ],
   "source": [
    "eps(Float64)"
   ]
  },
  {
   "cell_type": "code",
   "execution_count": 20,
   "metadata": {},
   "outputs": [
    {
     "name": "stdout",
     "output_type": "stream",
     "text": [
      "0|01111111111|0000000000000000000000001111010111001011111100101010\n"
     ]
    }
   ],
   "source": [
    "repr = bitstring(a)\n",
    "rs = repr[1];        # sign      - the first bit\n",
    "rc = repr[2:12];     # exponent  - next 11 bits\n",
    "rm = repr[13:end]    # mantissa  - last 52 bits\n",
    "@printf(\"%c|%s|%s\\n\",  rs,rc,rm);\n"
   ]
  },
  {
   "cell_type": "code",
   "execution_count": 179,
   "metadata": {},
   "outputs": [
    {
     "data": {
      "text/plain": [
       "2.0"
      ]
     },
     "execution_count": 179,
     "metadata": {},
     "output_type": "execute_result"
    }
   ],
   "source": [
    "fl_number(0100000000000000000000000000000000000000000000000000000000000000)\n"
   ]
  },
  {
   "cell_type": "code",
   "execution_count": null,
   "metadata": {},
   "outputs": [],
   "source": []
  }
 ],
 "metadata": {
  "kernelspec": {
   "display_name": "Julia 1.2.0",
   "language": "julia",
   "name": "julia-1.2"
  },
  "language_info": {
   "file_extension": ".jl",
   "mimetype": "application/julia",
   "name": "julia",
   "version": "1.2.0"
  }
 },
 "nbformat": 4,
 "nbformat_minor": 2
}
