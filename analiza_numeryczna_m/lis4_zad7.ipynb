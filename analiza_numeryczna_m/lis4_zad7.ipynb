{
 "cells": [
  {
   "cell_type": "code",
   "execution_count": 1,
   "metadata": {},
   "outputs": [],
   "source": [
    "using Printf\n",
    "\n"
   ]
  },
  {
   "cell_type": "code",
   "execution_count": 15,
   "metadata": {},
   "outputs": [
    {
     "data": {
      "text/plain": [
       "Bairstow (generic function with 1 method)"
      ]
     },
     "execution_count": 15,
     "metadata": {},
     "output_type": "execute_result"
    }
   ],
   "source": [
    "function Bairstow(a::Vector{BigFloat}; maxiter=10)    \n",
    "    # maxiter = maksymalna liczba iteracji w metodzie Newtona\n",
    "    function solve_quadratic_equation(a::BigFloat,b::BigFloat,c::BigFloat)\n",
    "        Δ=b*b-4.0*a*c;\n",
    "        x1,x2 = 0.0, 0.0;\n",
    "        \n",
    "        if (Δ>0.0)\n",
    "            sΔ = sqrt(Δ)\n",
    "            if (b>0.0)\n",
    "                x1 = (-b-sΔ)/(2.0*a)\n",
    "                x2 = c/x1\n",
    "            else\n",
    "                x2 = (-b+sΔ)/(2.0*a)\n",
    "                x1 = c/x2\n",
    "            end\n",
    "        elseif (Δ<0.0)\n",
    "            sΔ = sqrt(-Δ)\n",
    "            if (b>0.0)\n",
    "                x1 = (-b-sΔ*im)/(2.0*a)\n",
    "                x2 = c/x1\n",
    "            else\n",
    "                x2 = (-b+sΔ*im)/(2.0*a)\n",
    "                x1 = c/x2\n",
    "            end\n",
    "        else\n",
    "            x1 = -b/(2.0*a);\n",
    "            x2 = -b/(2.0*a);\n",
    "        end\n",
    "        return x1,x2;\n",
    "    end      \n",
    "    \n",
    "    n = length(a)-1;\n",
    "    α = zeros( Complex{BigFloat}, n ); _i = 1;\n",
    "    while (n>1)\n",
    "        b = zeros(BigFloat, size(a))\n",
    "        b[n+1] = a[n+1]     # b_n     = a_n\n",
    "        c = zeros(BigFloat, size(a))\n",
    "        c[n+1] = 0.0        # c_n     = 0\n",
    "        c[n]   = a[n+1]     # c_{n-1} = a_n\n",
    "\n",
    "        u,v = 0.1, 0.1\n",
    "        for j = 1:maxiter\n",
    "            b[n] = a[n] + u*b[n+1]\n",
    "            for k=n-2:-1:0\n",
    "                b[k+1] = a[k+1] + u*b[k+2] + v*b[k+3]\n",
    "                c[k+1] = b[k+2] + u*c[k+2] + v*c[k+3]\n",
    "            end\n",
    "            J = c[1]*c[3] - c[2]*c[2]\n",
    "            u = u + (c[2]*b[2] - c[3]*b[1])/J\n",
    "            v = v + (c[2]*b[1] - c[1]*b[2])/J\n",
    "            j,u,v,b[1],b[2]\n",
    "        end\n",
    "        @show u, v\n",
    "        #aa=1.0\n",
    "        #aa::BigFloat\n",
    "        x1,x2 = solve_quadratic_equation(BigFloat(1.0),-u,-v)\n",
    "        α[_i] = x1; α[_i+1] = x2; _i = _i+2;\n",
    "        a = b[3:end]\n",
    "        n = n-2;\n",
    "    end\n",
    "    \n",
    "    if (n==1)\n",
    "        α[_i] = -a[1]/a[2]\n",
    "    end\n",
    "    return α\n",
    "end"
   ]
  },
  {
   "cell_type": "code",
   "execution_count": 30,
   "metadata": {},
   "outputs": [
    {
     "data": {
      "text/plain": [
       "4-element Array{Complex{Float64},1}:\n",
       " -0.5378322749029902 - 0.35828468634512844im\n",
       " -0.5378322749029902 + 0.35828468634512844im\n",
       "  0.1378322749029901 - 0.6781543891053368im \n",
       "  0.1378322749029901 + 0.6781543891053368im "
      ]
     },
     "execution_count": 30,
     "metadata": {},
     "output_type": "execute_result"
    }
   ],
   "source": [
    "using Polynomials\n",
    "setprecision(128)\n",
    "# p(x) = 2x^6 +  25x^5 -  4x^4 + 13x^3 + 172x^2 - 7x - 24\n",
    "a = reverse(  Array{Float64,1}([ 5, 4, 3, 2, 1]) )\n",
    "roots(Poly(a))"
   ]
  },
  {
   "cell_type": "code",
   "execution_count": 47,
   "metadata": {},
   "outputs": [
    {
     "name": "stdout",
     "output_type": "stream",
     "text": [
      "(u, v) = (-1.075664549805979905974267542163423718713, -0.4176314723967521144504154844146490384603)\n",
      "(u, v) = (0.2756645498059799059742675421634237187123, -0.4788911114677653865455198933820164520456)\n"
     ]
    },
    {
     "data": {
      "text/plain": [
       "4-element Array{Complex{BigFloat},1}:\n",
       " -0.5378322749029899529871337710817118593565 - 0.358284686345128010700776627336121387988im \n",
       " -0.5378322749029899529871337710817118593565 + 0.3582846863451280107007766273361213879895im\n",
       "  0.1378322749029899529871337710817118593562 - 0.6781543891053363907966197665790500558881im\n",
       "  0.1378322749029899529871337710817118593562 + 0.6781543891053363907966197665790500558852im"
      ]
     },
     "execution_count": 47,
     "metadata": {},
     "output_type": "execute_result"
    }
   ],
   "source": [
    "a = reverse(  Array{BigFloat,1}([ 2, 25, -4, 13, 172, -7, -24 ]) )\n",
    "#Bairstow(a)\n",
    "#setprecision(128)\n",
    "b = reverse(  Array{BigFloat,1}([ 5, 4, 3, 2, 1]) )\n",
    "c = Bairstow(b)"
   ]
  },
  {
   "cell_type": "code",
   "execution_count": 48,
   "metadata": {},
   "outputs": [
    {
     "name": "stdout",
     "output_type": "stream",
     "text": [
      "z_r = -0.5378322749029900, \t  z_i = -0.3582846863451280\n",
      "z_r = -0.5378322749029900, \t  z_i = 0.3582846863451280\n",
      "z_r = 0.1378322749029900, \t  z_i = -0.6781543891053364\n",
      "z_r = 0.1378322749029900, \t  z_i = 0.6781543891053364\n"
     ]
    }
   ],
   "source": [
    "for i = 1:4 \n",
    "    @printf(\"z_r = %10.16f, \\t  z_i = %10.16f\\n\",real(c[i]), imag(c[i]))\n",
    "end"
   ]
  },
  {
   "cell_type": "code",
   "execution_count": null,
   "metadata": {},
   "outputs": [],
   "source": []
  },
  {
   "cell_type": "code",
   "execution_count": null,
   "metadata": {},
   "outputs": [],
   "source": []
  }
 ],
 "metadata": {
  "@webio": {
   "lastCommId": null,
   "lastKernelId": null
  },
  "kernelspec": {
   "display_name": "Julia 1.2.0",
   "language": "julia",
   "name": "julia-1.2"
  },
  "language_info": {
   "file_extension": ".jl",
   "mimetype": "application/julia",
   "name": "julia",
   "version": "1.2.0"
  }
 },
 "nbformat": 4,
 "nbformat_minor": 2
}
