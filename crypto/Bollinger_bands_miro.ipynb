{
  "nbformat": 4,
  "nbformat_minor": 0,
  "metadata": {
    "colab": {
      "name": "Bollinger_bands_miro.ipynb",
      "provenance": [],
      "toc_visible": true
    },
    "kernelspec": {
      "name": "python3",
      "display_name": "Python 3"
    },
    "language_info": {
      "name": "python"
    }
  },
  "cells": [
    {
      "cell_type": "code",
      "metadata": {
        "id": "O2LVXkQcS1bW"
      },
      "source": [
        "import plotly.graph_objects as go\n",
        "\n",
        "import pandas as pd\n",
        "import numpy as np\n",
        "import time\n",
        "import os\n",
        "import requests\n",
        "from pprint import pprint\n",
        "import subprocess\n",
        "import datetime as dt\n",
        "import json\n",
        "import pandas as pd\n",
        "\n",
        "from xgboost import XGBClassifier\n",
        "from tqdm import tqdm"
      ],
      "execution_count": null,
      "outputs": []
    },
    {
      "cell_type": "code",
      "metadata": {
        "id": "E6s_2BD-S_RH"
      },
      "source": [
        ""
      ],
      "execution_count": null,
      "outputs": []
    },
    {
      "cell_type": "code",
      "metadata": {
        "colab": {
          "base_uri": "https://localhost:8080/"
        },
        "id": "5ryr6eOeS_Oc",
        "outputId": "d6ca95fc-b791-4e9a-a408-7f9fe77c5958"
      },
      "source": [
        "from google.colab import drive\n",
        "drive.mount('/content/drive')\n",
        "%cd '/content/drive/My Drive/hajsy'"
      ],
      "execution_count": null,
      "outputs": [
        {
          "output_type": "stream",
          "name": "stdout",
          "text": [
            "Mounted at /content/drive\n",
            "/content/drive/My Drive/hajsy\n"
          ]
        }
      ]
    },
    {
      "cell_type": "code",
      "metadata": {
        "id": "CU3zjHK0S_LZ"
      },
      "source": [
        "btc_df = pd.read_csv('data_jan_oct.csv', index_col=0) # BTC JAN TO OCT\n",
        "# doge_df = pd.read_csv('data_doge_jan_sep.csv', index_col=0) # DOGE JAN TO SEPT"
      ],
      "execution_count": null,
      "outputs": []
    },
    {
      "cell_type": "code",
      "metadata": {
        "colab": {
          "base_uri": "https://localhost:8080/",
          "height": 419
        },
        "id": "0Hp1AnygS_Io",
        "outputId": "2fc9d436-4bb3-4251-d52a-02d01a170ddc"
      },
      "source": [
        "btc_df"
      ],
      "execution_count": null,
      "outputs": [
        {
          "output_type": "execute_result",
          "data": {
            "text/html": [
              "<div>\n",
              "<style scoped>\n",
              "    .dataframe tbody tr th:only-of-type {\n",
              "        vertical-align: middle;\n",
              "    }\n",
              "\n",
              "    .dataframe tbody tr th {\n",
              "        vertical-align: top;\n",
              "    }\n",
              "\n",
              "    .dataframe thead th {\n",
              "        text-align: right;\n",
              "    }\n",
              "</style>\n",
              "<table border=\"1\" class=\"dataframe\">\n",
              "  <thead>\n",
              "    <tr style=\"text-align: right;\">\n",
              "      <th></th>\n",
              "      <th>open</th>\n",
              "      <th>high</th>\n",
              "      <th>low</th>\n",
              "      <th>close</th>\n",
              "      <th>vol</th>\n",
              "    </tr>\n",
              "  </thead>\n",
              "  <tbody>\n",
              "    <tr>\n",
              "      <th>2021-01-01 00:00:00</th>\n",
              "      <td>28923.63</td>\n",
              "      <td>28961.66</td>\n",
              "      <td>28913.12</td>\n",
              "      <td>28961.66</td>\n",
              "      <td>27.457032</td>\n",
              "    </tr>\n",
              "    <tr>\n",
              "      <th>2021-01-01 00:01:00</th>\n",
              "      <td>28961.67</td>\n",
              "      <td>29009.91</td>\n",
              "      <td>28961.01</td>\n",
              "      <td>29017.50</td>\n",
              "      <td>58.477501</td>\n",
              "    </tr>\n",
              "    <tr>\n",
              "      <th>2021-01-01 00:02:00</th>\n",
              "      <td>29009.54</td>\n",
              "      <td>28989.30</td>\n",
              "      <td>28973.58</td>\n",
              "      <td>29016.71</td>\n",
              "      <td>42.470329</td>\n",
              "    </tr>\n",
              "    <tr>\n",
              "      <th>2021-01-01 00:03:00</th>\n",
              "      <td>28989.68</td>\n",
              "      <td>28982.69</td>\n",
              "      <td>28972.33</td>\n",
              "      <td>28999.85</td>\n",
              "      <td>30.360677</td>\n",
              "    </tr>\n",
              "    <tr>\n",
              "      <th>2021-01-01 00:04:00</th>\n",
              "      <td>28982.67</td>\n",
              "      <td>28975.65</td>\n",
              "      <td>28971.80</td>\n",
              "      <td>28995.93</td>\n",
              "      <td>24.124339</td>\n",
              "    </tr>\n",
              "    <tr>\n",
              "      <th>...</th>\n",
              "      <td>...</td>\n",
              "      <td>...</td>\n",
              "      <td>...</td>\n",
              "      <td>...</td>\n",
              "      <td>...</td>\n",
              "    </tr>\n",
              "    <tr>\n",
              "      <th>2021-10-24 20:35:00</th>\n",
              "      <td>60973.73</td>\n",
              "      <td>60990.30</td>\n",
              "      <td>60942.99</td>\n",
              "      <td>61010.79</td>\n",
              "      <td>26.955470</td>\n",
              "    </tr>\n",
              "    <tr>\n",
              "      <th>2021-10-24 20:36:00</th>\n",
              "      <td>60990.29</td>\n",
              "      <td>60988.67</td>\n",
              "      <td>60967.21</td>\n",
              "      <td>60996.24</td>\n",
              "      <td>15.450520</td>\n",
              "    </tr>\n",
              "    <tr>\n",
              "      <th>2021-10-24 20:37:00</th>\n",
              "      <td>60988.67</td>\n",
              "      <td>60939.90</td>\n",
              "      <td>60939.90</td>\n",
              "      <td>60988.67</td>\n",
              "      <td>39.582950</td>\n",
              "    </tr>\n",
              "    <tr>\n",
              "      <th>2021-10-24 20:38:00</th>\n",
              "      <td>60939.90</td>\n",
              "      <td>60939.99</td>\n",
              "      <td>60928.71</td>\n",
              "      <td>60950.00</td>\n",
              "      <td>11.011360</td>\n",
              "    </tr>\n",
              "    <tr>\n",
              "      <th>2021-10-24 20:39:00</th>\n",
              "      <td>60940.00</td>\n",
              "      <td>60937.03</td>\n",
              "      <td>60935.00</td>\n",
              "      <td>60940.00</td>\n",
              "      <td>3.878300</td>\n",
              "    </tr>\n",
              "  </tbody>\n",
              "</table>\n",
              "<p>426487 rows × 5 columns</p>\n",
              "</div>"
            ],
            "text/plain": [
              "                         open      high       low     close        vol\n",
              "2021-01-01 00:00:00  28923.63  28961.66  28913.12  28961.66  27.457032\n",
              "2021-01-01 00:01:00  28961.67  29009.91  28961.01  29017.50  58.477501\n",
              "2021-01-01 00:02:00  29009.54  28989.30  28973.58  29016.71  42.470329\n",
              "2021-01-01 00:03:00  28989.68  28982.69  28972.33  28999.85  30.360677\n",
              "2021-01-01 00:04:00  28982.67  28975.65  28971.80  28995.93  24.124339\n",
              "...                       ...       ...       ...       ...        ...\n",
              "2021-10-24 20:35:00  60973.73  60990.30  60942.99  61010.79  26.955470\n",
              "2021-10-24 20:36:00  60990.29  60988.67  60967.21  60996.24  15.450520\n",
              "2021-10-24 20:37:00  60988.67  60939.90  60939.90  60988.67  39.582950\n",
              "2021-10-24 20:38:00  60939.90  60939.99  60928.71  60950.00  11.011360\n",
              "2021-10-24 20:39:00  60940.00  60937.03  60935.00  60940.00   3.878300\n",
              "\n",
              "[426487 rows x 5 columns]"
            ]
          },
          "metadata": {},
          "execution_count": 4
        }
      ]
    },
    {
      "cell_type": "markdown",
      "metadata": {
        "id": "U5Hg8R27t5aU"
      },
      "source": [
        "## bollinger bands strategy tests with few tweaks"
      ]
    },
    {
      "cell_type": "code",
      "metadata": {
        "id": "Pa7QXIKKS_Fp"
      },
      "source": [
        "def test_strategy_bollinger_down(prices_df, period_len = 100, size_std = 3, ma_std = 0, cross_col='cross_signal_down_down', cross_ma_col='cross_ma_down', ret_plot = False, eps=0.0):\n",
        "    \n",
        "    prices_df[\"ma\"] = prices_df.price.rolling(period_len).mean() + ma_std*prices_df.price.rolling(period_len).std()# 5h hourse\n",
        "    prices_df[\"std\"] = prices_df.price.rolling(period_len).std()\n",
        "    prices_df[\"bb_u\"] = prices_df[\"ma\"] + size_std*prices_df[\"std\"]\n",
        "    prices_df[\"bb_l\"] = prices_df[\"ma\"] - size_std*prices_df[\"std\"]\n",
        "\n",
        "    prices_df[\"cross_signal_down_down\"] = (prices_df.price.shift(1) > prices_df.bb_l.shift(1)) & (prices_df.price < prices_df.bb_l)\n",
        "    prices_df[\"cross_signal_down_up\"] = (prices_df.price.shift(1) < prices_df.bb_l.shift(1)) & (prices_df.price > prices_df.bb_l)\n",
        "    prices_df[\"cross_signal_up_up\"] = (prices_df.price.shift(1) < prices_df.bb_u.shift(1)) & (prices_df.price > prices_df.bb_u)\n",
        "    prices_df[\"cross_signal_up_down\"] = (prices_df.price.shift(1) > prices_df.bb_u.shift(1)) & (prices_df.price < prices_df.bb_u)\n",
        "    prices_df['cross_ma_down'] = (prices_df.price.shift(1) < prices_df.ma.shift(1)) & (prices_df.price > prices_df.ma)\n",
        "    prices_df['cross_ma_up'] = (prices_df.price.shift(1) > prices_df.ma.shift(1)) & (prices_df.price < prices_df.ma)\n",
        "    cross_down = np.where(prices_df[cross_col])[0]\n",
        "    cross_ma = np.where(prices_df[cross_ma_col])[0] \n",
        "\n",
        "    money = 1000\n",
        "    stock = 0\n",
        "    num_trans = 0\n",
        "    have_stock = False\n",
        "    prev_price = 0\n",
        "    sells = []\n",
        "    buys = []\n",
        "    moneys = []\n",
        "\n",
        "    for i in range(prices_df.shape[0]):\n",
        "        prev_state = have_stock\n",
        "        money, stock, have_stock, prev_price = bollinger_strategy_down( prices_df.price[i], prev_price , money, stock, have_stock, i in cross_ma, i in cross_down, eps)\n",
        "\n",
        "        if have_stock != prev_state:\n",
        "            num_trans+=1\n",
        "            if have_stock:\n",
        "                buys.append(i)\n",
        "            else:\n",
        "                sells.append(i)\n",
        "                moneys.append(money)\n",
        "            \n",
        "    sells = np.array(sells)\n",
        "    buys = np.array(buys)\n",
        "    moneys = np.array(moneys)\n",
        "    #####\n",
        "\n",
        "    if ret_plot:\n",
        "\n",
        "        fig = go.Figure()\n",
        "        fig.add_trace(go.Scatter(x=prices_df.index, y=prices_df.price, mode=\"lines\", name=\"price\"))\n",
        "        fig.add_trace(go.Scatter(x=prices_df.index, y=prices_df.ma, mode=\"lines\", name=f\"ma period_len {period_len}\"))\n",
        "        fig.add_trace(go.Scatter(x=prices_df.index[buys], y=prices_df.price[buys], mode=\"markers\", marker=dict(size=12, color=\"green\"), name='Buy signal'))\n",
        "        fig.add_trace(go.Scatter(x=prices_df.index[sells], y=prices_df.price[sells], mode=\"markers\", marker=dict(size=12, color=\"blue\"), name='Sell signal'))\n",
        "\n",
        "        fig2 = go.Figure()\n",
        "        fig2.add_trace(go.Scatter(x=prices_df.index[sells], y=moneys, mode=\"lines\", name=\"price\"))\n",
        "\n",
        "        return money, stock, num_trans, period_len, size_std, ma_std, cross_col, cross_ma_col, sells, buys, fig, fig2\n",
        "\n",
        "    return money, stock, num_trans, period_len, size_std, ma_std, cross_col, cross_ma_col, sells, buys, eps\n",
        "\n",
        "def bollinger_strategy_down(price, prev_price, money = 1000, stock = 0, have_stock = False, ma_crossed = False, bollinger_crossed = False, eps = 0.0):\n",
        "    transaction_fee = 0.999\n",
        "\n",
        "    if have_stock:\n",
        "        diff = (prev_price - price) / prev_price\n",
        "\n",
        "        if ma_crossed or diff > eps:\n",
        "            money += stock * price * transaction_fee\n",
        "            stock = 0\n",
        "            have_stock = False\n",
        "\n",
        "    elif not have_stock and bollinger_crossed:\n",
        "\n",
        "        stock = (money / price) * transaction_fee\n",
        "        prev_price = price\n",
        "        money = 0\n",
        "        have_stock = True\n",
        "\n",
        "    return money, stock, have_stock, prev_price\n",
        "\n"
      ],
      "execution_count": null,
      "outputs": []
    },
    {
      "cell_type": "markdown",
      "metadata": {
        "id": "cTk5jdQruAJI"
      },
      "source": [
        "## few simple test"
      ]
    },
    {
      "cell_type": "code",
      "metadata": {
        "colab": {
          "base_uri": "https://localhost:8080/",
          "height": 542
        },
        "id": "IroiMbhyS_C0",
        "outputId": "c44bd0bb-ab4b-4528-aec8-e5e3e87bdbf9"
      },
      "source": [
        "x = test_strategy_bollinger_down(btc_df.rename(columns = {'close' : 'price'}), 250,\t4.5,\t0.3,\t'cross_signal_down_down',\t'cross_ma_up', ret_plot = True, eps = 0.07)\n",
        "x[-1].show()"
      ],
      "execution_count": null,
      "outputs": [
        {
          "output_type": "display_data",
          "data": {
            "text/html": [
              "<html>\n",
              "<head><meta charset=\"utf-8\" /></head>\n",
              "<body>\n",
              "    <div>\n",
              "            <script src=\"https://cdnjs.cloudflare.com/ajax/libs/mathjax/2.7.5/MathJax.js?config=TeX-AMS-MML_SVG\"></script><script type=\"text/javascript\">if (window.MathJax) {MathJax.Hub.Config({SVG: {font: \"STIX-Web\"}});}</script>\n",
              "                <script type=\"text/javascript\">window.PlotlyConfig = {MathJaxConfig: 'local'};</script>\n",
              "        <script src=\"https://cdn.plot.ly/plotly-latest.min.js\"></script>    \n",
              "            <div id=\"1f26ac28-6c9c-4e7f-ae95-2525c16cf6ec\" class=\"plotly-graph-div\" style=\"height:525px; width:100%;\"></div>\n",
              "            <script type=\"text/javascript\">\n",
              "                \n",
              "                    window.PLOTLYENV=window.PLOTLYENV || {};\n",
              "                    \n",
              "                if (document.getElementById(\"1f26ac28-6c9c-4e7f-ae95-2525c16cf6ec\")) {\n",
              "                    Plotly.newPlot(\n",
              "                        '1f26ac28-6c9c-4e7f-ae95-2525c16cf6ec',\n",
              "                        [{\"mode\": \"lines\", \"name\": \"price\", \"type\": \"scatter\", \"x\": [\"2021-01-01 20:35:00\", \"2021-01-03 00:07:00\", \"2021-01-04 10:15:00\", \"2021-01-08 17:07:00\", \"2021-01-10 16:00:00\", \"2021-01-10 21:05:00\", \"2021-01-15 00:00:00\", \"2021-01-20 06:08:00\", \"2021-01-20 17:02:00\", \"2021-01-29 14:34:00\", \"2021-02-10 17:57:00\", \"2021-02-12 18:26:00\", \"2021-02-13 12:30:00\", \"2021-02-15 06:41:00\", \"2021-02-16 01:36:00\", \"2021-02-21 04:07:00\", \"2021-02-22 15:06:00\", \"2021-03-05 04:56:00\", \"2021-03-17 12:38:00\", \"2021-03-19 02:29:00\", \"2021-03-21 00:34:00\", \"2021-03-21 16:03:00\", \"2021-03-22 18:06:00\", \"2021-03-25 16:24:00\", \"2021-03-27 14:05:00\", \"2021-04-03 10:58:00\", \"2021-04-04 02:19:00\", \"2021-04-04 15:43:00\", \"2021-04-06 17:21:00\", \"2021-04-06 23:39:00\", \"2021-04-10 16:22:00\", \"2021-04-18 08:09:00\", \"2021-04-26 07:18:00\", \"2021-05-02 10:33:00\", \"2021-05-03 18:20:00\", \"2021-05-04 04:52:00\", \"2021-05-06 21:40:00\", \"2021-05-09 15:56:00\", \"2021-05-13 00:02:00\", \"2021-05-13 19:46:00\", \"2021-05-19 12:53:00\", \"2021-05-19 15:01:00\", \"2021-05-21 16:00:00\", \"2021-05-29 06:52:00\", \"2021-06-04 10:29:00\", \"2021-06-04 12:40:00\", \"2021-06-04 23:45:00\", \"2021-06-05 17:13:00\", \"2021-06-05 23:58:00\", \"2021-06-06 23:50:00\", \"2021-06-08 07:06:00\", \"2021-06-08 23:27:00\", \"2021-06-12 14:05:00\", \"2021-06-16 16:22:00\", \"2021-06-20 22:13:00\", \"2021-06-30 07:26:00\", \"2021-07-01 11:21:00\", \"2021-07-03 23:56:00\", \"2021-07-04 15:08:00\", \"2021-07-05 15:10:00\", \"2021-07-05 20:24:00\", \"2021-07-06 13:36:00\", \"2021-07-07 12:46:00\", \"2021-07-08 06:09:00\", \"2021-07-08 11:40:00\", \"2021-07-12 19:13:00\", \"2021-07-13 06:42:00\", \"2021-07-13 16:15:00\", \"2021-07-14 07:57:00\", \"2021-07-14 12:18:00\", \"2021-07-15 14:41:00\", \"2021-07-18 20:59:00\", \"2021-07-19 17:23:00\", \"2021-07-20 10:28:00\", \"2021-07-30 12:44:00\", \"2021-08-02 03:05:00\", \"2021-08-02 23:49:00\", \"2021-08-03 13:51:00\", \"2021-08-05 04:12:00\", \"2021-08-06 05:27:00\", \"2021-08-14 17:21:00\", \"2021-08-15 11:49:00\", \"2021-08-16 18:07:00\", \"2021-08-16 22:08:00\", \"2021-08-23 20:56:00\", \"2021-08-25 02:22:00\", \"2021-08-26 12:48:00\", \"2021-08-28 06:43:00\", \"2021-09-03 03:10:00\", \"2021-09-06 14:08:00\", \"2021-09-07 15:00:00\", \"2021-09-07 19:26:00\", \"2021-09-13 01:11:00\", \"2021-09-17 20:03:00\", \"2021-09-18 12:12:00\", \"2021-09-19 16:55:00\", \"2021-09-20 07:07:00\", \"2021-09-20 10:20:00\", \"2021-09-21 02:44:00\", \"2021-09-26 13:27:00\", \"2021-09-29 00:41:00\", \"2021-10-03 07:10:00\", \"2021-10-06 17:15:00\", \"2021-10-10 15:00:00\", \"2021-10-13 00:04:00\", \"2021-10-13 10:37:00\", \"2021-10-16 20:03:00\", \"2021-10-18 02:57:00\", \"2021-10-21 05:17:00\", \"2021-10-22 20:01:00\", \"2021-10-23 11:13:00\"], \"y\": [1011.8532278123957, 1040.925929177723, 963.636726503702, 988.0477477584817, 973.9942843895786, 965.5730288285257, 974.390533355165, 962.980839055623, 996.3083919621298, 1124.2537110365656, 1112.7389532257034, 1124.8042384452062, 1130.960522615882, 1132.2042487306194, 1129.7062923892854, 1156.0721605949025, 1243.3364441107808, 1241.5528708489005, 1252.5875318865747, 1265.6981856792297, 1262.3464998275597, 1266.2615715791962, 1279.465775900225, 1275.5570823115397, 1276.1761286459935, 1282.8365651052445, 1247.952550338843, 1263.1382998466554, 1271.9130953658325, 1273.2218894434081, 1277.4947640928108, 1261.4523076895998, 1363.7954257158663, 1356.4003114605355, 1353.2476060952438, 1350.4299155972672, 1353.6680739600322, 1358.8192363537669, 1233.0673173141668, 1240.1158312092568, 1150.6487444060174, 1369.23157467958, 1270.5521518880664, 1298.255775949541, 1250.4529854364464, 1269.5070747052832, 1284.2688626140812, 1238.6819046224168, 1247.9772412981495, 1260.5430287719432, 1168.017114821124, 1213.177167409023, 1245.2683420429296, 1236.9296743883906, 1267.621255295396, 1237.2939358082324, 1220.3872433976765, 1229.045256187742, 1233.5108044806807, 1229.351123269176, 1243.3989461186995, 1231.1610145572934, 1237.2252082526074, 1247.7488953000723, 1240.7510662383104, 1215.2148599593875, 1221.6858841189578, 1207.8114696284333, 1206.5249732866603, 1230.887977019162, 1215.8832898809949, 1218.144996964703, 1210.6840974705651, 1217.5451511260476, 1193.2361263358289, 1178.0210530335728, 1187.6182594329136, 1201.1989052168592, 1204.153399148195, 1197.3168615812954, 1188.5178728989765, 1165.6934358673464, 1157.039164919597, 1162.4212546462074, 1150.3144596495906, 1157.7978978056542, 1168.241096553233, 1172.7065837834973, 1179.393904075651, 1185.3138409590465, 1094.9878272351211, 1121.850397216694, 1127.006517024253, 1136.3916399877548, 1141.3499493535653, 1142.2665271212609, 1122.2739621631888, 1130.7133790500993, 1168.5139005983558, 1211.0054917280079, 1226.1574557037138, 1227.9924164504323, 1322.5173435059246, 1319.4296793270244, 1312.0749958686679, 1292.3597680910275, 1282.9190716428768, 1325.7715498566213, 1333.6999912918375, 1294.8171104034395, 1298.366207253856]}],\n",
              "                        {\"template\": {\"data\": {\"bar\": [{\"error_x\": {\"color\": \"#2a3f5f\"}, \"error_y\": {\"color\": \"#2a3f5f\"}, \"marker\": {\"line\": {\"color\": \"#E5ECF6\", \"width\": 0.5}}, \"type\": \"bar\"}], \"barpolar\": [{\"marker\": {\"line\": {\"color\": \"#E5ECF6\", \"width\": 0.5}}, \"type\": \"barpolar\"}], \"carpet\": [{\"aaxis\": {\"endlinecolor\": \"#2a3f5f\", \"gridcolor\": \"white\", \"linecolor\": \"white\", \"minorgridcolor\": \"white\", \"startlinecolor\": \"#2a3f5f\"}, \"baxis\": {\"endlinecolor\": \"#2a3f5f\", \"gridcolor\": \"white\", \"linecolor\": \"white\", \"minorgridcolor\": \"white\", \"startlinecolor\": \"#2a3f5f\"}, \"type\": \"carpet\"}], \"choropleth\": [{\"colorbar\": {\"outlinewidth\": 0, \"ticks\": \"\"}, \"type\": \"choropleth\"}], \"contour\": [{\"colorbar\": {\"outlinewidth\": 0, \"ticks\": \"\"}, \"colorscale\": [[0.0, \"#0d0887\"], [0.1111111111111111, \"#46039f\"], [0.2222222222222222, \"#7201a8\"], [0.3333333333333333, \"#9c179e\"], [0.4444444444444444, \"#bd3786\"], [0.5555555555555556, \"#d8576b\"], [0.6666666666666666, \"#ed7953\"], [0.7777777777777778, \"#fb9f3a\"], [0.8888888888888888, \"#fdca26\"], [1.0, \"#f0f921\"]], \"type\": \"contour\"}], \"contourcarpet\": [{\"colorbar\": {\"outlinewidth\": 0, \"ticks\": \"\"}, \"type\": \"contourcarpet\"}], \"heatmap\": [{\"colorbar\": {\"outlinewidth\": 0, \"ticks\": \"\"}, \"colorscale\": [[0.0, \"#0d0887\"], [0.1111111111111111, \"#46039f\"], [0.2222222222222222, \"#7201a8\"], [0.3333333333333333, \"#9c179e\"], [0.4444444444444444, \"#bd3786\"], [0.5555555555555556, \"#d8576b\"], [0.6666666666666666, \"#ed7953\"], [0.7777777777777778, \"#fb9f3a\"], [0.8888888888888888, \"#fdca26\"], [1.0, \"#f0f921\"]], \"type\": \"heatmap\"}], \"heatmapgl\": [{\"colorbar\": {\"outlinewidth\": 0, \"ticks\": \"\"}, \"colorscale\": [[0.0, \"#0d0887\"], [0.1111111111111111, \"#46039f\"], [0.2222222222222222, \"#7201a8\"], [0.3333333333333333, \"#9c179e\"], [0.4444444444444444, \"#bd3786\"], [0.5555555555555556, \"#d8576b\"], [0.6666666666666666, \"#ed7953\"], [0.7777777777777778, \"#fb9f3a\"], [0.8888888888888888, \"#fdca26\"], [1.0, \"#f0f921\"]], \"type\": \"heatmapgl\"}], \"histogram\": [{\"marker\": {\"colorbar\": {\"outlinewidth\": 0, \"ticks\": \"\"}}, \"type\": \"histogram\"}], \"histogram2d\": [{\"colorbar\": {\"outlinewidth\": 0, \"ticks\": \"\"}, \"colorscale\": [[0.0, \"#0d0887\"], [0.1111111111111111, \"#46039f\"], [0.2222222222222222, \"#7201a8\"], [0.3333333333333333, \"#9c179e\"], [0.4444444444444444, \"#bd3786\"], [0.5555555555555556, \"#d8576b\"], [0.6666666666666666, \"#ed7953\"], [0.7777777777777778, \"#fb9f3a\"], [0.8888888888888888, \"#fdca26\"], [1.0, \"#f0f921\"]], \"type\": \"histogram2d\"}], \"histogram2dcontour\": [{\"colorbar\": {\"outlinewidth\": 0, \"ticks\": \"\"}, \"colorscale\": [[0.0, \"#0d0887\"], [0.1111111111111111, \"#46039f\"], [0.2222222222222222, \"#7201a8\"], [0.3333333333333333, \"#9c179e\"], [0.4444444444444444, \"#bd3786\"], [0.5555555555555556, \"#d8576b\"], [0.6666666666666666, \"#ed7953\"], [0.7777777777777778, \"#fb9f3a\"], [0.8888888888888888, \"#fdca26\"], [1.0, \"#f0f921\"]], \"type\": \"histogram2dcontour\"}], \"mesh3d\": [{\"colorbar\": {\"outlinewidth\": 0, \"ticks\": \"\"}, \"type\": \"mesh3d\"}], \"parcoords\": [{\"line\": {\"colorbar\": {\"outlinewidth\": 0, \"ticks\": \"\"}}, \"type\": \"parcoords\"}], \"pie\": [{\"automargin\": true, \"type\": \"pie\"}], \"scatter\": [{\"marker\": {\"colorbar\": {\"outlinewidth\": 0, \"ticks\": \"\"}}, \"type\": \"scatter\"}], \"scatter3d\": [{\"line\": {\"colorbar\": {\"outlinewidth\": 0, \"ticks\": \"\"}}, \"marker\": {\"colorbar\": {\"outlinewidth\": 0, \"ticks\": \"\"}}, \"type\": \"scatter3d\"}], \"scattercarpet\": [{\"marker\": {\"colorbar\": {\"outlinewidth\": 0, \"ticks\": \"\"}}, \"type\": \"scattercarpet\"}], \"scattergeo\": [{\"marker\": {\"colorbar\": {\"outlinewidth\": 0, \"ticks\": \"\"}}, \"type\": \"scattergeo\"}], \"scattergl\": [{\"marker\": {\"colorbar\": {\"outlinewidth\": 0, \"ticks\": \"\"}}, \"type\": \"scattergl\"}], \"scattermapbox\": [{\"marker\": {\"colorbar\": {\"outlinewidth\": 0, \"ticks\": \"\"}}, \"type\": \"scattermapbox\"}], \"scatterpolar\": [{\"marker\": {\"colorbar\": {\"outlinewidth\": 0, \"ticks\": \"\"}}, \"type\": \"scatterpolar\"}], \"scatterpolargl\": [{\"marker\": {\"colorbar\": {\"outlinewidth\": 0, \"ticks\": \"\"}}, \"type\": \"scatterpolargl\"}], \"scatterternary\": [{\"marker\": {\"colorbar\": {\"outlinewidth\": 0, \"ticks\": \"\"}}, \"type\": \"scatterternary\"}], \"surface\": [{\"colorbar\": {\"outlinewidth\": 0, \"ticks\": \"\"}, \"colorscale\": [[0.0, \"#0d0887\"], [0.1111111111111111, \"#46039f\"], [0.2222222222222222, \"#7201a8\"], [0.3333333333333333, \"#9c179e\"], [0.4444444444444444, \"#bd3786\"], [0.5555555555555556, \"#d8576b\"], [0.6666666666666666, \"#ed7953\"], [0.7777777777777778, \"#fb9f3a\"], [0.8888888888888888, \"#fdca26\"], [1.0, \"#f0f921\"]], \"type\": \"surface\"}], \"table\": [{\"cells\": {\"fill\": {\"color\": \"#EBF0F8\"}, \"line\": {\"color\": \"white\"}}, \"header\": {\"fill\": {\"color\": \"#C8D4E3\"}, \"line\": {\"color\": \"white\"}}, \"type\": \"table\"}]}, \"layout\": {\"annotationdefaults\": {\"arrowcolor\": \"#2a3f5f\", \"arrowhead\": 0, \"arrowwidth\": 1}, \"coloraxis\": {\"colorbar\": {\"outlinewidth\": 0, \"ticks\": \"\"}}, \"colorscale\": {\"diverging\": [[0, \"#8e0152\"], [0.1, \"#c51b7d\"], [0.2, \"#de77ae\"], [0.3, \"#f1b6da\"], [0.4, \"#fde0ef\"], [0.5, \"#f7f7f7\"], [0.6, \"#e6f5d0\"], [0.7, \"#b8e186\"], [0.8, \"#7fbc41\"], [0.9, \"#4d9221\"], [1, \"#276419\"]], \"sequential\": [[0.0, \"#0d0887\"], [0.1111111111111111, \"#46039f\"], [0.2222222222222222, \"#7201a8\"], [0.3333333333333333, \"#9c179e\"], [0.4444444444444444, \"#bd3786\"], [0.5555555555555556, \"#d8576b\"], [0.6666666666666666, \"#ed7953\"], [0.7777777777777778, \"#fb9f3a\"], [0.8888888888888888, \"#fdca26\"], [1.0, \"#f0f921\"]], \"sequentialminus\": [[0.0, \"#0d0887\"], [0.1111111111111111, \"#46039f\"], [0.2222222222222222, \"#7201a8\"], [0.3333333333333333, \"#9c179e\"], [0.4444444444444444, \"#bd3786\"], [0.5555555555555556, \"#d8576b\"], [0.6666666666666666, \"#ed7953\"], [0.7777777777777778, \"#fb9f3a\"], [0.8888888888888888, \"#fdca26\"], [1.0, \"#f0f921\"]]}, \"colorway\": [\"#636efa\", \"#EF553B\", \"#00cc96\", \"#ab63fa\", \"#FFA15A\", \"#19d3f3\", \"#FF6692\", \"#B6E880\", \"#FF97FF\", \"#FECB52\"], \"font\": {\"color\": \"#2a3f5f\"}, \"geo\": {\"bgcolor\": \"white\", \"lakecolor\": \"white\", \"landcolor\": \"#E5ECF6\", \"showlakes\": true, \"showland\": true, \"subunitcolor\": \"white\"}, \"hoverlabel\": {\"align\": \"left\"}, \"hovermode\": \"closest\", \"mapbox\": {\"style\": \"light\"}, \"paper_bgcolor\": \"white\", \"plot_bgcolor\": \"#E5ECF6\", \"polar\": {\"angularaxis\": {\"gridcolor\": \"white\", \"linecolor\": \"white\", \"ticks\": \"\"}, \"bgcolor\": \"#E5ECF6\", \"radialaxis\": {\"gridcolor\": \"white\", \"linecolor\": \"white\", \"ticks\": \"\"}}, \"scene\": {\"xaxis\": {\"backgroundcolor\": \"#E5ECF6\", \"gridcolor\": \"white\", \"gridwidth\": 2, \"linecolor\": \"white\", \"showbackground\": true, \"ticks\": \"\", \"zerolinecolor\": \"white\"}, \"yaxis\": {\"backgroundcolor\": \"#E5ECF6\", \"gridcolor\": \"white\", \"gridwidth\": 2, \"linecolor\": \"white\", \"showbackground\": true, \"ticks\": \"\", \"zerolinecolor\": \"white\"}, \"zaxis\": {\"backgroundcolor\": \"#E5ECF6\", \"gridcolor\": \"white\", \"gridwidth\": 2, \"linecolor\": \"white\", \"showbackground\": true, \"ticks\": \"\", \"zerolinecolor\": \"white\"}}, \"shapedefaults\": {\"line\": {\"color\": \"#2a3f5f\"}}, \"ternary\": {\"aaxis\": {\"gridcolor\": \"white\", \"linecolor\": \"white\", \"ticks\": \"\"}, \"baxis\": {\"gridcolor\": \"white\", \"linecolor\": \"white\", \"ticks\": \"\"}, \"bgcolor\": \"#E5ECF6\", \"caxis\": {\"gridcolor\": \"white\", \"linecolor\": \"white\", \"ticks\": \"\"}}, \"title\": {\"x\": 0.05}, \"xaxis\": {\"automargin\": true, \"gridcolor\": \"white\", \"linecolor\": \"white\", \"ticks\": \"\", \"title\": {\"standoff\": 15}, \"zerolinecolor\": \"white\", \"zerolinewidth\": 2}, \"yaxis\": {\"automargin\": true, \"gridcolor\": \"white\", \"linecolor\": \"white\", \"ticks\": \"\", \"title\": {\"standoff\": 15}, \"zerolinecolor\": \"white\", \"zerolinewidth\": 2}}}},\n",
              "                        {\"responsive\": true}\n",
              "                    ).then(function(){\n",
              "                            \n",
              "var gd = document.getElementById('1f26ac28-6c9c-4e7f-ae95-2525c16cf6ec');\n",
              "var x = new MutationObserver(function (mutations, observer) {{\n",
              "        var display = window.getComputedStyle(gd).display;\n",
              "        if (!display || display === 'none') {{\n",
              "            console.log([gd, 'removed!']);\n",
              "            Plotly.purge(gd);\n",
              "            observer.disconnect();\n",
              "        }}\n",
              "}});\n",
              "\n",
              "// Listen for the removal of the full notebook cells\n",
              "var notebookContainer = gd.closest('#notebook-container');\n",
              "if (notebookContainer) {{\n",
              "    x.observe(notebookContainer, {childList: true});\n",
              "}}\n",
              "\n",
              "// Listen for the clearing of the current output cell\n",
              "var outputEl = gd.closest('.output');\n",
              "if (outputEl) {{\n",
              "    x.observe(outputEl, {childList: true});\n",
              "}}\n",
              "\n",
              "                        })\n",
              "                };\n",
              "                \n",
              "            </script>\n",
              "        </div>\n",
              "</body>\n",
              "</html>"
            ]
          },
          "metadata": {}
        }
      ]
    },
    {
      "cell_type": "code",
      "metadata": {
        "colab": {
          "base_uri": "https://localhost:8080/",
          "height": 542
        },
        "id": "Veydca65rcGs",
        "outputId": "0261a8fc-1cd0-4568-f67e-cae2722247ab"
      },
      "source": [
        "x = test_strategy_bollinger_down(btc_df.rename(columns = {'close' : 'price'}), 250,\t4.5,\t0.3,\t'cross_signal_down_down',\t'cross_ma_up', ret_plot = True, eps = 0.5)\n",
        "x[-1].show()"
      ],
      "execution_count": null,
      "outputs": [
        {
          "output_type": "display_data",
          "data": {
            "text/html": [
              "<html>\n",
              "<head><meta charset=\"utf-8\" /></head>\n",
              "<body>\n",
              "    <div>\n",
              "            <script src=\"https://cdnjs.cloudflare.com/ajax/libs/mathjax/2.7.5/MathJax.js?config=TeX-AMS-MML_SVG\"></script><script type=\"text/javascript\">if (window.MathJax) {MathJax.Hub.Config({SVG: {font: \"STIX-Web\"}});}</script>\n",
              "                <script type=\"text/javascript\">window.PlotlyConfig = {MathJaxConfig: 'local'};</script>\n",
              "        <script src=\"https://cdn.plot.ly/plotly-latest.min.js\"></script>    \n",
              "            <div id=\"bcd4bd85-d1e2-4158-85f9-7cf1f48e07a9\" class=\"plotly-graph-div\" style=\"height:525px; width:100%;\"></div>\n",
              "            <script type=\"text/javascript\">\n",
              "                \n",
              "                    window.PLOTLYENV=window.PLOTLYENV || {};\n",
              "                    \n",
              "                if (document.getElementById(\"bcd4bd85-d1e2-4158-85f9-7cf1f48e07a9\")) {\n",
              "                    Plotly.newPlot(\n",
              "                        'bcd4bd85-d1e2-4158-85f9-7cf1f48e07a9',\n",
              "                        [{\"mode\": \"lines\", \"name\": \"price\", \"type\": \"scatter\", \"x\": [\"2021-01-01 20:35:00\", \"2021-01-03 00:07:00\", \"2021-01-04 12:23:00\", \"2021-01-08 17:07:00\", \"2021-01-10 16:00:00\", \"2021-01-10 21:05:00\", \"2021-01-15 00:00:00\", \"2021-01-20 06:08:00\", \"2021-01-20 17:02:00\", \"2021-01-29 14:34:00\", \"2021-02-10 17:57:00\", \"2021-02-12 18:26:00\", \"2021-02-13 12:30:00\", \"2021-02-15 06:41:00\", \"2021-02-16 01:36:00\", \"2021-02-21 04:07:00\", \"2021-02-22 15:06:00\", \"2021-03-05 04:56:00\", \"2021-03-17 12:38:00\", \"2021-03-19 02:29:00\", \"2021-03-21 00:34:00\", \"2021-03-21 16:03:00\", \"2021-03-22 18:06:00\", \"2021-03-25 16:24:00\", \"2021-03-27 14:05:00\", \"2021-04-03 10:58:00\", \"2021-04-04 02:19:00\", \"2021-04-04 15:43:00\", \"2021-04-06 17:21:00\", \"2021-04-06 23:39:00\", \"2021-04-10 16:22:00\", \"2021-04-18 08:09:00\", \"2021-04-26 07:18:00\", \"2021-05-02 10:33:00\", \"2021-05-03 18:20:00\", \"2021-05-04 04:52:00\", \"2021-05-06 21:40:00\", \"2021-05-09 15:56:00\", \"2021-05-13 04:54:00\", \"2021-05-13 19:46:00\", \"2021-05-19 15:01:00\", \"2021-05-21 21:37:00\", \"2021-05-29 06:52:00\", \"2021-06-04 10:29:00\", \"2021-06-04 12:40:00\", \"2021-06-04 23:45:00\", \"2021-06-05 17:13:00\", \"2021-06-05 23:58:00\", \"2021-06-06 23:50:00\", \"2021-06-08 07:13:00\", \"2021-06-08 23:27:00\", \"2021-06-12 14:05:00\", \"2021-06-16 16:22:00\", \"2021-06-20 22:13:00\", \"2021-06-30 07:26:00\", \"2021-07-01 11:21:00\", \"2021-07-03 23:56:00\", \"2021-07-04 15:08:00\", \"2021-07-05 15:10:00\", \"2021-07-05 20:24:00\", \"2021-07-06 13:36:00\", \"2021-07-07 12:46:00\", \"2021-07-08 06:09:00\", \"2021-07-08 11:40:00\", \"2021-07-12 19:13:00\", \"2021-07-13 06:42:00\", \"2021-07-13 16:15:00\", \"2021-07-14 07:57:00\", \"2021-07-14 12:18:00\", \"2021-07-15 14:41:00\", \"2021-07-18 20:59:00\", \"2021-07-19 17:23:00\", \"2021-07-20 10:28:00\", \"2021-07-30 12:44:00\", \"2021-08-02 03:05:00\", \"2021-08-02 23:49:00\", \"2021-08-03 13:51:00\", \"2021-08-05 04:12:00\", \"2021-08-06 05:27:00\", \"2021-08-14 17:21:00\", \"2021-08-15 11:49:00\", \"2021-08-16 18:07:00\", \"2021-08-16 22:08:00\", \"2021-08-23 20:56:00\", \"2021-08-25 02:22:00\", \"2021-08-26 12:48:00\", \"2021-08-28 06:43:00\", \"2021-09-03 03:10:00\", \"2021-09-06 14:08:00\", \"2021-09-07 19:26:00\", \"2021-09-13 01:11:00\", \"2021-09-17 20:03:00\", \"2021-09-18 12:12:00\", \"2021-09-19 16:55:00\", \"2021-09-20 07:07:00\", \"2021-09-20 10:20:00\", \"2021-09-21 02:44:00\", \"2021-09-26 13:27:00\", \"2021-09-29 00:41:00\", \"2021-10-03 07:10:00\", \"2021-10-06 17:15:00\", \"2021-10-10 15:00:00\", \"2021-10-13 00:04:00\", \"2021-10-13 10:37:00\", \"2021-10-16 20:03:00\", \"2021-10-18 02:57:00\", \"2021-10-21 05:17:00\", \"2021-10-22 20:01:00\", \"2021-10-23 11:13:00\"], \"y\": [1011.8532278123957, 1040.925929177723, 1003.2519970514659, 1028.6665595627771, 1014.035355912521, 1005.2679010958491, 1014.4478947408164, 1002.5691459582811, 1037.2668002616872, 1170.4719732738656, 1158.4838418011004, 1171.045132958381, 1177.45450302365, 1178.7493589315634, 1176.1487111780439, 1203.598484732497, 1294.45021786041, 1292.593321596855, 1304.0816194360202, 1317.7312544471874, 1314.241780217228, 1318.3178012378053, 1332.0648326555593, 1327.9954520053025, 1328.6399474403836, 1335.57419558099, 1299.256093004572, 1315.0661312704576, 1324.2016601333655, 1325.5642589591919, 1330.0127922158242, 1313.3108276876271, 1419.8612887901816, 1412.162160123715, 1408.8798465019418, 1405.9463202659456, 1409.317599872525, 1414.6805274327905, 1347.2164349504142, 1354.9174530765983, 1348.6126726275581, 1236.681345013882, 1263.646436541366, 1217.1179889059804, 1235.6641278503623, 1250.032391048952, 1205.660705525893, 1214.7082439881433, 1226.9390484703972, 1153.319237668609, 1197.9110135620012, 1229.5983652240832, 1221.364628149111, 1251.6699980322678, 1221.7243058436527, 1205.0303607335882, 1213.5794244279955, 1217.9887799824926, 1213.8814425959752, 1227.7524930575921, 1215.6685589097578, 1221.656443129096, 1232.0477041551846, 1225.1379330769735, 1199.9230645747548, 1206.3126598606027, 1192.6128356540369, 1191.3425280863396, 1215.3989571707623, 1200.5830832318798, 1202.8163298654376, 1195.4493154546774, 1202.2240322556006, 1178.2209028632576, 1163.1972901786805, 1172.6737290320027, 1186.0834812041585, 1189.0007969226926, 1182.250287709344, 1173.5620221089716, 1151.024798995108, 1142.4794300571155, 1147.7937936411704, 1135.839345886142, 1143.2286153409934, 1153.5404009009371, 1157.9496961611494, 1164.5528657924215, 1170.3983084719575, 1064.8049422704455, 1069.6988763169538, 1078.6067711130388, 1083.3129532663093, 1084.1829235755758, 1065.2069691802, 1073.217246516071, 1109.0956330325303, 1149.4265509089619, 1163.808046130128, 1165.5497001660187, 1255.2680884164977, 1252.3374302058116, 1245.3567282203041, 1226.6440085673967, 1217.683366166765, 1258.3568202242204, 1265.8821049196354, 1228.9763964201786, 1232.3450237133504]}],\n",
              "                        {\"template\": {\"data\": {\"bar\": [{\"error_x\": {\"color\": \"#2a3f5f\"}, \"error_y\": {\"color\": \"#2a3f5f\"}, \"marker\": {\"line\": {\"color\": \"#E5ECF6\", \"width\": 0.5}}, \"type\": \"bar\"}], \"barpolar\": [{\"marker\": {\"line\": {\"color\": \"#E5ECF6\", \"width\": 0.5}}, \"type\": \"barpolar\"}], \"carpet\": [{\"aaxis\": {\"endlinecolor\": \"#2a3f5f\", \"gridcolor\": \"white\", \"linecolor\": \"white\", \"minorgridcolor\": \"white\", \"startlinecolor\": \"#2a3f5f\"}, \"baxis\": {\"endlinecolor\": \"#2a3f5f\", \"gridcolor\": \"white\", \"linecolor\": \"white\", \"minorgridcolor\": \"white\", \"startlinecolor\": \"#2a3f5f\"}, \"type\": \"carpet\"}], \"choropleth\": [{\"colorbar\": {\"outlinewidth\": 0, \"ticks\": \"\"}, \"type\": \"choropleth\"}], \"contour\": [{\"colorbar\": {\"outlinewidth\": 0, \"ticks\": \"\"}, \"colorscale\": [[0.0, \"#0d0887\"], [0.1111111111111111, \"#46039f\"], [0.2222222222222222, \"#7201a8\"], [0.3333333333333333, \"#9c179e\"], [0.4444444444444444, \"#bd3786\"], [0.5555555555555556, \"#d8576b\"], [0.6666666666666666, \"#ed7953\"], [0.7777777777777778, \"#fb9f3a\"], [0.8888888888888888, \"#fdca26\"], [1.0, \"#f0f921\"]], \"type\": \"contour\"}], \"contourcarpet\": [{\"colorbar\": {\"outlinewidth\": 0, \"ticks\": \"\"}, \"type\": \"contourcarpet\"}], \"heatmap\": [{\"colorbar\": {\"outlinewidth\": 0, \"ticks\": \"\"}, \"colorscale\": [[0.0, \"#0d0887\"], [0.1111111111111111, \"#46039f\"], [0.2222222222222222, \"#7201a8\"], [0.3333333333333333, \"#9c179e\"], [0.4444444444444444, \"#bd3786\"], [0.5555555555555556, \"#d8576b\"], [0.6666666666666666, \"#ed7953\"], [0.7777777777777778, \"#fb9f3a\"], [0.8888888888888888, \"#fdca26\"], [1.0, \"#f0f921\"]], \"type\": \"heatmap\"}], \"heatmapgl\": [{\"colorbar\": {\"outlinewidth\": 0, \"ticks\": \"\"}, \"colorscale\": [[0.0, \"#0d0887\"], [0.1111111111111111, \"#46039f\"], [0.2222222222222222, \"#7201a8\"], [0.3333333333333333, \"#9c179e\"], [0.4444444444444444, \"#bd3786\"], [0.5555555555555556, \"#d8576b\"], [0.6666666666666666, \"#ed7953\"], [0.7777777777777778, \"#fb9f3a\"], [0.8888888888888888, \"#fdca26\"], [1.0, \"#f0f921\"]], \"type\": \"heatmapgl\"}], \"histogram\": [{\"marker\": {\"colorbar\": {\"outlinewidth\": 0, \"ticks\": \"\"}}, \"type\": \"histogram\"}], \"histogram2d\": [{\"colorbar\": {\"outlinewidth\": 0, \"ticks\": \"\"}, \"colorscale\": [[0.0, \"#0d0887\"], [0.1111111111111111, \"#46039f\"], [0.2222222222222222, \"#7201a8\"], [0.3333333333333333, \"#9c179e\"], [0.4444444444444444, \"#bd3786\"], [0.5555555555555556, \"#d8576b\"], [0.6666666666666666, \"#ed7953\"], [0.7777777777777778, \"#fb9f3a\"], [0.8888888888888888, \"#fdca26\"], [1.0, \"#f0f921\"]], \"type\": \"histogram2d\"}], \"histogram2dcontour\": [{\"colorbar\": {\"outlinewidth\": 0, \"ticks\": \"\"}, \"colorscale\": [[0.0, \"#0d0887\"], [0.1111111111111111, \"#46039f\"], [0.2222222222222222, \"#7201a8\"], [0.3333333333333333, \"#9c179e\"], [0.4444444444444444, \"#bd3786\"], [0.5555555555555556, \"#d8576b\"], [0.6666666666666666, \"#ed7953\"], [0.7777777777777778, \"#fb9f3a\"], [0.8888888888888888, \"#fdca26\"], [1.0, \"#f0f921\"]], \"type\": \"histogram2dcontour\"}], \"mesh3d\": [{\"colorbar\": {\"outlinewidth\": 0, \"ticks\": \"\"}, \"type\": \"mesh3d\"}], \"parcoords\": [{\"line\": {\"colorbar\": {\"outlinewidth\": 0, \"ticks\": \"\"}}, \"type\": \"parcoords\"}], \"pie\": [{\"automargin\": true, \"type\": \"pie\"}], \"scatter\": [{\"marker\": {\"colorbar\": {\"outlinewidth\": 0, \"ticks\": \"\"}}, \"type\": \"scatter\"}], \"scatter3d\": [{\"line\": {\"colorbar\": {\"outlinewidth\": 0, \"ticks\": \"\"}}, \"marker\": {\"colorbar\": {\"outlinewidth\": 0, \"ticks\": \"\"}}, \"type\": \"scatter3d\"}], \"scattercarpet\": [{\"marker\": {\"colorbar\": {\"outlinewidth\": 0, \"ticks\": \"\"}}, \"type\": \"scattercarpet\"}], \"scattergeo\": [{\"marker\": {\"colorbar\": {\"outlinewidth\": 0, \"ticks\": \"\"}}, \"type\": \"scattergeo\"}], \"scattergl\": [{\"marker\": {\"colorbar\": {\"outlinewidth\": 0, \"ticks\": \"\"}}, \"type\": \"scattergl\"}], \"scattermapbox\": [{\"marker\": {\"colorbar\": {\"outlinewidth\": 0, \"ticks\": \"\"}}, \"type\": \"scattermapbox\"}], \"scatterpolar\": [{\"marker\": {\"colorbar\": {\"outlinewidth\": 0, \"ticks\": \"\"}}, \"type\": \"scatterpolar\"}], \"scatterpolargl\": [{\"marker\": {\"colorbar\": {\"outlinewidth\": 0, \"ticks\": \"\"}}, \"type\": \"scatterpolargl\"}], \"scatterternary\": [{\"marker\": {\"colorbar\": {\"outlinewidth\": 0, \"ticks\": \"\"}}, \"type\": \"scatterternary\"}], \"surface\": [{\"colorbar\": {\"outlinewidth\": 0, \"ticks\": \"\"}, \"colorscale\": [[0.0, \"#0d0887\"], [0.1111111111111111, \"#46039f\"], [0.2222222222222222, \"#7201a8\"], [0.3333333333333333, \"#9c179e\"], [0.4444444444444444, \"#bd3786\"], [0.5555555555555556, \"#d8576b\"], [0.6666666666666666, \"#ed7953\"], [0.7777777777777778, \"#fb9f3a\"], [0.8888888888888888, \"#fdca26\"], [1.0, \"#f0f921\"]], \"type\": \"surface\"}], \"table\": [{\"cells\": {\"fill\": {\"color\": \"#EBF0F8\"}, \"line\": {\"color\": \"white\"}}, \"header\": {\"fill\": {\"color\": \"#C8D4E3\"}, \"line\": {\"color\": \"white\"}}, \"type\": \"table\"}]}, \"layout\": {\"annotationdefaults\": {\"arrowcolor\": \"#2a3f5f\", \"arrowhead\": 0, \"arrowwidth\": 1}, \"coloraxis\": {\"colorbar\": {\"outlinewidth\": 0, \"ticks\": \"\"}}, \"colorscale\": {\"diverging\": [[0, \"#8e0152\"], [0.1, \"#c51b7d\"], [0.2, \"#de77ae\"], [0.3, \"#f1b6da\"], [0.4, \"#fde0ef\"], [0.5, \"#f7f7f7\"], [0.6, \"#e6f5d0\"], [0.7, \"#b8e186\"], [0.8, \"#7fbc41\"], [0.9, \"#4d9221\"], [1, \"#276419\"]], \"sequential\": [[0.0, \"#0d0887\"], [0.1111111111111111, \"#46039f\"], [0.2222222222222222, \"#7201a8\"], [0.3333333333333333, \"#9c179e\"], [0.4444444444444444, \"#bd3786\"], [0.5555555555555556, \"#d8576b\"], [0.6666666666666666, \"#ed7953\"], [0.7777777777777778, \"#fb9f3a\"], [0.8888888888888888, \"#fdca26\"], [1.0, \"#f0f921\"]], \"sequentialminus\": [[0.0, \"#0d0887\"], [0.1111111111111111, \"#46039f\"], [0.2222222222222222, \"#7201a8\"], [0.3333333333333333, \"#9c179e\"], [0.4444444444444444, \"#bd3786\"], [0.5555555555555556, \"#d8576b\"], [0.6666666666666666, \"#ed7953\"], [0.7777777777777778, \"#fb9f3a\"], [0.8888888888888888, \"#fdca26\"], [1.0, \"#f0f921\"]]}, \"colorway\": [\"#636efa\", \"#EF553B\", \"#00cc96\", \"#ab63fa\", \"#FFA15A\", \"#19d3f3\", \"#FF6692\", \"#B6E880\", \"#FF97FF\", \"#FECB52\"], \"font\": {\"color\": \"#2a3f5f\"}, \"geo\": {\"bgcolor\": \"white\", \"lakecolor\": \"white\", \"landcolor\": \"#E5ECF6\", \"showlakes\": true, \"showland\": true, \"subunitcolor\": \"white\"}, \"hoverlabel\": {\"align\": \"left\"}, \"hovermode\": \"closest\", \"mapbox\": {\"style\": \"light\"}, \"paper_bgcolor\": \"white\", \"plot_bgcolor\": \"#E5ECF6\", \"polar\": {\"angularaxis\": {\"gridcolor\": \"white\", \"linecolor\": \"white\", \"ticks\": \"\"}, \"bgcolor\": \"#E5ECF6\", \"radialaxis\": {\"gridcolor\": \"white\", \"linecolor\": \"white\", \"ticks\": \"\"}}, \"scene\": {\"xaxis\": {\"backgroundcolor\": \"#E5ECF6\", \"gridcolor\": \"white\", \"gridwidth\": 2, \"linecolor\": \"white\", \"showbackground\": true, \"ticks\": \"\", \"zerolinecolor\": \"white\"}, \"yaxis\": {\"backgroundcolor\": \"#E5ECF6\", \"gridcolor\": \"white\", \"gridwidth\": 2, \"linecolor\": \"white\", \"showbackground\": true, \"ticks\": \"\", \"zerolinecolor\": \"white\"}, \"zaxis\": {\"backgroundcolor\": \"#E5ECF6\", \"gridcolor\": \"white\", \"gridwidth\": 2, \"linecolor\": \"white\", \"showbackground\": true, \"ticks\": \"\", \"zerolinecolor\": \"white\"}}, \"shapedefaults\": {\"line\": {\"color\": \"#2a3f5f\"}}, \"ternary\": {\"aaxis\": {\"gridcolor\": \"white\", \"linecolor\": \"white\", \"ticks\": \"\"}, \"baxis\": {\"gridcolor\": \"white\", \"linecolor\": \"white\", \"ticks\": \"\"}, \"bgcolor\": \"#E5ECF6\", \"caxis\": {\"gridcolor\": \"white\", \"linecolor\": \"white\", \"ticks\": \"\"}}, \"title\": {\"x\": 0.05}, \"xaxis\": {\"automargin\": true, \"gridcolor\": \"white\", \"linecolor\": \"white\", \"ticks\": \"\", \"title\": {\"standoff\": 15}, \"zerolinecolor\": \"white\", \"zerolinewidth\": 2}, \"yaxis\": {\"automargin\": true, \"gridcolor\": \"white\", \"linecolor\": \"white\", \"ticks\": \"\", \"title\": {\"standoff\": 15}, \"zerolinecolor\": \"white\", \"zerolinewidth\": 2}}}},\n",
              "                        {\"responsive\": true}\n",
              "                    ).then(function(){\n",
              "                            \n",
              "var gd = document.getElementById('bcd4bd85-d1e2-4158-85f9-7cf1f48e07a9');\n",
              "var x = new MutationObserver(function (mutations, observer) {{\n",
              "        var display = window.getComputedStyle(gd).display;\n",
              "        if (!display || display === 'none') {{\n",
              "            console.log([gd, 'removed!']);\n",
              "            Plotly.purge(gd);\n",
              "            observer.disconnect();\n",
              "        }}\n",
              "}});\n",
              "\n",
              "// Listen for the removal of the full notebook cells\n",
              "var notebookContainer = gd.closest('#notebook-container');\n",
              "if (notebookContainer) {{\n",
              "    x.observe(notebookContainer, {childList: true});\n",
              "}}\n",
              "\n",
              "// Listen for the clearing of the current output cell\n",
              "var outputEl = gd.closest('.output');\n",
              "if (outputEl) {{\n",
              "    x.observe(outputEl, {childList: true});\n",
              "}}\n",
              "\n",
              "                        })\n",
              "                };\n",
              "                \n",
              "            </script>\n",
              "        </div>\n",
              "</body>\n",
              "</html>"
            ]
          },
          "metadata": {}
        }
      ]
    },
    {
      "cell_type": "code",
      "metadata": {
        "colab": {
          "base_uri": "https://localhost:8080/",
          "height": 542
        },
        "id": "fEQ_8s3DrcDr",
        "outputId": "e476ff5c-783e-44e2-c4ef-40c3014c2980"
      },
      "source": [
        "x = test_strategy_bollinger_down(btc_df.rename(columns = {'close' : 'price'}), 350,\t3.5,\t0.3,\t'cross_signal_down_down',\t'cross_ma_up', ret_plot = True, eps = 0.5)\n",
        "x[-1].show()"
      ],
      "execution_count": null,
      "outputs": [
        {
          "output_type": "display_data",
          "data": {
            "text/html": [
              "<html>\n",
              "<head><meta charset=\"utf-8\" /></head>\n",
              "<body>\n",
              "    <div>\n",
              "            <script src=\"https://cdnjs.cloudflare.com/ajax/libs/mathjax/2.7.5/MathJax.js?config=TeX-AMS-MML_SVG\"></script><script type=\"text/javascript\">if (window.MathJax) {MathJax.Hub.Config({SVG: {font: \"STIX-Web\"}});}</script>\n",
              "                <script type=\"text/javascript\">window.PlotlyConfig = {MathJaxConfig: 'local'};</script>\n",
              "        <script src=\"https://cdn.plot.ly/plotly-latest.min.js\"></script>    \n",
              "            <div id=\"ec686335-c457-482d-83f3-32725e01751d\" class=\"plotly-graph-div\" style=\"height:525px; width:100%;\"></div>\n",
              "            <script type=\"text/javascript\">\n",
              "                \n",
              "                    window.PLOTLYENV=window.PLOTLYENV || {};\n",
              "                    \n",
              "                if (document.getElementById(\"ec686335-c457-482d-83f3-32725e01751d\")) {\n",
              "                    Plotly.newPlot(\n",
              "                        'ec686335-c457-482d-83f3-32725e01751d',\n",
              "                        [{\"mode\": \"lines\", \"name\": \"price\", \"type\": \"scatter\", \"x\": [\"2021-01-01 12:57:00\", \"2021-01-01 20:26:00\", \"2021-01-03 22:09:00\", \"2021-01-04 16:13:00\", \"2021-01-08 04:45:00\", \"2021-01-08 22:46:00\", \"2021-01-09 14:58:00\", \"2021-01-10 23:21:00\", \"2021-01-11 08:21:00\", \"2021-01-11 17:45:00\", \"2021-01-12 17:36:00\", \"2021-01-15 01:47:00\", \"2021-01-16 02:20:00\", \"2021-01-17 01:01:00\", \"2021-01-20 06:08:00\", \"2021-01-20 14:06:00\", \"2021-01-20 16:50:00\", \"2021-01-21 18:48:00\", \"2021-01-23 15:26:00\", \"2021-01-24 21:22:00\", \"2021-01-25 11:28:00\", \"2021-01-26 01:49:00\", \"2021-01-26 08:32:00\", \"2021-01-27 11:08:00\", \"2021-01-27 16:15:00\", \"2021-01-30 07:31:00\", \"2021-01-31 20:46:00\", \"2021-02-04 18:42:00\", \"2021-02-05 21:15:00\", \"2021-02-07 11:08:00\", \"2021-02-10 06:11:00\", \"2021-02-10 19:05:00\", \"2021-02-11 05:02:00\", \"2021-02-12 16:53:00\", \"2021-02-13 15:31:00\", \"2021-02-14 17:02:00\", \"2021-02-15 07:06:00\", \"2021-02-16 02:01:00\", \"2021-02-18 05:36:00\", \"2021-02-18 08:02:00\", \"2021-02-18 14:16:00\", \"2021-02-19 05:41:00\", \"2021-02-21 06:19:00\", \"2021-02-22 07:51:00\", \"2021-02-22 18:53:00\", \"2021-02-23 12:41:00\", \"2021-02-24 18:01:00\", \"2021-02-25 15:49:00\", \"2021-02-26 09:12:00\", \"2021-02-27 11:30:00\", \"2021-02-28 08:40:00\", \"2021-03-01 04:20:00\", \"2021-03-02 22:29:00\", \"2021-03-05 00:02:00\", \"2021-03-05 05:48:00\", \"2021-03-05 10:11:00\", \"2021-03-07 22:53:00\", \"2021-03-11 15:33:00\", \"2021-03-12 15:19:00\", \"2021-03-14 18:25:00\", \"2021-03-15 01:28:00\", \"2021-03-15 13:34:00\", \"2021-03-16 11:20:00\", \"2021-03-17 15:30:00\", \"2021-03-18 18:12:00\", \"2021-03-19 02:37:00\", \"2021-03-20 00:54:00\", \"2021-03-21 13:12:00\", \"2021-03-22 03:27:00\", \"2021-03-23 02:53:00\", \"2021-03-23 11:53:00\", \"2021-03-25 07:50:00\", \"2021-03-25 17:22:00\", \"2021-03-27 14:01:00\", \"2021-03-28 17:26:00\", \"2021-03-28 22:50:00\", \"2021-03-29 17:24:00\", \"2021-03-31 19:36:00\", \"2021-04-01 13:16:00\", \"2021-04-01 19:16:00\", \"2021-04-02 15:38:00\", \"2021-04-03 03:38:00\", \"2021-04-03 10:57:00\", \"2021-04-04 03:05:00\", \"2021-04-05 22:56:00\", \"2021-04-06 08:10:00\", \"2021-04-06 18:32:00\", \"2021-04-06 23:30:00\", \"2021-04-07 03:47:00\", \"2021-04-07 17:01:00\", \"2021-04-09 14:00:00\", \"2021-04-10 01:42:00\", \"2021-04-10 16:06:00\", \"2021-04-11 04:03:00\", \"2021-04-16 13:41:00\", \"2021-04-17 19:09:00\", \"2021-04-18 13:38:00\", \"2021-04-19 18:50:00\", \"2021-04-20 08:13:00\", \"2021-04-21 06:28:00\", \"2021-04-22 04:17:00\", \"2021-04-23 13:03:00\", \"2021-04-24 03:34:00\", \"2021-04-25 13:05:00\", \"2021-04-26 00:03:00\", \"2021-04-26 17:06:00\", \"2021-04-29 06:23:00\", \"2021-05-01 11:42:00\", \"2021-05-02 10:13:00\", \"2021-05-04 05:10:00\", \"2021-05-04 20:24:00\", \"2021-05-05 04:47:00\", \"2021-05-06 22:50:00\", \"2021-05-08 17:30:00\", \"2021-05-09 04:30:00\", \"2021-05-09 16:14:00\", \"2021-05-10 16:44:00\", \"2021-05-11 00:47:00\", \"2021-05-11 08:29:00\", \"2021-05-12 22:08:00\", \"2021-05-13 04:31:00\", \"2021-05-13 12:22:00\", \"2021-05-13 20:39:00\", \"2021-05-15 20:08:00\", \"2021-05-16 01:16:00\", \"2021-05-17 06:48:00\", \"2021-05-17 21:46:00\", \"2021-05-18 19:52:00\", \"2021-05-19 07:43:00\", \"2021-05-19 15:52:00\", \"2021-05-20 02:36:00\", \"2021-05-21 22:52:00\", \"2021-05-23 01:59:00\", \"2021-05-23 12:02:00\", \"2021-05-26 00:28:00\", \"2021-05-27 06:07:00\", \"2021-05-28 12:17:00\", \"2021-06-01 11:23:00\", \"2021-06-03 00:06:00\", \"2021-06-04 10:14:00\", \"2021-06-04 12:40:00\", \"2021-06-04 23:45:00\", \"2021-06-05 15:41:00\", \"2021-06-06 00:28:00\", \"2021-06-06 23:59:00\", \"2021-06-08 07:37:00\", \"2021-06-09 00:06:00\", \"2021-06-12 14:19:00\", \"2021-06-13 07:01:00\", \"2021-06-15 12:16:00\", \"2021-06-16 16:11:00\", \"2021-06-17 15:58:00\", \"2021-06-17 22:50:00\", \"2021-06-18 10:47:00\", \"2021-06-18 23:52:00\", \"2021-06-20 23:38:00\", \"2021-06-21 14:18:00\", \"2021-06-22 01:03:00\", \"2021-06-22 15:11:00\", \"2021-06-25 01:58:00\", \"2021-06-26 13:40:00\", \"2021-06-27 11:44:00\", \"2021-06-30 08:26:00\", \"2021-06-30 17:48:00\", \"2021-07-01 11:47:00\", \"2021-07-01 20:38:00\", \"2021-07-03 23:56:00\", \"2021-07-04 15:00:00\", \"2021-07-05 09:46:00\", \"2021-07-05 17:12:00\", \"2021-07-05 17:56:00\", \"2021-07-06 13:06:00\", \"2021-07-07 12:46:00\", \"2021-07-08 06:31:00\", \"2021-07-08 12:51:00\", \"2021-07-08 23:27:00\", \"2021-07-10 22:20:00\", \"2021-07-12 22:15:00\", \"2021-07-13 09:13:00\", \"2021-07-13 16:02:00\", \"2021-07-14 12:57:00\", \"2021-07-15 19:21:00\", \"2021-07-18 17:53:00\", \"2021-07-19 18:14:00\", \"2021-07-20 08:31:00\", \"2021-07-20 10:28:00\", \"2021-07-24 05:08:00\", \"2021-07-30 16:16:00\", \"2021-07-31 08:36:00\", \"2021-07-31 15:50:00\", \"2021-08-01 12:40:00\", \"2021-08-01 19:25:00\", \"2021-08-02 05:51:00\", \"2021-08-02 22:33:00\", \"2021-08-03 13:51:00\", \"2021-08-05 22:22:00\", \"2021-08-06 05:39:00\", \"2021-08-09 22:02:00\", \"2021-08-12 01:34:00\", \"2021-08-12 09:41:00\", \"2021-08-12 20:55:00\", \"2021-08-14 15:12:00\", \"2021-08-14 22:59:00\", \"2021-08-15 14:50:00\", \"2021-08-16 18:18:00\", \"2021-08-16 22:18:00\", \"2021-08-17 05:14:00\", \"2021-08-18 01:49:00\", \"2021-08-18 13:09:00\", \"2021-08-19 08:16:00\", \"2021-08-20 09:20:00\", \"2021-08-21 14:53:00\", \"2021-08-22 19:31:00\", \"2021-08-23 21:11:00\", \"2021-08-24 19:48:00\", \"2021-08-25 02:16:00\", \"2021-08-25 14:01:00\", \"2021-08-26 11:34:00\", \"2021-08-26 12:48:00\", \"2021-08-27 01:55:00\", \"2021-08-29 13:06:00\", \"2021-08-30 14:04:00\", \"2021-08-31 04:53:00\", \"2021-09-02 20:10:00\", \"2021-09-03 07:11:00\", \"2021-09-04 07:17:00\", \"2021-09-04 12:49:00\", \"2021-09-06 14:26:00\", \"2021-09-07 22:25:00\", \"2021-09-08 09:18:00\", \"2021-09-09 17:37:00\", \"2021-09-10 12:15:00\", \"2021-09-10 18:18:00\", \"2021-09-11 00:54:00\", \"2021-09-13 01:11:00\", \"2021-09-16 04:10:00\", \"2021-09-16 12:46:00\", \"2021-09-16 17:24:00\", \"2021-09-17 15:20:00\", \"2021-09-17 20:03:00\", \"2021-09-18 12:12:00\", \"2021-09-18 18:30:00\", \"2021-09-19 15:49:00\", \"2021-09-20 16:51:00\", \"2021-09-20 20:10:00\", \"2021-09-21 05:59:00\", \"2021-09-21 15:38:00\", \"2021-09-22 05:38:00\", \"2021-09-24 14:31:00\", \"2021-09-25 09:02:00\", \"2021-09-26 15:18:00\", \"2021-09-28 04:10:00\", \"2021-09-28 12:43:00\", \"2021-09-29 00:41:00\", \"2021-10-03 07:23:00\", \"2021-10-06 10:49:00\", \"2021-10-07 02:29:00\", \"2021-10-07 14:35:00\", \"2021-10-09 22:01:00\", \"2021-10-11 08:20:00\", \"2021-10-11 11:42:00\", \"2021-10-12 00:04:00\", \"2021-10-13 00:05:00\", \"2021-10-13 11:47:00\", \"2021-10-16 19:53:00\", \"2021-10-17 21:57:00\", \"2021-10-18 13:33:00\", \"2021-10-18 21:44:00\", \"2021-10-21 10:59:00\", \"2021-10-22 20:13:00\", \"2021-10-23 11:12:00\", \"2021-10-24 09:43:00\"], \"y\": [1007.9829605574573, 1017.0513700478252, 1010.1955806912962, 970.806054978254, 986.8350126924105, 996.7954999150213, 1040.0172120224245, 1000.2335379081421, 1016.979962561067, 1059.1520508377362, 1080.450051097724, 1084.2430683472587, 1060.6430862666311, 1054.4088094912945, 1042.0621355744056, 1045.9726657425008, 1072.6440546709362, 1012.0221473572363, 1021.0447036563219, 1002.4455537101609, 1010.2109845997613, 1016.7929253492819, 1011.7217939722938, 1019.8480190888881, 1058.211706600101, 1078.5098117821735, 1080.4323811416477, 1087.9610560019325, 1101.0109525846524, 1093.514277246934, 1105.9957394064675, 1085.9955352947577, 1099.4375539411676, 1117.1658873479334, 1108.9780198615783, 1123.657266932931, 1095.8801827182929, 1095.3630883207422, 1102.3736969674023, 1108.5880006560506, 1121.5216330090739, 1116.1499718288296, 1123.2733688893652, 1137.1216386642934, 1099.716158360478, 1156.293579328103, 1162.6214976715216, 1191.169092071098, 1211.0644150337987, 1223.6506589188818, 1183.4245106664666, 1239.9002519656137, 1229.0563287147866, 1217.6706500522123, 1203.914897299416, 1215.6891630351831, 1228.7516732177862, 1263.3362275675784, 1271.8879560958371, 1269.3186188922227, 1279.4080896926087, 1260.6840828836946, 1260.0124317912898, 1259.4662352840717, 1266.6388095417853, 1280.8610478826058, 1284.7884294702792, 1237.095088785796, 1245.9456895722394, 1210.9081814832007, 1219.5386678989971, 1190.6865602555392, 1178.6089931640315, 1181.3685968782981, 1190.9612906748641, 1202.6466883540854, 1212.090574407848, 1246.292911530353, 1255.578546202993, 1265.9892161412188, 1267.3522879404545, 1275.4232110321286, 1282.52081556385, 1248.6434556716456, 1253.090629850396, 1256.119326261398, 1255.7615454027905, 1260.9204212120997, 1269.3950550950133, 1274.143522780621, 1286.189349687134, 1290.46320134255, 1292.362482894399, 1296.098390339318, 1253.0196407304225, 1227.4853236797474, 1127.581628991154, 1124.9333146746678, 1119.9500040080866, 1115.575343413692, 1112.9625880701064, 1018.3612719333639, 1027.2645744383656, 1033.4696322829836, 1037.0679032965215, 1046.2420395164381, 1059.6753289276242, 1065.6364326403345, 1061.6870119124915, 1024.9143866955121, 1008.6444187299144, 1032.3842879206823, 1036.87936606463, 1050.8466839225885, 1060.857441672348, 1062.2725533262867, 1053.7306048188002, 1066.8507634319196, 1074.0342506273646, 1053.096129586972, 1011.0280696243927, 1025.7561369253297, 1038.4686307705992, 1050.6386779488193, 1078.460148237078, 1103.738668596837, 1095.9262199804111, 1067.7958965409985, 1022.0384953033033, 1004.2664495790003, 1069.399826236518, 992.554291793516, 1015.312476981458, 1029.5754906439965, 1049.1875966608134, 1055.7636697111661, 1015.8779883765195, 1023.3998173860841, 1030.4865645353566, 999.4330633206555, 1007.6412540526798, 1015.5377457708298, 984.1539095347061, 987.5058655604943, 998.3662259638573, 943.2116559277736, 967.861623884881, 942.1385867443016, 945.5747860275999, 946.8597432879792, 937.8062282498607, 936.9571760923214, 931.9837522746938, 945.2197043669779, 916.4368169271313, 939.7963151719509, 879.0099924446666, 882.67923079449, 845.2718799404903, 852.1621289351452, 850.9655761784528, 861.2518486394115, 841.0055950727599, 845.1733313033245, 826.0153183980414, 837.4113673899565, 842.1504842532033, 844.3644766850886, 825.9728888705557, 818.7772760476304, 827.5781872902996, 839.2019854224957, 843.335549862013, 817.0485750290404, 808.5283013049259, 813.0637569974, 813.0461461237126, 789.2219094104206, 794.3225898174995, 792.7770214067103, 801.955685323522, 785.46713990977, 784.784542413429, 783.371463622473, 765.249290756745, 768.4964645528272, 802.5202812185877, 797.0575091196997, 801.8652949454538, 807.41438679465, 810.7882495346977, 812.9127170011382, 794.5463439686911, 795.276646029387, 804.3707891550802, 830.8763608454149, 827.9924079832535, 839.6035707061584, 839.4855656227386, 843.9866952980395, 834.3732297778143, 824.7747908563314, 830.1842433020978, 814.059807188713, 809.092421051744, 814.1307509388652, 827.5168152637632, 818.8306368709119, 825.0813548773223, 829.0654465402977, 831.7621620156222, 839.5936678466378, 843.2758987891983, 833.7056324092686, 816.4453370394702, 822.6836414838398, 820.1678172098041, 793.8778715717274, 800.0722770061851, 811.0359404067749, 813.6679736076675, 815.7368704551967, 804.6196307889156, 805.2162624058535, 809.8898386609908, 814.0217506813813, 817.2971543586364, 817.7966152555609, 732.1619194458502, 739.9035589075218, 757.0170614694806, 757.4728647260309, 758.9280288584317, 762.979409882217, 764.9973014957616, 769.5624409289331, 774.6863604730052, 779.0291603187035, 778.4487131392033, 782.4205218447198, 783.6041124194044, 782.1985111411431, 780.6456988775085, 725.4151935695243, 733.6249576836503, 729.7278524707182, 735.2071717432927, 769.1424860061587, 751.5641601964657, 758.4150010749212, 774.0048202366517, 777.6755666302389, 775.3573880918966, 785.0585721847136, 787.7755764923894, 789.5710782205138, 799.7068269422392, 803.9721883234625, 808.2853160785164, 835.4909645842495, 841.8704980267539, 844.5060911076548, 835.7274531062935, 820.7981966945478, 815.892725042378, 817.1188870651404, 812.1320016801823, 818.3245920646847, 812.6663485184433, 789.653004538331, 796.9974071121172, 799.1751799134447]}],\n",
              "                        {\"template\": {\"data\": {\"bar\": [{\"error_x\": {\"color\": \"#2a3f5f\"}, \"error_y\": {\"color\": \"#2a3f5f\"}, \"marker\": {\"line\": {\"color\": \"#E5ECF6\", \"width\": 0.5}}, \"type\": \"bar\"}], \"barpolar\": [{\"marker\": {\"line\": {\"color\": \"#E5ECF6\", \"width\": 0.5}}, \"type\": \"barpolar\"}], \"carpet\": [{\"aaxis\": {\"endlinecolor\": \"#2a3f5f\", \"gridcolor\": \"white\", \"linecolor\": \"white\", \"minorgridcolor\": \"white\", \"startlinecolor\": \"#2a3f5f\"}, \"baxis\": {\"endlinecolor\": \"#2a3f5f\", \"gridcolor\": \"white\", \"linecolor\": \"white\", \"minorgridcolor\": \"white\", \"startlinecolor\": \"#2a3f5f\"}, \"type\": \"carpet\"}], \"choropleth\": [{\"colorbar\": {\"outlinewidth\": 0, \"ticks\": \"\"}, \"type\": \"choropleth\"}], \"contour\": [{\"colorbar\": {\"outlinewidth\": 0, \"ticks\": \"\"}, \"colorscale\": [[0.0, \"#0d0887\"], [0.1111111111111111, \"#46039f\"], [0.2222222222222222, \"#7201a8\"], [0.3333333333333333, \"#9c179e\"], [0.4444444444444444, \"#bd3786\"], [0.5555555555555556, \"#d8576b\"], [0.6666666666666666, \"#ed7953\"], [0.7777777777777778, \"#fb9f3a\"], [0.8888888888888888, \"#fdca26\"], [1.0, \"#f0f921\"]], \"type\": \"contour\"}], \"contourcarpet\": [{\"colorbar\": {\"outlinewidth\": 0, \"ticks\": \"\"}, \"type\": \"contourcarpet\"}], \"heatmap\": [{\"colorbar\": {\"outlinewidth\": 0, \"ticks\": \"\"}, \"colorscale\": [[0.0, \"#0d0887\"], [0.1111111111111111, \"#46039f\"], [0.2222222222222222, \"#7201a8\"], [0.3333333333333333, \"#9c179e\"], [0.4444444444444444, \"#bd3786\"], [0.5555555555555556, \"#d8576b\"], [0.6666666666666666, \"#ed7953\"], [0.7777777777777778, \"#fb9f3a\"], [0.8888888888888888, \"#fdca26\"], [1.0, \"#f0f921\"]], \"type\": \"heatmap\"}], \"heatmapgl\": [{\"colorbar\": {\"outlinewidth\": 0, \"ticks\": \"\"}, \"colorscale\": [[0.0, \"#0d0887\"], [0.1111111111111111, \"#46039f\"], [0.2222222222222222, \"#7201a8\"], [0.3333333333333333, \"#9c179e\"], [0.4444444444444444, \"#bd3786\"], [0.5555555555555556, \"#d8576b\"], [0.6666666666666666, \"#ed7953\"], [0.7777777777777778, \"#fb9f3a\"], [0.8888888888888888, \"#fdca26\"], [1.0, \"#f0f921\"]], \"type\": \"heatmapgl\"}], \"histogram\": [{\"marker\": {\"colorbar\": {\"outlinewidth\": 0, \"ticks\": \"\"}}, \"type\": \"histogram\"}], \"histogram2d\": [{\"colorbar\": {\"outlinewidth\": 0, \"ticks\": \"\"}, \"colorscale\": [[0.0, \"#0d0887\"], [0.1111111111111111, \"#46039f\"], [0.2222222222222222, \"#7201a8\"], [0.3333333333333333, \"#9c179e\"], [0.4444444444444444, \"#bd3786\"], [0.5555555555555556, \"#d8576b\"], [0.6666666666666666, \"#ed7953\"], [0.7777777777777778, \"#fb9f3a\"], [0.8888888888888888, \"#fdca26\"], [1.0, \"#f0f921\"]], \"type\": \"histogram2d\"}], \"histogram2dcontour\": [{\"colorbar\": {\"outlinewidth\": 0, \"ticks\": \"\"}, \"colorscale\": [[0.0, \"#0d0887\"], [0.1111111111111111, \"#46039f\"], [0.2222222222222222, \"#7201a8\"], [0.3333333333333333, \"#9c179e\"], [0.4444444444444444, \"#bd3786\"], [0.5555555555555556, \"#d8576b\"], [0.6666666666666666, \"#ed7953\"], [0.7777777777777778, \"#fb9f3a\"], [0.8888888888888888, \"#fdca26\"], [1.0, \"#f0f921\"]], \"type\": \"histogram2dcontour\"}], \"mesh3d\": [{\"colorbar\": {\"outlinewidth\": 0, \"ticks\": \"\"}, \"type\": \"mesh3d\"}], \"parcoords\": [{\"line\": {\"colorbar\": {\"outlinewidth\": 0, \"ticks\": \"\"}}, \"type\": \"parcoords\"}], \"pie\": [{\"automargin\": true, \"type\": \"pie\"}], \"scatter\": [{\"marker\": {\"colorbar\": {\"outlinewidth\": 0, \"ticks\": \"\"}}, \"type\": \"scatter\"}], \"scatter3d\": [{\"line\": {\"colorbar\": {\"outlinewidth\": 0, \"ticks\": \"\"}}, \"marker\": {\"colorbar\": {\"outlinewidth\": 0, \"ticks\": \"\"}}, \"type\": \"scatter3d\"}], \"scattercarpet\": [{\"marker\": {\"colorbar\": {\"outlinewidth\": 0, \"ticks\": \"\"}}, \"type\": \"scattercarpet\"}], \"scattergeo\": [{\"marker\": {\"colorbar\": {\"outlinewidth\": 0, \"ticks\": \"\"}}, \"type\": \"scattergeo\"}], \"scattergl\": [{\"marker\": {\"colorbar\": {\"outlinewidth\": 0, \"ticks\": \"\"}}, \"type\": \"scattergl\"}], \"scattermapbox\": [{\"marker\": {\"colorbar\": {\"outlinewidth\": 0, \"ticks\": \"\"}}, \"type\": \"scattermapbox\"}], \"scatterpolar\": [{\"marker\": {\"colorbar\": {\"outlinewidth\": 0, \"ticks\": \"\"}}, \"type\": \"scatterpolar\"}], \"scatterpolargl\": [{\"marker\": {\"colorbar\": {\"outlinewidth\": 0, \"ticks\": \"\"}}, \"type\": \"scatterpolargl\"}], \"scatterternary\": [{\"marker\": {\"colorbar\": {\"outlinewidth\": 0, \"ticks\": \"\"}}, \"type\": \"scatterternary\"}], \"surface\": [{\"colorbar\": {\"outlinewidth\": 0, \"ticks\": \"\"}, \"colorscale\": [[0.0, \"#0d0887\"], [0.1111111111111111, \"#46039f\"], [0.2222222222222222, \"#7201a8\"], [0.3333333333333333, \"#9c179e\"], [0.4444444444444444, \"#bd3786\"], [0.5555555555555556, \"#d8576b\"], [0.6666666666666666, \"#ed7953\"], [0.7777777777777778, \"#fb9f3a\"], [0.8888888888888888, \"#fdca26\"], [1.0, \"#f0f921\"]], \"type\": \"surface\"}], \"table\": [{\"cells\": {\"fill\": {\"color\": \"#EBF0F8\"}, \"line\": {\"color\": \"white\"}}, \"header\": {\"fill\": {\"color\": \"#C8D4E3\"}, \"line\": {\"color\": \"white\"}}, \"type\": \"table\"}]}, \"layout\": {\"annotationdefaults\": {\"arrowcolor\": \"#2a3f5f\", \"arrowhead\": 0, \"arrowwidth\": 1}, \"coloraxis\": {\"colorbar\": {\"outlinewidth\": 0, \"ticks\": \"\"}}, \"colorscale\": {\"diverging\": [[0, \"#8e0152\"], [0.1, \"#c51b7d\"], [0.2, \"#de77ae\"], [0.3, \"#f1b6da\"], [0.4, \"#fde0ef\"], [0.5, \"#f7f7f7\"], [0.6, \"#e6f5d0\"], [0.7, \"#b8e186\"], [0.8, \"#7fbc41\"], [0.9, \"#4d9221\"], [1, \"#276419\"]], \"sequential\": [[0.0, \"#0d0887\"], [0.1111111111111111, \"#46039f\"], [0.2222222222222222, \"#7201a8\"], [0.3333333333333333, \"#9c179e\"], [0.4444444444444444, \"#bd3786\"], [0.5555555555555556, \"#d8576b\"], [0.6666666666666666, \"#ed7953\"], [0.7777777777777778, \"#fb9f3a\"], [0.8888888888888888, \"#fdca26\"], [1.0, \"#f0f921\"]], \"sequentialminus\": [[0.0, \"#0d0887\"], [0.1111111111111111, \"#46039f\"], [0.2222222222222222, \"#7201a8\"], [0.3333333333333333, \"#9c179e\"], [0.4444444444444444, \"#bd3786\"], [0.5555555555555556, \"#d8576b\"], [0.6666666666666666, \"#ed7953\"], [0.7777777777777778, \"#fb9f3a\"], [0.8888888888888888, \"#fdca26\"], [1.0, \"#f0f921\"]]}, \"colorway\": [\"#636efa\", \"#EF553B\", \"#00cc96\", \"#ab63fa\", \"#FFA15A\", \"#19d3f3\", \"#FF6692\", \"#B6E880\", \"#FF97FF\", \"#FECB52\"], \"font\": {\"color\": \"#2a3f5f\"}, \"geo\": {\"bgcolor\": \"white\", \"lakecolor\": \"white\", \"landcolor\": \"#E5ECF6\", \"showlakes\": true, \"showland\": true, \"subunitcolor\": \"white\"}, \"hoverlabel\": {\"align\": \"left\"}, \"hovermode\": \"closest\", \"mapbox\": {\"style\": \"light\"}, \"paper_bgcolor\": \"white\", \"plot_bgcolor\": \"#E5ECF6\", \"polar\": {\"angularaxis\": {\"gridcolor\": \"white\", \"linecolor\": \"white\", \"ticks\": \"\"}, \"bgcolor\": \"#E5ECF6\", \"radialaxis\": {\"gridcolor\": \"white\", \"linecolor\": \"white\", \"ticks\": \"\"}}, \"scene\": {\"xaxis\": {\"backgroundcolor\": \"#E5ECF6\", \"gridcolor\": \"white\", \"gridwidth\": 2, \"linecolor\": \"white\", \"showbackground\": true, \"ticks\": \"\", \"zerolinecolor\": \"white\"}, \"yaxis\": {\"backgroundcolor\": \"#E5ECF6\", \"gridcolor\": \"white\", \"gridwidth\": 2, \"linecolor\": \"white\", \"showbackground\": true, \"ticks\": \"\", \"zerolinecolor\": \"white\"}, \"zaxis\": {\"backgroundcolor\": \"#E5ECF6\", \"gridcolor\": \"white\", \"gridwidth\": 2, \"linecolor\": \"white\", \"showbackground\": true, \"ticks\": \"\", \"zerolinecolor\": \"white\"}}, \"shapedefaults\": {\"line\": {\"color\": \"#2a3f5f\"}}, \"ternary\": {\"aaxis\": {\"gridcolor\": \"white\", \"linecolor\": \"white\", \"ticks\": \"\"}, \"baxis\": {\"gridcolor\": \"white\", \"linecolor\": \"white\", \"ticks\": \"\"}, \"bgcolor\": \"#E5ECF6\", \"caxis\": {\"gridcolor\": \"white\", \"linecolor\": \"white\", \"ticks\": \"\"}}, \"title\": {\"x\": 0.05}, \"xaxis\": {\"automargin\": true, \"gridcolor\": \"white\", \"linecolor\": \"white\", \"ticks\": \"\", \"title\": {\"standoff\": 15}, \"zerolinecolor\": \"white\", \"zerolinewidth\": 2}, \"yaxis\": {\"automargin\": true, \"gridcolor\": \"white\", \"linecolor\": \"white\", \"ticks\": \"\", \"title\": {\"standoff\": 15}, \"zerolinecolor\": \"white\", \"zerolinewidth\": 2}}}},\n",
              "                        {\"responsive\": true}\n",
              "                    ).then(function(){\n",
              "                            \n",
              "var gd = document.getElementById('ec686335-c457-482d-83f3-32725e01751d');\n",
              "var x = new MutationObserver(function (mutations, observer) {{\n",
              "        var display = window.getComputedStyle(gd).display;\n",
              "        if (!display || display === 'none') {{\n",
              "            console.log([gd, 'removed!']);\n",
              "            Plotly.purge(gd);\n",
              "            observer.disconnect();\n",
              "        }}\n",
              "}});\n",
              "\n",
              "// Listen for the removal of the full notebook cells\n",
              "var notebookContainer = gd.closest('#notebook-container');\n",
              "if (notebookContainer) {{\n",
              "    x.observe(notebookContainer, {childList: true});\n",
              "}}\n",
              "\n",
              "// Listen for the clearing of the current output cell\n",
              "var outputEl = gd.closest('.output');\n",
              "if (outputEl) {{\n",
              "    x.observe(outputEl, {childList: true});\n",
              "}}\n",
              "\n",
              "                        })\n",
              "                };\n",
              "                \n",
              "            </script>\n",
              "        </div>\n",
              "</body>\n",
              "</html>"
            ]
          },
          "metadata": {}
        }
      ]
    },
    {
      "cell_type": "code",
      "metadata": {
        "id": "gg5REtPNrcAc"
      },
      "source": [
        ""
      ],
      "execution_count": null,
      "outputs": []
    },
    {
      "cell_type": "code",
      "metadata": {
        "id": "ISLzxeM_rb9E"
      },
      "source": [
        ""
      ],
      "execution_count": null,
      "outputs": []
    },
    {
      "cell_type": "code",
      "metadata": {
        "id": "ycufKAZrVyuE"
      },
      "source": [
        "def test_strategies_bollinger_down(df, prices_df, period_len=300, size_std=3, ma_std=0, eps = 0.1):\n",
        "\n",
        "\n",
        "  params1 = test_strategy_bollinger_down(prices_df, period_len=period_len, size_std=size_std, ma_std=ma_std, eps = eps)\n",
        "  params2 = test_strategy_bollinger_down(prices_df, period_len=period_len, size_std=size_std, ma_std=ma_std, cross_col='cross_signal_down_up', eps = eps)\n",
        "  params3 = test_strategy_bollinger_down(prices_df, period_len=period_len, size_std=size_std, ma_std=ma_std, cross_ma_col='cross_ma_up', eps = eps)\n",
        "  params4 = test_strategy_bollinger_down(prices_df, period_len=period_len, size_std=size_std, ma_std=ma_std, cross_col='cross_signal_down_up', cross_ma_col='cross_ma_up', eps = eps)\n",
        "\n",
        "\n",
        "  for p in [params1, params2, params3, params4]:\n",
        "    p = pd.Series(p, index = df.columns)\n",
        "    df = df.append(p, ignore_index=True)\n",
        "  return df\n"
      ],
      "execution_count": null,
      "outputs": []
    },
    {
      "cell_type": "markdown",
      "metadata": {
        "id": "e7yiaowBW7_f"
      },
      "source": [
        "## rebuild for bot - not tested"
      ]
    },
    {
      "cell_type": "code",
      "metadata": {
        "id": "eUryYZfMXOcL"
      },
      "source": [
        "class BollingerSignalManagerExtended(SignalManager):\n",
        "  #I assume more argument to function are possible\n",
        "    def __init__(self, n: int, stdlevel: int, ma_std_level: int, cross_bb: string, cross_ma: string, have_stock, stop_loss):\n",
        "        self.n = n\n",
        "        self._stdlevel = stdlevel\n",
        "        self._ma_std_level = ma_std_level\n",
        "        self._cross_bb = cross_bb\n",
        "        self._cross_ma = cross_ma\n",
        "\n",
        "        self._have_stock = have_stock\n",
        "        self._stop_loss = stop_loss\n",
        "\n",
        "        self._last_buy_price = 0\n",
        "        self._last_sell_price = 0\n",
        "\n",
        "    def enrich_context(self):\n",
        "        #we calculate technical indicators based on close and perhaps vol\n",
        "        self.context_df[\"ma\"] = self.context_df.close.rolling(self._n).mean() + ma_std_level * context_df.close.rolling(self._n).std()\n",
        "        self.context_df[\"mstd\"] = self.context_df.close.rolling(self._n).std()\n",
        "        self.context_df[\"bb_bottom\"] = self.context_df.ma - self._stdlevel * self.context_df.mstd\n",
        "\n",
        "    def signal(self):\n",
        "\n",
        "        if not self._have_stock:\n",
        "          if self._cross_bb == 'down':\n",
        "            if (self.context_df.iloc[-1].close > self.context_df.iloc[-1].bb_bottom ) and (self.context_df.iloc[-2].close < self.context_df.iloc[-2].bb_bottom):\n",
        "              return SimpleSignal.ENTER\n",
        "          \n",
        "          elif self._cross_bb == 'up':\n",
        "            if (self.context_df.iloc[-1].close < self.context_df.iloc[-1].bb_bottom ) and (self.context_df.iloc[-2].close > self.context_df.iloc[-2].bb_bottom):\n",
        "              return SimpleSignal.ENTER\n",
        "\n",
        "\n",
        "        if self._have_stock:\n",
        "          if (self._last_buy_price - self.context_df.iloc[-1].close) / self._last_buy_price > self._stop_loss:\n",
        "            return SimpleSignal.EXIT\n",
        "\n",
        "          elif self._cross_ma == 'down':\n",
        "            if (self.context_df.iloc[-1].close > self.context_df.iloc[-1].ma ) and (self.context_df.iloc[-2].close < self.context_df.iloc[-2].ma):\n",
        "              return SimpleSignal.EXIT\n",
        "          \n",
        "          elif self._cross_ma == 'up':\n",
        "            if (self.context_df.iloc[-1].close < self.context_df.iloc[-1].ma ) and (self.context_df.iloc[-2].close > self.context_df.iloc[-2].ma):\n",
        "              return SimpleSignal.EXIT\n",
        "\n",
        "        else:\n",
        "            return SimpleSignal.NOTHING"
      ],
      "execution_count": null,
      "outputs": []
    },
    {
      "cell_type": "code",
      "metadata": {
        "id": "AMHgOkh3W69R"
      },
      "source": [
        ""
      ],
      "execution_count": null,
      "outputs": []
    },
    {
      "cell_type": "code",
      "metadata": {
        "id": "Tom2NYfgW66d"
      },
      "source": [
        ""
      ],
      "execution_count": null,
      "outputs": []
    },
    {
      "cell_type": "code",
      "metadata": {
        "id": "xcqI-n95W63z"
      },
      "source": [
        ""
      ],
      "execution_count": null,
      "outputs": []
    },
    {
      "cell_type": "code",
      "metadata": {
        "id": "jMCxiOflW603"
      },
      "source": [
        ""
      ],
      "execution_count": null,
      "outputs": []
    }
  ]
}