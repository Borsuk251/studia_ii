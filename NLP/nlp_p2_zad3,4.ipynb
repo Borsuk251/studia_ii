{
  "nbformat": 4,
  "nbformat_minor": 0,
  "metadata": {
    "colab": {
      "name": "NLP_P2_zad3,4.ipynb",
      "provenance": [],
      "collapsed_sections": [],
      "machine_shape": "hm"
    },
    "kernelspec": {
      "name": "python3",
      "display_name": "Python 3"
    }
  },
  "cells": [
    {
      "cell_type": "code",
      "metadata": {
        "id": "HTViNqAZAZ6L",
        "colab": {
          "base_uri": "https://localhost:8080/"
        },
        "outputId": "14457669-a91e-48ce-91c4-49685eed05e6"
      },
      "source": [
        "from google.colab import drive\n",
        "drive.mount('/content/drive')\n",
        "%cd '/content/drive/My Drive/nlp'"
      ],
      "execution_count": null,
      "outputs": [
        {
          "output_type": "stream",
          "text": [
            "Mounted at /content/drive\n",
            "/content/drive/My Drive/nlp\n"
          ],
          "name": "stdout"
        }
      ]
    },
    {
      "cell_type": "code",
      "metadata": {
        "id": "u2JNCCtcAbo_"
      },
      "source": [
        "import string\n",
        "import numpy as np"
      ],
      "execution_count": null,
      "outputs": []
    },
    {
      "cell_type": "code",
      "metadata": {
        "id": "I_cpq3YpDoDB"
      },
      "source": [
        ""
      ],
      "execution_count": null,
      "outputs": []
    },
    {
      "cell_type": "code",
      "metadata": {
        "id": "LTf5v42mEXpd"
      },
      "source": [
        "def create_corpus():\n",
        "  corpus = {}\n",
        "  with open('/content/drive/My Drive/nlp/polish_corpora.txt', 'r', encoding = 'utf8') as file:\n",
        "   for i, line in enumerate(file):\n",
        "      words = line.split()\n",
        "      for word in words:\n",
        "        if word in corpus:\n",
        "          num = corpus[word]\n",
        "          corpus[word] = num + 1\n",
        "        else:\n",
        "          corpus[word] = 1\n",
        "  return corpus\n",
        "\n",
        "corpus = create_corpus()"
      ],
      "execution_count": null,
      "outputs": []
    },
    {
      "cell_type": "code",
      "metadata": {
        "id": "szpn1ORsG_k1",
        "colab": {
          "base_uri": "https://localhost:8080/"
        },
        "outputId": "5891a6e0-d50f-43c4-d5a1-bc6ba9d657c7"
      },
      "source": [
        "corpus['koń']"
      ],
      "execution_count": null,
      "outputs": [
        {
          "output_type": "execute_result",
          "data": {
            "text/plain": [
              "1614"
            ]
          },
          "metadata": {
            "tags": []
          },
          "execution_count": 4
        }
      ]
    },
    {
      "cell_type": "code",
      "metadata": {
        "id": "xt8_A_wlA-FH"
      },
      "source": [
        "file1 = open('supertags.txt')\n",
        "tags = {}\n",
        "for i in file1:\n",
        "  words = i.split()\n",
        "  tags[words[0]] = words[1]"
      ],
      "execution_count": null,
      "outputs": []
    },
    {
      "cell_type": "code",
      "metadata": {
        "id": "xEhdatDBjrEt",
        "colab": {
          "base_uri": "https://localhost:8080/"
        },
        "outputId": "466e9761-72c0-4c01-bee5-6a43e29fe37c"
      },
      "source": [
        "k=0\n",
        "for i in tags:\n",
        "  print(i, tags[i])\n",
        "  k+=1\n",
        "  if k==10:\n",
        "    break"
      ],
      "execution_count": null,
      "outputs": [
        {
          "output_type": "stream",
          "text": [
            "zapachnie T3341\n",
            "wchłaniałbyś T947\n",
            "goldmanom T1823\n",
            "rozprowadzaniom T2247\n",
            "zwyku T3662\n",
            "wyłamałabym T2205\n",
            "zszywarkom T3741\n",
            "dychajmyż T1977\n",
            "zapachnij T3013\n",
            "kwatermistrzujemy T2668\n"
          ],
          "name": "stdout"
        }
      ]
    },
    {
      "cell_type": "markdown",
      "metadata": {
        "id": "oWr6_VZdH_TF"
      },
      "source": [
        "Zadanie 3"
      ]
    },
    {
      "cell_type": "markdown",
      "metadata": {
        "id": "qpi9P7FnYWhB"
      },
      "source": [
        "dictionary like {tag: (word1, num1), (word2, num2), (word3,num3)...}"
      ]
    },
    {
      "cell_type": "code",
      "metadata": {
        "id": "STfR1br4BIwg"
      },
      "source": [
        "def create_tags_unigrams(corpus, tags_corp): \n",
        "  tags_unigrams = {}\n",
        "  for word in corpus:\n",
        "    if word in tags_corp:\n",
        "      tag = tags_corp[word]\n",
        "      if tag in tags_unigrams:\n",
        "        tags_unigrams[tag].append((word, corpus[word]))\n",
        "      else:\n",
        "        tags_unigrams[tag] = [(word, corpus[word])]\n",
        "    else:\n",
        "      new_tag = ('^' + word)[-3:]\n",
        "      tags_unigrams[new_tag] = [(word, corpus[word])]\n",
        "  return tags_unigrams\n",
        "  \n",
        "tags_unigrams = create_tags_unigrams(corpus, tags)"
      ],
      "execution_count": null,
      "outputs": []
    },
    {
      "cell_type": "code",
      "metadata": {
        "id": "o4TMDHhahXP4",
        "colab": {
          "base_uri": "https://localhost:8080/"
        },
        "outputId": "e8dc25aa-11f3-4aa7-95ba-6048b5763bf6"
      },
      "source": [
        "i=0\n",
        "for j in tags_unigrams:\n",
        "  print(j, tags_unigrams[j])\n",
        "  i = i+1\n",
        "  if i==5: break"
      ],
      "execution_count": null,
      "outputs": [
        {
          "output_type": "stream",
          "text": [
            "tem [('Gruppensystem', 1)]\n",
            "aty [('wybór-krawaty', 1)]\n",
            "esz [('tata-będziesz', 1)]\n",
            "T1085 [('kupować', 4089), ('stawiać', 3055), ('odbywać', 9593), ('zdawać', 2892), ('analizować', 1688), ('przyjmować', 4002), ('szukać', 10394), ('podejmować', 8134), ('chwalić', 898), ('pomijać', 552), ('świadczyć', 4432), ('wliczać', 205), ('zwiększać', 2474), ('wykorzystywać', 4693), ('hamować', 549), ('głosić', 597), ('mówić', 29480), ('pamiętać', 22926), ('upatrywać', 686), ('otrzymywać', 3724), ('wprowadzać', 5826), ('odkrywać', 557), ('poznawać', 877), ('dostarczać', 1451), ('wykonywać', 10119), ('doceniać', 432), ('rozwijać', 8318), ('likwidować', 1453), ('utrudniać', 1142), ('unikać', 3143), ('rozumieć', 5626), ('traktować', 8050), ('kontrolować', 4243), ('wchodzić', 3872), ('prosić', 6518), ('rozwiązywać', 2240), ('nadawać', 1179), ('akceptować', 689), ('powtarzać', 3106), ('dyskutować', 5940), ('tworzyć', 11305), ('badać', 1815), ('pełnić', 5821), ('utrzymywać', 3459), ('chronić', 7079), ('informować', 1862), ('prowadzić', 27739), ('kojarzyć', 695), ('podawać', 2570), ('nabywać', 1048), ('oglądać', 8832), ('popełniać', 445), ('grać', 10978), ('oskarżać', 342), ('cofać', 322), ('trenować', 2172), ('przekonywać', 2058), ('zatrudniać', 1433), ('eksploatować', 283), ('obowiązywać', 7320), ('oddziaływać', 2612), ('zmniejszać', 1428), ('objawiać', 211), ('sprawiać', 938), ('bronić', 5963), ('importować', 424), ('zapominać', 2811), ('oczekiwać', 6359), ('czytać', 5394), ('dostosowywać', 986), ('przytulać', 105), ('doprowadzać', 604), ('uznawać', 680), ('robić', 21176), ('odrzucać', 449), ('eliminować', 1051), ('włączać', 612), ('stanowić', 20644), ('sytuować', 60), ('zadawać', 2700), ('przeznaczać', 1083), ('finansować', 2419), ('zwracać', 3686), ('wstawiać', 212), ('określać', 3434), ('produkować', 2523), ('pielęgnować', 550), ('pozyskiwać', 1072), ('malować', 927), ('oferować', 1110), ('budować', 7156), ('ogarniać', 104), ('używać', 7912), ('przeprowadzać', 2482), ('trafiać', 855), ('toczyć', 1553), ('wskazywać', 2883), ('kręcić', 714), ('pomiatać', 35), ('wydawać', 7362), ('służyć', 18484), ('przejmować', 1406), ('zmieniać', 7270), ('dłubać', 58), ('zajmować', 6291), ('adresować', 201), ('nosić', 2902), ('uprawiać', 2352), ('plasować', 21), ('kosztować', 3131), ('wzmacniać', 904), ('studiować', 1724), ('opierać', 2732), ('orzekać', 982), ('zarządzać', 2342), ('recytować', 59), ('umacniać', 444), ('ułatwiać', 886), ('dochodzić', 3817), ('wstydzić', 968), ('uchwalać', 593), ('obejmować', 4165), ('rozpoznawać', 591), ('rozpatrywać', 3226), ('monitorować', 1456), ('szkolić', 747), ('zarabiać', 2422), ('łowić', 401), ('zanudzać', 143), ('wiązać', 3677), ('składać', 6801), ('minimalizować', 448), ('stwarzać', 1886), ('udzielać', 3319), ('tłumaczyć', 2985), ('odczuwać', 964), ('oznaczać', 6734), ('nanosić', 100), ('udostępniać', 768), ('zakładać', 2713), ('realizować', 11823), ('karmić', 713), ('pobierać', 2774), ('oddalać', 444), ('zachęcać', 1521), ('przewidywać', 1461), ('ignorować', 455), ('rezygnować', 1173), ('kryminalizować', 7), ('parkować', 172), ('spełniać', 8661), ('kandydować', 629), ('rozliczać', 1175), ('wyrażać', 1357), ('wspomagać', 1267), ('pocierać', 34), ('zgłaszać', 3114), ('kontynuować', 7080), ('powodować', 7032), ('ściągać', 881), ('przecinać', 114), ('wymieniać', 2549), ('budzić', 4463), ('konsumować', 180), ('narażać', 966), ('ustalać', 1503), ('kształcić', 1064), ('ratować', 2794), ('dopasowywać', 213), ('gadać', 694), ('posiadać', 9377), ('przypuszczać', 2940), ('odprawiać', 330), ('wnioskować', 1976), ('strzec', 608), ('spodziewać', 9005), ('przechodzić', 1721), ('przebywać', 2636), ('mylić', 1931), ('słuchać', 3831), ('dodawać', 1949), ('wypełniać', 1693), ('urealniać', 10), ('wypowiadać', 2134), ('narzucać', 613), ('kierować', 6969), ('lekceważyć', 881), ('procedować', 1364), ('regulować', 2809), ('oceniać', 4196), ('podziwiać', 2789), ('deregulować', 38), ('sprawdzać', 1961), ('zasilać', 400), ('sprzedawać', 2919), ('zawracać', 240), ('wymagać', 3636), ('uczyć', 5770), ('stosować', 14310), ('płacić', 9513), ('dysponować', 2486), ('przyzwyczajać', 182), ('egzekwować', 1083), ('chować', 405), ('wierzyć', 4371), ('gromadzić', 1235), ('powstawać', 2327), ('zamawiać', 482), ('siedzieć', 1894), ('udawać', 1403), ('uruchamiać', 608), ('wyznaczać', 629), ('palić', 892), ('naruszać', 1385), ('popierać', 2751), ('podróżować', 1254), ('wystawiać', 856), ('wyjmować', 106), ('zapewniać', 2015), ('dopełniać', 97), ('przestrzegać', 2898), ('dorzucać', 53), ('aktywować', 376), ('przenosić', 1919), ('transponować', 27), ('uderzać', 314), ('łączyć', 4053), ('zachowywać', 1890), ('wypłacać', 1429), ('wykupywać', 206), ('podwyższać', 481), ('sądzić', 2538), ('oszczędzać', 1559), ('wracać', 3030), ('zbierać', 2099), ('reformować', 370), ('zwodzić', 50), ('kusić', 121), ('obchodzić', 1036), ('wypijać', 72), ('ubijać', 89), ('edytować', 425), ('gotować', 1073), ('pisać', 7179), ('odkładać', 509), ('poprawiać', 1649), ('zdobywać', 1560), ('wyostrzać', 8), ('zasłaniać', 302), ('wyłaniać', 131), ('uzupełniać', 1022), ('radzić', 1840), ('uzależniać', 310), ('wyłapywać', 90), ('zniechęcać', 334), ('prezentować', 2115), ('wspominać', 1075), ('mianować', 309), ('proponować', 1017), ('odbierać', 1700), ('naśladować', 651), ('straszyć', 662), ('przedstawiać', 2950), ('banalizować', 4), ('wykrzykiwać', 45), ('dobierać', 604), ('dystrybuować', 78), ('świętować', 674), ('liczyć', 19317), ('planować', 1249), ('nieść', 1125), ('siec', 208), ('redukować', 390), ('zabezpieczać', 840), ('zaczynać', 949), ('szykować', 232), ('słyszeć', 1329), ('promować', 2321), ('obsługiwać', 1701), ('zwalniać', 699), ('układać', 934), ('twierdzić', 2164), ('interpretować', 1726), ('wdrażać', 823), ('komentować', 998), ('obligować', 72), ('limitować', 53), ('odklejać', 31), ('uwzględniać', 5257), ('przeszukiwać', 152), ('wybierać', 3705), ('przesuwać', 806), ('strzelać', 1413), ('zeznawać', 191), ('tytułować', 80), ('propagować', 424), ('leczyć', 2387), ('przeganiać', 15), ('zarzucać', 368), ('symbolizować', 633), ('zachwycać', 280), ('kwestionować', 943), ('przygotowywać', 2041), ('inwestować', 2755), ('cyzelować', 49), ('osłaniać', 198), ('wymuszać', 352), ('zabijać', 743), ('szkodzić', 531), ('wzmiankować', 30), ('zostawiać', 488), ('zmuszać', 716), ('nadużywać', 514), ('nazywać', 2156), ('wyjaśniać', 935), ('omijać', 626), ('odnosić', 3887), ('podsuwać', 42), ('odstraszać', 173), ('grzebać', 253), ('reprezentować', 3163), ('trapić', 30), ('wyglądać', 6156), ('spędzać', 1565), ('rejestrować', 756), ('otwierać', 1268), ('kurczyć', 95), ('wywoływać', 1636), ('ofiarować', 389), ('zawierać', 7619), ('poświęcać', 655), ('zapadać', 264), ('posyłać', 172), ('posiłkować', 255), ('trzymać', 4006), ('opowiadać', 1428), ('poniżać', 87), ('mobilizować', 296), ('załatwiać', 833), ('zaznaczać', 134), ('obrabiać', 79), ('wpisywać', 723), ('naprawiać', 860), ('powstrzymywać', 306), ('przynosić', 1314), ('nienawidzić', 149), ('wychowywać', 771), ('opłacać', 1317), ('ideologizować', 10), ('datować', 165), ('uzasadniać', 928), ('odchodzić', 632), ('ograniczać', 3971), ('umieszczać', 931), ('wyciągać', 1476), ('ustosunkowywać', 269), ('sugerować', 1509), ('poruszać', 3353), ('przypominać', 2325), ('przekraczać', 3220), ('nadzorować', 865), ('wyrzucać', 377), ('krytykować', 1159), ('rozpracowywać', 20), ('transkrybować', 7), ('męczyć', 565), ('dostrzegać', 1116), ('łamać', 761), ('zataczać', 38), ('bawić', 3138), ('powierzać', 268), ('rodzić', 1916), ('pogłębiać', 542), ('dawać', 4118), ('ukrywać', 1704), ('rozstrzygać', 1505), ('poszukiwać', 1701), ('zwalczać', 1128), ('kochać', 1209), ('karać', 1355), ('mieszać', 908), ('przedłużać', 1344), ('wnosić', 1909), ('operować', 767), ('zaliczać', 530), ('obniżać', 1071), ('wypatrywać', 121), ('pytać', 2167), ('zakrywać', 73), ('obiecywać', 187), ('ubezpieczać', 191), ('przemawiać', 1687), ('powiadamiać', 269), ('dziwować', 14), ('rozpoczynać', 771), ('zlecać', 519), ('dopisywać', 174), ('umarzać', 113), ('domniemywać', 1046), ('wkraczać', 675), ('przekazywać', 2920), ('nowelizować', 793), ('pobudzać', 474), ('podnosić', 1755), ('asymilować', 27), ('porównywać', 1702), ('odciągać', 71), ('podkreślać', 812), ('kreślić', 58), ('uszkadzać', 73), ('uczulać', 54), ('czynić', 3064), ('łudzić', 180), ('wspierać', 7453), ('pokonywać', 650), ('strugać', 12), ('zabierać', 2051), ('wyobrażać', 213), ('obracać', 591), ('przewyższać', 235), ('chadzać', 19), ('opisywać', 697), ('zgłębiać', 158), ('specjalizować', 220), ('oddychać', 572), ('próbować', 2725), ('generować', 955), ('księgować', 42), ('digitalizować', 6), ('piłować', 19), ('zrzeszać', 205), ('dominować', 656), ('znajdować', 5253), ('tolerować', 839), ('uwalniać', 112), ('przesyłać', 834), ('wyliczać', 282), ('meldować', 62), ('umilać', 72), ('sprawować', 2160), ('pozbawiać', 508), ('demontować', 73), ('blokować', 867), ('ratyfikować', 411), ('sypać', 224), ('segregować', 116), ('cytować', 475), ('rekomendować', 843), ('odmawiać', 544), ('opuszczać', 783), ('przyzywać', 19), ('nawiedzać', 46), ('preferować', 335), ('rozważać', 1342), ('podchodzić', 1467), ('rezerwować', 212), ('zobowiązywać', 223), ('wygłaszać', 348), ('postulować', 250), ('sortować', 86), ('odstawiać', 62), ('śledzić', 1732), ('oddzielać', 188), ('użytkować', 424), ('przebijać', 192), ('niszczyć', 991), ('obliczać', 264), ('odrywać', 120), ('łagodzić', 516), ('zdobić', 130), ('zapisywać', 806), ('przeglądać', 825), ('reaktywować', 245), ('organizować', 2806), ('uprawniać', 117), ('korygować', 443), ('remontować', 308), ('ujawniać', 637), ('wiać', 148), ('przeważać', 209), ('destabilizować', 74), ('odzywać', 192), ('lizać', 120), ('odgrywać', 1788), ('gniazdować', 40), ('przystosowywać', 91), ('gościć', 668), ('przykładać', 252), ('wynajmować', 371), ('kontestować', 62), ('śpiewać', 1284), ('umieć', 1573), ('rozgrzewać', 51), ('łachotać', 2), ('potwierdzać', 900), ('usprawniać', 177), ('spożywać', 819), ('obarczać', 225), ('uzyskiwać', 1649), ('odwoływać', 1054), ('wahać', 279), ('interesować', 1317), ('wysiewać', 68), ('przesadzać', 314), ('rysować', 449), ('projektować', 428), ('weselić', 36), ('oddawać', 1327), ('czerpać', 1789), ('ruszać', 721), ('drażnić', 200), ('zagłębiać', 148), ('różnicować', 536), ('łożyć', 392), ('prowokować', 310), ('szokować', 118), ('pucować', 13), ('gwarantować', 1453), ('angażować', 1049), ('honorować', 143), ('wychodzić', 2012), ('pocić', 63), ('dołączać', 229), ('opóźniać', 299), ('kwalifikować', 346), ('poddawać', 986), ('przedkładać', 347), ('bagatelizować', 348), ('docierać', 670), ('kombinować', 458), ('smażyć', 394), ('ćwiczyć', 1238), ('uchylać', 327), ('doświadczać', 313), ('kształtować', 2598), ('płoszyć', 29), ('stroić', 92), ('przebierać', 280), ('kreować', 756), ('denerwować', 496), ('przekręcać', 49), ('przezwyciężać', 118), ('nagrywać', 725), ('chodzić', 4052), ('zasypywać', 78), ('obciążać', 1174), ('pozywać', 79), ('nadmieniać', 14), ('walić', 241), ('odpadać', 39), ('kosić', 92), ('magazynować', 130), ('prostować', 565), ('przyodziewać', 4), ('odraczać', 51), ('chwytać', 188), ('rzucać', 818), ('weryfikować', 664), ('formułować', 660), ('wszczynać', 215), ('żądać', 3421), ('wyjeżdżać', 639), ('atakować', 1226), ('zwiastować', 95), ('modernizować', 330), ('wygrywać', 715), ('wysłuchiwać', 181), ('emitować', 448), ('bełkotać', 14), ('przywozić', 126), ('wmawiać', 264), ('przywoływać', 298), ('odprowadzać', 511), ('licytować', 222), ('cenzurować', 79), ('spotykać', 1284), ('obrazować', 98), ('dopłacać', 754), ('wypuszczać', 181), ('aplikować', 479), ('suszyć', 104), ('teoretyzować', 20), ('rządzić', 1651), ('spisywać', 167), ('stymulować', 748), ('przemierzać', 151), ('odliczać', 352), ('implementować', 257), ('odznaczać', 236), ('podważać', 536), ('podejrzewać', 857), ('podpisywać', 681), ('podpuszczać', 13), ('całować', 263), ('równać', 445), ('zaczepiać', 52), ('ulepszać', 240), ('uiszczać', 393), ('napawać', 235), ('wizytować', 68), ('wpinać', 14), ('pokazywać', 1659), ('moczyć', 116), ('sterować', 841), ('zatrzymywać', 491), ('certyfikować', 32), ('obserwować', 3416), ('przemieszczać', 815), ('przeżywać', 637), ('wykpiwać', 7), ('skupiać', 846), ('wpłacać', 462), ('czkać', 8), ('przewozić', 633), ('urzeczywistniać', 83), ('komplikować', 294), ('zniżać', 36), ('przejawiać', 375), ('czarować', 110), ('wypracowywać', 173), ('potęgować', 100), ('odżywiać', 343), ('żywić', 666), ('zamykać', 1101), ('dowozić', 143), ('komercjalizować', 57), ('opadać', 136), ('odczytywać', 673), ('osądzać', 135), ('zamieszczać', 463), ('przywodzić', 46), ('nabierać', 452), ('wzbudzać', 489), ('obradować', 308), ('wysyłać', 1473), ('przyciągać', 480), ('dzielić', 2881), ('zaprzeczać', 169), ('zachodzić', 771), ('gasić', 177), ('słabnąć', 199), ('wywierać', 716), ('tłumić', 146), ('prać', 275), ('prasować', 67), ('ogłaszać', 365), ('zamieszkiwać', 281), ('restrukturyzować', 186), ('izolować', 173), ('legitymować', 419), ('schodzić', 384), ('zwlekać', 312), ('kontaktować', 642), ('wykluczać', 352), ('serwować', 164), ('ochraniać', 259), ('inwigilować', 64), ('administrować', 132), ('składować', 139), ('podporządkowywać', 131), ('dowodzić', 631), ('odgryzać', 12), ('skazywać', 175), ('zawiadywać', 22), ('zwijać', 132), ('zdejmować', 195), ('mnożyć', 985), ('ważyć', 496), ('powiększać', 553), ('kasować', 145), ('winić', 234), ('odprężać', 13), ('motać', 9), ('pokrywać', 1274), ('posuwać', 235), ('osiągać', 1671), ('wyprowadzać', 280), ('pilnować', 1382), ('filmować', 87), ('dywagować', 90), ('upamiętniać', 198), ('definiować', 375), ('grupować', 94), ('pasować', 775), ('gonić', 433), ('awansować', 1662), ('holować', 80), ('giąć', 18), ('zyskiwać', 310), ('odrabiać', 296), ('buntować', 128), ('gryźć', 125), ('ubierać', 485), ('udowadniać', 621), ('porządkować', 325), ('dyscyplinować', 140), ('grozić', 1022), ('powoływać', 1640), ('kompresować', 24), ('pouczać', 305), ('premiować', 135), ('konsultować', 504), ('dezintegrować', 8), ('antagonizować', 42), ('wypisywać', 242), ('prostytuować', 4), ('przelewać', 128), ('dotykać', 618), ('usprawiedliwiać', 391), ('testować', 485), ('usuwać', 1139), ('odwzajemniać', 25), ('ogrzewać', 173), ('reklamować', 544), ('dawkować', 59), ('ciąć', 450), ('przepłacać', 187), ('schnąć', 27), ('panierować', 14), ('rozbijać', 166), ('wgrywać', 86), ('uspokajać', 150), ('barwić', 35), ('wykrywać', 278), ('rozminowywać', 7), ('wołać', 181), ('zaopatrywać', 264), ('modyfikować', 726), ('przyspieszać', 284), ('wyznawać', 128), ('poławiać', 30), ('ukazywać', 599), ('punktować', 76), ('forsować', 232), ('dyskwalifikować', 49), ('podtrzymywać', 418), ('podłączać', 122), ('pociągać', 373), ('sprowadzać', 992), ('wyprostowywać', 1), ('umożliwiać', 876), ('protestować', 582), ('chrzcić', 28), ('rozgrywać', 608), ('wysadzać', 59), ('wyszukiwać', 304), ('dyskryminować', 253), ('napędzać', 169), ('ścierać', 109), ('naliczać', 256), ('oprotestowywać', 13), ('przymuszać', 65), ('powielać', 343), ('hasać', 27), ('zaspokajać', 498), ('wytyczać', 86), ('niepokoić', 552), ('domyślać', 791), ('osiedlać', 355), ('wykręcać', 59), ('odróżniać', 380), ('wspinać', 393), ('skakać', 595), ('nawijać', 70), ('doradzać', 245), ('rozłączać', 15), ('hodować', 348), ('przeciwstawiać', 465), ('przepraszać', 241), ('popuszczać', 20), ('przybywać', 440), ('konsolidować', 101), ('zjeżdżać', 153), ('kłócić', 471), ('wielbić', 68), ('deklarować', 215), ('sumować', 114), ('umawiać', 205), ('retuszować', 7), ('zwiedzać', 810), ('zgadywać', 133), ('oszukiwać', 567), ('odpędzać', 29), ('spłacać', 1246), ('kopiować', 292), ('pocieszać', 131), ('podzielać', 197), ('wzywać', 367), ('aneksować', 26), ('aresztować', 450), ('wymyślać', 324), ('wytwarzać', 863), ('stabilizować', 270), ('śmiecić', 27), ('obrywać', 11), ('zawdzięczać', 184), ('ewokować', 8), ('notować', 155), ('pozostawiać', 401), ('puszczać', 254), ('ostrzegać', 157), ('nakładać', 1075), ('piętnować', 128), ('wykazywać', 1176), ('ustanawiać', 312), ('mazać', 23), ('topić', 116), ('inspirować', 337), ('burzyć', 298), ('wtrącać', 221), ('adorować', 56), ('zaprzątać', 93), ('zaśmiecać', 95), ('charakteryzować', 674), ('zachwalać', 40), ('zapuszczać', 77), ('rozporządzać', 246), ('obrażać', 752), ('kłamać', 408), ('kompensować', 143), ('komunikować', 647), ('przeciągać', 240), ('przybierać', 620), ('odstępować', 124), ('szczędzić', 47), ('ugniatać', 19), ('aktualizować', 300), ('nagradzać', 191), ('delegować', 228), ('przeplatać', 42), ('żyłować', 4), ('przełamywać', 150), ('mierzyć', 1036), ('socjalizować', 8), ('tracić', 2123), ('grywać', 172), ('sygnować', 31), ('pożyczać', 261), ('wzbogacać', 209), ('edukować', 290), ('eskalować', 35), ('doprecyzowywać', 43), ('niwelować', 287), ('wypasać', 29), ('wyzwalać', 90), ('podbijać', 134), ('stwierdzać', 174), ('rzeźbić', 86), ('szczycić', 186), ('rozdzielać', 273), ('odsączać', 2), ('odsuwać', 100), ('rozkładać', 256), ('obezwładniać', 9), ('faworyzować', 104), ('rozwodzić', 376), ('posądzać', 157), ('lać', 175), ('zasysać', 28), ('wyczerpywać', 109), ('zamieniać', 301), ('urozmaicać', 82), ('przyśpieszać', 46), ('sprzątać', 307), ('rozbudowywać', 395), ('zakłócać', 368), ('równoważyć', 209), ('bogacić', 107), ('brakować', 895), ('przepuszczać', 87), ('inicjować', 353), ('publikować', 770), ('zaparzać', 25), ('przerywać', 593), ('nasilać', 303), ('reglamentować', 28), ('wykładać', 319), ('apelować', 477), ('odtwarzać', 479), ('racjonalizować', 139), ('nawiązywać', 908), ('pochłaniać', 101), ('zrażać', 84), ('sporządzać', 476), ('piastować', 139), ('ustawiać', 522), ('krzyżować', 161), ('wycofywać', 663), ('dźwigać', 230), ('opalać', 121), ('pokrzykiwać', 132), ('odwiedzać', 807), ('przymierzać', 67), ('uleczać', 6), ('szacować', 615), ('rozpowszechniać', 290), ('przewracać', 70), ('śmiać', 1020), ('płakać', 884), ('opryskiwać', 30), ('obcinać', 113), ('komponować', 340), ('dekorować', 80), ('przełączać', 150), ('wyrównywać', 417), ('przeciekać', 66), ('wwozić', 31), ('orędować', 1), ('manifestować', 196), ('wybijać', 131), ('odciążać', 45), ('rekompensować', 309), ('zadziwiać', 72), ('wyprzedawać', 106), ('uogólniać', 108), ('uświadamiać', 308), ('instalować', 449), ('kruszyć', 159), ('doskonalić', 768), ('kartkować', 8), ('pomniejszać', 169), ('symulować', 134), ('nudzić', 455), ('odmieniać', 43), ('bombardować', 58), ('udoskonalać', 174), ('nękać', 180), ('respektować', 692), ('nadrabiać', 203), ('rozeznawać', 18), ('odzwierciedlać', 684), ('postrzegać', 770), ('wywozić', 142), ('popędzać', 18), ('wzorcować', 1), ('wyróżniać', 587), ('regenerować', 107), ('dopuszczać', 976), ('nastręczać', 125), ('zagrzebywać', 7), ('skracać', 339), ('torpedować', 44), ('upraszczać', 179), ('czyhać', 25), ('oddłużać', 36), ('współfinansować', 163), ('absorbować', 192), ('wyolbrzymiać', 34), ('kolorować', 31), ('szczypać', 25), ('spinać', 75), ('okłamywać', 124), ('nasycać', 29), ('poróżniać', 2), ('pudrować', 12), ('podgotowywać', 2), ('utożsamiać', 723), ('kroić', 92), ('upominać', 314), ('luzować', 23), ('transportować', 324), ('wydłużać', 298), ('popularyzować', 180), ('rozdawać', 326), ('rwać', 55), ('przepisywać', 129), ('szanować', 1201), ('nastrajać', 22), ('gratyfikować', 14), ('kserować', 26), ('wpychać', 68), ('prenumerować', 45), ('gdybać', 115), ('wyrzekać', 38), ('zbywać', 192), ('kaleczyć', 28), ('złomować', 35), ('odsiadywać', 97), ('urządzać', 293), ('wodzić', 54), ('czyścić', 428), ('lokować', 384), ('demaskować', 55), ('wetować', 45), ('obsadzać', 90), ('przypisywać', 376), ('ganić', 54), ('maksymalizować', 92), ('zwoływać', 138), ('przetwarzać', 445), ('podcierać', 12), ('kolonizować', 36), ('przytaczać', 551), ('przestrzelać', 6), ('tańczyć', 787), ('gardzić', 34), ('przychodzić', 505), ('podglądać', 119), ('kraść', 275), ('kapać', 33), ('zażywać', 302), ('zmywać', 81), ('autoryzować', 25), ('osłabiać', 301), ('wykształcać', 50), ('retencjonować', 8), ('wyprzedzać', 274), ('ścinać', 83), ('wyświetlać', 405), ('ładować', 348), ('szydzić', 57), ('formować', 411), ('trudzić', 64), ('rozchodzić', 128), ('pozorować', 47), ('systematyzować', 18), ('krzywdzić', 199), ('nadsyłać', 97), ('synchronizować', 70), ('radykalizować', 8), ('zbliżać', 627), ('wkładać', 419), ('rozbierać', 147), ('zawijać', 65), ('podrażniać', 53), ('rozpisywać', 265), ('obcierać', 13), ('orać', 49), ('pryskać', 40), ('siać', 255), ('wyłączać', 389), ('plątać', 39), ('jątrzyć', 36), ('akcentować', 124), ('zauważać', 411), ('drukować', 477), ('rabować', 46), ('zjadać', 264), ('skręcać', 128), ('fotografować', 290), ('zapraszać', 346), ('torować', 35), ('upajać', 45), ('opracowywać', 379), ('odbudowywać', 324), ('wieszać', 142), ('załamywać', 106), ('negować', 253), ('wypędzać', 23), ('zabraniać', 144), ('ścigać', 1142), ('rozpalać', 62), ('kanalizować', 18), ('kompromitować', 77), ('ssać', 187), ('wzorować', 255), ('pobijać', 13), ('rozweselać', 14), ('kamuflować', 23), ('montować', 517), ('pogarszać', 456), ('wychylać', 65), ('odzyskiwać', 242), ('schylać', 43), ('nadwyrężać', 38), ('podpierać', 83), ('personifikować', 7), ('krystalizować', 42), ('grabić', 93), ('porywać', 97), ('przekładać', 549), ('fabrykować', 22), ('klasyfikować', 190), ('wciskać', 189), ('zalewać', 98), ('rozformowywać', 7), ('pochylać', 138), ('katapultować', 56), ('rozdzierać', 39), ('marnować', 469), ('przepełniać', 6), ('dumać', 19), ('zbijać', 115), ('dusić', 367), ('wpędzać', 17), ('wypiekać', 21), ('kurzyć', 13), ('kopać', 432), ('ściskać', 55), ('dofinansowywać', 266), ('pomnieć', 157), ('szerzyć', 301), ('dogadzać', 18), ('przesączać', 7), ('wylegiwać', 72), ('nawracać', 130), ('wyśmiewać', 73), ('łapać', 456), ('dezaktualizować', 7), ('dowartościowywać', 23), ('częstować', 47), ('zginać', 61), ('rozginać', 3), ('odpisywać', 136), ('trąbić', 35), ('dyktować', 256), ('rozłupywać', 4), ('osaczać', 11), ('otaczać', 278), ('unieważniać', 34), ('rozkręcać', 72), ('odnajdywać', 112), ('szczerzyć', 7), ('dyskredytować', 93), ('olewać', 52), ('firmować', 67), ('wdawać', 360), ('zawieszać', 145), ('dociekać', 149), ('płynąć', 718), ('odłogować', 13), ('wymierzać', 161), ('przewijać', 88), ('optymalizować', 151), ('aktywizować', 237), ('motywować', 458), ('wrzucać', 457), ('narastać', 341), ('pogrążać', 67), ('namawiać', 451), ('omawiać', 949), ('skonfliktować', 17), ('poświadczać', 44), ('eksponować', 179), ('odwzorowywać', 40), ('zaciągać', 558), ('uwodzić', 67), ('uniemożliwiać', 303), ('wskrzeszać', 30), ('odcedzać', 9), ('dręczyć', 113), ('ożywiać', 66), ('boksować', 57), ('dokładać', 555), ('adiustować', 5), ('masować', 160), ('skupować', 128), ('darzyć', 82), ('dotować', 213), ('czcić', 269), ('rozmnażać', 369), ('przesądzać', 588), ('bredzić', 18), ('załączać', 49), ('wykuwać', 17), ('obciągać', 21), ('klepać', 72), ('koordynować', 737), ('nauczać', 401), ('nakłaniać', 120), ('cechować', 514), ('tuczyć', 18), ('zadłużać', 263), ('miesić', 5), ('nasłuchiwać', 44), ('mleć', 21), ('dynamizować', 12), ('odinstalować', 86), ('odsłaniać', 56), ('polepszać', 94), ('integrować', 326), ('demoralizować', 27), ('dolewać', 98), ('opychać', 11), ('resocjalizować', 26), ('archiwizować', 51), ('odwozić', 15), ('podkręcać', 41), ('przerzucać', 381), ('transplantować', 1), ('akumulować', 27), ('znaczyć', 447), ('ciągać', 41), ('rzutować', 481), ('przybliżać', 380), ('poszerzać', 519), ('wysnuwać', 84), ('zacieśniać', 98), ('smarować', 174), ('kleić', 91), ('ozdabiać', 85), ('wartościować', 59), ('przywiązywać', 222), ('odbijać', 262), ('infekować', 20), ('szorować', 41), ('rekrutować', 101), ('legalizować', 52), ('repatriować', 21), ('rokować', 72), ('ucierać', 48), ('nawigować', 35), ('rozbrajać', 25), ('zapeszać', 30), ('opluwać', 33), ('utwierdzać', 51), ('konserwować', 108), ('chłodzić', 90), ('pompować', 66), ('zatwierdzać', 159), ('przeć', 53), ('sztukować', 9), ('wypaczać', 30), ('zagospodarowywać', 82), ('przerabiać', 241), ('doglądać', 89), ('uprzedzać', 98), ('wznosić', 399), ('doliczać', 80), ('gromić', 10), ('salutować', 7), ('polecać', 189), ('wklejać', 96), ('wisieć', 156), ('wschodzić', 13), ('impregnować', 19), ('dublować', 148), ('przerażać', 87), ('przetrawiać', 16), ('sycić', 38), ('determinować', 204), ('obcałowywać', 3), ('wychładzać', 7), ('pchać', 217), ('wystrzeliwać', 85), ('dyskontować', 23), ('odsyłać', 209), ('aspirować', 87), ('rozlewać', 37), ('tłuc', 96), ('napierdalać', 15), ('konkretyzować', 35), ('rozpakowywać', 22), ('znakować', 45), ('zapamiętywać', 61), ('orientować', 216), ('wodować', 27), ('wyważać', 96), ('wycinać', 230), ('patrolować', 85), ('wcierać', 51), ('okazywać', 488), ('zapowiadać', 112), ('modelować', 120), ('odsprzedawać', 40), ('warunkować', 110), ('praktykować', 274), ('świecić', 421), ('zrzucać', 236), ('upowszechniać', 329), ('transformować', 32), ('spryskiwać', 27), ('wycierać', 80), ('wciągać', 167), ('odpowietrzać', 5), ('wywodzić', 411), ('dotrzymywać', 166), ('odsiewać', 4), ('falować', 30), ('nakazywać', 114), ('zakazywać', 128), ('krępować', 132), ('przypadać', 417), ('rozpamiętywać', 39), ('grzać', 123), ('spawać', 32), ('odkręcać', 48), ('eskortować', 59), ('odświeżać', 53), ('osadzać', 65), ('muskać', 13), ('przegrywać', 212), ('stylizować', 30), ('odkupywać', 26), ('gimnastykować', 24), ('imitować', 116), ('wybaczać', 68), ('odseparowywać', 3), ('żreć', 59), ('parzyć', 79), ('śmierdzieć', 41), ('opiniować', 289), ('wyręczać', 244), ('unosić', 229), ('zabawiać', 142), ('uzgadniać', 312), ('zaburzać', 138), ('obierać', 63), ('podrabiać', 27), ('silić', 47), ('natężać', 7), ('migać', 82), ('schładzać', 29), ('zaogniać', 34), ('lobbować', 83), ('paraliżować', 80), ('korelować', 50), ('odpuszczać', 78), ('rozpraszać', 134), ('wpuszczać', 172), ('retransmitować', 7), ('przyrządzać', 174), ('uświetniać', 10), ('wypytywać', 78), ('wydatkować', 475), ('irytować', 145), ('połykać', 97), ('dzierżyć', 35), ('uciskać', 44), ('wywieszać', 50), ('chlapać', 9), ('logować', 109), ('ilustrować', 81), ('subwencjonować', 11), ('znamionować', 27), ('przegłosowywać', 28), ('łajać', 13), ('spowalniać', 98), ('odpalać', 124), ('stronić', 54), ('prognozować', 289), ('odwracać', 242), ('wywracać', 40), ('rozpieszczać', 48), ('przyznawać', 724), ('zaskakiwać', 282), ('rozśmieszać', 26), ('wyposażać', 137), ('rozmieniać', 14), ('przesłuchiwać', 125), ('fundować', 124), ('oprowadzać', 31), ('uwidaczniać', 31), ('zasiedlać', 85), ('wbijać', 136), ('kolportować', 21), ('zwyciężać', 120), ('usztywniać', 22), ('przysposabiać', 10), ('chlać', 26), ('polewać', 51), ('płatać', 43), ('przydzielać', 110), ('podpowiadać', 114), ('upiększać', 45), ('przemycać', 84), ('stacjonować', 175), ('pilotować', 67), ('przeliczać', 136), ('przemieniać', 95), ('zdradzać', 288), ('alokować', 36), ('przepychać', 77), ('nasadzać', 7), ('rozmontowywać', 12), ('ganiać', 64), ('wysilać', 131), ('unowocześniać', 84), ('zanieczyszczać', 30), ('grillować', 53), ('referować', 130), ('niedosłyszeć', 3), ('szafować', 47), ('harmonizować', 66), ('podlewać', 193), ('fascynować', 57), ('tankować', 72), ('utrwalać', 292), ('odradzać', 135), ('fedrować', 36), ('uzurpować', 38), ('waloryzować', 80), ('wznawiać', 49), ('przepływać', 120), ('dorabiać', 163), ('przyswajać', 95), ('psocić', 19), ('dzierżawić', 100), ('erygować', 19), ('zatykać', 45), ('wydzielać', 193), ('zrywać', 191), ('wytykać', 153), ('odcinać', 107), ('nasuwać', 174), ('desygnować', 57), ('konstruować', 358), ('pieścić', 99), ('ekscytować', 37), ('przekształcać', 482), ('przeskakiwać', 78), ('kodować', 40), ('szczepić', 120), ('wymiotować', 57), ('upubliczniać', 69), ('tępić', 104), ('wymawiać', 102), ('wlewać', 93), ('maskować', 125), ('legitymizować', 61), ('zasuwać', 48), ('zawężać', 109), ('dokumentować', 245), ('egzaminować', 54), ('łupić', 72), ('wierzgać', 14), ('dopytywać', 119), ('zabliźniać', 4), ('potępiać', 139), ('wymądrzać', 44), ('mijać', 97), ('ubogacać', 23), ('utylizować', 69), ('przesłaniać', 116), ('modulować', 21), ('zadzierać', 55), ('iluminować', 1), ('szpecić', 21), ('wypożyczać', 144), ('narysować', 279), ('nadziewać', 29), ('degradować', 36), ('pakować', 293), ('wiercić', 70), ('zużywać', 135), ('ubóstwiać', 9), ('rozprowadzać', 96), ('wygrzewać', 47), ('smakować', 183), ('spychać', 78), ('umniejszać', 70), ('srać', 36), ('wymachiwać', 53), ('programować', 176), ('ćwiartować', 3), ('zacinać', 23), ('rozczesywać', 11), ('celować', 125), ('staczać', 43), ('rozrządzać', 4), ('rozpędzać', 49), ('wcielać', 161), ('zadowalać', 139), ('decentralizować', 33), ('rozróżniać', 250), ('pieprzyć', 82), ('okalać', 17), ('reanimować', 82), ('przyłączać', 105), ('gwizdać', 65), ('odwodzić', 8), ('wyzywać', 90), ('wyrywać', 140), ('ocierać', 59), ('redystrybuować', 15), ('wyłudzać', 42), ('wyładowywać', 22), ('obwarowywać', 5), ('nakłuwać', 10), ('ponawiać', 79), ('kultywować', 163), ('wstrzykiwać', 28), ('przywracać', 218), ('wyszczególniać', 18), ('bujać', 64), ('gawędzić', 10), ('mordować', 156), ('identyfikować', 514), ('nadlatywać', 2), ('lansować', 115), ('krzewić', 76), ('zaciskać', 95), ('rozpuszczać', 55), ('suspendować', 2), ('pojmować', 139), ('sadzać', 27), ('błogosławić', 52), ('neutralizować', 65), ('wstrzymywać', 220), ('opodatkowywać', 76), ('plamić', 16), ('obwieszczać', 11), ('szarpać', 165), ('zdywersyfikować', 63), ('przeczuwać', 32), ('rehabilitować', 69), ('kontemplować', 55), ('wchłaniać', 70), ('drążyć', 153), ('podszywać', 36), ('wytrzymywać', 58), ('konfigurować', 131), ('sankcjonować', 100), ('oblizywać', 7), ('wróżyć', 87), ('ręczyć', 29), ('wysuwać', 239), ('mocować', 103), ('gnębić', 57), ('bajać', 3), ('podpalać', 40), ('rozwiewać', 62), ('kalkulować', 131), ('szpiegować', 54), ('przesiedlać', 17), ('skubać', 33), ('objadać', 42), ('zawiązywać', 46), ('preparować', 25), ('obmyślać', 24), ('tropić', 65), ('inaugurować', 10), ('zamrażać', 56), ('cewnikować', 5), ('wypierać', 204), ('odczepiać', 8), ('pichcić', 13), ('przetrzymywać', 129), ('poręczać', 50), ('zamazywać', 31), ('rozprzedawać', 2), ('nawadniać', 39), ('uszczelniać', 96), ('napełniać', 99), ('mrozić', 36), ('skanować', 67), ('rozciągać', 227), ('zeskakiwać', 7), ('napastować', 15), ('wysysać', 30), ('zapieprzać', 19), ('wychwalać', 58), ('odpychać', 40), ('niecierpliwić', 34), ('wplatać', 22), ('mydlić', 56), ('wyszywać', 22), ('wkurwiać', 10), ('rościć', 101), ('podsumowywać', 69), ('przejadać', 37), ('cieniować', 13), ('reprodukować', 20), ('represjonować', 21), ('pomnażać', 120), ('smucić', 70), ('prześladować', 125), ('prolongować', 26), ('odgraniczać', 4), ('wypominać', 103), ('wręczać', 80), ('lepić', 43), ('rozgałęziać', 23), ('jednoczyć', 208), ('odpierać', 171), ('cenić', 204), ('wsuwać', 30), ('precyzować', 155), ('inkrustować', 5), ('trwonić', 71), ('ogrywać', 63), ('łatać', 184), ('iskać', 5), ('kontraktować', 107), ('huśtać', 18), ('oczyszczać', 154), ('inicjalizować', 6), ('przedrzeźniać', 7), ('podświetlać', 9), ('koloryzować', 13), ('wydzierżawiać', 35), ('przechylać', 59), ('cedować', 40), ('nacierać', 147), ('epatować', 85), ('zadręczać', 29), ('implikować', 77), ('natłuszczać', 11), ('zmykać', 13), ('zabarwiać', 14), ('spłukiwać', 17), ('demolować', 29), ('rozwalać', 43), ('masturbować', 25), ('stołować', 41), ('sygnalizować', 235), ('przeginać', 19), ('sadzić', 361), ('dopingować', 150), ('razić', 165), ('wyrabiać', 197), ('wałkować', 41), ('wykrawać', 24), ('zasięgać', 178), ('wyodrębniać', 77), ('umiejscawiać', 54), ('obstawiać', 106), ('wywalać', 54), ('dystansować', 54), ('kiwać', 54), ('trzeć', 34), ('jadać', 117), ('kredytować', 139), ('szczać', 10), ('wyczuwać', 76), ('cywilizować', 43), ('trzepać', 19), ('przyklejać', 60), ('odchudzać', 109), ('kołysać', 46), ('doznawać', 89), ('czerwienić', 13), ('rozprzestrzeniać', 240), ('dozować', 51), ('najmować', 10), ('raportować', 48), ('portretować', 16), ('konfrontować', 85), ('czepiać', 243), ('ewidencjonować', 105), ('agitować', 35), ('podpadać', 25), ('kadrować', 20), ('gwałcić', 55), ('patentować', 11), ('multiplikować', 8), ('farbować', 45), ('artykułować', 67), ('odganiać', 30), ('cykać', 12), ('oświetlać', 69), ('interferować', 10), ('rozmieszczać', 30), ('zatapiać', 21), ('zaklinać', 93), ('uginać', 32), ('odpracowywać', 28), ('zatrzaskiwać', 1), ('surfować', 43), ('imputować', 53), ('posypywać', 18), ('pędzić', 103), ('napominać', 13), ('brzydzić', 24), ('wybawiać', 6), ('wpajać', 65), ('kurować', 15), ('terroryzować', 57), ('taranować', 11), ('rąbać', 55), ('zanurzać', 50), ('uaktualniać', 59), ('bębnić', 9), ('odnajdować', 30), ('obwiniać', 180), ('chylić', 100), ('czesać', 53), ('antycypować', 77), ('przejeżdżać', 179), ('upolityczniać', 71), ('markować', 17), ('bezcześcić', 13), ('dochowywać', 43), ('ściemniać', 50), ('święcić', 76), ('zapładniać', 7), ('wygaszać', 55), ('zawalać', 13), ('witać', 131), ('baczyć', 42), ('obsiewać', 11), ('obdarzać', 54), ('dorównywać', 71), ('dosypywać', 24), ('ewaluować', 10), ('podburzać', 21), ('wynurzać', 15), ('rozmyślać', 143), ('sprawozdawać', 53), ('intensyfikować', 80), ('wynagradzać', 141), ('przeładowywać', 19), ('dezaktywować', 40), ('zalecać', 87), ('obdzielać', 12), ('zmiażdżyć', 81), ('serwisować', 58), ('zrzędzić', 5), ('zaostrzać', 110), ('miętosić', 5), ('zawiadamiać', 104), ('kolekcjonować', 74), ('parować', 34), ('filtrować', 74), ('dziedziczyć', 236), ('wylewać', 194), ('streszczać', 70), ('kalibrować', 14), ('współbrzmieć', 10), ('argumentować', 201), ('podgrzewać', 170), ('deptać', 62), ('lokalizować', 142), ('użyczać', 29), ('przekrzykiwać', 49), ('niweczyć', 30), ('celebrować', 133), ('ostrzyć', 52), ('penetrować', 84), ('kopić', 4), ('zaspakajać', 37), ('recenzować', 81), ('zdzierać', 27), ('przymykać', 72), ('detonować', 10), ('woleć', 13), ('zagłuszać', 28), ('wypróbowywać', 55), ('zrównywać', 56), ('przedzierać', 109), ('dekodować', 18), ('zraszać', 40), ('podpinać', 35), ('odkażać', 12), ('dedykować', 75), ('upijać', 14), ('poprzedzać', 232), ('uszczegóławiać', 29), ('dymać', 36), ('etapować', 4), ('ujmować', 228), ('przyprawiać', 23), ('unieszkodliwiać', 37), ('ordynować', 25), ('amortyzować', 67), ('uwrażliwiać', 32), ('odwirowywać', 1), ('obrzucać', 69), ('deprecjonować', 98), ('dmuchać', 181), ('syntetyzować', 56), ('hołubić', 29), ('zaprowadzać', 14), ('doładowywać', 32), ('odśnieżać', 41), ('finalizować', 45), ('wyczarowywać', 6), ('dopadać', 17), ('upoważniać', 70), ('bilansować', 87), ('akompaniować', 19), ('wyginać', 76), ('reorganizować', 32), ('chwiać', 68), ('przysyłać', 63), ('klinczować', 8), ('renegocjować', 209), ('dreptać', 31), ('rozlokowywać', 3), ('pacyfikować', 30), ('strzyc', 35), ('rozładowywać', 46), ('wyczekiwać', 114), ('wytapiać', 18), ('marnotrawić', 51), ('wtłaczać', 27), ('aranżować', 62), ('uszczuplać', 64), ('przemakać', 7), ('hipnotyzować', 15), ('werbować', 51), ('miłować', 80), ('zaganiać', 6), ('tańcować', 7), ('wypłukiwać', 9), ('dewastować', 23), ('intonować', 6), ('protokołować', 3), ('rozrzucać', 26), ('kropić', 9), ('miksować', 68), ('zestawiać', 130), ('dziergać', 11), ('szydełkować', 13), ('przekwalifikowywać', 15), ('marginalizować', 50), ('personalizować', 51), ('spostrzegać', 39), ('dopowiadać', 18), ('poniewierać', 30), ('uszczęśliwiać', 85), ('zamulać', 24), ('wyciszać', 34), ('karmelizować', 5), ('szeregować', 9), ('wkuwać', 15), ('przyporządkowywać', 13), ('rozdwajać', 15), ('pożerać', 31), ('mścić', 92), ('mącić', 40), ('wadzić', 21), ('wekslować', 3), ('lonżować', 4), ('dobijać', 79), ('wywyższać', 28), ('wzbierać', 6), ('zabudowywać', 33), ('wykopywać', 39), ('podciągać', 44), ('prokurować', 1), ('dryfować', 66), ('głodzić', 25), ('katować', 68), ('ofiarowywać', 17), ('nakrywać', 12), ('uzdrawiać', 97), ('policzkować', 3), ('wpierać', 29), ('wyciskać', 58), ('napotykać', 78), ('rozmasowywać', 1), ('wcinać', 28), ('przysparzać', 85), ('obmacywać', 12), ('przycinać', 132), ('tulić', 29), ('demonstrować', 131), ('wietrzyć', 50), ('popijać', 73), ('spalać', 214), ('wdychać', 84), ('predysponować', 23), ('spuszczać', 64), ('wieźć', 49), ('szantażować', 143), ('drapać', 75), ('metkować', 2), ('krzepić', 9), ('sławić', 24), ('rozsławiać', 3), ('insynuować', 43), ('alimentować', 4), ('przekreślać', 101), ('zwozić', 29), ('kumulować', 92), ('przesiewać', 13), ('zapoczątkowywać', 23), ('zarażać', 94), ('miotać', 67), ('aprobować', 80), ('torturować', 67), ('zapinać', 48), ('ujednolicać', 50), ('zalesiać', 41), ('zdrapywać', 6), ('zwierzać', 33), ('wyganiać', 16), ('przygrywać', 11), ('wypluwać', 15), ('pierdolić', 25), ('przypiekać', 5), ('drzeć', 69), ('owijać', 53), ('przeradzać', 37), ('indukować', 42), ('sponsorować', 119), ('odkurzać', 44), ('monitować', 20), ('bzykać', 29), ('dramatyzować', 24), ('obwozić', 6), ('gubić', 123), ('zakupywać', 50), ('goić', 27), ('wędkować', 60), ('zapoznawać', 199), ('deportować', 37), ('wyhamowywać', 16), ('okradać', 110), ('nawoływać', 114), ('dopracowywać', 93), ('zaznajamiać', 45), ('koronować', 66), ('wyburzać', 23), ('wzniecać', 38), ('rozrabiać', 31), ('mamić', 75), ('szkalować', 34), ('fetować', 32), ('uszczegółowiać', 12), ('uprzyjemniać', 10), ('ostrzeliwać', 139), ('kompletować', 61), ('generalizować', 117), ('typować', 83), ('zapiekać', 43), ('dyfundować', 13), ('przypinać', 44), ('opiewać', 85), ('udrażniać', 11), ('windować', 27), ('żenić', 77), ('zarumieniać', 1), ('podkopywać', 14), ('zwężać', 24), ('konkludować', 80), ('kneblować', 15), ('ronić', 15), ('piętrzyć', 29), ('ośmieszać', 110), ('zszywać', 16), ('zaciekawiać', 11), ('promieniować', 69), ('siodłać', 4), ('plądrować', 43), ('zsuwać', 44), ('czochrać', 5), ('haftować', 12), ('alarmować', 34), ('przebudowywać', 86), ('potrącać', 58), ('wytaczać', 95), ('diagnozować', 123), ('podsłuchiwać', 105), ('rymować', 10), ('nadymać', 17), ('ogałacać', 1), ('dokształcać', 73), ('przysłaniać', 37), ('windykować', 16), ('nokautować', 2), ('zganiać', 9), ('przychylać', 32), ('upokarzać', 38), ('czołgać', 42), ('taszczyć', 23), ('skreślać', 88), ('notyfikować', 85), ('podrzucać', 32), ('szczotkować', 40), ('zastraszać', 52), ('odnotowywać', 88), ('kwitować', 22), ('ćwierkać', 9), ('uspołeczniać', 6), ('ukierunkowywać', 56), ('odnawiać', 160), ('dopieszczać', 47), ('rumienić', 47), ('wysypywać', 24), ('śnić', 93), ('zasadzać', 24), ('przemywać', 37), ('ranić', 126), ('dymić', 28), ('subsydiować', 23), ('przyczepiać', 45), ('emocjonować', 42), ('zaniżać', 65), ('zawodzić', 48), ('aportować', 25), ('zaplatać', 11), ('asekurować', 40), ('odejmować', 47), ('mapować', 13), ('wywlekać', 11), ('zarybiać', 9), ('rewidować', 33), ('podniecać', 83), ('opasywać', 4), ('przywłaszczać', 10), ('wyrządzać', 66), ('naprężać', 4), ('odziedziczać', 1), ('ciężyć', 4), ('pojedynkować', 35), ('roztaczać', 52), ('wyczulać', 2), ('wirować', 52), ('wykańczać', 63), ('pasać', 10), ('koncelebrować', 5), ('natryskiwać', 1), ('uprzykrzać', 33), ('sączyć', 44), ('zacierać', 111), ('rozczarowywać', 9), ('doić', 70), ('kapelmistrzować', 1), ('znajdywać', 45), ('podmieniać', 22), ('wkręcać', 36), ('demonizować', 42), ('naciągać', 57), ('roztkliwiać', 5), ('lakierować', 11), ('konwertować', 87), ('rozgłaszać', 37), ('odłączać', 48), ('trawić', 52), ('wypychać', 34), ('wydalać', 33), ('inkorporować', 32), ('nakręcać', 70), ('gnieść', 14), ('umywać', 18), ('przechwytywać', 67), ('szumieć', 17), ('naginać', 76), ('faszerować', 32), ('rozstawiać', 19), ('dopraszać', 8), ('podżegać', 13), ('wydostawać', 37), ('rapować', 39), ('przykrywać', 62), ('pstrykać', 19), ('kadziować', 2), ('podsmażać', 17), ('cyfrować', 1), ('pętać', 3), ('zrzynać', 2), ('rewaloryzować', 9), ('losować', 21), ('replikować', 37), ('sznurować', 7), ('wtulać', 2), ('zapylać', 15), ('anarchizować', 8), ('zarysowywać', 18), ('szkicować', 20), ('widywać', 117), ('rozgadywać', 15), ('przytłaczać', 49), ('puentować', 7), ('nabijać', 116), ('rozsypywać', 27), ('okładać', 51), ('zaoszczędzać', 6), ('miarkować', 44), ('plewić', 10), ('rozrywać', 35), ('katalizować', 16), ('przesiąkać', 9), ('uzewnętrzniać', 18), ('dezinformować', 31), ('zarywać', 9), ('monopolizować', 10), ('pieczętować', 22), ('cuchnąć', 15), ('spajać', 26), ('cyklinować', 6), ('poczytywać', 20), ('zastawiać', 51), ('dopinać', 22), ('przyrównywać', 33), ('chuchać', 28), ('temperować', 8), ('fałszować', 73), ('numerować', 30), ('przedsiębrać', 19), ('zanosić', 40), ('chłonąć', 63), ('szlachtować', 3), ('maczać', 33), ('obtaczać', 25), ('wydzierać', 32), ('obudowywać', 9), ('zaskarżać', 55), ('naprowadzać', 39), ('redagować', 77), ('bełtać', 7), ('eksplorować', 97), ('prząść', 30), ('doręczać', 59), ('blanszować', 3), ('douczać', 9), ('rozpytywać', 5), ('uciszać', 10), ('podsycać', 55), ('hibernować', 6), ('przyprowadzać', 22), ('wertować', 40), ('powlekać', 5), ('ruchać', 63), ('urabiać', 11), ('błądzić', 96), ('strzępić', 18), ('turlać', 18), ('dementować', 29), ('przeciążać', 40), ('rozsyłać', 45), ('cementować', 14), ('oswajać', 84), ('prześwietlać', 22), ('prażyć', 16), ('nucić', 20), ('lutować', 29), ('tonąć', 86), ('pastować', 5), ('deponować', 26), ('potrząsać', 33), ('odholowywać', 1), ('zapożyczać', 40), ('śrubować', 10), ('zawyżać', 28), ('podpatrywać', 39), ('doklejać', 12), ('chrupać', 7), ('poganiać', 33), ('wszczepiać', 15), ('przekuwać', 32), ('odżegnywać', 22), ('wyjawiać', 68), ('nakreślać', 6), ('odchylać', 35), ('polukrować', 10), ('zawozić', 11), ('zgrywać', 63), ('rozszyfrowywać', 11), ('odszczekiwać', 5), ('podjadać', 42), ('macać', 16), ('sabotować', 34), ('odpłacać', 17), ('słodzić', 39), ('zwierać', 26), ('cumować', 38), ('przygrzewać', 7), ('swędzieć', 24), ('uosabiać', 29), ('wpijać', 5), ('kandyzować', 4), ('parafować', 18), ('gmerać', 18), ('spowiadać', 92), ('chlorować', 4), ('wyzerować', 37), ('sekować', 5), ('dyrygować', 36), ('wychwytywać', 50), ('ogniskować', 15), ('wypompowywać', 7), ('wysuszać', 15), ('oszałamiać', 6), ('fantazjować', 24), ('rozgraniczać', 45), ('zahaczać', 13), ('naświetlać', 37), ('przyrzekać', 8), ('rekonstruować', 42), ('obdarowywać', 48), ('napinać', 53), ('przeżuwać', 11), ('przechwalać', 43), ('rozsądzać', 27), ('podokazywać', 2), ('opatrywać', 31), ('wyceniać', 63), ('brudzić', 41), ('krzesać', 6), ('kontrować', 38), ('wklepywać', 26), ('skrzypieć', 22), ('zazębiać', 12), ('skrywać', 56), ('namierzać', 26), ('zalatywać', 12), ('okopywać', 14), ('podpiekać', 7), ('obnażać', 27), ('poić', 22), ('pogardzać', 28), ('związywać', 9), ('udaremniać', 17), ('wykupować', 22), ('wąchać', 45), ('hartować', 18), ('dokarmiać', 90), ('przemęczać', 41), ('dławić', 40), ('improwizować', 66), ('utleniać', 12), ('objaśniać', 58), ('przestawiać', 124), ('uskrzydlać', 3), ('odkrawać', 1), ('rozdrabniać', 63), ('paprać', 5), ('wkomponowywać', 10), ('dryblować', 8), ('wichrzyć', 30), ('okupować', 56), ('podrywać', 77), ('wygrzebywać', 6), ('okrywać', 44), ('zjednywać', 34), ('ferować', 73), ('błąkać', 28), ('uwierzytelniać', 14), ('uprzywilejowywać', 42), ('żłobić', 3), ('rekultywować', 11), ('koegzystować', 23), ('włamywać', 26), ('złuszczać', 15), ('wprawiać', 46), ('zliczać', 44), ('rozstrzeliwać', 30), ('upodabniać', 59), ('spłycać', 10), ('tonować', 24), ('naparzać', 24), ('przeceniać', 89), ('inwentaryzować', 13), ('dokupować', 32), ('podgryzać', 23), ('powściągać', 10), ('upośledzać', 42), ('nagłaśniać', 101), ('lżyć', 16), ('uwielbiać', 39), ('oblatywać', 2), ('wędzić', 12), ('krajać', 10), ('obalać', 73), ('rozjeżdżać', 18), ('rozgarniać', 5), ('paplać', 18), ('wypłaszać', 2), ('rozgryzać', 12), ('skrobać', 21), ('wyrąbywać', 7), ('drgać', 37), ('ubarwiać', 12), ('oślepiać', 19), ('predestynować', 10), ('znieważać', 35), ('przerysowywać', 5), ('rozniecać', 12), ('żebrać', 87), ('napromieniać', 3), ('pozdrawiać', 20), ('opłakiwać', 39), ('uwieczniać', 20), ('pisywać', 32), ('wytężać', 12), ('targować', 75), ('podkradać', 21), ('konfiskować', 17), ('reeksportować', 4), ('unifikować', 18), ('wibrować', 31), ('belować', 1), ('prężyć', 11), ('więzić', 33), ('wrysowywać', 2), ('akomodować', 7), ('przyżegać', 1), ('rozkułaczać', 1), ('wypalać', 54), ('dobudowywać', 17), ('zamarzać', 32), ('zawstydzać', 12), ('nagabywać', 11), ('transmitować', 113), ('tuszować', 44), ('odbarwiać', 6), ('sterylizować', 30), ('przeszczepiać', 12), ('normować', 88), ('cyrklować', 2), ('kopulować', 29), ('wykradać', 8), ('cedzić', 6), ('ciskać', 29), ('zamiatać', 58), ('syczeć', 17), ('kontrasygnować', 4), ('rozkradać', 7), ('szyfrować', 23), ('deszyfrować', 3), ('wypadać', 120), ('zmiatać', 3), ('pożądać', 33), ('wczytywać', 41), ('zagarniać', 16), ('uwłaszczać', 42), ('tasować', 4), ('gasnąć', 37), ('zakręcać', 18), ('zatruwać', 40), ('rozjaśniać', 35), ('pustoszyć', 19), ('dokręcać', 16), ('kondensować', 9), ('drenować', 36), ('rozpylać', 18), ('reprywatyzować', 13), ('zapierdalać', 14), ('oklaskiwać', 24), ('szeptać', 42), ('roztrząsać', 76), ('ociągać', 17), ('odgadywać', 28), ('zakraplać', 11), ('formalizować', 18), ('uśmierzać', 15), ('włóczyć', 53), ('rolować', 25), ('odrobaczać', 8), ('obsikiwać', 3), ('wyświęcać', 15), ('utajniać', 23), ('sympatyzować', 40), ('wmurowywać', 2), ('namaszczać', 11), ('fugować', 1), ('wikłać', 52), ('alkalizować', 2), ('tresować', 17), ('podwozić', 3), ('szemrać', 11), ('opanowywać', 44), ('wydziwiać', 13), ('szlifować', 137), ('spijać', 21), ('wyniszczać', 13), ('zawłaszczać', 50), ('reperować', 20), ('domykać', 22), ('upychać', 35), ('użyźniać', 8), ('clić', 8), ('ulewać', 1), ('przynaglać', 2), ('kozłować', 12), ('proklamować', 23), ('pokrzepiać', 3), ('uniezależniać', 23), ('emulować', 45), ('opływać', 26), ('ułaskawiać', 9), ('rozkopywać', 16), ('dezorganizować', 48), ('marudzić', 100), ('obijać', 39), ('wzmagać', 52), ('rewitalizować', 22), ('odrestaurowywać', 2), ('zagradzać', 4), ('przekopywać', 28), ('zagniatać', 14), ('międlić', 7), ('przegrzewać', 36), ('relacjonować', 118), ('ględzić', 6), ('odkuwać', 2), ('gloryfikować', 46), ('ucinać', 25), ('napuszczać', 23), ('nastawiać', 111), ('podsiewać', 1), ('wypierdalać', 9), ('korumpować', 17), ('rozpychać', 21), ('zagrywać', 44), ('profilować', 15), ('rozchylać', 3), ('współzawodniczyć', 33), ('dopychać', 4), ('osuszać', 26), ('estymować', 10), ('podwieszać', 17), ('dosięgać', 21), ('szturchać', 7), ('rozganiać', 3), ('molestować', 17), ('wplątywać', 12), ('popychać', 53), ('podkładać', 38), ('świtać', 17), ('przemodelować', 30), ('zapędzać', 8), ('ugruntowywać', 21), ('tumanić', 7), ('podnajmować', 19), ('oklepywać', 7), ('scalać', 36), ('koić', 10), ('szargać', 20), ('wydzwaniać', 26), ('tłoczyć', 41), ('foliować', 2), ('tyczyć', 42), ('dosiadać', 20), ('raczyć', 44), ('nadstawiać', 25), ('animować', 36), ('ćpać', 22), ('przywierać', 7), ('mitygować', 14), ('uwypuklać', 26), ('nadkładać', 23), ('przymocowywać', 12), ('garażować', 7), ('wyzyskiwać', 23), ('demobilizować', 4), ('przykuwać', 32), ('taić', 12), ('przekłuwać', 9), ('irygować', 2), ('zapychać', 22), ('wybrandzlować', 1), ('doganiać', 50), ('dokoptować', 4), ('degustować', 59), ('skłócać', 19), ('marszczyć', 19), ('sondować', 16), ('rozkuwać', 4), ('tkać', 27), ('podbudowywać', 7), ('płukać', 65), ('oprawiać', 10), ('reżyserować', 57), ('dezawuować', 63), ('wypinać', 21), ('dekomponować', 6), ('zapijać', 2), ('zatajać', 20), ('fikać', 11), ('przeklinać', 63), ('zgarniać', 21), ('przetłuszczać', 12), ('polerować', 41), ('frezować', 16), ('podłamywać', 4), ('uwydatniać', 16), ('uzmysławiać', 21), ('zapalać', 66), ('wypraszać', 23), ('przemalowywać', 9), ('opiekać', 11), ('korcić', 4), ('relatywizować', 29), ('rozlepiać', 1), ('uniewinniać', 7), ('podmywać', 5), ('zobojętniać', 4), ('normalizować', 31), ('podsyłać', 12), ('urlopować', 6), ('obściskiwać', 5), ('zniekształcać', 41), ('afiszować', 25), ('oganiać', 8), ('rozwieszać', 12), ('uatrakcyjniać', 23), ('sprzęgać', 12), ('falcować', 1), ('zmyślać', 20), ('wpierdalać', 15), ('okrążać', 55), ('mrużyć', 11), ('wgłębiać', 28), ('wdeptywać', 3), ('szatkować', 12), ('pokładać', 48), ('przystrajać', 11), ('pałować', 21), ('odziewać', 3), ('podstawiać', 34), ('uśredniać', 12), ('zaciemniać', 50), ('ucieleśniać', 6), ('obsłuchiwać', 1), ('dociskać', 31), ('wzruszać', 45), ('zasądzać', 34), ('oskrzydlać', 7), ('katalogować', 25), ('odkrzykiwać', 7), ('pitrasić', 4), ('rozbudzać', 58), ('deformować', 22), ('tupać', 29), ('odlewać', 17), ('certolić', 1), ('odpytywać', 15), ('instruować', 39), ('frustrować', 23), ('przegryzać', 10), ('poważać', 7), ('nasyłać', 12), ('licencjonować', 7), ('murować', 27), ('uwiarygodniać', 15), ('wydłubywać', 10), ('skalować', 24), ('przeszywać', 4), ('chybotać', 1), ('podśpiewywać', 4), ('przyszywać', 8), ('obnosić', 46), ('zagęszczać', 33), ('przemarzać', 25), ('wyskubywać', 5), ('depilować', 14), ('odgradzać', 15), ('doszkalać', 26), ('odchwaszczać', 10), ('charkać', 1), ('odwalać', 22), ('nagrzewać', 40), ('prześcigać', 40), ('prążkować', 1), ('rujnować', 54), ('tynkować', 9), ('tapetować', 4), ('napomykać', 3), ('czerwić', 4), ('resorbować', 3), ('dezorientować', 10), ('nawarstwiać', 9), ('kompilować', 36), ('kontratakować', 41), ('konwersować', 10), ('suponować', 17), ('obżerać', 21), ('hołdować', 23), ('przesuszać', 11), ('oczarowywać', 4), ('złościć', 51), ('rozpijać', 10), ('anihilować', 6), ('usypiać', 40), ('zapełniać', 61), ('kocić', 2), ('karcić', 26), ('rachować', 34), ('studzić', 34), ('urażać', 16), ('targać', 50), ('odblokowywać', 32), ('gilotynować', 1), ('zlewać', 32), ('odgrzebywać', 7), ('kipieć', 7), ('denuncjować', 8), ('skandować', 8), ('faulować', 18), ('szachować', 17), ('wyszarpywać', 16), ('gruchotać', 2), ('uzbrajać', 28), ('hipotekować', 4), ('dołować', 38), ('wsadzać', 109), ('zamaczać', 5), ('chrobotać', 11), ('rozdysponowywać', 25), ('ścieśniać', 1), ('nawilżać', 59), ('laminować', 5), ('wyczytywać', 5), ('korować', 4), ('osypywać', 4), ('reinwestować', 17), ('kamienować', 4), ('zasmucać', 8), ('karczować', 20), ('doktoryzować', 10), ('przebłyskiwać', 2), ('pochwalać', 26), ('zamyślać', 3), ('spłaszczać', 17), ('uściślać', 20), ('rozdmuchiwać', 11), ('szufladkować', 14), ('stopować', 12), ('pierniczyć', 7), ('rozwlekać', 18), ('obiegać', 12), ('podkupywać', 5), ('nadbudowywać', 7), ('obsmarowywać', 3), ('zapierać', 22), ('kąsać', 24), ('rozcieńczać', 24), ('wystosowywać', 17), ('odstręczać', 9), ('bierzmować', 2), ('wyczyniać', 15), ('łykać', 85), ('warzyć', 48), ('adsorbować', 3), ('przekierowywać', 22), ('dowierzać', 6), ('zasklepiać', 3), ('sezonować', 4), ('rozpinać', 21), ('obsuwać', 13), ('opróżniać', 42), ('nadpiłowywać', 1), ('konturować', 4), ('epilować', 2), ('usamodzielniać', 13), ('przetapiać', 12), ('wymiatać', 19), ('wynajdywać', 20), ('podcinać', 38), ('idealizować', 10), ('odmładzać', 23), ('przyciskać', 17), ('obgryzać', 28), ('dywersyfikować', 42), ('wysługiwać', 11), ('wyjadać', 23), ('urywać', 19), ('uwiarygadniać', 14), ('roznosić', 46), ('rozwiercać', 6), ('przybijać', 19), ('dostawiać', 14), ('wentylować', 14), ('alkoholizować', 1), ('fagasować', 2), ('kulać', 4), ('obgadywać', 13), ('przepowiadać', 34), ('odgruzowywać', 3), ('licować', 6), ('rekwirować', 15), ('wykrzywiać', 13), ('drobić', 2), ('uodparniać', 11), ('deprawować', 9), ('bukować', 7), ('jebać', 37), ('informatyzować', 8), ('refinansować', 17), ('centralizować', 34), ('literować', 6), ('strącać', 10), ('stroszyć', 8), ('strząsać', 2), ('przystawiać', 24), ('odzwyczajać', 10), ('dogrzewać', 15), ('wyklejać', 12), ('uwarunkowywać', 4), ('docinać', 17), ('szpikować', 4), ('kastrować', 21), ('upodobniać', 2), ('glosować', 16), ('nacinać', 12), ('dociągać', 9), ('dźgać', 4), ('ograbiać', 13), ('wywijać', 17), ('przetrząsać', 15), ('przysuwać', 4), ('wyłamywać', 12), ('podwijać', 6), ('podładowywać', 5), ('porażać', 13), ('rozpętywać', 7), ('zaokrąglać', 14), ('białkować', 2), ('zapodawać', 3), ('więdnąć', 11), ('flankować', 4), ('zakuwać', 12), ('przeciskać', 28), ('szykanować', 26), ('obrastać', 13), ('fatygować', 68), ('wykruszać', 12), ('pensjonować', 1), ('admirować', 12), ('rozświetlać', 12), ('zestrzeliwać', 10), ('biurokratyzować', 6), ('bulić', 21), ('zastrzegać', 16), ('poddzierżawiać', 5), ('gładzić', 15), ('przyćmiewać', 13), ('ciosać', 7), ('konstytuować', 25), ('odpompowywać', 2), ('przeprawiać', 33), ('sposobić', 10), ('gmatwać', 14), ('bazgrać', 7), ('petryfikować', 18), ('dezynfekować', 31), ('nadpłacać', 7), ('zadrażniać', 28), ('wyżymać', 3), ('odwieszać', 3), ('odpinać', 21), ('koncesjonować', 11), ('przeinaczać', 19), ('komasować', 9), ('przepracowywać', 18), ('dekretować', 25), ('smagać', 12), ('ugadywać', 2), ('oklejać', 13), ('młócić', 17), ('rozsiewać', 36), ('dopilnowywać', 6), ('rozwierać', 17), ('podwajać', 13), ('nachylać', 11), ('pijać', 8), ('przyuczać', 17), ('rozczulać', 25), ('prześwitywać', 14), ('wydychać', 6), ('przysmażać', 1), ('rozpierać', 8), ('zajadać', 62), ('kwasić', 1), ('telepać', 8), ('przetaczać', 18), ('zagadywać', 13), ('nadinterpretować', 11), ('gnać', 36), ('kokietować', 13), ('bulwersować', 53), ('grodzić', 8), ('wygospodarowywać', 6), ('nadganiać', 15), ('migotać', 11), ('ocieplać', 43), ('zubażać', 6), ('zakopywać', 24), ('percypować', 5), ('uelastyczniać', 16), ('reinterpretować', 6), ('strofować', 14), ('rytować', 1), ('wytrącać', 23), ('upewniać', 24), ('dziesiątkować', 5), ('hańbić', 4), ('nurtować', 17), ('zamurowywać', 3), ('nawęglać', 1), ('objeżdżać', 18), ('fazować', 1), ('odkształcać', 15), ('wykreślać', 47), ('rozcinać', 10), ('demokratyzować', 7), ('kucać', 13), ('zwiewać', 14), ('ewangelizować', 36), ('znieczulać', 16), ('upinać', 11), ('niańczyć', 15), ('dziobać', 9), ('paskudzić', 4), ('rozluźniać', 27), ('parafrazować', 15), ('defraudować', 5), ('odsądzać', 10), ('nostryfikować', 15), ('prawić', 43), ('zakłamywać', 23), ('bruździć', 6), ('wysiadywać', 27), ('parodiować', 14), ('podpytywać', 2), ('mruczeć', 33), ('prorokować', 27), ('besztać', 9), ('nalewać', 26), ('indywidualizować', 20), ('siekać', 21), ('lustrować', 64), ('kontrastować', 31), ('pomawiać', 28), ('asygnować', 20), ('zgromadzać', 11), ('odwadniać', 9), ('uwiązywać', 2), ('konwojować', 11), ('oblepiać', 5), ('zapierdzielać', 10), ('nacjonalizować', 11), ('nawiercać', 5), ('przemeblowywać', 2), ('zaszczepiać', 32), ('uobecniać', 4), ('przydawać', 26), ('rozstrząsać', 5), ('kołować', 9), ('dożywiać', 16), ('olśniewać', 12), ('zaznawać', 8), ('dozorować', 29), ('wieńczyć', 18), ('dąć', 17), ('gazować', 6), ('zlepiać', 15), ('przepajać', 17), ('chlupotać', 5), ('zasiarczać', 1), ('podszczypywać', 7), ('poklepywać', 18), ('interpelować', 12), ('odwykać', 1), ('zamęczać', 23), ('spieniać', 3), ('skradać', 25), ('inkubować', 6), ('dekapitalizować', 4), ('małpować', 11), ('rozpościerać', 9), ('wypruwać', 8), ('onieśmielać', 7), ('spieniężać', 8), ('splatać', 14), ('wpieprzać', 10), ('atomizować', 5), ('uprawdopodabniać', 56), ('kisić', 20), ('przełykać', 12), ('rozmydlać', 8), ('podtruwać', 2), ('dekoncentrować', 18), ('wzbijać', 10), ('zakrzywiać', 5), ('ujeżdżać', 17), ('zmiękczać', 3), ('mamrotać', 7), ('stenografować', 1), ('meandrować', 7), ('halsować', 5), ('kawałkować', 4), ('stygnąć', 15), ('odławiać', 17), ('kolczykować', 9), ('ciułać', 10), ('bałamucić', 8), ('sklejać', 25), ('unaoczniać', 4), ('wachlować', 4), ('ogołacać', 6), ('przeświecać', 5), ('alienować', 4), ('czytywać', 12), ('wygładzać', 23), ('kompostować', 5), ('rekapitulować', 2), ('dekomunizować', 16), ('unieruchamiać', 13), ('uśmiercać', 31), ('obwąchiwać', 12), ('odsypiać', 9), ('współorganizować', 22), ('płodzić', 28), ('wstrząsać', 22), ('rejonizować', 1), ('dupczyć', 1), ('oblewać', 29), ('łuszczyć', 24), ('przerzedzać', 7), ('dokupywać', 19), ('wyszczuplać', 4), ('dorysowywać', 2), ('zespalać', 11), ('przelicytowywać', 2), ('wymijać', 12), ('przyczerniać', 1), ('oczerniać', 56), ('wdmuchiwać', 2), ('wtryskiwać', 2), ('wzbraniać', 17), ('biczować', 15), ('wtykać', 13), ('chrystianizować', 11), ('okorowywać', 1), ('podrasować', 28), ('zwilżać', 17), ('przewiercać', 5), ('uświęcać', 22), ('wysprzedawać', 8), ('wyrejestrowywać', 9), ('zaludniać', 19), ('łaskotać', 13), ('ukracać', 1), ('wywłaszczać', 29), ('zaprawiać', 11), ('maltretować', 11), ('samoograniczać', 8), ('zachwaszczać', 2), ('stopniować', 48), ('standaryzować', 12), ('wprzęgać', 5), ('przytrzymywać', 38), ('buchtować', 1), ('dekonspirować', 3), ('patynować', 3), ('przekupywać', 18), ('dokować', 7), ('upłynniać', 12), ('usadzać', 3), ('obkładać', 7), ('zagrzewać', 15), ('okręcać', 7), ('dozbrajać', 10), ('swatać', 9), ('osładzać', 4), ('nęcić', 14), ('obmywać', 10), ('odszyfrowywać', 3), ('odszukiwać', 13), ('zgniatać', 14), ('rozgrzebywać', 17), ('odwijać', 7), ('infiltrować', 16), ('przeczesywać', 20), ('kategoryzować', 28), ('rozmywać', 30), ('zakwaszać', 5), ('sprzeniewierzać', 5), ('roić', 15), ('macerować', 7), ('ćmić', 8), ('eksterminować', 17), ('solić', 14), ('drzemać', 17), ('podwiązywać', 7), ('przedrukowywać', 7), ('bojkotować', 53), ('automatyzować', 16), ('kopcić', 11), ('doprawiać', 9), ('zniesławiać', 8), ('wojażować', 2), ('uprzątać', 6), ('popasać', 1), ('rozpruwać', 3), ('sprężać', 19), ('przekrawać', 1), ('krakać', 30), ('homogenizować', 3), ('karburować', 2), ('obgotowywać', 3), ('dosadzać', 5), ('żąć', 5), ('przyświadczać', 1), ('przezywać', 10), ('łupać', 11), ('przygarniać', 8), ('podsypywać', 5), ('udziwniać', 4), ('centrować', 7), ('opędzać', 13), ('papugować', 2), ('pognębiać', 8), ('kanelować', 1), ('grypsować', 1), ('okraszać', 5), ('uruchomiać', 2), ('syntezować', 8), ('oplątywać', 5), ('meblować', 6), ('przesypiać', 9), ('zeskrobywać', 4), ('chrzęścić', 5), ('bębnować', 1), ('rozgrabiać', 2), ('spławiać', 12), ('kopcować', 5), ('posilać', 17), ('dokańczać', 6), ('filcować', 4), ('przeziębiać', 4), ('konwalidować', 15), ('spluwać', 4), ('rozkurczać', 4), ('kwantyfikować', 5), ('deklasować', 1), ('odbezpieczać', 2), ('marynować', 18), ('wulgaryzować', 3), ('wyrzynać', 9), ('kaligrafować', 5), ('utwardzać', 9), ('zaprzepaszczać', 19), ('zaleczać', 2), ('podganiać', 2), ('wytłumiać', 1), ('odmulać', 6), ('zaginać', 6), ('uzdatniać', 4), ('ługować', 3), ('dyspensować', 2), ('krzywić', 30), ('skażać', 7), ('pikietować', 13), ('wabić', 31), ('gorszyć', 16), ('butelkować', 5), ('obstukiwać', 1), ('brodzić', 18), ('odhaczać', 5), ('kapitalizować', 6), ('wyludniać', 32), ('przewlekać', 23), ('skomleć', 10), ('fukać', 6), ('zawierzać', 10), ('dewaluować', 13), ('przygniatać', 4), ('kurtyzować', 1), ('moralizować', 16), ('rozgrzeszać', 16), ('szturmować', 57), ('wytracać', 13), ('zakreślać', 13), ('przewartościowywać', 4), ('przyhamowywać', 2), ('wyczesywać', 14), ('wymazywać', 17), ('zaklejać', 9), ('odurzać', 7), ('salwować', 27), ('polonizować', 6), ('rozłamywać', 3), ('wmasowywać', 10), ('wysławiać', 17), ('cukrować', 2), ('usposabiać', 2), ('przejaskrawiać', 3), ('pohukiwać', 6), ('dyslokować', 7), ('uprawdopodobniać', 3), ('lituanizować', 4), ('nadpisywać', 7), ('egzemplifikować', 4), ('udeptywać', 1), ('lukrować', 8), ('oświecać', 16), ('odkłamywać', 14), ('umartwiać', 13), ('rozwałkowywać', 6), ('uaktywniać', 19), ('rozcierać', 19), ('oddelegowywać', 3), ('przywalać', 3), ('odgrzewać', 16), ('dwoić', 10), ('troić', 6), ('pasteryzować', 32), ('podziewać', 6), ('łomotać', 7), ('rozpowiadać', 13), ('oplatać', 9), ('rozszarpywać', 8), ('przywabiać', 4), ('wyłuszczać', 9), ('rozpromieniać', 1), ('rozdrażniać', 12), ('inkasować', 10), ('opromieniać', 2), ('pałaszować', 9), ('płaszczyć', 10), ('hierarchizować', 12), ('przemianowywać', 2), ('podklejać', 8), ('ekspandować', 6), ('wtapiać', 20), ('ładzić', 2), ('biedzić', 5), ('pożytkować', 9), ('fetyszyzować', 9), ('rozmrażać', 11), ('konspirować', 6), ('stemplować', 8), ('afirmować', 14), ('opakowywać', 2), ('ulęgać', 1), ('wygniatać', 2), ('rozpogadzać', 2), ('obrzydzać', 7), ('naklejać', 33), ('przezbrajać', 6), ('wsypywać', 19), ('przepytywać', 12), ('forować', 6), ('rozdrapywać', 20), ('tamować', 21), ('klarować', 25), ('dedukować', 8), ('tarzać', 31), ('wywiewać', 2), ('odstrzeliwać', 11), ('protegować', 4), ('beatyfikować', 6), ('wpompowywać', 2), ('gnoić', 10), ('odgarniać', 5), ('trwożyć', 13), ('hospitalizować', 17), ('przepalać', 7), ('prezesować', 1), ('dyrektorować', 4), ('pikować', 19), ('reasekurować', 3), ('wyplatać', 9), ('lizusować', 1), ('destylować', 10), ('zakotwiczać', 4), ('dysputować', 5), ('uporządkowywać', 2), ('rozprężać', 2), ('gwintować', 6), ('zażegnywać', 5), ('upuszczać', 10), ('fastrygować', 8), ('ponaglać', 18), ('przemnażać', 2), ('indoktrynować', 8), ('oznakowywać', 11), ('batożyć', 2), ('renacjonalizować', 4), ('powalać', 8), ('ciceronować', 1), ('profanować', 8), ('wyławiać', 23), ('łobuzować', 2), ('elektryzować', 9), ('supłać', 2), ('repetować', 6), ('wbudowywać', 9), ('rozbryzgiwać', 1), ('zatracać', 36), ('obwiązywać', 7), ('opierdalać', 2), ('wymacywać', 1), ('wpasowywać', 12), ('dyndać', 6), ('oziębiać', 3), ('rozmiękczać', 3), ('dobywać', 12), ('wyżynać', 3), ('zaskarbiać', 1), ('zlizywać', 4), ('przyozdabiać', 6), ('demonopolizować', 3), ('rozwozić', 21), ('gipsować', 3), ('ekstrapolować', 23), ('odsłuchiwać', 22), ('obsypywać', 17), ('zarzynać', 19), ('intronizować', 6), ('detronizować', 2), ('otulać', 6), ('zakażać', 16), ('konstatować', 5), ('przegrupowywać', 10), ('odfajkowywać', 1), ('zaszywać', 3), ('odtruwać', 2), ('odtrącać', 4), ('zsyłać', 11), ('hisować', 1), ('wyprawiać', 16), ('wtajemniczać', 16), ('dukać', 5), ('zestalać', 3), ('emulgować', 1), ('roztapiać', 3), ('kalać', 11), ('napieprzać', 3), ('autonomizować', 4), ('fleszować', 2), ('doczytywać', 9), ('odciskać', 14), ('anonsować', 5), ('komplementować', 14), ('zawieruszać', 2), ('pozłacać', 1), ('ścielić', 10), ('docieplać', 8), ('wkopywać', 3), ('wyszydzać', 12), ('gruchać', 5), ('pielić', 4), ('przesypywać', 6), ('opinać', 4), ('ochrzaniać', 2), ('implantować', 8), ('przytraczać', 1), ('pławić', 21), ('delegalizować', 12), ('odginać', 3), ('rewanżować', 3), ('obsmażać', 2), ('besemerować', 1), ('zagotowywać', 1), ('pryzmować', 1), ('żłopać', 3), ('odparowywać', 7), ('spiętrzać', 2), ('ukulturalniać', 2), ('łyżeczkować', 4), ('kopczykować', 6), ('kauteryzować', 1), ('zasuszać', 2), ('przebranżawiać', 1), ('rozgotowywać', 1), ('przywdziewać', 8), ('desantować', 14), ('przypalać', 19), ('musztrować', 17), ('dośrodkowywać', 7), ('nalepiać', 4), ('imaginować', 4), ('odizolowywać', 2), ('żyrować', 8), ('nadwerężać', 14), ('dojadać', 9), ('piaskować', 5), ('opiumować', 1), ('stornować', 1), ('rugować', 8), ('betonować', 5), ('darowywać', 4), ('wyklepywać', 1), ('przedziurawiać', 1), ('wypiętrzać', 5), ('leasingować', 6), ('podczytywać', 2), ('wysubtelniać', 2), ('anektować', 18), ('odgrzybiać', 2), ('wyjaławiać', 5), ('mechanizować', 2), ('dookreślać', 14), ('doczepiać', 10), ('postponować', 12), ('lakować', 1), ('ekwipować', 1), ('tarmosić', 6), ('rozrysowywać', 1), ('przejaśniać', 8), ('konsekrować', 16), ('rewolucjonizować', 9), ('fortyfikować', 11), ('tłamsić', 8), ('zamalowywać', 4), ('opijać', 3), ('gderać', 1), ('przeszkalać', 7), ('namagnesowywać', 2), ('rozmagnesowywać', 1), ('odzierać', 6), ('holografować', 1), ('drapować', 2), ('obdzierać', 3), ('obruszać', 8), ('podkarmiać', 3), ('koniugować', 5), ('ekskulpować', 7), ('odreagowywać', 10), ('opłukiwać', 3), ('niedoceniać', 4), ('zżerać', 6), ('obciekać', 1), ('nadchodzić', 17), ('konfabulować', 6), ('odkwaszać', 3), ('szalować', 1), ('odbłyskiwać', 2), ('dygać', 4), ('brukować', 4), ('odkopywać', 10), ('pełznąć', 5), ('bluźnić', 8), ('utrącać', 5), ('uczytelniać', 4), ('ogłuszać', 9), ('melodramatyzować', 1), ('przytwierdzać', 4), ('cerować', 10), ('zniewalać', 10), ('strzepywać', 3), ('oznajmiać', 11), ('przebudzać', 9), ('przekłamywać', 13), ('przyłazić', 4), ('wysączać', 1), ('uwidoczniać', 5), ('odmrażać', 4), ('ciemiężyć', 5), ('krasić', 1), ('uziemiać', 4), ('opomiarować', 1), ('przystrzygać', 1), ('chrząkać', 5), ('podkurczać', 2), ('miażdżyć', 20), ('wieścić', 6), ('trasować', 3), ('rozparcelowywać', 3), ('upraszać', 7), ('niewolić', 4), ('krepować', 2), ('delimitować', 2), ('inhalować', 5), ('opieprzać', 2), ('nagarniać', 1), ('wkalkulowywać', 4), ('przeciwważyć', 1), ('tuptać', 4), ('błaźnić', 3), ('ubezwłasnowalniać', 3), ('siepać', 2), ('rozklejać', 8), ('skarmiać', 6), ('ziszczać', 4), ('odgniatać', 1), ('zaprzęgać', 8), ('odtajniać', 6), ('wydmuchiwać', 7), ('miareczkować', 6), ('zalepiać', 4), ('wwiercać', 4), ('wylizywać', 3), ('bielicować', 1), ('szpachlować', 12), ('okadzać', 4), ('zwieszać', 4), ('siorbać', 3), ('bielić', 3), ('broić', 8), ('wypośrodkowywać', 2), ('kadzić', 7), ('dekować', 2), ('przeistaczać', 22), ('przylepiać', 2), ('zamocowywać', 1), ('rektyfikować', 3), ('przyoblekać', 3), ('łgać', 16), ('falsyfikować', 6), ('wygrabiać', 2), ('polaryzować', 4), ('bandażować', 5), ('wyściubiać', 6), ('bocznikować', 1), ('klajstrować', 2), ('rychtować', 2), ('podczepiać', 6), ('ewidencjować', 1), ('reifikować', 2), ('seplenić', 2), ('drutować', 3), ('wywrzaskiwać', 2), ('nagryzać', 2), ('racjonować', 7), ('przefruwać', 1), ('łechtać', 3), ('obrączkować', 1), ('perfumować', 3), ('teksturować', 1), ('kapsułkować', 2), ('ciamkać', 3), ('unicestwiać', 13), ('zagryzać', 16), ('ekstrahować', 2), ('nasączać', 4), ('rozsadzać', 17), ('antydatować', 1), ('trawestować', 5), ('odmaczać', 1), ('rozczłonkowywać', 3), ('sublimować', 4), ('werbalizować', 6), ('przegradzać', 1), ('kicać', 1), ('labiedzić', 6), ('dociążać', 10), ('wlepiać', 12), ('etykietować', 6), ('zakańczać', 8), ('upaństwawiać', 3), ('tyranizować', 6), ('zamydlać', 3), ('elektryfikować', 5), ('zwabiać', 8), ('tatuować', 3), ('konfirmować', 1), ('morzyć', 2), ('wzburzać', 2), ('telefonizować', 1), ('rżeć', 2), ('zasiewać', 8), ('udręczać', 1), ('wymigiwać', 4), ('wokalizować', 1), ('gęstnąć', 1), ('pylić', 3), ('kotwić', 4), ('dosuwać', 2), ('oduczać', 7), ('mitrężyć', 2), ('wpełzać', 1), ('dachować', 4), ('pędzlować', 1), ('przyginać', 4), ('chlupać', 2), ('koncypować', 2), ('dozwalać', 1), ('rosić', 2), ('deprymować', 6), ('obwoływać', 3), ('obławiać', 3), ('wymontowywać', 3), ('przedzielać', 2), ('stapiać', 6), ('suwać', 4), ('wytłaczać', 5), ('naprostowywać', 1), ('obmawiać', 2), ('omamiać', 4), ('walcować', 4), ('katechizować', 4), ('odwiązywać', 4), ('ślubować', 11), ('prześlepiać', 1), ('obśmiewać', 5), ('rozściełać', 1), ('zaściełać', 1), ('zgrzewać', 6), ('metalizować', 1), ('zadrukowywać', 2), ('chromianować', 1), ('przykręcać', 16), ('uszlachetniać', 8), ('ewaporować', 3), ('ślepić', 4), ('relokować', 3), ('natleniać', 2), ('kantować', 6), ('taktować', 5), ('otrząsać', 3), ('fasować', 3), ('wyślizgiwać', 1), ('bzyczeć', 3), ('ochładzać', 11), ('wulkanizować', 3), ('rozjątrzać', 3), ('refować', 3), ('obrzezywać', 1), ('cętkować', 1), ('ciurkać', 1), ('odmiatać', 1), ('skrzykiwać', 1), ('ogradzać', 3), ('wyśpiewywać', 6), ('chomikować', 4), ('odmierzać', 26), ('uwsteczniać', 4), ('wyżarzać', 1), ('memłać', 3), ('przeredagowywać', 3), ('odczulać', 4), ('kaptować', 4), ('utajać', 1), ('trącać', 11), ('oliwić', 3), ('zakrapiać', 4), ('napowietrzać', 11), ('odbębniać', 2), ('przykrawać', 4), ('przerejestrowywać', 3), ('rozpierdalać', 5), ('kitować', 7), ('rubrykować', 1), ('wczepiać', 2), ('zaczytywać', 7), ('wkłuwać', 3), ('zaświadczać', 23), ('obrysowywać', 3), ('koligacić', 1), ('rozsuwać', 6), ('obłaskawiać', 4), ('przeformułowywać', 3), ('rozsupływać', 1), ('wyklinać', 8), ('parcelować', 7), ('ambarasować', 7), ('przysysać', 1), ('zdrabniać', 6), ('odskakiwać', 3), ('utulać', 2), ('przegotowywać', 1), ('sylabizować', 1), ('taskać', 1), ('dośpiewywać', 3), ('taksować', 1), ('pogryzać', 4), ('dogęszczać', 4), ('przygważdżać', 1), ('ślepnąć', 5), ('lornetować', 3), ('odkrztuszać', 1), ('podrygiwać', 4), ('bajcować', 1), ('perforować', 4), ('zaślepiać', 4), ('oczkować', 1), ('przewiązywać', 5), ('obrządzać', 3), ('hydrolizować', 3), ('przesmażać', 1), ('udomawiać', 4), ('skraplać', 6), ('zagracać', 5), ('rafinować', 2), ('odczarowywać', 1), ('przyplątywać', 1), ('wyzuwać', 3), ('tratować', 3), ('przeprojektowywać', 2), ('wypieprzać', 2), ('wydeptywać', 7), ('prześmiewać', 1), ('napychać', 7), ('dziurawić', 17), ('bigować', 2), ('zamgławiać', 6), ('wydziobywać', 1), ('egzorcyzmować', 3), ('obłapiać', 4), ('wygłuszać', 3), ('wysupływać', 2), ('fajkować', 2), ('wpierniczać', 3), ('justować', 3), ('przetrenowywać', 1), ('pomykać', 6), ('dosyłać', 2), ('remisować', 7), ('gruntować', 6), ('skuwać', 11), ('nurzać', 5), ('pogwizdywać', 1), ('substytuować', 4), ('chromać', 1), ('korodować', 4), ('cucić', 6), ('władowywać', 1), ('wyprzęgać', 2), ('nitować', 2), ('linczować', 4), ('wyłuskiwać', 6), ('dopiekać', 5), ('zohydzać', 3), ('wygryzać', 3), ('walać', 3), ('tarować', 1), ('udźwięczniać', 1), ('absolutyzować', 3), ('nadtrawiać', 1), ('przekarmiać', 5), ('skierowywać', 2), ('liryzować', 1), ('rozczyniać', 1), ('dotleniać', 3), ('wypacać', 1), ('archaizować', 1), ('deklamować', 10), ('odsmażać', 3), ('rozsmarowywać', 4), ('obklejać', 4), ('ekspediować', 9), ('zadaszać', 1), ('rozwarstwiać', 11), ('restaurować', 12), ('obszczekiwać', 1), ('grawerować', 6), ('okulizować', 2), ('kołtunić', 3), ('załadowywać', 2), ('mistyfikować', 2), ('przysychać', 2), ('naturalizować', 2), ('owiewać', 2), ('zakrzykiwać', 2), ('spasać', 3), ('denacjonalizować', 1), ('oszczekiwać', 2), ('rozjuszać', 1), ('przyśpiewywać', 1), ('podtykać', 2), ('roztrwaniać', 5), ('umoralniać', 6), ('polimeryzować', 3), ('chłeptać', 3), ('kurwić', 2), ('podrzynać', 5), ('instytucjonalizować', 3), ('usypywać', 3), ('upartyjniać', 2), ('logarytmować', 3), ('skupywać', 10), ('okupywać', 4), ('nawoskować', 3), ('militaryzować', 2), ('zacieniać', 4), ('cudzołożyć', 3), ('pochlebiać', 3), ('wcelowywać', 1), ('przedziurkować', 2), ('wagarować', 4), ('zabagniać', 1), ('chichrać', 6), ('odsługiwać', 3), ('odsysać', 4), ('ośmielać', 5), ('ujarzmiać', 9), ('napierdzielać', 2), ('złagadzać', 1), ('inaktywować', 2), ('zakończać', 1), ('kodyfikować', 5), ('przysiadać', 2), ('heroizować', 1), ('kotłować', 6), ('łożyskować', 2), ('podsychać', 3), ('obiektywizować', 11), ('przysadzać', 1), ('feminizować', 1), ('moletować', 3), ('porcjować', 8), ('dopompowywać', 1), ('kablować', 3), ('borować', 2), ('usynawiać', 1), ('wmuszać', 3), ('wmontowywać', 1), ('wizować', 1), ('przestrajać', 8), ('reflektować', 5), ('hermetyzować', 2), ('przeoczać', 3), ('wykorzeniać', 5), ('plombować', 3), ('bronować', 2), ('stręczyć', 4), ('aklimatyzować', 11), ('uwznioślać', 1), ('przepędzać', 10), ('poskramiać', 8), ('szprycować', 2), ('opatulać', 2), ('wyścielać', 2), ('majoryzować', 1), ('kolacjonować', 2), ('stróżować', 1), ('przeforsowywać', 3), ('cyganić', 4), ('zatrważać', 6), ('odsadzać', 1), ('doświetlać', 6), ('przeszacowywać', 2), ('młotkować', 1), ('cmokać', 1), ('homologować', 8), ('rozwadniać', 6), ('woskować', 2), ('bryzgać', 1), ('przewalać', 1), ('zagłaskiwać', 2), ('rozorywać', 2), ('wystrugiwać', 1), ('poszturchiwać', 2), ('nakierowywać', 6), ('chlustać', 1), ('furkotać', 4), ('jonizować', 4), ('hormonizować', 2), ('rugać', 2), ('klerykalizować', 1), ('rozkodowywać', 2), ('wypłakiwać', 5), ('zaharowywać', 2), ('cynkować', 3), ('przesilać', 1), ('wytrawiać', 3), ('zaczerpywać', 5), ('antyszambrować', 2), ('wykrztuszać', 3), ('chybiać', 6), ('dostrajać', 11), ('faszyzować', 2), ('poziomować', 2), ('wyżerać', 2), ('cykotać', 1), ('wstrzeliwać', 2), ('infantylizować', 2), ('plumkać', 2), ('chędożyć', 4), ('rozmazywać', 12), ('belkować', 1), ('futrować', 1), ('odrysowywać', 3), ('podliczać', 7), ('nadtapiać', 1), ('hospitować', 2), ('klecić', 2), ('kontrapunktować', 1), ('dopakowywać', 1), ('ociekać', 7), ('wydziedziczać', 1), ('dosiewać', 1), ('obredlać', 1), ('chronometrować', 1), ('knować', 1), ('wybebeszać', 1), ('kratować', 1), ('konfekcjonować', 5), ('nadrukowywać', 1), ('przecedzać', 3), ('lobować', 7), ('pierzyć', 4), ('podrażać', 10), ('naganiać', 2), ('chemizować', 1), ('brązowić', 2), ('wyłupywać', 1), ('obciskać', 2), ('nazrywać', 4), ('różniczkować', 4), ('szklić', 2), ('przyciemniać', 5), ('peszyć', 7), ('szmuglować', 3), ('idiotyzować', 2), ('ukrócać', 1), ('przypieczętowywać', 1), ('obwijać', 3), ('wybarwiać', 6), ('sekularyzować', 3), ('oszacowywać', 7), ('przycichać', 2), ('poluźniać', 3), ('wkraplać', 4), ('wyświadczać', 3), ('rozstrajać', 3), ('bejcować', 2), ('przedyskutowywać', 2), ('wymeldowywać', 2), ('uklepywać', 1), ('zapytywać', 5), ('załapywać', 2), ('owulować', 2), ('awizować', 3), ('chlorkować', 1), ('kucharzyć', 3), ('deflorować', 1), ('inseminować', 1), ('rozczepiać', 1), ('przestraszać', 1), ('palikować', 1), ('wyjednywać', 1), ('namydlać', 2), ('popierdywać', 1), ('klimatyzować', 4), ('obrabowywać', 2), ('współzarządzać', 4), ('sprężynować', 2), ('europeizować', 3), ('wyplątywać', 1), ('dubbingować', 1), ('urynkowiać', 1), ('upalać', 2), ('filetować', 3), ('smrodzić', 3), ('przezwajać', 1), ('wystukiwać', 3), ('wnerwić', 2), ('pazurkować', 1), ('łasować', 2), ('wypleniać', 1), ('periodyzować', 2), ('sczytywać', 4), ('naznaczać', 1), ('przypasywać', 1), ('uprzytamniać', 5), ('magnetyzować', 1), ('kalandrować', 1), ('inscenizować', 4), ('kwakać', 1), ('nadmuchiwać', 4), ('kadmować', 2), ('bisować', 2), ('naszczekiwać', 1), ('rozsnuwać', 1), ('gębować', 2), ('emancypować', 1), ('wypogadzać', 1), ('rozkrzewiać', 5), ('wytrzeszczać', 2), ('wypakowywać', 4), ('napoczynać', 1), ('koksować', 1), ('zasnuwać', 2), ('likować', 1), ('odfiltrowywać', 5), ('uczłowieczać', 3), ('reemitować', 3), ('dodrukowywać', 3), ('przytupywać', 1), ('szabrować', 2), ('polszczyć', 1), ('rozmarzać', 3), ('fakturować', 10), ('ostudzać', 1), ('wytupywać', 1), ('profesjonalizować', 4), ('dializować', 1), ('rozwikływać', 2), ('doinwestowywać', 6), ('ekspulsować', 1), ('lasować', 2), ('orzeźwiać', 3), ('nawiewać', 4), ('zaklepywać', 3), ('zużytkowywać', 1), ('oblekać', 3), ('rozdeptywać', 2), ('defekować', 1), ('wywalczać', 2), ('zasmarowywać', 1), ('przekabacać', 1), ('zagrabiać', 2), ('oprocentowywać', 1), ('wywąchiwać', 2), ('fundamentować', 2), ('wsysać', 4), ('judzić', 4), ('ugaszczać', 4), ('gręplować', 2), ('bajdurzyć', 3), ('zaszczycać', 1), ('pobłyskiwać', 1), ('otrzepywać', 1), ('panoramować', 1), ('opukiwać', 2), ('narajać', 1), ('oddzierać', 1), ('przepompowywać', 4), ('zapracowywać', 3), ('nadeptywać', 3), ('zmawiać', 2), ('korkować', 5), ('rozkrochmalać', 1), ('wystudzać', 1), ('podjudzać', 7), ('grawitować', 3), ('estryfikować', 1), ('uczuwać', 3), ('spoufalać', 4), ('kulbaczyć', 2), ('oskrobywać', 2), ('zwieńczać', 1), ('rozszczepiać', 4), ('derogować', 7), ('statuować', 7), ('degenerować', 6), ('lulać', 1), ('beletryzować', 1), ('ankietować', 2), ('spiłowywać', 2), ('trefić', 1), ('zaczesywać', 1), ('aromatyzować', 4), ('przepłukiwać', 4), ('radlić', 1), ('zapowietrzać', 1), ('przesładzać', 1), ('czarterować', 6), ('obskubywać', 1), ('pożywać', 2), ('ochlapywać', 1), ('koślawić', 1), ('taczać', 1), ('dosładzać', 9), ('obkurczać', 4), ('kapotować', 1), ('prefabrykować', 1), ('dopijać', 2), ('hybrydyzować', 3), ('przegadywać', 3), ('przysypywać', 3), ('niedowierzać', 1), ('dekatyzować', 2), ('chandryczyć', 2), ('głuszyć', 1), ('nabłyszczać', 5), ('zachmurzać', 1), ('szadzić', 1), ('odłupywać', 2), ('zagwarantowywać', 1), ('brandzlować', 1), ('kalikować', 1), ('uprowadzać', 3), ('indagować', 5), ('kalkować', 1), ('pochlipywać', 2), ('wykwaterowywać', 1), ('pociemniać', 1), ('brzdąkać', 2), ('abonować', 1), ('okrzykiwać', 1), ('trywializować', 5), ('dożynać', 1), ('rozzuchwalać', 2), ('przepoczwarzać', 1), ('protokółować', 1), ('przewietrzać', 5), ('komutować', 1), ('potrajać', 1), ('podtapiać', 1), ('przechytrzać', 1), ('gazdować', 1), ('odrąbywać', 1), ('łoić', 3), ('juhasować', 1), ('uprawomocniać', 2), ('wścibiać', 2), ('demodulować', 4), ('namakać', 1), ('ugłaskiwać', 1), ('demagogizować', 1), ('hydratyzować', 2), ('przepasywać', 1), ('rozdziobywać', 1), ('jodłować', 2), ('odprzedawać', 1), ('wyswobadzać', 2), ('wgniatać', 3), ('wywabiać', 3), ('frankować', 1), ('peklować', 4), ('zaklajstrowywać', 1), ('ikrzyć', 2), ('plugawić', 2), ('zdmuchiwać', 2), ('doginać', 1), ('gryzmolić', 3), ('fabularyzować', 1), ('poruczać', 1), ('klekotać', 1), ('rozdziewiczać', 1), ('sykać', 2), ('usadawiać', 1), ('odtransportowywać', 2), ('przypłacać', 1), ('chlorowcować', 1), ('fraternizować', 2), ('tłuścić', 1), ('aproksymować', 5), ('wrabiać', 2), ('chwierutać', 1), ('umocowywać', 1), ('erodować', 4), ('masakrować', 9), ('matować', 1), ('rozgniatać', 8), ('politurować', 1), ('rozlosowywać', 1), ('zastosowywać', 2), ('odosobniać', 1), ('ekranować', 2), ('smalić', 1), ('uwspółcześniać', 3), ('obdzwaniać', 2), ('odpolityczniać', 3), ('zmydlać', 1), ('kolektywizować', 1), ('kotwiczyć', 2), ('rozdymać', 6), ('konotować', 1), ('wtaczać', 1), ('konsternować', 2), ('poślubiać', 8), ('ciachać', 2), ('zaczyniać', 1), ('wyczyszczać', 1), ('nawaniać', 2), ('przedmuchiwać', 4), ('hipostazować', 1), ('problematyzować', 1), ('uplastyczniać', 1), ('wrzynać', 1), ('rozprostowywać', 4), ('nagniatać', 1), ('podżartowywać', 1), ('przygryzać', 3), ('asocjować', 4), ('chapać', 4), ('liofilizować', 1), ('dogładzać', 1), ('dopalać', 5), ('zadeptywać', 4), ('snąć', 2), ('omywać', 1), ('osłuchiwać', 3), ('wymywać', 1), ('zanęcać', 1), ('przyduszać', 2), ('żywicować', 1), ('zniemczać', 1), ('kancerować', 2), ('karbować', 1), ('odłamywać', 1), ('predystynować', 1), ('watować', 1), ('udogadniać', 1), ('rozplanowywać', 1), ('wapnować', 1), ('tonizować', 2), ('oporządzać', 1), ('spożytkowywać', 2), ('zestrajać', 2), ('udrożniać', 3), ('przycierać', 4), ('wytrząsać', 4), ('emablować', 1), ('hycać', 2), ('plakatować', 3), ('wszywać', 2), ('przylutowywać', 1), ('eksplikować', 1), ('odsiarczać', 2), ('negliżować', 1), ('ogryzać', 1), ('dopierać', 2), ('fingować', 1), ('preliminować', 3), ('wymanewrowywać', 1), ('kulminować', 1), ('przepakowywać', 1), ('obszywać', 1), ('odksztuszać', 1), ('gęgać', 2), ('unieszczęśliwiać', 3), ('demineralizować', 2), ('odczłowieczać', 1), ('naszywać', 2), ('mitologizować', 1), ('podbechtywać', 1), ('rozpryskiwać', 2), ('sadowić', 5), ('ześrodkowywać', 1), ('narkotyzować', 3), ('podminowywać', 1), ('nasypywać', 1), ('zluzowywać', 1), ('zaczerniać', 2), ('wydrążać', 2), ('meliorować', 4), ('dekapować', 1), ('rozsiadać', 1), ('rozplątywać', 5), ('domalowywać', 2), ('rozpaskudzać', 1), ('anglezować', 2), ('podsuszać', 2), ('immunizować', 2), ('inklinować', 1), ('wtryniać', 3), ('nadpalać', 1), ('giloszować', 2), ('odpieprzać', 1), ('bieżnikować', 2), ('omiatać', 2), ('galwanizować', 1), ('denaturować', 1), ('posiewać', 1), ('głębić', 2), ('podmalowywać', 1), ('doszywać', 1), ('cembrować', 1), ('diamentować', 1), ('karambolować', 2), ('juhasić', 1), ('rozregulowywać', 2), ('bunkrować', 1), ('przepiłowywać', 1), ('dekantować', 2), ('majdrować', 2), ('odmalowywać', 4), ('szczerbić', 1), ('wdziewać', 3), ('zakleszczać', 1), ('spolszczać', 3), ('środkować', 1), ('zasmażać', 1), ('wistować', 3), ('rusyfikować', 3), ('turczyć', 1), ('faksować', 1), ('ostawiać', 1), ('rozczytywać', 3), ('farbkować', 1), ('okrawać', 3), ('przekomponowywać', 2), ('azotować', 1), ('złocić', 3), ('grilować', 1), ('ocieniać', 3), ('balastować', 2), ('fosforyzować', 1), ('wygarniać', 2), ('łoskotać', 2), ('wynaturzać', 2), ('ściszać', 1), ('szuflować', 2), ('wyobcowywać', 1), ('pilić', 1), ('przyganiać', 1), ('wyduszać', 1), ('dosypiać', 1), ('skalpować', 2), ('poetyzować', 1), ('faszynować', 1), ('ziębić', 1), ('prymitywizować', 1), ('najeżać', 1), ('oswobadzać', 1), ('rozżarzać', 1), ('podżerać', 1), ('łuskać', 2), ('opierdzielać', 2), ('umuzykalniać', 2), ('dzióbać', 4), ('paczkować', 1), ('podszeptywać', 3), ('zaprzysięgać', 1), ('omotywać', 2), ('brutalizować', 2), ('ciupać', 3), ('przewieszać', 1), ('świszczeć', 1), ('demitologizować', 1), ('odmachiwać', 1), ('garować', 2), ('krochmalić', 1), ('chachmęcić', 1), ('domywać', 1), ('dejonizować', 1), ('pośpieszać', 4), ('naglić', 2), ('odtłuszczać', 1), ('deratyzować', 1), ('karburyzować', 2), ('zabrudzać', 1), ('dematerializować', 1), ('spiekać', 1), ('łyżkować', 2), ('dogasać', 1), ('współkierować', 2), ('chlipać', 1), ('zakłuwać', 1), ('zestrzelać', 2), ('odosabniać', 1), ('dziabać', 1), ('różować', 1), ('zadzierzgiwać', 1), ('ekonomizować', 1), ('wyłupiać', 1), ('przytykać', 1), ('oszpecać', 1), ('rekontrować', 1), ('opalizować', 1), ('doinformowywać', 1), ('hydrogenizować', 1), ('wyczołgiwać', 1), ('pełgać', 1), ('łachać', 1), ('niedoszacować', 1), ('zgryzać', 1), ('rozdziawiać', 1), ('czopować', 1), ('wybywać', 2), ('rybaczyć', 2), ('atestować', 1), ('cherlać', 1), ('dehumanizować', 2), ('zakasywać', 2), ('kluczować', 1), ('zastawać', 1), ('podgniwać', 1), ('nawlekać', 2), ('błocić', 1), ('banderolować', 2), ('przygadywać', 1), ('pytlować', 1), ('dolepiać', 1), ('wygotowywać', 1), ('deifikować', 1), ('promulgować', 1), ('odpyskiwać', 1), ('odklepywać', 1), ('podbarwiać', 1), ('ekspatriować', 1), ('ubożyć', 1), ('odprawować', 2), ('pierwiastkować', 1), ('cyjanować', 1), ('deskować', 2), ('wymrażać', 1), ('wysklepiać', 1), ('uprzystępniać', 2), ('obtrącać', 1), ('rozprzęgać', 1), ('przetrzebiać', 1), ('podkuwać', 3), ('unasienniać', 1), ('depersonifikować', 1), ('bazgrolić', 3), ('stukotać', 2), ('przepierdalać', 1), ('upadlać', 1), ('zmazywać', 1), ('przeczyszczać', 1), ('kapitanować', 1), ('doszorowywać', 1), ('uładzać', 1), ('glansować', 1), ('obdrapywać', 1), ('wyziewać', 1), ('nawilgacać', 1), ('podmurowywać', 1), ('talkować', 1), ('wykapywać', 1), ('hamletyzować', 2), ('dłutować', 1), ('kwoktać', 1), ('karbikować', 2), ('odczekiwać', 1), ('zakiszać', 1), ('pociskać', 1), ('wynaradawiać', 1), ('urbanizować', 2), ('przetykać', 1), ('obłupiać', 1), ('członkować', 1), ('przekrzywiać', 1), ('zaświecać', 1), ('przeczekiwać', 2), ('monumentalizować', 1), ('obszukiwać', 1), ('kameralizować', 1), ('cukrzyć', 2), ('odśpiewywać', 1), ('obfotografowywać', 1), ('chruścić', 1), ('cmoktać', 1), ('zeszlifowywać', 1), ('suflować', 1), ('impasować', 1), ('ujędrniać', 1), ('chytrzyć', 1), ('recypować', 1), ('maglować', 1), ('uodporniać', 1), ('rozrzedzać', 1), ('wzdragać', 1), ('froterować', 1), ('zeszywać', 1), ('odważać', 2), ('skrawać', 1), ('koszarować', 1), ('przyrumieniać', 1), ('fałdować', 1), ('cynować', 2), ('zapierniczać', 1), ('spulchniać', 1), ('przetłaczać', 2), ('przekopiowywać', 1), ('wpakowywać', 1), ('kryzować', 1), ('rozpieprzać', 1), ('niuchać', 1), ('nasłoneczniać', 1), ('przepłaszać', 1), ('amplifikować', 1), ('druzgotać', 1), ('glancować', 1), ('zagajać', 1), ('złączać', 2), ('doszlusowywać', 1), ('wyświecać', 1), ('odczyniać', 1), ('metaforyzować', 1), ('brzdękać', 1), ('tragizować', 1), ('odchowywać', 1), ('partaczyć', 1), ('wsmarowywać', 1), ('zruszać', 1), ('doszczelniać', 1), ('planimetrować', 1), ('rozbabrywać', 1), ('dopędzać', 1), ('późnić', 1), ('trałować', 1), ('odstrzelać', 1), ('indosować', 1), ('nagromadzać', 1), ('tapirować', 1), ('utytłać', 1), ('paczyć', 1), ('doczyszczać', 1), ('obskakiwać', 1), ('ukręcać', 1), ('wśrubowywać', 1), ('przeliterowywać', 1), ('wydrapywać', 1), ('osmalać', 1), ('odrwiwać', 1), ('okrwawiać', 1), ('zawojowywać', 1)]\n",
            "T3151 [('więcej', 132096), ('bardziej', 141232), ('prędzej', 2617), ('później', 142071), ('wcześniej', 95565), ('lepiej', 43751), ('wyżej', 42570), ('słabiej', 1674), ('dokładniej', 3092), ('niżej', 4981), ('dłużej', 17591), ('dalej', 52201), ('szybciej', 10248), ('częściej', 18512), ('krócej', 1699), ('trudniej', 2989), ('dawniej', 7759), ('łatwiej', 8455), ('bliżej', 8924), ('rzadziej', 6956), ('śmielej', 221), ('korzystniej', 435), ('prościej', 772), ('dosadniej', 49), ('sprawniej', 858), ('skuteczniej', 1492), ('chętniej', 1336), ('szerzej', 4442), ('wyraźniej', 782), ('liczniej', 271), ('lżej', 339), ('głośniej', 670), ('celniej', 30), ('mocniej', 2119), ('pewniej', 352), ('ciszej', 329), ('wolniej', 1732), ('znaczniej', 141), ('ściślej', 1192), ('efektywniej', 666), ('równiej', 56), ('surowiej', 120), ('przyjaźniej', 18), ('sympatyczniej', 10), ('precyzyjniej', 363), ('głębiej', 1655), ('baczniej', 54), ('ciekawiej', 374), ('rzetelniej', 52), ('klarowniej', 6), ('pełniej', 268), ('spokojniej', 333), ('silniej', 1064), ('cieplej', 436), ('ciężej', 382), ('rozważniej', 24), ('solidniej', 52), ('bezpieczniej', 680), ('staranniej', 96), ('wygodniej', 632), ('uważniej', 229), ('obszerniej', 58), ('rozsądniej', 115), ('dramatyczniej', 13), ('brutalniej', 20), ('praktyczniej', 11), ('dynamiczniej', 59), ('sensowniej', 43), ('śmieszniej', 111), ('odważniej', 123), ('ostrożniej', 113), ('sprawiedliwiej', 61), ('płycej', 38), ('swobodniej', 170), ('trafniej', 67), ('gwałtowniej', 40), ('oszczędniej', 57), ('aktywniej', 148), ('zabawniej', 32), ('przyjemniej', 254), ('agresywniej', 49), ('zimniej', 76), ('wyraziściej', 11), ('raźniej', 101), ('czytelniej', 28), ('dotkliwiej', 65), ('dobitniej', 86), ('młodziej', 100), ('uczciwiej', 84), ('natarczywiej', 17), ('konkretniej', 262), ('stabilniej', 24), ('ogólniej', 116), ('szczegółowiej', 80), ('boleśniej', 28), ('milej', 146), ('ostrzej', 225), ('okrutniej', 4), ('racjonalniej', 82), ('konsekwentniej', 10), ('szczelniej', 31), ('wydajniej', 126), ('przychylniej', 38), ('hojniej', 12), ('słuszniej', 38), ('niebezpieczniej', 38), ('wnikliwiej', 57), ('optymistyczniej', 12), ('prawidłowiej', 42), ('czyściej', 25), ('żywiej', 37), ('wierniej', 26), ('doskonalej', 34), ('zasadniej', 5), ('usilniej', 14), ('roztropniej', 7), ('zwięźlej', 14), ('luźniej', 87), ('kompletniej', 5), ('poprawniej', 66), ('gęściej', 135), ('bezwzględniej', 60), ('łaskawiej', 12), ('energiczniej', 30), ('prężniej', 68), ('miękcej', 1), ('węziej', 30), ('śpieszniej', 2), ('pozytywniej', 15), ('twardziej', 9), ('właściwiej', 73), ('dogłębniej', 50), ('bujniej', 13), ('żwawiej', 18), ('sprytniej', 4), ('płynniej', 59), ('zgrabniej', 13), ('tragiczniej', 10), ('gruntowniej', 28), ('efektowniej', 21), ('skrupulatniej', 12), ('wścieklej', 2), ('elastyczniej', 22), ('dojrzalej', 22), ('umiejętniej', 7), ('pilniej', 17), ('serdeczniej', 7), ('rychlej', 34), ('prawdopodobniej', 21), ('szczególniej', 50), ('punktualniej', 3), ('logiczniej', 14), ('godniej', 21), ('zajadlej', 2), ('groźniej', 39), ('świadomiej', 1), ('radośniej', 23), ('pomyślniej', 6), ('fatalniej', 4), ('obficiej', 39), ('szczęśliwiej', 11), ('goręcej', 40), ('okazalej', 14), ('zręczniej', 16), ('troskliwiej', 3), ('ozdobniej', 1), ('ekonomiczniej', 22), ('melodyjniej', 3), ('zacieklej', 4), ('przejrzyściej', 19), ('modniej', 3), ('krytyczniej', 9), ('brzydziej', 13), ('ofensywniej', 9), ('straszniej', 12), ('tłoczniej', 10), ('słodziej', 2), ('bezczelniej', 7), ('szczerzej', 11), ('kompetentniej', 4), ('barwniej', 5), ('dziwniej', 13), ('snadniej', 3), ('ambitniej', 15), ('gospodarniej', 4), ('stosowniej', 11), ('żarliwiej', 5), ('samotniej', 4), ('życzliwiej', 10), ('dogodniej', 11), ('znośniej', 5), ('skąpiej', 5), ('żałośniej', 3), ('puściej', 1), ('bogaciej', 9), ('szumniej', 1), ('odpowiedzialniej', 7), ('obiektywniej', 10), ('srożej', 4), ('chciwiej', 1), ('liberalniej', 8), ('majestatyczniej', 1), ('zawzięciej', 1), ('drapieżniej', 1), ('czulej', 2), ('taktowniej', 4), ('plastyczniej', 3), ('sumienniej', 10), ('łacniej', 2), ('przezorniej', 1), ('donośniej', 4), ('złośliwiej', 2), ('pożyteczniej', 5), ('niechętniej', 1), ('godziwiej', 2), ('wszechstronniej', 12), ('zuchwalej', 3), ('piskliwiej', 3), ('dyskretniej', 3), ('ufniej', 2), ('przykrzej', 1), ('cudniej', 2), ('gorliwiej', 19), ('prawdziwiej', 9), ('zapalczywiej', 2), ('rygorystyczniej', 1), ('rozumniej', 3), ('namiętniej', 4), ('bystrzej', 3), ('krwawiej', 2), ('monotonniej', 1), ('uporczywiej', 2), ('brudniej', 6), ('nudniej', 4), ('ludniej', 3), ('zwyczajniej', 1), ('niecierpliwiej', 2), ('obskurniej', 1), ('wynioślej', 1), ('pospieszniej', 1), ('uroczyściej', 2), ('gwarniej', 1), ('dyplomatyczniej', 1)]\n"
          ],
          "name": "stdout"
        }
      ]
    },
    {
      "cell_type": "code",
      "metadata": {
        "id": "NoQfotepS2KA"
      },
      "source": [
        "def normalization_dict(values):\n",
        "  frequency = []\n",
        "  for x in values:\n",
        "    frequency.append(int(x[1]))\n",
        "  sum_all = sum(frequency)\n",
        "  return [i/sum_all for i in frequency]"
      ],
      "execution_count": null,
      "outputs": []
    },
    {
      "cell_type": "code",
      "metadata": {
        "id": "PKq6O6EaYLiQ",
        "colab": {
          "base_uri": "https://localhost:8080/"
        },
        "outputId": "0ba6f9ba-7b7e-4b3a-ca19-8ae8bb0a3c77"
      },
      "source": [
        "def text_gen_same_structure(sentence1, tags_unigrams):\n",
        "  sen1 = sentence1.translate(str.maketrans('', '', string.punctuation))\n",
        "  sen1 = sen1.lower()\n",
        "  sen1 = sen1.split()\n",
        "  sen_out = []\n",
        "  curr_word = sen1[0] \n",
        "\n",
        "  for i in range(len(sen1)):\n",
        "    curr_word = sen1[i]\n",
        "    value_elements = len(tags_unigrams[tags[curr_word]])\n",
        "    weights = normalization_dict(tags_unigrams[tags[curr_word]])\n",
        "    chosen_word = np.random.choice(value_elements, p=weights)\n",
        "\n",
        "    sen_out.append(tags_unigrams[tags[curr_word]][chosen_word-1][0])\n",
        "  return sen_out\n",
        "\n",
        "my_sen = 'Mały Piotruś spotkał w niewielkiej restauracyjce wczoraj poznaną koleżankę.'\n",
        "text_gen_same_structure(my_sen, tags_unigrams)"
      ],
      "execution_count": null,
      "outputs": [
        {
          "output_type": "execute_result",
          "data": {
            "text/plain": [
              "['iluzoryczny',\n",
              " 'pan',\n",
              " 'dotarł',\n",
              " 'po',\n",
              " 'niezależnej',\n",
              " 'działce',\n",
              " 'bezwonnie',\n",
              " 'oznajmioną',\n",
              " 'pannę']"
            ]
          },
          "metadata": {
            "tags": []
          },
          "execution_count": 9
        }
      ]
    },
    {
      "cell_type": "code",
      "metadata": {
        "id": "6JwxkJH1CHO0",
        "colab": {
          "base_uri": "https://localhost:8080/"
        },
        "outputId": "1dd1933b-6376-487b-ec5f-d56b914e8298"
      },
      "source": [
        "text_gen_same_structure(my_sen, tags_unigrams)"
      ],
      "execution_count": null,
      "outputs": [
        {
          "output_type": "execute_result",
          "data": {
            "text/plain": [
              "['dąbrowski',\n",
              " 'dowódca',\n",
              " 'wynalazł',\n",
              " 'w',\n",
              " 'nierolniczej',\n",
              " 'ambasadzie',\n",
              " 'kubańsko',\n",
              " 'wspieraną',\n",
              " 'akcję']"
            ]
          },
          "metadata": {
            "tags": []
          },
          "execution_count": 88
        }
      ]
    },
    {
      "cell_type": "code",
      "metadata": {
        "id": "ZZCmTtMwKAUa",
        "colab": {
          "base_uri": "https://localhost:8080/"
        },
        "outputId": "8c955b98-dbc1-47cf-cfe6-3ff56e06296d"
      },
      "source": [
        "text_gen_same_structure(my_sen, tags_unigrams)"
      ],
      "execution_count": null,
      "outputs": [
        {
          "output_type": "execute_result",
          "data": {
            "text/plain": [
              "['bocheński',\n",
              " 'prezydent',\n",
              " 'zainicjował',\n",
              " 'po',\n",
              " 'niezwłocznej',\n",
              " 'kwocie',\n",
              " 'wężowo',\n",
              " 'nagłośnioną',\n",
              " 'aranżację']"
            ]
          },
          "metadata": {
            "tags": []
          },
          "execution_count": 97
        }
      ]
    },
    {
      "cell_type": "code",
      "metadata": {
        "id": "hklVYDAJKIut"
      },
      "source": [
        ""
      ],
      "execution_count": null,
      "outputs": []
    },
    {
      "cell_type": "markdown",
      "metadata": {
        "id": "sLcyA3l1aJAV"
      },
      "source": [
        "Zadanie 4\n"
      ]
    },
    {
      "cell_type": "markdown",
      "metadata": {
        "id": "I560gOYKxGQ-"
      },
      "source": [
        "bigrams_dict = {word : (count1, word1), (count2, word2), (count3, word3)}"
      ]
    },
    {
      "cell_type": "code",
      "metadata": {
        "id": "JTsOK1SVW_AF"
      },
      "source": [
        "def create_bigrams():\n",
        "  bigrams_dict = {}\n",
        "  with open('/content/drive/My Drive/nlp/poleval_2grams.txt', 'r', encoding = 'utf8') as file:\n",
        "    for i, line in enumerate(file):\n",
        "      #if i >= 10000000:\n",
        "      #  break\n",
        "      #print(line)\n",
        "      words = line.split()\n",
        "      how_many, word1, word2 = int(words[0]), words[1], words[2]  #cast to int\n",
        "      #print(words)\n",
        "      if how_many < 2:\n",
        "        continue\n",
        "      else:\n",
        "        if word1 in bigrams_dict:\n",
        "          bigrams_dict[word1].append((how_many, word2))\n",
        "        else:\n",
        "          bigrams_dict[word1] = [(how_many, word2)]\n",
        "  return bigrams_dict\n",
        "bigrams_dict = create_bigrams()"
      ],
      "execution_count": null,
      "outputs": []
    },
    {
      "cell_type": "code",
      "metadata": {
        "id": "4AAzmYqBxyb4",
        "colab": {
          "base_uri": "https://localhost:8080/"
        },
        "outputId": "353ede4a-a5f4-4e0f-b053-942ff2e7048e"
      },
      "source": [
        "len(bigrams_dict)"
      ],
      "execution_count": null,
      "outputs": [
        {
          "output_type": "execute_result",
          "data": {
            "text/plain": [
              "1004769"
            ]
          },
          "metadata": {
            "tags": []
          },
          "execution_count": 18
        }
      ]
    },
    {
      "cell_type": "code",
      "metadata": {
        "id": "dESisFzdnHcw"
      },
      "source": [
        "def last_letters_tag(word, num):\n",
        "  if len(word) > 2:\n",
        "    return ('^' + word)[-3:]\n",
        "  return '^'+word"
      ],
      "execution_count": null,
      "outputs": []
    },
    {
      "cell_type": "markdown",
      "metadata": {
        "id": "hzieiyWJcjEU"
      },
      "source": [
        "{(tag1, tag2) : (word1, word2, count) (word1, word2, count) (word1, word2, count)...}"
      ]
    },
    {
      "cell_type": "code",
      "metadata": {
        "id": "m1TmBKVNW_F5"
      },
      "source": [
        "def create_tags_bigrams(bigrams, tags):\n",
        "  tags_bigrams={}\n",
        "  tag_tag = {}\n",
        "  for word1 in bigrams: \n",
        "    for word2 in bigrams[word1]:\n",
        "      if (word1 in tags) and (word2[1] in tags):\n",
        "        tag1, tag2 = tags[word1], tags[word2[1]]\n",
        "\n",
        "        if (tag1, tag2) in tags_bigrams:\n",
        "          tags_bigrams[(tag1, tag2)].append((word1, word2[1], word2[0]))\n",
        "        else:\n",
        "          tags_bigrams[(tag1, tag2)] = [(word1, word2[1], word2[0])]\n",
        "\n",
        "      elif word1 in tags:\n",
        "        tag1 = tags[word1]\n",
        "        tag2 =  last_letters_tag(word2[1], 3)\n",
        "        if (tag1, tag2) in tags_bigrams:\n",
        "          tags_bigrams[(tag1, tag2)].append((word1, word2[1], word2[0]))\n",
        "        else:\n",
        "          tags_bigrams[(tag1, tag2)] = [(word1, word2[1], word2[0])]\n",
        "\n",
        "      elif word2[1] in tags:\n",
        "        tag1 = last_letters_tag(word1, 3)\n",
        "        tag2 =  tags[word2[1]]\n",
        "        if (tag1, tag2) in tags_bigrams:\n",
        "          tags_bigrams[(tag1, tag2)].append((word1, word2[1], word2[0]))\n",
        "        else:\n",
        "          tags_bigrams[(tag1, tag2)] = [(word1, word2[1], word2[0])]\n",
        "\n",
        "      else:\n",
        "        tag1 = last_letters_tag(word1, 3)\n",
        "        tag2 = last_letters_tag(word2[1], 3)\n",
        "        if (tag1, tag2) in tags_bigrams:\n",
        "          tags_bigrams[(tag1, tag2)].append((word1, word2[1], word2[0]))\n",
        "        else:\n",
        "          tags_bigrams[(tag1, tag2)] = [(word1, word2[1], word2[0])]\n",
        "\n",
        "\n",
        "  return tags_bigrams\n",
        "\n",
        "tags_bigrams = create_tags_bigrams(bigrams_dict, tags)"
      ],
      "execution_count": null,
      "outputs": []
    },
    {
      "cell_type": "code",
      "metadata": {
        "id": "a9kpAaeDzr_d",
        "colab": {
          "base_uri": "https://localhost:8080/"
        },
        "outputId": "f264cda0-80f8-4b54-eb24-4d6355cdfd43"
      },
      "source": [
        "len(tags_bigrams)"
      ],
      "execution_count": null,
      "outputs": [
        {
          "output_type": "execute_result",
          "data": {
            "text/plain": [
              "1684615"
            ]
          },
          "metadata": {
            "tags": []
          },
          "execution_count": 23
        }
      ]
    },
    {
      "cell_type": "code",
      "metadata": {
        "colab": {
          "base_uri": "https://localhost:8080/"
        },
        "id": "P7xUksiJlhE2",
        "outputId": "49b6941a-02f0-48d0-868a-f91a0f2355e6"
      },
      "source": [
        "k=0\n",
        "for key in tags_bigrams:\n",
        "  print(key, tags_bigrams[key])\n",
        "  k+=1\n",
        "  if k==5:\n",
        "    break"
      ],
      "execution_count": null,
      "outputs": [
        {
          "output_type": "stream",
          "text": [
            "('T1625', 'T3038') [('masz', 'identyczny', 2), ('masz', 'porządny', 2), ('masz', 'prosty', 2), ('masz', 'dostępny', 3), ('masz', 'cudowny', 2), ('masz', 'trudny', 2), ('masz', 'specjalny', 2), ('masz', 'oryginalny', 7), ('masz', 'poważny', 3), ('masz', 'ogromny', 11), ('masz', 'ciekawy', 16), ('masz', 'przepiękny', 2), ('masz', 'mocny', 3), ('masz', 'świetny', 13), ('masz', 'złoty', 2), ('masz', 'bogaty', 2), ('masz', 'miły', 2), ('masz', 'konkretny', 6), ('masz', 'brązowy', 2), ('masz', 'piękny', 6), ('masz', 'elegancki', 3), ('masz', 'dobry', 40), ('masz', 'krzywy', 2), ('masz', 'czysty', 5), ('masz', 'wścibski', 4), ('masz', 'kolejny', 2), ('masz', 'dodatkowy', 2), ('masz', 'darmowy', 3), ('masz', 'ładny', 3), ('masz', 'wąski', 2), ('masz', 'szeroki', 2), ('masz', 'pewny', 3), ('masz', 'krótki', 2), ('masz', 'lekki', 3), ('masz', 'wysoki', 2), ('masz', 'stary', 5), ('masz', 'wspaniały', 5), ('masz', 'aktywny', 2), ('masz', 'fajny', 9), ('masz', 'jasny', 2), ('masz', 'wielki', 13), ('masz', 'własny', 12), ('masz', 'cały', 9), ('masz', 'cudny', 3), ('masz', 'prawdziwy', 3), ('masz', 'mały', 8), ('masz', 'słaby', 6), ('masz', 'nowy', 6), ('masz', 'odpowiedzialny', 2), ('masz', 'niski', 3), ('masz', 'umiarkowany', 2), ('masz', 'inny', 17), ('masz', 'zdrowy', 2), ('masz', 'podobny', 5), ('masz', 'prywatny', 20), ('masz', 'doskonały', 6), ('masz', 'wyjątkowy', 4), ('masz', 'pełny', 11), ('masz', 'duży', 25), ('masz', 'gotowy', 11), ('masz', 'kiepski', 3), ('masz', 'czarny', 2), ('masz', 'wolny', 9), ('masz', 'łatwy', 2), ('masz', 'silny', 2)]\n",
            "('T1625', 'T2819') [('masz', 'pozytywne', 3), ('masz', 'krótkie', 2), ('masz', 'brudne', 3), ('masz', 'normalne', 4), ('masz', 'dostępne', 8), ('masz', 'kolejne', 7), ('masz', 'cudowne', 3), ('masz', 'pewne', 17), ('masz', 'silne', 6), ('masz', 'specjalne', 4), ('masz', 'oryginalne', 2), ('masz', 'spore', 10), ('masz', 'wewnętrzne', 2), ('masz', 'negatywne', 2), ('masz', 'mylne', 3), ('masz', 'ogromne', 12), ('masz', 'słabe', 8), ('masz', 'ciekawe', 10), ('masz', 'wszelkie', 4), ('masz', 'szczere', 2), ('masz', 'świetne', 5), ('masz', 'stare', 4), ('masz', 'rewelacyjne', 2), ('masz', 'różne', 16), ('masz', 'konkretne', 14), ('masz', 'rude', 2), ('masz', 'piękne', 11), ('masz', 'kasztanowe', 2), ('masz', 'chore', 2), ('masz', 'właściwe', 3), ('masz', 'zajebiste', 2), ('masz', 'podstawowe', 2), ('masz', 'niskie', 4), ('masz', 'dobre', 40), ('masz', 'absolutne', 2), ('masz', 'krzywe', 2), ('masz', 'nagłe', 3), ('masz', 'elektryczne', 2), ('masz', 'dziwne', 4), ('masz', 'czyste', 5), ('masz', 'zerowe', 5), ('masz', 'poważne', 10), ('masz', 'dodatkowe', 25), ('masz', 'wąskie', 2), ('masz', 'ładne', 13), ('masz', 'solidne', 3), ('masz', 'mocne', 3), ('masz', 'zbędne', 2), ('masz', 'wysokie', 6), ('masz', 'całkowite', 2), ('masz', 'ważne', 2), ('masz', 'całe', 5), ('masz', 'szczególne', 7), ('masz', 'odpowiednie', 9), ('masz', 'fajne', 6), ('masz', 'lekkie', 2), ('masz', 'polskie', 4), ('masz', 'matowe', 2), ('masz', 'jasne', 4), ('masz', 'wielkie', 8), ('masz', 'własne', 7), ('masz', 'prawdziwe', 2), ('masz', 'małe', 23), ('masz', 'długie', 8), ('masz', 'młode', 2), ('masz', 'szerokie', 8), ('masz', 'nowe', 15), ('masz', 'szare', 2), ('masz', 'osobiste', 3), ('masz', 'zielone', 4), ('masz', 'inne', 45), ('masz', 'zdrowe', 10), ('masz', 'darmowe', 2), ('masz', 'podobne', 12), ('masz', 'twarde', 2), ('masz', 'puste', 3), ('masz', 'grube', 2), ('masz', 'czerwone', 2), ('masz', 'pełne', 29), ('masz', 'idealne', 3), ('masz', 'duże', 32), ('masz', 'prawidłowe', 2), ('masz', 'gotowe', 6), ('masz', 'suche', 3), ('masz', 'zmienne', 2), ('masz', 'marne', 3), ('masz', 'malutkie', 2), ('masz', 'maleńkie', 2), ('masz', 'błędne', 2), ('masz', 'wspaniałe', 3), ('masz', 'czarne', 2), ('masz', 'wolne', 15), ('masz', 'zgrabne', 2), ('masz', 'boskie', 2), ('masz', 'mizerne', 3)]\n",
            "('T1625', 'T3168') [('masz', 'zbiornik', 2), ('masz', 'przycisk', 2), ('masz', 'komplet', 4), ('masz', 'procent', 3), ('masz', 'przepis', 2), ('masz', 'dług', 2), ('masz', 'dowód', 9), ('masz', 'generator', 2), ('masz', 'kij', 2), ('masz', 'kłopot', 23), ('masz', 'szablon', 2), ('masz', 'cykl', 2), ('masz', 'pkt', 2), ('masz', 'ciężar', 2), ('masz', 'stan', 5), ('masz', 'opis', 11), ('masz', 'nóż', 2), ('masz', 'mętlik', 2), ('masz', 'rozkład', 2), ('masz', 'balkon', 4), ('masz', 'dodatek', 2), ('masz', 'dylemat', 2), ('masz', 'model', 13), ('masz', 'modem', 2), ('masz', 'termin', 4), ('masz', 'głos', 11), ('masz', 'komputer', 6), ('masz', 'dostęp', 101), ('masz', 'teren', 2), ('masz', 'łupież', 2), ('masz', 'mózg', 6), ('masz', 'zamiar', 274), ('masz', 'paszport', 3), ('masz', 'pistolet', 2), ('masz', 'ekran', 2), ('masz', 'prezent', 2), ('masz', 'kompleks', 3), ('masz', 'materac', 2), ('masz', 'zakaz', 2), ('masz', 'regulator', 2), ('masz', 'niedobór', 3), ('masz', 'raz', 2), ('masz', 'styl', 3), ('masz', 'monitor', 4), ('masz', 'projekt', 4), ('masz', 'system', 9), ('masz', 'ogród', 2), ('masz', 'rzut', 3), ('masz', 'wynik', 3), ('masz', 'zasilacz', 6), ('masz', 'dowcip', 2), ('masz', 'dom', 6), ('masz', 'kolor', 4), ('masz', 'bios', 2), ('masz', 'sygnał', 4), ('masz', 'dyskomfort', 3), ('masz', 'poziom', 2), ('masz', 'czujnik', 2), ('masz', 'typ', 7), ('masz', 'port', 2), ('masz', 'program', 5), ('masz', 'filtr', 4), ('masz', 'łeb', 3), ('masz', 'limit', 3), ('masz', 'apetyt', 4), ('masz', 'kawałek', 3), ('masz', 'konflikt', 3), ('masz', 'obowiązek', 39), ('masz', 'miernik', 4), ('masz', 'rachunek', 3), ('masz', 'potencjał', 6), ('masz', 'akumulator', 3), ('masz', 'zapał', 4), ('masz', 'pakiet', 6), ('masz', 'zapis', 2), ('masz', 'kontakt', 20), ('masz', 'kompromis', 2), ('masz', 'dochód', 5), ('masz', 'przykład', 6), ('masz', 'serwer', 5), ('masz', 'paragon', 2), ('masz', 'oscyloskop', 2), ('masz', 'mikrofon', 2), ('masz', 'trądzik', 2), ('masz', 'pomysł', 74), ('masz', 'plus', 3), ('masz', 'status', 3), ('masz', 'sentyment', 2), ('masz', 'lęk', 3), ('masz', 'las', 3), ('masz', 'kabel', 2), ('masz', 'aparat', 3), ('masz', 'minus', 2), ('masz', 'los', 2), ('masz', 'domek', 2), ('masz', 'motor', 2), ('masz', 'stosunek', 6), ('masz', 'błąd', 5), ('masz', 'rozmiar', 2), ('masz', 'fragment', 2), ('masz', 'basen', 4), ('masz', 'punkt', 2), ('masz', 'talent', 31), ('masz', 'pokój', 4), ('masz', 'plik', 10), ('masz', 'kabelek', 3), ('masz', 'filmik', 2), ('masz', 'okres', 3), ('masz', 'film', 6), ('masz', 'przywilej', 2), ('masz', 'rodzaj', 3), ('masz', 'schemat', 4), ('masz', 'komunikat', 2), ('masz', 'wiec', 2), ('masz', 'wpływ', 22), ('masz', 'stres', 3), ('masz', 'zych', 4), ('masz', 'wzór', 2), ('masz', 'papier', 3), ('masz', 'telefon', 12), ('masz', 'link', 31), ('masz', 'plan', 10), ('masz', 'budżet', 6), ('masz', 'patent', 3), ('masz', 'młotek', 2), ('masz', 'obrotomierz', 2), ('masz', 'namiot', 2), ('masz', 'produkt', 3), ('masz', 'wybór', 52), ('masz', 'wykres', 3), ('masz', 'wgląd', 5), ('masz', 'pieniądz', 2), ('masz', 'staż', 3), ('masz', 'smak', 2), ('masz', 'tydzień', 3), ('masz', 'podgląd', 4), ('masz', 'układ', 2), ('masz', 'kawał', 2), ('masz', 'post', 2), ('masz', 'wymóg', 2), ('masz', 'sprzęt', 9), ('masz', 'problem', 354), ('masz', 'kredyt', 13), ('masz', 'szacunek', 2), ('masz', 'katar', 7), ('masz', 'dokument', 3), ('masz', 'obrazek', 2), ('masz', 'przypadek', 2), ('masz', 'rejestr', 2), ('masz', 'rower', 2), ('masz', 'umysł', 3), ('masz', 'zbyt', 44), ('masz', 'zegarek', 2), ('masz', 'indeks', 3), ('masz', 'urlop', 3), ('masz', 'silnik', 14), ('masz', 'nadmiar', 6), ('masz', 'nawyk', 2), ('masz', 'interes', 4), ('masz', 'internet', 11), ('masz', 'zawód', 2), ('masz', 'znak', 2), ('masz', 'rozum', 6), ('masz', 'nowotwór', 2), ('masz', 'profil', 3), ('masz', 'numer', 6), ('masz', 'humor', 2), ('masz', 'procesor', 3), ('masz', 'router', 3), ('masz', 'dzień', 56), ('masz', 'powód', 4), ('masz', 'licznik', 2), ('masz', 'spokój', 14), ('masz', 'zamysł', 4), ('masz', 'meldunek', 2), ('masz', 'dar', 11), ('masz', 'zwyczaj', 4), ('masz', 'fart', 2), ('masz', 'telewizor', 3), ('masz', 'zespół', 3), ('masz', 'porządek', 2), ('masz', 'dyplom', 2), ('masz', 'samochód', 15), ('masz', 'kolektor', 2), ('masz', 'lokal', 4), ('masz', 'dysk', 6), ('masz', 'charakter', 5), ('masz', 'ciut', 3)]\n",
            "('T1625', 'T2149') [('masz', 'zdecydowanie', 4), ('masz', 'doświadczenie', 34), ('masz', 'jutro', 2), ('masz', 'złoto', 2), ('masz', 'ubezpieczenie', 2), ('masz', 'zaufanie', 9), ('masz', 'wykształcenie', 5), ('masz', 'szalenie', 2), ('masz', 'zapalenie', 4), ('masz', 'przekonanie', 6), ('masz', 'napięcie', 3), ('masz', 'prawo', 331)]\n",
            "('T1625', 'T1352') [('masz', 'jakieś', 322), ('masz', 'jakie', 2), ('masz', 'jakiekolwiek', 71), ('masz', 'takie', 140)]\n"
          ],
          "name": "stdout"
        }
      ]
    },
    {
      "cell_type": "code",
      "metadata": {
        "id": "0kWL2uRrkubH"
      },
      "source": [
        "def normalization_dict_bigr(values):\n",
        "  frequency = []\n",
        "  for x in values:\n",
        "    frequency.append(int(x[2]))\n",
        "  sum_all = sum(frequency)\n",
        "  return [i/sum_all for i in frequency]"
      ],
      "execution_count": null,
      "outputs": []
    },
    {
      "cell_type": "code",
      "metadata": {
        "id": "BmapuMxfW_Kr",
        "colab": {
          "base_uri": "https://localhost:8080/"
        },
        "outputId": "64b53805-2552-43b6-a123-ebcee6c275dc"
      },
      "source": [
        "def text_gen_same_structure_bigrams(sentence1, tags_bigrams):\n",
        "  sen1 = sentence1.translate(str.maketrans('', '', string.punctuation))\n",
        "  sen1 = sen1.lower()\n",
        "  sen1 = sen1.split()\n",
        "  sen_out = []\n",
        "  curr_word = sen1[0] \n",
        "\n",
        "  #add first word\n",
        "  tag1 = tags[curr_word] \n",
        "  value_elements = len(tags_unigrams[tags[curr_word]])\n",
        "  weights = normalization_dict(tags_unigrams[tags[curr_word]])\n",
        "  chosen_word = np.random.choice(value_elements, p=weights)\n",
        "\n",
        "  save_back = []\n",
        "\n",
        "  sen_out.append(tags_unigrams[tags[curr_word]][chosen_word-1][0])\n",
        "  num_back_steps = 2\n",
        "  for i in range(len(sen1)-1): \n",
        "    curr_words = [sen1[i], sen1[i+1]]\n",
        "    #print(curr_words[1])\n",
        "    if ( tags[curr_words[0]], tags[curr_words[1]] ) in tags_bigrams:\n",
        "      value_elements = len(tags_bigrams[( tags[curr_words[0]], tags[curr_words[1]] ) ] )\n",
        "      weights = normalization_dict_bigr(tags_bigrams[( tags[curr_words[0]], tags[curr_words[1]] ) ])\n",
        "      chosen_word = np.random.choice(value_elements, p=weights)\n",
        "#    print(tags_bigrams[( tags[curr_words[0]], tags[curr_words[1]] ) ][chosen_word-1][1])\n",
        "      sen_out.append(tags_bigrams[( tags[curr_words[0]], tags[curr_words[1]] ) ][chosen_word-1][1])\n",
        "      num_back_steps = 2\n",
        "    elif num_back_steps>0:\n",
        "      while num_back_steps>=0: \n",
        "        num_back_steps-=1\n",
        "        i-=1\n",
        "        save_back.append(sen_out.pop())\n",
        "        curr_words = [sen1[i], sen1[i+1]]\n",
        "        if ( tags[curr_words[0]], tags[curr_words[1]] ) in tags_bigrams:\n",
        "          value_elements = len(tags_bigrams[( tags[curr_words[0]], tags[curr_words[1]] ) ] )\n",
        "          weights = normalization_dict_bigr(tags_bigrams[( tags[curr_words[0]], tags[curr_words[1]] ) ])\n",
        "          chosen_word = np.random.choice(value_elements, p=weights)\n",
        "          sen_out.append(tags_bigrams[( tags[curr_words[0]], tags[curr_words[1]] ) ][chosen_word-1][1])\n",
        "          num_back_steps = 2\n",
        "          save_back = []\n",
        "          break\n",
        "\n",
        "    if num_back_steps==0:\n",
        "      sen_out.append(save_back[0])\n",
        "      sen_out.append(save_back[1])\n",
        "      save_back = []\n",
        "      curr_words = [sen1[i], sen1[i+1]]\n",
        "\n",
        "      value_elements = len(tags_unigrams[tags[curr_word[1]]])\n",
        "      weights = normalization_dict(tags_unigrams[tags[curr_word[1]]])\n",
        "      chosen_word = np.random.choice(value_elements, p=weights)\n",
        "      sen_out.append('|')\n",
        "      sen_out.append(tags_unigrams[tags[curr_word[1]]][chosen_word-1][0])\n",
        "      num_back_steps = 2\n",
        "  return sen_out\n",
        "\n",
        "my_sen = 'Mały Piotruś spotkał w niewielkiej restauracyjce wczoraj poznaną koleżankę.'\n",
        "text_gen_same_structure_bigrams(my_sen, tags_bigrams)"
      ],
      "execution_count": null,
      "outputs": [
        {
          "output_type": "execute_result",
          "data": {
            "text/plain": [
              "['poborowy',\n",
              " 'chłopak',\n",
              " 'uzyskał',\n",
              " 'w',\n",
              " 'niejawnej',\n",
              " 'urodzie',\n",
              " 'około',\n",
              " 'relacjonowaną',\n",
              " 'kolonię']"
            ]
          },
          "metadata": {
            "tags": []
          },
          "execution_count": 28
        }
      ]
    },
    {
      "cell_type": "code",
      "metadata": {
        "id": "3I7YKJe8W_On",
        "colab": {
          "base_uri": "https://localhost:8080/"
        },
        "outputId": "d86d3bd2-ced1-4bcc-d189-b5a56c2ac12f"
      },
      "source": [
        "text_gen_same_structure_bigrams(my_sen, tags_bigrams)"
      ],
      "execution_count": null,
      "outputs": [
        {
          "output_type": "execute_result",
          "data": {
            "text/plain": [
              "['indywidualny',\n",
              " 'detektyw',\n",
              " 'dokonał',\n",
              " 'nad',\n",
              " 'niezawisłej',\n",
              " 'książeczce',\n",
              " 'prostopadle',\n",
              " 'lokowaną',\n",
              " 'paprykę']"
            ]
          },
          "metadata": {
            "tags": []
          },
          "execution_count": 19
        }
      ]
    },
    {
      "cell_type": "code",
      "metadata": {
        "id": "JevqlYm9eWim",
        "colab": {
          "base_uri": "https://localhost:8080/"
        },
        "outputId": "231e7900-8399-409c-f1b4-8cc31ba58b78"
      },
      "source": [
        "text_gen_same_structure_bigrams(my_sen, tags_bigrams)"
      ],
      "execution_count": null,
      "outputs": [
        {
          "output_type": "execute_result",
          "data": {
            "text/plain": [
              "['źródłowy',\n",
              " 'student',\n",
              " 'zablokował',\n",
              " 'po',\n",
              " 'niezawisłej',\n",
              " 'kotlinie',\n",
              " 'mało',\n",
              " 'zróżnicowaną',\n",
              " 'opłatę']"
            ]
          },
          "metadata": {
            "tags": []
          },
          "execution_count": 20
        }
      ]
    },
    {
      "cell_type": "code",
      "metadata": {
        "id": "YNYQhXKReh4P",
        "colab": {
          "base_uri": "https://localhost:8080/"
        },
        "outputId": "3d348680-43d7-4e61-8b64-d62f5c71b294"
      },
      "source": [
        "text_gen_same_structure_bigrams('Babuleńka miała dwa rogate koziołki', tags_bigrams)"
      ],
      "execution_count": null,
      "outputs": [
        {
          "output_type": "execute_result",
          "data": {
            "text/plain": [
              "['personifikacja', 'miała', 'dwa', 'rzymskokatolickie', 'wieprze']"
            ]
          },
          "metadata": {
            "tags": []
          },
          "execution_count": 29
        }
      ]
    },
    {
      "cell_type": "code",
      "metadata": {
        "colab": {
          "base_uri": "https://localhost:8080/"
        },
        "id": "Qk6aI_1fzPtp",
        "outputId": "52493500-6bb9-4648-f0f4-a028ab727cc6"
      },
      "source": [
        "text_gen_same_structure_bigrams('Babuleńka miała dwa rogate koziołki', tags_bigrams)"
      ],
      "execution_count": null,
      "outputs": [
        {
          "output_type": "execute_result",
          "data": {
            "text/plain": [
              "['harcerka', 'miała', 'dwa', 'modelowe', 'chrząszcze']"
            ]
          },
          "metadata": {
            "tags": []
          },
          "execution_count": 31
        }
      ]
    },
    {
      "cell_type": "code",
      "metadata": {
        "id": "QEFQnuluzWCJ"
      },
      "source": [
        ""
      ],
      "execution_count": null,
      "outputs": []
    }
  ]
}