{
  "nbformat": 4,
  "nbformat_minor": 0,
  "metadata": {
    "colab": {
      "name": "NLP_p3_zad3-4.ipynb",
      "provenance": [],
      "collapsed_sections": []
    },
    "kernelspec": {
      "name": "python3",
      "display_name": "Python 3"
    }
  },
  "cells": [
    {
      "cell_type": "code",
      "metadata": {
        "id": "4TkLUKwI9UTg"
      },
      "source": [
        "import numpy as np\n",
        "import  matplotlib.pyplot  as  plt \n",
        "from matplotlib import cm\n",
        "\n",
        "from tqdm import tqdm\n",
        "\n",
        "%matplotlib inline\n",
        "params = {\"ytick.color\" : \"c\",\n",
        "          \"xtick.color\" : \"c\",\n",
        "          \"axes.labelcolor\" : \"c\",\n",
        "          \"axes.edgecolor\" : \"c\",\n",
        "         \"text.color\" : \"c\"}\n",
        "plt.rcParams.update(params)#setup for dark the\n",
        "\n",
        "import random"
      ],
      "execution_count": null,
      "outputs": []
    },
    {
      "cell_type": "code",
      "metadata": {
        "colab": {
          "base_uri": "https://localhost:8080/"
        },
        "id": "OuGY3Oy29iYL",
        "outputId": "35f1204d-3e0b-4678-83f3-467e999cfaed"
      },
      "source": [
        "from google.colab import drive\n",
        "drive.mount('/content/drive')\n",
        "%cd '/content/drive/My Drive/nlp'"
      ],
      "execution_count": null,
      "outputs": [
        {
          "output_type": "stream",
          "text": [
            "Mounted at /content/drive\n",
            "/content/drive/My Drive/nlp\n"
          ],
          "name": "stdout"
        }
      ]
    },
    {
      "cell_type": "markdown",
      "metadata": {
        "id": "nqiN1OTMdzJL"
      },
      "source": [
        "## zadanie 3 heura"
      ]
    },
    {
      "cell_type": "code",
      "metadata": {
        "id": "W88N5-1z95Xn"
      },
      "source": [
        "def false_dice():\n",
        "  a = np.random.choice(10)\n",
        "  if a==0: return 1\n",
        "  if 1==a: return 2\n",
        "  if a==2: return 3\n",
        "  if a==3: return 4\n",
        "  if a==4: return 5\n",
        "  else: return 6\n",
        "\n",
        "def true_dice():\n",
        "  a = np.random.choice(6)\n",
        "  if a==0: return 1\n",
        "  if 1==a: return 2\n",
        "  if a==2: return 3\n",
        "  if a==3: return 4\n",
        "  if a==4: return 5\n",
        "  else: return 6  "
      ],
      "execution_count": null,
      "outputs": []
    },
    {
      "cell_type": "code",
      "metadata": {
        "id": "BEStNQfV95aR"
      },
      "source": [
        "def generate_scores(n):\n",
        "  curr_dice = True\n",
        "  scores = []\n",
        "  dice = []\n",
        "  for i in range(n):\n",
        "    if curr_dice == True:\n",
        "      next = true_dice()\n",
        "      scores.append(next)\n",
        "      dice.append(curr_dice)\n",
        "      change_prop = np.random.choice(100)\n",
        "      if change_prop < 4:\n",
        "        curr_dice = False\n",
        "    else:\n",
        "      next = false_dice()\n",
        "      scores.append(next)\n",
        "      dice.append(curr_dice)\n",
        "      change_prop = np.random.choice(100)\n",
        "      if change_prop < 5:\n",
        "        curr_dice = True\n",
        "  return scores, dice\n",
        "scores, dices = generate_scores(10000)"
      ],
      "execution_count": null,
      "outputs": []
    },
    {
      "cell_type": "code",
      "metadata": {
        "id": "Z7MYL-YYB54_"
      },
      "source": [
        "x = [i for i in range(10000)]"
      ],
      "execution_count": null,
      "outputs": []
    },
    {
      "cell_type": "code",
      "metadata": {
        "colab": {
          "base_uri": "https://localhost:8080/",
          "height": 147
        },
        "id": "5dwLPCMwB6Ao",
        "outputId": "888509ba-b371-48de-933d-41d25c9a7b9e"
      },
      "source": [
        "fig = plt.figure(figsize=(20, 2))\n",
        "ax = fig.add_subplot(111)\n",
        "ax.margins(0)\n",
        "ax.bar(x[:1000], scores[:1000])"
      ],
      "execution_count": null,
      "outputs": [
        {
          "output_type": "execute_result",
          "data": {
            "text/plain": [
              "<BarContainer object of 1000 artists>"
            ]
          },
          "metadata": {
            "tags": []
          },
          "execution_count": 8
        },
        {
          "output_type": "display_data",
          "data": {
            "image/png": "[encoded data removed]",
            "text/plain": [
              "<Figure size 1440x144 with 1 Axes>"
            ]
          },
          "metadata": {
            "tags": [],
            "needs_background": "dark"
          }
        }
      ]
    },
    {
      "cell_type": "code",
      "metadata": {
        "id": "XeGq-OHqBvV3"
      },
      "source": [
        "for i in range(10000):\n",
        "  if scores[i]==0:\n",
        "    print(i)"
      ],
      "execution_count": null,
      "outputs": []
    },
    {
      "cell_type": "code",
      "metadata": {
        "id": "pQov6-BmTimV"
      },
      "source": [
        "def guess_dice_heur(scores, ground_truth, a, b):\n",
        "  guess = [True,True,True,True,True,True]\n",
        "  dice = True\n",
        "  for i in range(6,9994):\n",
        "    count6 = scores[i-6:i+6].count(6)\n",
        "    if count6 > a and dice == True:\n",
        "      dice = False\n",
        "      guess.append(dice)\n",
        "    elif count6 < b and dice == False:\n",
        "      dice = True\n",
        "      guess.append(dice)\n",
        "    else:\n",
        "      guess.append(dice)\n",
        "  guess.extend([dice,dice,dice,dice,dice,dice])\n",
        "  score=0\n",
        "  for i in range(len(guess)):\n",
        "    if guess[i] == ground_truth[i]:\n",
        "      score+=1\n",
        "  return score/len(guess)\n"
      ],
      "execution_count": null,
      "outputs": []
    },
    {
      "cell_type": "code",
      "metadata": {
        "colab": {
          "base_uri": "https://localhost:8080/"
        },
        "id": "xNC6NTsoYuYx",
        "outputId": "9664460a-d7c4-4d26-a067-3c7b361b769c"
      },
      "source": [
        "res = []\n",
        "for i in tqdm(range(1000)):\n",
        "  scores, dices = generate_scores(10000)\n",
        "  res.append(guess_dice_heur(scores, dices, 4, 3.1) )\n",
        "heur_res = np.mean(res)\n",
        "heur_res"
      ],
      "execution_count": null,
      "outputs": [
        {
          "output_type": "stream",
          "text": [
            "100%|██████████| 1000/1000 [01:40<00:00,  9.95it/s]\n"
          ],
          "name": "stderr"
        },
        {
          "output_type": "execute_result",
          "data": {
            "text/plain": [
              "0.8244581"
            ]
          },
          "metadata": {
            "tags": []
          },
          "execution_count": 155
        }
      ]
    },
    {
      "cell_type": "code",
      "metadata": {
        "id": "dwN_92DVXx3L"
      },
      "source": [
        ""
      ],
      "execution_count": null,
      "outputs": []
    },
    {
      "cell_type": "markdown",
      "metadata": {
        "id": "hQLzTml1d4_Z"
      },
      "source": [
        "## zadanie 3 a b"
      ]
    },
    {
      "cell_type": "code",
      "metadata": {
        "id": "iGkmlnK7d4KW"
      },
      "source": [
        "def guess_dice_proper(scores, ground_truth, num=10000): # based on alpha and beta\n",
        "\n",
        "  p1, p2 = 0.04, 0.05\n",
        "  ground_truth = np.array(ground_truth).astype(int) \n",
        "\n",
        "  alpha = np.float128(np.ones((num,2)))\n",
        "  alpha[0,:] = [1/2, 1/2]\n",
        "\n",
        "  beta = np.float128(np.ones((num,2)))\n",
        "  beta[num-1, :] = [1, 1]\n",
        "\n",
        "  emission_true = [1/6,1/6,1/6,1/6,1/6,1/6]\n",
        "  emission_false = [1/10,1/10,1/10,1/10,1/10,1/2]\n",
        "  for i in range(1,num):\n",
        "    alpha[i,0] = 2*np.exp(np.log(alpha[i-1,0]) + np.log(0.96) + np.log(emission_true[scores[i-1]-1])) + \\\n",
        "                      2*np.exp(np.log(alpha[i-1,1]) + np.log(0.05) + np.log(emission_false[scores[i-1]-1]))\n",
        "    alpha[i,1] = 2*np.exp(np.log(alpha[i-1,0]) + np.log(0.04) + np.log(emission_true[scores[i-1]-1])) + \\\n",
        "                        2*np.exp(np.log(alpha[i-1,1]) + np.log(0.95) + np.log(emission_false[scores[i-1]-1]))    \n",
        "\n",
        "\n",
        " #   alpha[i,0] = 2*(alpha[i-1,0]*0.96*emission_true[scores[i-1]-1] + alpha[i-1,1]*0.05*emission_false[scores[i-1]-1])\n",
        " #   alpha[i,1] = 2*(alpha[i-1,0]*0.04*emission_true[scores[i-1]-1] + alpha[i-1,1]*0.95*emission_false[scores[i-1]-1])    \n",
        "  for i in np.arange(num-2, -1, -1):\n",
        "    beta[i,0] = 2*np.exp(np.log(beta[i+1,0]) + np.log(0.96) + np.log(emission_true[scores[i+1]-1])) + \\\n",
        "                      2*np.exp(np.log(beta[i+1,1]) + np.log(0.05) + np.log(emission_false[scores[i+1]-1]))\n",
        "    beta[i,1] = 2*np.exp(np.log(beta[i+1,0]) + np.log(0.04) + np.log(emission_true[scores[i+1]-1])) + \\\n",
        "                        2*np.exp(np.log(beta[i+1,1]) + np.log(0.95) + np.log(emission_false[scores[i+1]-1]))    \n",
        "\n",
        "    \n",
        "    #beta[i,0] = 2*( beta[i+1,0]*0.96*emission_true[scores[i+1]-1] + beta[i+1,1]*0.05*emission_false[scores[i+1]-1])\n",
        "    #beta[i,1] = 2*( beta[i+1,0]*0.04*emission_true[scores[i+1]-1] + beta[i+1,1]*0.95*emission_false[scores[i+1]-1])    \n",
        "\n",
        "  res = []\n",
        "  for i in range(num):\n",
        "    sum = alpha[i,0]*beta[i,0] + alpha[i,1]*beta[i,1]\n",
        "    max = np.argmax([np.log(alpha[i,0]) + np.log(beta[i,0]) - np.log(sum), np.log(alpha[i,1]) + np.log(beta[i,1]) - np.log(sum)])\n",
        "    if max == 0:\n",
        "      res.append(1)\n",
        "    else:\n",
        "      res.append(0)\n",
        "\n",
        "  score = np.count_nonzero(res == ground_truth[:num])\n",
        "  return alpha, beta, score"
      ],
      "execution_count": null,
      "outputs": []
    },
    {
      "cell_type": "code",
      "metadata": {
        "colab": {
          "base_uri": "https://localhost:8080/"
        },
        "id": "DzyRwyG5Au6H",
        "outputId": "2add1da4-24a5-4048-fa7c-fe1290da4a1d"
      },
      "source": [
        "res = []\n",
        "for i in tqdm(range(20)):\n",
        "  scores, dices = generate_scores(10000)\n",
        "  a,b,score= guess_dice_proper(scores, dices, 10000)\n",
        "  res.append(score/10000)\n",
        "prop_res = np.mean(res)\n",
        "prop_res"
      ],
      "execution_count": null,
      "outputs": [
        {
          "output_type": "stream",
          "text": [
            "100%|██████████| 20/20 [00:15<00:00,  1.29it/s]\n"
          ],
          "name": "stderr"
        },
        {
          "output_type": "execute_result",
          "data": {
            "text/plain": [
              "0.8267599999999999"
            ]
          },
          "metadata": {
            "tags": []
          },
          "execution_count": 16
        }
      ]
    },
    {
      "cell_type": "code",
      "metadata": {
        "colab": {
          "base_uri": "https://localhost:8080/"
        },
        "id": "6Frx7rp5_x3A",
        "outputId": "283712bc-18a1-40d1-fb6f-05f419672544"
      },
      "source": [
        "res = []\n",
        "for i in tqdm(range(50)):\n",
        "  scores, dices = generate_scores(10000)\n",
        "  a,b,score= guess_dice_proper(scores, dices, 10000)\n",
        "  res.append(score/10000)\n",
        "prop_res = np.mean(res)\n",
        "prop_res"
      ],
      "execution_count": null,
      "outputs": [
        {
          "output_type": "stream",
          "text": [
            "100%|██████████| 50/50 [00:19<00:00,  2.53it/s]\n"
          ],
          "name": "stderr"
        },
        {
          "output_type": "execute_result",
          "data": {
            "text/plain": [
              "0.8284920000000001"
            ]
          },
          "metadata": {
            "tags": []
          },
          "execution_count": 24
        }
      ]
    },
    {
      "cell_type": "code",
      "metadata": {
        "colab": {
          "base_uri": "https://localhost:8080/"
        },
        "id": "aWJJ_MMtd4M6",
        "outputId": "76a9c5ff-097d-4323-ead5-bacef605dd66"
      },
      "source": [
        "scores, dices = generate_scores(10000)\n",
        "\n",
        "a,b,score= guess_dice_proper(scores, dices, 10000)\n",
        "score/10000"
      ],
      "execution_count": null,
      "outputs": [
        {
          "output_type": "execute_result",
          "data": {
            "text/plain": [
              "0.8318"
            ]
          },
          "metadata": {
            "tags": []
          },
          "execution_count": 19
        }
      ]
    },
    {
      "cell_type": "code",
      "metadata": {
        "colab": {
          "base_uri": "https://localhost:8080/"
        },
        "id": "zuTiyk5Ed4Pa",
        "outputId": "9f6d1403-b191-4187-b1b8-15e14e8d6bd7"
      },
      "source": [
        "res = []\n",
        "for i in tqdm(range(100)):\n",
        "  scores, dices = generate_scores(10000)\n",
        "  a,b,score= guess_dice_proper(scores, dices, 10000)\n",
        "  res.append(score/10000)\n",
        "prop_res = np.mean(res)\n",
        "prop_res"
      ],
      "execution_count": null,
      "outputs": [
        {
          "output_type": "stream",
          "text": [
            "100%|██████████| 100/100 [00:39<00:00,  2.54it/s]\n"
          ],
          "name": "stderr"
        },
        {
          "output_type": "execute_result",
          "data": {
            "text/plain": [
              "0.8273279999999998"
            ]
          },
          "metadata": {
            "tags": []
          },
          "execution_count": 104
        }
      ]
    },
    {
      "cell_type": "code",
      "metadata": {
        "id": "OsKnKs7od4Rt"
      },
      "source": [
        ""
      ],
      "execution_count": null,
      "outputs": []
    },
    {
      "cell_type": "markdown",
      "metadata": {
        "id": "ka0KY_o9taf2"
      },
      "source": [
        "## zadanie 4"
      ]
    },
    {
      "cell_type": "code",
      "metadata": {
        "id": "Zyw5GBA6d4T1"
      },
      "source": [
        ""
      ],
      "execution_count": null,
      "outputs": []
    },
    {
      "cell_type": "code",
      "metadata": {
        "id": "gzCiHq3otZts"
      },
      "source": [
        "def generate_random_model():\n",
        "  p1, p2 = 0, 0\n",
        "  emission1, emission2 = [0,0,0,0,0,0], [0,0,0,0,0,0]\n",
        "  p1 = random.random()\n",
        "  p2 = random.random()\n",
        "  emission1 = np.random.rand(1,6)\n",
        "  emission2 = np.random.rand(1,6)\n",
        "  emission1 /= np.sum(emission1)\n",
        "  emission2 /= np.sum(emission2)\n",
        "\n",
        "  return [p1,p2, emission1, emission2]\n",
        "model1 = generate_random_model()"
      ],
      "execution_count": null,
      "outputs": []
    },
    {
      "cell_type": "code",
      "metadata": {
        "id": "C3Rfj7lVtZwn"
      },
      "source": [
        "def generate_data_from_model(model, n=10000):\n",
        "  curr_dice = True\n",
        "  scores = []\n",
        "  dice = []\n",
        "  for i in range(n):\n",
        "    if curr_dice == True:\n",
        "      next = np.random.choice([1,2,3,4,5,6], p=model[2].ravel())\n",
        "      scores.append(next)\n",
        "      dice.append(curr_dice)\n",
        "      change_prop = random.random()\n",
        "      if change_prop < model[0]:\n",
        "        curr_dice = False\n",
        "    else:\n",
        "      next = np.random.choice([1,2,3,4,5,6], p=model[3].ravel())\n",
        "      scores.append(next)\n",
        "      dice.append(curr_dice)\n",
        "      change_prop = random.random()\n",
        "      if change_prop < model[1]:\n",
        "        curr_dice = True\n",
        "  return [scores, dice]ka\n",
        "  \n",
        "data_model1 = generate_data_from_model(model1, 100)"
      ],
      "execution_count": null,
      "outputs": []
    },
    {
      "cell_type": "code",
      "metadata": {
        "colab": {
          "base_uri": "https://localhost:8080/"
        },
        "id": "2hpS7lRStZzR",
        "outputId": "d26482e5-b499-47d1-933b-8688df995ead"
      },
      "source": [
        "np.random.rand(1,1)"
      ],
      "execution_count": null,
      "outputs": [
        {
          "output_type": "execute_result",
          "data": {
            "text/plain": [
              "array([[0.41012414]])"
            ]
          },
          "metadata": {
            "tags": []
          },
          "execution_count": 34
        }
      ]
    },
    {
      "cell_type": "code",
      "metadata": {
        "id": "niL8xnoDNJPK"
      },
      "source": [
        "def alphabeta(dices, model):\n",
        "  p1 = model[0]\n",
        "  p2 = model[1]\n",
        "  diceOne = model[2].ravel()\n",
        "  diceTwo = model[3].ravel()\n",
        "  def add(a,b):\n",
        "    if a>b:\n",
        "      c=b\n",
        "      b=a\n",
        "      a=c\n",
        "    return a + np.log(1+np.exp(b-a))\n",
        "  dices = [int(i) for i in dices]\n",
        "\n",
        "  dp = [[0,0,0] for i in range(len(dices)+10)]\n",
        "  dp[1][1] = np.log(1)\n",
        "  dp[1][2] = np.log(1e-50)\n",
        "  for i in range(2, len(dices)+1):\n",
        "    dp[i][1] = add(dp[i-1][1]+np.log((1-p1)*diceOne[dices[i-1]]), dp[i-1][2]+np.log(p2*diceOne[dices[i-1]]))\n",
        "    dp[i][1] = add(dp[i-1][2]+np.log((1-p2)*diceTwo[dices[i-1]]), dp[i-1][1]+np.log(p1*diceTwo[dices[i-1]]))\n",
        "\n",
        "  dpBack = [[0,0,0] for i in range(len(dices)+10)]\n",
        "  dpBack[len(dices)+1][1] = np.log(1)\n",
        "  dpBack[len(dices)+1][2] = np.log(1)\n",
        "  for i in range(len(dices), 0, -1):\n",
        "    dpBack[i][1] = add(dpBack[i+1][1]+np.log((1-p1)*diceOne[dices[i-1]]), dpBack[i+1][2]+np.log(p2*diceOne[dices[i-1]]))\n",
        "    dpBack[i][1] = add(dpBack[i_1][2]+np.log((1-p2)*diceTwo[dices[i-1]]), dpBack[i+1][1]+np.log(p1*diceTwo[dices[i-1]]))\n",
        "\n",
        "  answer = \"\"\n",
        "  for i in range(1,len(dices)+1):\n",
        "    if dp[i][1] + dpBack[i][1] > dp[i][2] + dpBack[i][2]:\n",
        "      answer += '1'\n",
        "    else: answer += '2'\n",
        "  return answer\n",
        "\n",
        "\n",
        "def alphabeta_prop(dices, model):\n",
        "  p1 = model[0]\n",
        "  p2 = model[1]\n",
        "  diceOne = model[2].ravel()\n",
        "  diceTwo = model[3].ravel()\n",
        "  def add(a,b):\n",
        "    if a>b:\n",
        "      c=b\n",
        "      b=a\n",
        "      a=c\n",
        "    return a + np.log(1+np.exp(b-a))\n",
        "  dices = [int(i) for i in dices]\n",
        "\n",
        "  dp = [[0,0,0] for i in range(len(dices)+10)]\n",
        "  dp[1][1] = np.log(1)\n",
        "  dp[1][2] = np.log(1e-50)\n",
        "  for i in range(2, len(dices)+1):\n",
        "    dp[i][1] = add(dp[i-1][1]+np.log((1-p1)*diceOne[dices[i-1]]), dp[i-1][2]+np.log(p2*diceOne[dices[i-1]]))\n",
        "    dp[i][1] = add(dp[i-1][2]+np.log((1-p2)*diceTwo[dices[i-1]]), dp[i-1][1]+np.log(p1*diceTwo[dices[i-1]]))\n",
        "\n",
        "  dpBack = [[0,0,0] for i in range(len(dices)+10)]\n",
        "  dpBack[len(dices)+1][1] = np.log(1)\n",
        "  dpBack[len(dices)+1][2] = np.log(1)\n",
        "  for i in range(len(dices), 0, -1):\n",
        "    dpBack[i][1] = add(dpBack[i+1][1]+np.log((1-p1)*diceOne[dices[i-1]]), dpBack[i+1][2]+np.log(p2*diceOne[dices[i-1]]))\n",
        "    dpBack[i][1] = add(dpBack[i_1][2]+np.log((1-p2)*diceTwo[dices[i-1]]), dpBack[i+1][1]+np.log(p1*diceTwo[dices[i-1]]))\n",
        "\n",
        "  answer = []\n",
        "  for i in range(1,len(dices)+1):\n",
        "    tmp1 = dp[i][1] + dpBack[i][1]\n",
        "    tmp2 = dp[i][2] + dpBack[i][2]\n",
        "    answer.append([1/(1+np.exp(tmp2-tmp1)), 1/(1+np.exp(tmp1-tmp2))])\n",
        "  return answer\n",
        "\n",
        "def baum_welch(dices, iter = 100):\n",
        "\n",
        "  def createModel(dices, answer, model):\n",
        "    def countPattern(number):\n",
        "      allTries = 0\n",
        "      goodCounts = 0\n",
        "      for i in range(len(dices)-1):\n",
        "        if number==0:\n",
        "          allTries +=answer[i][number] + model[2].ravel()[int(dices[i]-1)] * \\\n",
        "              answer[i+1][number^1]*model[0] + answer[i+1][number]*(1-model[1])\n",
        "          goodCounts+=answer[i][number] + answer[i+1][number^1] * model[3].ravel()[int(dices[i])-1]*model[0]\n",
        "        else:\n",
        "          allTries +=answer[i][number] + model[3].ravel()[int(dices[i]-1)] * \\\n",
        "              answer[i+1][number^1]*model[1] + answer[i+1][number]*(1-model[2])\n",
        "          goodCounts+=answer[i][number] + answer[i+1][number^1] * model[4].ravel()[int(dices[i])-1]*model[1]\n",
        "      if allTries == 0:\n",
        "        return 0.5\n",
        "      return goodCounts/allTries\n",
        "\n",
        "    def countProbabilities(number):\n",
        "      probs = [0,0,0,0,0,0]\n",
        "      for i in range(len(dices)):\n",
        "        probs[int(dices[i])-1] += answer[i][number]\n",
        "      normalize = sum(probs)\n",
        "      if normalize == 0.0:\n",
        "        probs = [0.16666666666666,0.16666666666666,0.16666666666666,0.16666666666666,0.16666666666666,0.16666666666666]\n",
        "      else:\n",
        "        for i in range(len(probs)):\n",
        "          probs[i] /= normalize\n",
        "      return probs\n",
        "\n",
        "    model = [0,0,[0,0,0,0,0,0],[0,0,0,0,0,0]]\n",
        "    model[0] = countPattern(0)\n",
        "    model[1] = countPattern(1)\n",
        "    model[2] = countProbabilities(0)\n",
        "    model[3] = countProbabilities(1)\n",
        "    return model\n",
        "\n",
        "  currentModel = [0,0,[0,0,0,0,0,0],[0,0,0,0,0,0]]\n",
        "  learningRate = 0.01\n",
        "  for i in range(iterations):\n",
        "    resultModel = createModel(dices, alphabeta_prop(dices, currentModel), currentModel)\n",
        "    print(currentModel)\n",
        "    currentModel = currentModel + (1-learningRate)+resultModel*learningRate\n",
        "  return currentModel\n",
        "\n",
        "\n"
      ],
      "execution_count": null,
      "outputs": []
    },
    {
      "cell_type": "code",
      "metadata": {
        "id": "QwfBwltNNJRh"
      },
      "source": [
        "model = generate_random_model()\n",
        "\n"
      ],
      "execution_count": null,
      "outputs": []
    },
    {
      "cell_type": "code",
      "metadata": {
        "id": "d1TI6-tHNJUG"
      },
      "source": [
        ""
      ],
      "execution_count": null,
      "outputs": []
    },
    {
      "cell_type": "code",
      "metadata": {
        "id": "3i8gwW13NJW7"
      },
      "source": [
        ""
      ],
      "execution_count": null,
      "outputs": []
    },
    {
      "cell_type": "code",
      "metadata": {
        "id": "weNgXAetNJZn"
      },
      "source": [
        ""
      ],
      "execution_count": null,
      "outputs": []
    },
    {
      "cell_type": "code",
      "metadata": {
        "colab": {
          "base_uri": "https://localhost:8080/"
        },
        "id": "_AtO-pBptZ1t",
        "outputId": "dc36932f-a76d-4ed4-b863-dd2d7f99fa1e"
      },
      "source": [
        "random.random()"
      ],
      "execution_count": null,
      "outputs": [
        {
          "output_type": "execute_result",
          "data": {
            "text/plain": [
              "0.3584124000056039"
            ]
          },
          "metadata": {
            "tags": []
          },
          "execution_count": 33
        }
      ]
    },
    {
      "cell_type": "code",
      "metadata": {
        "id": "30gO0cv74VFN"
      },
      "source": [
        ""
      ],
      "execution_count": null,
      "outputs": []
    }
  ]
}