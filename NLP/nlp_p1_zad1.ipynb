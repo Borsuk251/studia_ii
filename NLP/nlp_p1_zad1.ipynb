{
  "nbformat": 4,
  "nbformat_minor": 0,
  "metadata": {
    "colab": {
      "name": "nlp_prac1_zad1",
      "provenance": [],
      "collapsed_sections": []
    },
    "kernelspec": {
      "display_name": "Python 3",
      "name": "python3"
    }
  },
  "cells": [
    {
      "cell_type": "code",
      "metadata": {
        "id": "Gh3tkg8FatEg",
        "colab": {
          "base_uri": "https://localhost:8080/",
          "height": 34
        },
        "outputId": "0b6524d7-f179-4cd3-e470-f21b096d526b"
      },
      "source": [
        "%cd '/content/drive/My Drive/nlp'\n",
        "import string\n"
      ],
      "execution_count": null,
      "outputs": [
        {
          "output_type": "stream",
          "text": [
            "/content/drive/My Drive/nlp\n"
          ],
          "name": "stdout"
        }
      ]
    },
    {
      "cell_type": "code",
      "metadata": {
        "id": "PWEIK-lmbTnj",
        "colab": {
          "base_uri": "https://localhost:8080/",
          "height": 68
        },
        "outputId": "77e5113c-6282-4f24-812e-e9cf2c6ddf0d"
      },
      "source": [
        "!unzip '/content/drive/My Drive/nlp/sjp-odm-20201011.zip'"
      ],
      "execution_count": null,
      "outputs": [
        {
          "output_type": "stream",
          "text": [
            "Archive:  /content/drive/My Drive/nlp/sjp-odm-20201011.zip\n",
            "  inflating: odm.txt                 \n",
            "  inflating: README.txt              \n"
          ],
          "name": "stdout"
        }
      ]
    },
    {
      "cell_type": "code",
      "metadata": {
        "id": "SR76WF1jcHNM",
        "colab": {
          "base_uri": "https://localhost:8080/",
          "height": 51
        },
        "outputId": "e830fb32-3853-4e63-e7a5-7f14b31d6708"
      },
      "source": [
        "!unzip '/content/drive/My Drive/nlp/polish_corpora.zip'"
      ],
      "execution_count": null,
      "outputs": [
        {
          "output_type": "stream",
          "text": [
            "Archive:  /content/drive/My Drive/nlp/polish_corpora.zip\n",
            "  inflating: polish_corpora.txt      \n"
          ],
          "name": "stdout"
        }
      ]
    },
    {
      "cell_type": "code",
      "metadata": {
        "id": "Ynmis22vcOVy"
      },
      "source": [
        "dict2 = open('polish_corpora.txt')"
      ],
      "execution_count": null,
      "outputs": []
    },
    {
      "cell_type": "code",
      "metadata": {
        "id": "xpXDITEvRnKa"
      },
      "source": [
        "file1 = open('odm.txt')\n",
        "m = 0\n",
        "dict1 = set() #słownik z wyrazami z mniejszeg korpusu\n",
        "for i in file1:\n",
        "  str_start=0\n",
        "  str_end = 1\n",
        "  if len(i)>0:\n",
        "    while str_start < len(i):\n",
        "      if i[str_end] == ' ' or i[str_end] == ',':\n",
        "        if i[str_start:str_end] != '':\n",
        "          dict1.add(i[str_start:str_end].lower())\n",
        "          if i[str_end] == ',':\n",
        "            str_end+=1\n",
        "          str_end+=1\n",
        "        str_start = str_end\n",
        "      str_end+=1\n",
        "      if str_end == len(i):\n",
        "        break\n",
        "    if i[str_start:str_end] != '':\n",
        "      dict1.add(i[str_start:str_end-1].lower())"
      ],
      "execution_count": null,
      "outputs": []
    },
    {
      "cell_type": "code",
      "metadata": {
        "id": "nYkKWFoJq-qq",
        "colab": {
          "base_uri": "https://localhost:8080/",
          "height": 221
        },
        "outputId": "48561c88-e1ef-4818-d678-f6cadd748056"
      },
      "source": [
        "print(len(dict1))\n",
        "i = 0\n",
        "for x in dict1:\n",
        "  print(x)\n",
        "  i+=1\n",
        "  if i > 10:\n",
        "    break\n",
        "#print(dict1[:1000])"
      ],
      "execution_count": null,
      "outputs": [
        {
          "output_type": "stream",
          "text": [
            "4258369\n",
            "odmiękczylibyśmy\n",
            "niepowymachiwaniami\n",
            "pindrzenia\n",
            "nieposkanowanych\n",
            "nieugałęzione\n",
            "niepoetycznego\n",
            "moczaryzmu\n",
            "nieurynkowionymi\n",
            "przegwizdalibyśmy\n",
            "zaświetlono\n",
            "orszadami\n"
          ],
          "name": "stdout"
        }
      ]
    },
    {
      "cell_type": "code",
      "metadata": {
        "id": "UIvWkBkh7bLj",
        "colab": {
          "base_uri": "https://localhost:8080/",
          "height": 54
        },
        "outputId": "5d294218-517c-4fd5-a597-840adeaf397b"
      },
      "source": [
        "inwokacja1 = 'Litwo! Ojczyzno maja! Ty jesteś jak zdrowie,\\\n",
        "Ile cię trzeba cenić, ten tylko się dowie,\\\n",
        "Kto cię stracił. Dziś piękność twą w całej ozdobie\\\n",
        "Widzę i opisuję, bo tęsknię po tobie\"\\\n",
        "Panno święta, co Jasnej bronisz Częstochowy\\\n",
        "I w Ostrej świecisz Bramie! Ty, co gród zamkowy\\\n",
        "Nowogródzki ochraniasz z jego wiernym ludem!\\\n",
        "Jak mnie dziecko do zdrowia powróciłaś cudem,\\\n",
        "(Gdy od płaczącej matki pod Twoją opiekę\\\n",
        "Ofiarowany, martwą podniosłem powiekę\\\n",
        "I zaraz mogłem pieszo do Twych świątyń progu\\\n",
        "Iść za wrócone życie podziękować Bogu),\\\n",
        "Tak nas powrócisz cudem na Ojczyzny łono.\\\n",
        "Tymczasem przenoś moją duszę utęsknioną\\\n",
        "Do tych pagórków leśnych, do tych łąk zielonych,\\\n",
        "Szeroko nad błękitnym Niemnem rozciągnionych;\\\n",
        "Do tych pól malowanych zbożem rozmaitem,\\\n",
        "Wyzłacanych pszenicą, posrebrzanych żytem;\\\n",
        "Gdzie bursztynowy świerzop, gryka jak śnieg biała,\\\n",
        "Gdzie panieńskim rumieńcem dzięcielina pała,\\\n",
        "A wszystko przepasane jakby wstęgą, miedzą\\\n",
        "Zieloną, na niej z rzadka ciche grusze siedzą.'\n",
        "\n",
        "inwokacja1 = inwokacja1.translate(str.maketrans('', '', string.punctuation))\n",
        "inwokacja1_oryg = inwokacja1.split()\n",
        "inwokacja1 = ''.join(inwokacja1.split())\n",
        "inwokacja1 = inwokacja1.lower()\n",
        "print(inwokacja1)"
      ],
      "execution_count": null,
      "outputs": [
        {
          "output_type": "stream",
          "text": [
            "litwoojczyznomajatyjesteśjakzdrowieileciętrzebacenićtentylkosiędowiektocięstraciłdziśpięknośćtwąwcałejozdobiewidzęiopisujębotęskniępotobiepannoświętacojasnejbroniszczęstochowyiwostrejświeciszbramietycogródzamkowynowogródzkiochraniaszzjegowiernymludemjakmniedzieckodozdrowiapowróciłaścudemgdyodpłaczącejmatkipodtwojąopiekęofiarowanymartwąpodniosłempowiekęizarazmogłempieszodotwychświątyńproguiśćzawróconeżyciepodziękowaćbogutaknaspowróciszcudemnaojczyznyłonotymczasemprzenośmojąduszęutęsknionądotychpagórkówleśnychdotychłąkzielonychszerokonadbłękitnymniemnemrozciągnionychdotychpólmalowanychzbożemrozmaitemwyzłacanychpszenicąposrebrzanychżytemgdziebursztynowyświerzopgrykajakśniegbiałagdziepanieńskimrumieńcemdzięcielinapałaawszystkoprzepasanejakbywstęgąmiedzązielonąnaniejzrzadkacichegruszesiedzą\n"
          ],
          "name": "stdout"
        }
      ]
    },
    {
      "cell_type": "code",
      "metadata": {
        "id": "m1mvnIvk85ro",
        "colab": {
          "base_uri": "https://localhost:8080/",
          "height": 34
        },
        "outputId": "53e15571-f611-4849-8b9a-ddf1eeafe42b"
      },
      "source": [
        "len(inwokacja1_oryg)"
      ],
      "execution_count": null,
      "outputs": [
        {
          "output_type": "execute_result",
          "data": {
            "text/plain": [
              "124"
            ]
          },
          "metadata": {
            "tags": []
          },
          "execution_count": 8
        }
      ]
    },
    {
      "cell_type": "code",
      "metadata": {
        "id": "O2lT24awcWNh",
        "colab": {
          "base_uri": "https://localhost:8080/",
          "height": 34
        },
        "outputId": "2b4b4588-f7c7-4d4f-a3d3-642063142e3d"
      },
      "source": [
        "inwokacja2 = 'Litwo! Ojczyzno maja! Ty jesteś jak zdrowie,\\\n",
        "Ile cię trzeba cenić, ten tylko się dowie,\\\n",
        "Kto cię stracił. Dziś piękność twą w całej ozdobie\\\n",
        "Widzę i opisuję, bo tęsknię po tobie\"'\n",
        "\n",
        "inwokacja2 = inwokacja2.translate(str.maketrans('', '', string.punctuation))\n",
        "inwokacja2_oryg = inwokacja2.split()\n",
        "inwokacja2 = ''.join(inwokacja2.split())\n",
        "inwokacja2 = inwokacja2.lower()\n",
        "print(inwokacja2)"
      ],
      "execution_count": null,
      "outputs": [
        {
          "output_type": "stream",
          "text": [
            "litwoojczyznomajatyjesteśjakzdrowieileciętrzebacenićtentylkosiędowiektocięstraciłdziśpięknośćtwąwcałejozdobiewidzęiopisujębotęskniępotobie\n"
          ],
          "name": "stdout"
        }
      ]
    },
    {
      "cell_type": "code",
      "metadata": {
        "id": "G4mF7sLqcwW9",
        "colab": {
          "base_uri": "https://localhost:8080/",
          "height": 34
        },
        "outputId": "96f72310-9c72-4ee8-bb0c-e03215868bc3"
      },
      "source": [
        "inwokacja3 = 'Litwo! Ojczyzno maja! Ty jesteś jak zdrowie,'\n",
        "\n",
        "inwokacja3 = inwokacja3.translate(str.maketrans('', '', string.punctuation))\n",
        "inwokacja3_oryg = inwokacja3.split()\n",
        "inwokacja3 = ''.join(inwokacja3.split())\n",
        "inwokacja3 = inwokacja3.lower()\n",
        "print(inwokacja3_oryg, inwokacja3)"
      ],
      "execution_count": null,
      "outputs": [
        {
          "output_type": "stream",
          "text": [
            "['Litwo', 'Ojczyzno', 'maja', 'Ty', 'jesteś', 'jak', 'zdrowie'] litwoojczyznomajatyjesteśjakzdrowie\n"
          ],
          "name": "stdout"
        }
      ]
    },
    {
      "cell_type": "code",
      "metadata": {
        "id": "8U-TOORwdMRt"
      },
      "source": [
        "def MaxMatch2(word, my_dict):\n",
        "  #max_length = len(max(my_dict, key=len))\n",
        "  max_length = 39\n",
        "  tokens = []\n",
        "  word_start = 0\n",
        "  end_index = len(word)\n",
        "  if max_length < end_index:\n",
        "    word_end = max_length\n",
        "  else:\n",
        "    word_end = end_index\n",
        "  new_word = ''\n",
        "  while word_start < end_index:\n",
        "    if word_end < word_start: #appending one letter\n",
        "      tokens.append(word[word_start])\n",
        "      word_start +=1\n",
        "      word_end = end_index\n",
        "    new_word = word[word_start:word_end]\n",
        "    if new_word in my_dict: #appending word in corpus\n",
        "      tokens.append(new_word)\n",
        "      word_start = word_end\n",
        "      if word_start + max_length < end_index: #reducing search space\n",
        "         word_end = word_start + max_length\n",
        "      else:\n",
        "        word_end = end_index\n",
        "    else:\n",
        "      word_end -= 1\n",
        "  \n",
        "  return tokens #return as array"
      ],
      "execution_count": null,
      "outputs": []
    },
    {
      "cell_type": "code",
      "metadata": {
        "id": "uP8PpwkC7VD2",
        "colab": {
          "base_uri": "https://localhost:8080/",
          "height": 54
        },
        "outputId": "8269675d-9f2e-48b0-d4e3-63073be7529e"
      },
      "source": [
        "inwo1 = MaxMatch2(inwokacja1, dict1)\n",
        "print(inwo1)"
      ],
      "execution_count": null,
      "outputs": [
        {
          "output_type": "stream",
          "text": [
            "['litwo', 'ojczyznom', 'ajaty', 'jesteś', 'jak', 'zdrowie', 'ile', 'cię', 'trzeba', 'cenić', 'tenty', 'l', 'kosi', 'ę', 'dowie', 'kto', 'cię', 'stracił', 'dziś', 'piękność', 'twą', 'wc', 'a', 'ł', 'ej', 'ozdobie', 'widzę', 'io', 'pisuję', 'bot', 'ę', 's', 'kn', 'i', 'ę', 'pot', 'obie', 'panno', 'święta', 'co', 'jasnej', 'bronisz', 'częstochowy', 'iwo', 'st', 'rej', 'świecisz', 'bramie', 'tyc', 'ogród', 'zamkowy', 'nowogródzki', 'ochraniasz', 'zje', 'go', 'wiernym', 'ludem', 'jak', 'mnie', 'dziecko', 'doz', 'drowi', 'ap', 'o', 'wróciłaś', 'cudem', 'gdy', 'odpłaczą', 'ce', 'jm', 'atki', 'pod', 'twoją', 'opiekę', 'ofiarowanym', 'art', 'w', 'ą', 'podniosłem', 'powiekę', 'izara', 'zmogłem', 'pieszo', 'do', 'twych', 'świątyń', 'progu', 'iść', 'zawrócone', 'życie', 'podziękować', 'boguta', 'kna', 'sp', 'o', 'wrócisz', 'cudem', 'na', 'ojczyzny', 'łono', 'tymczasem', 'przenoś', 'moją', 'duszę', 'utęsknioną', 'do', 'tych', 'pagórków', 'leśnych', 'do', 'tych', 'łąk', 'zielonych', 'szeroko', 'nad', 'błękitnym', 'niemnem', 'rozciąg', 'ni', 'onych', 'do', 'tych', 'pól', 'malowanych', 'zbożem', 'rozmaite', 'mw', 'y', 'zła', 'can', 'y', 'ch', 'pszenicą', 'posrebrzanych', 'żytem', 'gdzie', 'bursztynowy', 'świerzop', 'gryka', 'jak', 'śnieg', 'biała', 'gdzie', 'panieńskim', 'rumieńcem', 'dzięcielina', 'pała', 'aws', 'zys', 'tk', 'oprze', 'pasanej', 'ak', 'by', 'wstęgą', 'miedzą', 'zieloną', 'na', 'niej', 'zr', 'zadka', 'ciche', 'grusze', 'siedzą']\n"
          ],
          "name": "stdout"
        }
      ]
    },
    {
      "cell_type": "code",
      "metadata": {
        "id": "vy3_NJNTdQIe",
        "colab": {
          "base_uri": "https://localhost:8080/",
          "height": 34
        },
        "outputId": "ee0b6db2-9f14-498c-be43-50e5de9f935d"
      },
      "source": [
        "xx = MaxMatch2(inwokacja3, dict1)\n",
        "print(xx)"
      ],
      "execution_count": null,
      "outputs": [
        {
          "output_type": "stream",
          "text": [
            "['litwo', 'ojczyznom', 'ajaty', 'jesteś', 'jak', 'zdrowie']\n"
          ],
          "name": "stdout"
        }
      ]
    },
    {
      "cell_type": "code",
      "metadata": {
        "id": "az00M6IX344Z"
      },
      "source": [
        "def MaxMatchRev(word, my_dict):#going from last word\n",
        "  #max_length = len(max(my_dict, key=len))\n",
        "  max_length = 39 #max length in corpus\n",
        "  tokens = []\n",
        "  word_end = len(word)\n",
        "  if max_length < word_end:\n",
        "    word_start = word_end - max_length\n",
        "  else:\n",
        "    word_start = 0\n",
        "  new_word = ''\n",
        "  while True: \n",
        "    if word_end == word_start+1:#appending one letter\n",
        "      tokens.append(word[word_start]) \n",
        "      if word_start == 0:\n",
        "        break\n",
        "      word_end = word_start\n",
        "      word_start = 0\n",
        "    new_word = word[word_start:word_end]\n",
        "    if new_word in my_dict: #if in corpus\n",
        "      tokens.append(new_word)\n",
        "      word_end = word_start\n",
        "      if word_start == 0:\n",
        "        break;\n",
        "      if max_length < word_end: #optimization\n",
        "         word_start = word_end - max_length\n",
        "      else:\n",
        "        word_start = 0\n",
        "    else:\n",
        "      word_start += 1\n",
        "    #print(tokens)\n",
        "  tokens.reverse()\n",
        "  return tokens #as array"
      ],
      "execution_count": null,
      "outputs": []
    },
    {
      "cell_type": "code",
      "metadata": {
        "id": "5inKWt9pcDZE",
        "colab": {
          "base_uri": "https://localhost:8080/",
          "height": 34
        },
        "outputId": "9714b924-3d90-4713-c3e9-e096504a9b06"
      },
      "source": [
        "xx = MaxMatchRev(inwokacja3, dict1)\n",
        "print(xx)"
      ],
      "execution_count": null,
      "outputs": [
        {
          "output_type": "stream",
          "text": [
            "['litwo', 'ojczyznom', 'ajaty', 'jesteś', 'jak', 'zdrowie']\n"
          ],
          "name": "stdout"
        }
      ]
    },
    {
      "cell_type": "code",
      "metadata": {
        "id": "4ZtvZxkp96q6",
        "colab": {
          "base_uri": "https://localhost:8080/",
          "height": 54
        },
        "outputId": "2575be2b-d61c-4e78-d06e-4ba7569ec375"
      },
      "source": [
        "inwo1r = MaxMatchRev(inwokacja1, dict1)\n",
        "print(inwo1r)"
      ],
      "execution_count": null,
      "outputs": [
        {
          "output_type": "stream",
          "text": [
            "['litwo', 'ojczyznom', 'ajaty', 'jesteś', 'jak', 'zdrowi', 'eile', 'cię', 'trzeba', 'cenić', 'ten', 'tylko', 'się', 'dowie', 'kto', 'cię', 'stracił', 'dziś', 'piękność', 'twą', 'w', 'całej', 'ozdobie', 'widzę', 'i', 'opisuję', 'bo', 'tęsknię', 'po', 'tobie', 'pan', 'noś', 'w', 'i', 'ę', 'taco', 'jasnej', 'bronisz', 'częstochowy', 'iw', 'ostrej', 'świecisz', 'bramie', 'tyc', 'ogród', 'zamkowy', 'nowogródzki', 'och', 'rani', 'as', 'zz', 'jego', 'wiernym', 'ludem', 'ja', 'km', 'ni', 'edzi', 'ec', 'kodo', 'zdrowia', 'powróciłaś', 'cudem', 'gdy', 'od', 'płaczące', 'jm', 'atk', 'ipod', 'twoją', 'opiekę', 'ofiarowany', 'martwą', 'podniosłem', 'powiekę', 'izara', 'zmogłem', 'piesz', 'odo', 'twych', 'świątyń', 'pro', 'g', 'uiść', 'zawrócone', 'życie', 'podziękować', 'bogu', 'tak', 'nas', 'powrócisz', 'cudem', 'na', 'ojczyzny', 'łono', 'tymczasem', 'przenoś', 'moją', 'duszę', 'utęsknioną', 'do', 'tych', 'pagórków', 'leśnych', 'do', 'tych', 'łąk', 'zielonych', 'szeroko', 'nad', 'błękitnym', 'ni', 'em', 'ne', 'mr', 'oz', 'ciągnionych', 'do', 'tych', 'pól', 'malowanych', 'zboże', 'mr', 'ozma', 'item', 'wyzłacanych', 'pszenicą', 'posrebrzanych', 'żytem', 'gdzie', 'bursztynowy', 'świerzop', 'gry', 'kajak', 'śnieg', 'biała', 'gdzie', 'panieńskim', 'rumieńcem', 'dzięcielina', 'pał', 'aa', 'wszystko', 'przepasane', 'jakby', 'wstęgą', 'miedzą', 'zieloną', 'na', 'niej', 'z', 'rzadka', 'ciche', 'grusze', 'siedzą']\n"
          ],
          "name": "stdout"
        }
      ]
    },
    {
      "cell_type": "code",
      "metadata": {
        "id": "QEAVO2Bg7HHN"
      },
      "source": [
        "def inwokacja_quality(inwo_oryg, inwo_to_process):\n",
        "  N_elements = len(inwo_oryg)\n",
        "  count = 0\n",
        "  for i in inwo_to_process:\n",
        "    if i in inwo_oryg:\n",
        "      count+=1\n",
        "  return count / N_elements"
      ],
      "execution_count": null,
      "outputs": []
    },
    {
      "cell_type": "code",
      "metadata": {
        "id": "EoX-HmYH_wTz"
      },
      "source": [
        "inwo2 = MaxMatch2(inwokacja2, dict1)\n",
        "inwo2r = MaxMatchRev(inwokacja2, dict1)"
      ],
      "execution_count": null,
      "outputs": []
    },
    {
      "cell_type": "code",
      "metadata": {
        "id": "DfkUOujNucnO",
        "colab": {
          "base_uri": "https://localhost:8080/",
          "height": 51
        },
        "outputId": "21178c6f-bfc3-4873-d749-6fb83fefdea6"
      },
      "source": [
        "print(inwokacja_quality(inwokacja2_oryg, inwo2))\n",
        "print(inwokacja_quality(inwokacja2_oryg, inwo2r))"
      ],
      "execution_count": null,
      "outputs": [
        {
          "output_type": "stream",
          "text": [
            "0.35714285714285715\n",
            "0.7142857142857143\n"
          ],
          "name": "stdout"
        }
      ]
    },
    {
      "cell_type": "code",
      "metadata": {
        "id": "RFj_Da5i9BpA",
        "colab": {
          "base_uri": "https://localhost:8080/",
          "height": 34
        },
        "outputId": "3d5d13d8-22bd-4af5-cbf0-7d8a5c735238"
      },
      "source": [
        "inwokacja_quality(inwokacja1_oryg, inwo1)"
      ],
      "execution_count": null,
      "outputs": [
        {
          "output_type": "execute_result",
          "data": {
            "text/plain": [
              "0.5080645161290323"
            ]
          },
          "metadata": {
            "tags": []
          },
          "execution_count": 18
        }
      ]
    },
    {
      "cell_type": "code",
      "metadata": {
        "id": "JG3HUoS3_F_P",
        "colab": {
          "base_uri": "https://localhost:8080/",
          "height": 34
        },
        "outputId": "9f6cf8a0-6081-4eee-ddb9-ba7e206cc952"
      },
      "source": [
        "inwokacja_quality(inwokacja1_oryg, inwo1r)"
      ],
      "execution_count": null,
      "outputs": [
        {
          "output_type": "execute_result",
          "data": {
            "text/plain": [
              "0.5887096774193549"
            ]
          },
          "metadata": {
            "tags": []
          },
          "execution_count": 19
        }
      ]
    },
    {
      "cell_type": "code",
      "metadata": {
        "id": "K9L3ELUJzbL_"
      },
      "source": [
        "def MaxMatch_quality(corpus): #on polish corpora\n",
        "  n, same, diff = 0, 0, 0\n",
        "  for i, line in enumerate(corpus):\n",
        "    if i > 10000:\n",
        "      break;\n",
        "    tokens = line.lower().split()\n",
        "    #print(tokens)\n",
        "    one_word = ''.join(tokens)\n",
        "    #print(one_word)\n",
        "    maxmatch_tokens = MaxMatch2(one_word, dict1)\n",
        "    #maxmatch_tokens = MaxMatchRev(one_word, dict1)\n",
        "    diff = len(list(set(tokens) - set(maxmatch_tokens)))# set operation\n",
        "    n += len(tokens)\n",
        "    same += len(tokens) - diff\n",
        "  return same / n"
      ],
      "execution_count": null,
      "outputs": []
    },
    {
      "cell_type": "code",
      "metadata": {
        "id": "CB8ZeePda6ez"
      },
      "source": [
        ""
      ],
      "execution_count": null,
      "outputs": []
    },
    {
      "cell_type": "code",
      "metadata": {
        "id": "X6gZZ4nDH70V",
        "colab": {
          "base_uri": "https://localhost:8080/",
          "height": 34
        },
        "outputId": "e6cfc059-7d2b-4d02-d44e-aad0bc11a9a2"
      },
      "source": [
        "MaxMatch_quality(dict2) #10 000, max len=39"
      ],
      "execution_count": null,
      "outputs": [
        {
          "output_type": "execute_result",
          "data": {
            "text/plain": [
              "0.7413316890211586"
            ]
          },
          "metadata": {
            "tags": []
          },
          "execution_count": 26
        }
      ]
    },
    {
      "cell_type": "code",
      "metadata": {
        "id": "FQ5cAsnFHFQC",
        "colab": {
          "base_uri": "https://localhost:8080/",
          "height": 51
        },
        "outputId": "09616553-5fd5-40b6-b434-6fcbf3d944f4"
      },
      "source": [
        "MaxMatch_quality(dict2) #10 000 max len=20"
      ],
      "execution_count": null,
      "outputs": [
        {
          "output_type": "stream",
          "text": [
            "res is\n"
          ],
          "name": "stdout"
        },
        {
          "output_type": "execute_result",
          "data": {
            "text/plain": [
              "0.7410901199244522"
            ]
          },
          "metadata": {
            "tags": []
          },
          "execution_count": 126
        }
      ]
    },
    {
      "cell_type": "code",
      "metadata": {
        "id": "wGJhupdIJlMs",
        "colab": {
          "base_uri": "https://localhost:8080/",
          "height": 51
        },
        "outputId": "6e29af7b-0dd1-4c89-8a8b-481c7ed2845c"
      },
      "source": [
        "MaxMatch_quality(dict2) # 10 000 rev, max len = 39"
      ],
      "execution_count": null,
      "outputs": [
        {
          "output_type": "stream",
          "text": [
            "res is\n"
          ],
          "name": "stdout"
        },
        {
          "output_type": "execute_result",
          "data": {
            "text/plain": [
              "0.7427755367666428"
            ]
          },
          "metadata": {
            "tags": []
          },
          "execution_count": 41
        }
      ]
    },
    {
      "cell_type": "code",
      "metadata": {
        "id": "DpaLpf6dyxwU",
        "colab": {
          "base_uri": "https://localhost:8080/",
          "height": 51
        },
        "outputId": "a517fae3-c215-4385-bb7c-6f586393fed3"
      },
      "source": [
        "MaxMatch_quality(dict2) # 10 000 rev, max len = 20"
      ],
      "execution_count": null,
      "outputs": [
        {
          "output_type": "stream",
          "text": [
            "res is\n"
          ],
          "name": "stdout"
        },
        {
          "output_type": "execute_result",
          "data": {
            "text/plain": [
              "0.7321926025336017"
            ]
          },
          "metadata": {
            "tags": []
          },
          "execution_count": 189
        }
      ]
    },
    {
      "cell_type": "code",
      "metadata": {
        "id": "Rly4KbGO7YaV",
        "colab": {
          "base_uri": "https://localhost:8080/",
          "height": 51
        },
        "outputId": "94084c57-4856-4c9f-be09-d350078aa633"
      },
      "source": [
        "MaxMatch_quality(dict2) # 1 000 000 rev, max len=20"
      ],
      "execution_count": null,
      "outputs": [
        {
          "output_type": "stream",
          "text": [
            "res is\n"
          ],
          "name": "stdout"
        },
        {
          "output_type": "execute_result",
          "data": {
            "text/plain": [
              "0.7331066841911409"
            ]
          },
          "metadata": {
            "tags": []
          },
          "execution_count": 191
        }
      ]
    },
    {
      "cell_type": "code",
      "metadata": {
        "id": "nO58BwdsW3S-",
        "colab": {
          "base_uri": "https://localhost:8080/",
          "height": 51
        },
        "outputId": "7aa333d3-0833-4eab-d2ef-77d614f3062b"
      },
      "source": [
        "MaxMatch_quality(dict2) # 1 000 000 maxlen=20"
      ],
      "execution_count": null,
      "outputs": [
        {
          "output_type": "stream",
          "text": [
            "res is\n"
          ],
          "name": "stdout"
        },
        {
          "output_type": "execute_result",
          "data": {
            "text/plain": [
              "0.7424003670123318"
            ]
          },
          "metadata": {
            "tags": []
          },
          "execution_count": 124
        }
      ]
    },
    {
      "cell_type": "code",
      "metadata": {
        "id": "x-jHfg2-Zyr1",
        "colab": {
          "base_uri": "https://localhost:8080/",
          "height": 51
        },
        "outputId": "42730225-bcd2-4870-f8ca-c95c83b83e35"
      },
      "source": [
        "MaxMatch_quality(dict2) # 1 000 000, max len=39"
      ],
      "execution_count": null,
      "outputs": [
        {
          "output_type": "stream",
          "text": [
            "res is\n"
          ],
          "name": "stdout"
        },
        {
          "output_type": "execute_result",
          "data": {
            "text/plain": [
              "0.7425595520829444"
            ]
          },
          "metadata": {
            "tags": []
          },
          "execution_count": 44
        }
      ]
    },
    {
      "cell_type": "code",
      "metadata": {
        "id": "PuIhApmmNxLZ",
        "colab": {
          "base_uri": "https://localhost:8080/",
          "height": 51
        },
        "outputId": "9b25352a-6a19-4c9d-aeec-53071645b735"
      },
      "source": [
        "MaxMatch_quality(dict2) # 1 000 000 rev, max len=39"
      ],
      "execution_count": null,
      "outputs": [
        {
          "output_type": "stream",
          "text": [
            "res is\n"
          ],
          "name": "stdout"
        },
        {
          "output_type": "execute_result",
          "data": {
            "text/plain": [
              "0.7331808249331279"
            ]
          },
          "metadata": {
            "tags": []
          },
          "execution_count": 46
        }
      ]
    },
    {
      "cell_type": "code",
      "metadata": {
        "id": "QprcTbmcK4AP"
      },
      "source": [
        ""
      ],
      "execution_count": null,
      "outputs": []
    }
  ]
}