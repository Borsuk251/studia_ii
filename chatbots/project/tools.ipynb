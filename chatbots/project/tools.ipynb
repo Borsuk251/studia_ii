{
  "cells": [
    {
      "cell_type": "code",
      "execution_count": null,
      "metadata": {
        "id": "C9ndMIRxU_Ts"
      },
      "outputs": [],
      "source": [
        "!pip install deepl\n",
        "!pip install fasttext\n",
        "!pip install easynmt"
      ]
    },
    {
      "cell_type": "code",
      "execution_count": null,
      "metadata": {
        "id": "WkAjHhv7ipdJ"
      },
      "outputs": [],
      "source": [
        "import deepl\n",
        "\n",
        "class DeepL:\n",
        "    \"\"\"\n",
        "    class for DeepL API usage\n",
        "    \"\"\"\n",
        "    def __init__(self, deepl_key):\n",
        "        self._translator = deepl.Translator(auth_key=deepl_key)\n",
        "\n",
        "    def translate(self, prompt, source_language='pl', target_language='en-us'):\n",
        "        if target_language == 'en':\n",
        "            target_language = 'en-us'\n",
        "        return self._translator.translate_text(prompt, source_lang=source_language, target_lang=target_language).text\n",
        "\n",
        "\n",
        "class CONFIG:\n",
        "    def __init__(self):\n",
        "\n",
        "        self.config = {\n",
        "            'DEEPL_KEY' : '',\n",
        "        }"
      ]
    },
    {
      "cell_type": "code",
      "execution_count": null,
      "metadata": {
        "id": "ImQIJDkSkQMv"
      },
      "outputs": [],
      "source": [
        "import fasttext\n",
        "from easynmt import EasyNMT\n",
        "\n",
        "class LanguageIdentification:\n",
        "    \"\"\"\n",
        "    class to predict language\n",
        "    \"\"\"\n",
        "\n",
        "    def __init__(self):\n",
        "        pretrained_lang_model = \"lid.176.bin\"\n",
        "        self.model = fasttext.load_model(pretrained_lang_model)\n",
        "\n",
        "    def predict_lang(self, text):\n",
        "        predictions = self.model.predict(text, k=10)\n",
        "        return predictions\n",
        "\n",
        "    def predict_en_pl(self, text):\n",
        "        predictions = self.model.predict(text, k=10)\n",
        "        for label in predictions[0]:\n",
        "\n",
        "            if label[-2:] == 'en':\n",
        "                return 'en'\n",
        "            \n",
        "            if label[-2:] == 'pl':\n",
        "                return 'pl'\n",
        "        return None\n",
        "\n",
        "class M2M_translator:\n",
        "    \"\"\"\n",
        "    class for local T5 model translation\n",
        "    \"\"\"\n",
        "    def __init__(self):\n",
        "        model_name = 'm2m_100_418M'\n",
        "        self.model = EasyNMT(model_name)\n",
        "\n",
        "    def translate(self, prompt, source_language='pl', target_language='en'):\n",
        "        return self.model.translate([prompt], source_lang=source_language, target_lang=target_language)\n",
        "        \n",
        "\n"
      ]
    },
    {
      "cell_type": "code",
      "execution_count": null,
      "metadata": {
        "id": "Q9rUFLIqkQHq"
      },
      "outputs": [],
      "source": [
        "\n"
      ]
    },
    {
      "cell_type": "code",
      "execution_count": null,
      "metadata": {
        "id": "-mbcPGMp2NWt"
      },
      "outputs": [],
      "source": []
    }
  ],
  "metadata": {
    "colab": {
      "provenance": []
    },
    "kernelspec": {
      "display_name": "Python 3",
      "name": "python3"
    },
    "language_info": {
      "name": "python"
    }
  },
  "nbformat": 4,
  "nbformat_minor": 0
}
